{
 "cells": [
  {
   "cell_type": "markdown",
   "metadata": {},
   "source": [
    "Grid Search Analysis\n",
    "===\n",
    "\n",
    "This integrated notebook analysis all grid search results in one shot.\n",
    "\n",
    "Compares the results of the grid search per dataset. And spits out the best one...\n"
   ]
  },
  {
   "cell_type": "code",
   "execution_count": null,
   "metadata": {
    "collapsed": true
   },
   "outputs": [],
   "source": [
    "import numpy as np\n",
    "import pandas as pd\n",
    "import matplotlib\n",
    "import matplotlib.pyplot as plt\n",
    "matplotlib.style.use('ggplot')\n",
    "from matplotlib import cm\n",
    "from scipy import stats\n",
    "from scipy.stats import ttest_ind\n",
    "\n",
    "\n",
    "\n",
    "import json\n",
    "import codecs\n",
    "import os\n",
    "from os import path"
   ]
  },
  {
   "cell_type": "code",
   "execution_count": null,
   "metadata": {
    "collapsed": true
   },
   "outputs": [],
   "source": [
    "# set to false if the full csv already exists\n",
    "CONVERT_FROM_RAW=True"
   ]
  },
  {
   "cell_type": "code",
   "execution_count": null,
   "metadata": {
    "collapsed": false
   },
   "outputs": [],
   "source": [
    "basepath = os.path.normpath(\"C:\\\\Users\\\\hatieke\\\\temp\")"
   ]
  },
  {
   "cell_type": "code",
   "execution_count": null,
   "metadata": {
    "collapsed": true
   },
   "outputs": [],
   "source": [
    "basepath = os.path.normpath(\"C:\\\\Users\\\\hatieke\\\\.ukpsummarizer\\\\results\\\\grid_search\")"
   ]
  },
  {
   "cell_type": "code",
   "execution_count": null,
   "metadata": {
    "collapsed": true
   },
   "outputs": [],
   "source": [
    "basepath = os.path.normpath(\"C:\\\\Users\\\\hatieke\\\\.ukpsummarizer\\\\results\\\\scores_grid_2017-09-15\")"
   ]
  },
  {
   "cell_type": "code",
   "execution_count": null,
   "metadata": {
    "collapsed": true
   },
   "outputs": [],
   "source": [
    "def new_parser(dir):\n",
    "    for root, dirs, files in os.walk(dir):\n",
    "        for f in files:\n",
    "            if f.startswith(\"result-\") and f.endswith(\".json\"):\n",
    "                fn = os.path.join(root, f)\n",
    "                fsize = os.path.getsize(fn)\n",
    "                if fsize > 0:\n",
    "                    with open(fn) as fp:\n",
    "                        data = json.load(fp)\n",
    "                        data[\"parent_directory\"] = root\n",
    "                        yield data\n",
    "                        "
   ]
  },
  {
   "cell_type": "code",
   "execution_count": null,
   "metadata": {
    "collapsed": true
   },
   "outputs": [],
   "source": [
    "def parse_single_result_per_iteration_into_rows(obj):\n",
    "    config = obj[u'config_feedbackstore']\n",
    "\n",
    "    results = [i for i in obj[\"result_rougescores\"]]\n",
    "    for res in results:\n",
    "        #print \"before: it:\" , res[\"iteration\"] , \"acc:\" , len(res[u'accepted']) ,\"rej:\" , len(res[\"rejected\"])\n",
    "        if res[\"iteration\"] == 0 and len(res[u'accepted']) == 0 and len(res[\"rejected\"]) == 0:\n",
    "            # do nothing\n",
    "            minusone=-1\n",
    "        else: \n",
    "            minusone=0\n",
    "        iteration = res[\"iteration\"] + minusone\n",
    "        \n",
    "        # this reduces the iteration-counter for the inital summary, i.e. the one, where we left of.\n",
    "        #        res[\"iteration\"] = res[\"iteration\"]+minusone\n",
    "        #print \"after : it:\" , iteration , \"acc:\" , len(res[u'accepted']) ,\"rej:\" , len(res[\"rejected\"])\n",
    "\n",
    "        accept_count = res[\"accept_count\"]\n",
    "        reject_count = res[\"reject_count\"]\n",
    "\n",
    "        total_accept = sum([1 for i in obj[u'log_feedbacks'] if i[\"value\"] == 'accept' and i[\"iteration\"] < iteration])\n",
    "        total_reject = sum([1 for i in obj[u'log_feedbacks'] if i[\"value\"] != 'accept' and i[\"iteration\"] < iteration])\n",
    "        total_feedback = total_accept + total_reject\n",
    "\n",
    "        #iteration = res[\"iteration\"]\n",
    "        r1 =  res[u'ROUGE-1 R score']\n",
    "        r2 =  res[u'ROUGE-2 R score']\n",
    "        r4 =  res[u'ROUGE-SU* R score']\n",
    "\n",
    "        classtype = config.get(u'type')\n",
    "        cut_off_threshold = config.get(u'cut_off_threshold')\n",
    "        iterations_accept = config.get(u'iterations_accept')\n",
    "        iterations_reject = config.get(u'iterations_reject')\n",
    "        propagation_abort_threshold = config.get(u'propagation_abort_threshold')\n",
    "        mass_accept = config.get(u'mass_accept')\n",
    "        mass_reject = config.get(u'mass_reject')\n",
    "        window_size = config.get(u'N')\n",
    "        factor_reject = config.get(u\"multiplier_reject\")\n",
    "        factor_accept = config.get(u\"multiplier_accept\")\n",
    "        cutoff = config.get(u\"cut_off_threshold\", config.get(\"cutoff_threshold\"))\n",
    "\n",
    "        runid = obj.get(\"config_run_id\")\n",
    "        word2vec = obj.get(\"config_wordembeddings\")\n",
    "\n",
    "        parse_type = obj.get(\"config_parse_type\")\n",
    "        if parse_type is None or parse_type.lower() is \"None\".lower():\n",
    "            parse_type = \"ngrams\"\n",
    "\n",
    "        oracle_type = obj.get(\"config_oracle_type\", \"accept\")\n",
    "\n",
    "        ub = obj.get(\"model_rougescores\", {})\n",
    "        ub_r1 = ub.get(\"ROUGE-1 R score\", -1)\n",
    "        ub_r2 = ub.get(\"ROUGE-2 R score\", -1)\n",
    "        ub_r4 = ub.get(\"ROUGE-SU* R score\", -1)\n",
    "\n",
    "        yield {\n",
    "            \"accept\" : total_accept,\n",
    "            \"reject\": total_reject,\n",
    "            \"accept_new\": accept_count,\n",
    "            \"reject_new\": reject_count,\n",
    "            \"feedback_new\": accept_count+reject_count,\n",
    "            \"total_feedback\": total_feedback,\n",
    "            \"ref_summary\": str([item[\"name\"] for item in obj[u'models']]),\n",
    "            \"cfg\": json.dumps(config),\n",
    "            \"num_iterations\": iteration,\n",
    "            \"r1\": r1,\n",
    "            \"r2\": r2,\n",
    "            \"r4\": r4,\n",
    "            \"oracle\": oracle_type,\n",
    "            \"classtype\": classtype,\n",
    "            \"iterations_accept\":iterations_accept,\n",
    "            \"iterations_reject\": iterations_reject,\n",
    "            \"propagation_abort_threshold\": propagation_abort_threshold,\n",
    "            \"mass_accept\" : mass_accept,\n",
    "            \"mass_reject\" : mass_reject,\n",
    "            \"window_size\": window_size,\n",
    "            \"multiplier_reject\": factor_reject,\n",
    "            \"multiplier_accept\": factor_accept,\n",
    "            \"cutoff_threshold\": cutoff,\n",
    "            \"run_id\": runid,\n",
    "            \"ub_r1\": ub_r1,\n",
    "            \"ub_r2\": ub_r2,\n",
    "            \"ub_r4\": ub_r4,\n",
    "            \"phrase_type\": parse_type,\n",
    "            \"embeddings\": word2vec,\n",
    "            \"size\": 100,\n",
    "            \"max_iteration_count\": len(results) - 1,\n",
    "            \"parent\": obj.get(\"parent_directory\", \"unknown/parent/directory\")\n",
    "        }\n"
   ]
  },
  {
   "cell_type": "code",
   "execution_count": null,
   "metadata": {
    "collapsed": false
   },
   "outputs": [],
   "source": [
    "odf = pd.DataFrame((r for i in new_parser(basepath) for r in parse_single_result_per_iteration_into_rows(i)))"
   ]
  },
  {
   "cell_type": "code",
   "execution_count": null,
   "metadata": {
    "collapsed": false
   },
   "outputs": [],
   "source": [
    "list(odf.columns)"
   ]
  },
  {
   "cell_type": "code",
   "execution_count": null,
   "metadata": {
    "collapsed": false
   },
   "outputs": [],
   "source": [
    "# remove real duplicates:\n",
    "unidf = odf.drop_duplicates([\"accept\", \"reject\", \"accept_new\", \"reject_new\", \"feedback_new\", \"total_feedback\", \"ref_summary\", \"cfg\", \"num_iterations\", \"r1\", \"r2\", \"r4\", \"oracle\", \"classtype\", \"iterations_accept\", \"iterations_reject\", \"propagation_abort_threshold\", \"mass_accept\", \"mass_reject\", \"window_size\", \"multiplier_reject\", \"multiplier_accept\", \"cutoff_threshold\", \"run_id\", \"ub_r1\", \"ub_r2\", \"ub_r4\", \"phrase_type\", \"embeddings\", \"size\", \"max_iteration_count\"])"
   ]
  },
  {
   "cell_type": "code",
   "execution_count": null,
   "metadata": {
    "collapsed": true
   },
   "outputs": [],
   "source": [
    "unidf.to_csv(path.join(basepath, \"grid_search_dataframe_unique_rows.csv\"))"
   ]
  },
  {
   "cell_type": "code",
   "execution_count": null,
   "metadata": {
    "collapsed": false
   },
   "outputs": [],
   "source": [
    "# convert pojo into string\n",
    "#df[\"cfg\"] = df.apply(lambda x: json.dumps(x[\"cfg\"]), axis=1)"
   ]
  },
  {
   "cell_type": "code",
   "execution_count": null,
   "metadata": {
    "collapsed": false
   },
   "outputs": [],
   "source": [
    "unidf.info()"
   ]
  },
  {
   "cell_type": "code",
   "execution_count": null,
   "metadata": {
    "collapsed": true
   },
   "outputs": [],
   "source": [
    "cdf = pd.DataFrame(unidf)\n",
    "# Make categorical data although having numerical values, behave as categories\n",
    "cdf[\"classtype\"] = cdf[\"classtype\"].astype(\"category\")\n",
    "cdf[\"cfg\"] = cdf[\"cfg\"].astype(\"category\")\n",
    "cdf[\"cutoff_threshold\"] = cdf[\"cutoff_threshold\"].astype(\"category\")\n",
    "cdf[\"embeddings\"] = cdf[\"embeddings\"].astype(\"category\")\n",
    "cdf[\"mass_accept\"] = cdf[\"mass_accept\"].astype(\"category\")\n",
    "cdf[\"mass_reject\"] = cdf[\"mass_reject\"].astype(\"category\")\n",
    "cdf[\"max_iteration_count\"] = cdf[\"max_iteration_count\"].astype(\"category\")\n",
    "cdf[\"multiplier_accept\"] = cdf[\"multiplier_accept\"].astype(\"category\")\n",
    "cdf[\"multiplier_reject\"] = cdf[\"multiplier_reject\"].astype(\"category\")\n",
    "cdf[\"oracle\"] = cdf[\"oracle\"].astype(\"category\")\n",
    "cdf[\"parent\"] = cdf[\"parent\"].astype(\"category\")\n",
    "cdf[\"phrase_type\"] = cdf[\"phrase_type\"].astype(\"category\")\n",
    "cdf[\"propagation_abort_threshold\"] = cdf[\"propagation_abort_threshold\"].astype(\"category\")\n",
    "cdf[\"size\"] = cdf[\"size\"].astype(\"category\")\n",
    "cdf[\"window_size\"] = cdf[\"window_size\"].astype(\"category\")\n"
   ]
  },
  {
   "cell_type": "code",
   "execution_count": null,
   "metadata": {
    "collapsed": true
   },
   "outputs": [],
   "source": [
    "odf = cdf"
   ]
  },
  {
   "cell_type": "code",
   "execution_count": null,
   "metadata": {
    "collapsed": true
   },
   "outputs": [],
   "source": [
    "# throw away implausible results\n",
    "ddf = odf.loc[odf.r2 >0].loc[odf.r1 > 0].loc[odf.r4 >0]"
   ]
  },
  {
   "cell_type": "code",
   "execution_count": null,
   "metadata": {
    "collapsed": true
   },
   "outputs": [],
   "source": [
    "# only do this to exclude the initial value (-1)\n",
    "ddf = ddf.loc[odf.num_iterations >= 0]"
   ]
  },
  {
   "cell_type": "code",
   "execution_count": null,
   "metadata": {
    "collapsed": false
   },
   "outputs": [],
   "source": [
    "ddf.info()"
   ]
  },
  {
   "cell_type": "code",
   "execution_count": null,
   "metadata": {
    "collapsed": false,
    "scrolled": false
   },
   "outputs": [],
   "source": [
    "histogram_cols = list(set(list(cdf.columns)) - set(['run_id', \"cfg\", \"parent\", \"max_iteration_count\" , u'r1', \"total_feedback\", \"feedback_new\", u'r2', u'r4', u'ub_r1', u'ub_r2', u'ub_r4', u'accept', u'accept_new', u'cfg',u'reject', u'reject_new', ]))\n",
    "for col in histogram_cols:\n",
    "    if col == \"run_id\":\n",
    "        continue\n",
    "    print cdf.loc[:,[col, \"run_id\"]].groupby([col]).count()[\"run_id\"]\n",
    "    "
   ]
  },
  {
   "cell_type": "code",
   "execution_count": null,
   "metadata": {
    "collapsed": false
   },
   "outputs": [],
   "source": [
    "cdf.hist(figsize=(16,9))\n",
    "plt.show()"
   ]
  },
  {
   "cell_type": "markdown",
   "metadata": {},
   "source": [
    "Construction of a dataframe that fits the analysis needs\n",
    "===\n",
    "\n",
    "unabhängige Variablen, also Steuervariablen kann ich festlegen, die den Ausgang der Messung beeinflussen (in unbekannter Art). Im Dataframe sind das folgende Spalten:\n",
    "\n",
    "* classtype\n",
    "* cutoff_threshold\n",
    "* iterations_accept\n",
    "* iterations_reject\n",
    "* mass_accept\n",
    "* mass_reject\n",
    "* multiplier_accept\n",
    "* multiplier_reject\n",
    "* propagation_abort_threshold\n",
    "* ref_summary\n",
    "* window_size\n",
    "* num_iterations    \n",
    "* oracle\n",
    "\n",
    "Und folgende sind die abhängigen Variablen, also die Messvariablen, die quasi die Manifestation der Effekte. \n",
    "\n",
    "* accept\n",
    "* num_iterations\n",
    "* r1\n",
    "* r2\n",
    "* r4\n",
    "* reject\n",
    "* total_feedback\n",
    "\n",
    "Es soll untersucht werden, welche Kombinationen unabhängiger Variablen die besten sind, also die baseline am weitesten übertreffen.\n",
    "\n",
    "Dazu muss in jeder ref_summary-gruppe der wert der \"baseline r2\" als extra feld hinzugefügt werden und auch die differenz"
   ]
  },
  {
   "cell_type": "markdown",
   "metadata": {},
   "source": [
    "Aus Rouge-2 baseline neue Spalten ableiten: als Delta und als Ratio \n",
    "---"
   ]
  },
  {
   "cell_type": "code",
   "execution_count": null,
   "metadata": {
    "collapsed": false
   },
   "outputs": [],
   "source": [
    "ddf.loc[ddf.classtype.str.lower().str.contains(\"baseline\")].loc[ddf.r2 == ddf.ub_r2].head(1).transpose()"
   ]
  },
  {
   "cell_type": "code",
   "execution_count": null,
   "metadata": {
    "collapsed": true
   },
   "outputs": [],
   "source": [
    "baselines = ddf.classtype.str.contains(\"Baseline\")\n"
   ]
  },
  {
   "cell_type": "code",
   "execution_count": null,
   "metadata": {
    "collapsed": false
   },
   "outputs": [],
   "source": [
    "ddf.loc[baselines].loc[ddf.oracle.str.contains(\"active_learning\")].loc[ddf.phrase_type.str.contains(\"None\")].groupby([\"parent\", \"num_iterations\",\"phrase_type\", \"oracle\"]).count()"
   ]
  },
  {
   "cell_type": "code",
   "execution_count": null,
   "metadata": {
    "collapsed": false
   },
   "outputs": [],
   "source": [
    "ddf.groupby(\"ref_summary\").count().transpose()"
   ]
  },
  {
   "cell_type": "code",
   "execution_count": null,
   "metadata": {
    "collapsed": false
   },
   "outputs": [],
   "source": [
    "# find all baselines\n",
    "baselines = ddf.classtype.str.contains(\"Baseline\")\n",
    "\n",
    "# throw away uninteresting columns\n",
    "baseline_scores = ddf.loc[baselines].loc[ddf.num_iterations == 0].loc[:,[\"ref_summary\",\"accept\", \"reject\",\"r1\",\"r2\",\"r4\",\"phrase_type\"]]\n",
    "print baseline_scores.count()\n",
    "\n"
   ]
  },
  {
   "cell_type": "code",
   "execution_count": null,
   "metadata": {
    "collapsed": false
   },
   "outputs": [],
   "source": [
    "baseline_scores.head(1).transpose()"
   ]
  },
  {
   "cell_type": "code",
   "execution_count": null,
   "metadata": {
    "collapsed": false
   },
   "outputs": [],
   "source": [
    "# rename important columns\n",
    "baseline_scores.rename(columns={\"r2\":\"r2bl\", \"r1\":\"r1bl\", \"r4\":\"r4bl\", \"accept\": \"acceptbl\", \"reject\":\"rejectbl\"}, inplace=True)\n",
    "# make sure, we have everything in there only once.\n",
    "baseline_scores= baseline_scores.drop_duplicates([\"ref_summary\", \"phrase_type\"])\n",
    "#baseline_scores= baseline_scores.loc[baseline_scores.acceptbl > 0].loc[baseline_scores.rejectbl > 0]"
   ]
  },
  {
   "cell_type": "code",
   "execution_count": null,
   "metadata": {
    "collapsed": false,
    "scrolled": true
   },
   "outputs": [],
   "source": [
    "baseline_scores.groupby([\"ref_summary\", \"phrase_type\"]).max()"
   ]
  },
  {
   "cell_type": "code",
   "execution_count": null,
   "metadata": {
    "collapsed": false
   },
   "outputs": [],
   "source": [
    "baseline_scores"
   ]
  },
  {
   "cell_type": "code",
   "execution_count": null,
   "metadata": {
    "collapsed": false
   },
   "outputs": [],
   "source": [
    "baseline_scores.groupby([\"phrase_type\",\"ref_summary\"]).agg([np.min, np.max])"
   ]
  },
  {
   "cell_type": "code",
   "execution_count": null,
   "metadata": {
    "collapsed": false
   },
   "outputs": [],
   "source": [
    "# merge df and baseline_scores, so that the r2bl score is now available in every run.\n",
    "df= pd.merge(ddf, baseline_scores, on=[\"ref_summary\", \"phrase_type\"])"
   ]
  },
  {
   "cell_type": "code",
   "execution_count": null,
   "metadata": {
    "collapsed": false
   },
   "outputs": [],
   "source": [
    "df.head(1).transpose()"
   ]
  },
  {
   "cell_type": "code",
   "execution_count": null,
   "metadata": {
    "collapsed": false
   },
   "outputs": [],
   "source": [
    "# add the delta of baseline and actual r2 as separate column\n",
    "df[\"delta_r2bl_r2\"] = df[\"r2bl\"] - df[\"r2\"]\n",
    "df[\"ratio_r2_vs_r2bl\"] = df[\"r2\"] / df[\"r2bl\"]"
   ]
  },
  {
   "cell_type": "code",
   "execution_count": null,
   "metadata": {
    "collapsed": false
   },
   "outputs": [],
   "source": [
    "# add the delta and ratio of the upper bound r2 as separate columns:\n",
    "df[\"delta_r2ub\"] = df[\"ub_r2\"] - df[\"r2\"]\n",
    "df[\"ratio_r2ub\"] = df[\"r2\"] / df[\"ub_r2\"]\n",
    "df[\"ratio_r2ub_vs_feedback\"] = df[\"ratio_r2ub\"] / df[\"total_feedback\"]"
   ]
  },
  {
   "cell_type": "code",
   "execution_count": null,
   "metadata": {
    "collapsed": true
   },
   "outputs": [],
   "source": [
    "divisor = df[\"ub_r2\"] - df[\"r2bl\"]\n",
    "term = df[\"r2\"] - df[\"r2bl\"]\n"
   ]
  },
  {
   "cell_type": "code",
   "execution_count": null,
   "metadata": {
    "collapsed": false
   },
   "outputs": [],
   "source": [
    "df[\"r2bl\"].describe()"
   ]
  },
  {
   "cell_type": "code",
   "execution_count": null,
   "metadata": {
    "collapsed": false
   },
   "outputs": [],
   "source": [
    "scaled_r2 = term / divisor"
   ]
  },
  {
   "cell_type": "code",
   "execution_count": null,
   "metadata": {
    "collapsed": false
   },
   "outputs": [],
   "source": [
    "scaled_r2.describe()"
   ]
  },
  {
   "cell_type": "code",
   "execution_count": null,
   "metadata": {
    "collapsed": false
   },
   "outputs": [],
   "source": [
    "df[\"scaled_r2\"] = scaled_r2"
   ]
  },
  {
   "cell_type": "code",
   "execution_count": null,
   "metadata": {
    "collapsed": true
   },
   "outputs": [],
   "source": [
    "df.to_csv(path.join(basepath, \"grid_search_df_with_r2ub_and_r2bl.csv\"))"
   ]
  },
  {
   "cell_type": "code",
   "execution_count": null,
   "metadata": {
    "collapsed": false,
    "scrolled": true
   },
   "outputs": [],
   "source": [
    "df.head().loc[:,[\"num_iterations\",\"r2bl\",\"ub_r2\",\"r2\"]].transpose()"
   ]
  },
  {
   "cell_type": "code",
   "execution_count": null,
   "metadata": {
    "collapsed": true
   },
   "outputs": [],
   "source": [
    "# restrict to the main topic\n",
    "D31043 = df.loc[df.ref_summary.str.contains(\"D31043.M.100.T\")]"
   ]
  },
  {
   "cell_type": "code",
   "execution_count": null,
   "metadata": {
    "collapsed": true
   },
   "outputs": [],
   "source": [
    "# restrict to the main topic\n",
    "D30044 = df.loc[df.ref_summary.str.contains(\"D30044.M.100.T\")]"
   ]
  },
  {
   "cell_type": "markdown",
   "metadata": {},
   "source": [
    "Overall information\n",
    "==="
   ]
  },
  {
   "cell_type": "code",
   "execution_count": null,
   "metadata": {
    "collapsed": false
   },
   "outputs": [],
   "source": [
    "df.groupby([\"phrase_type\", \"ref_summary\"]).count()"
   ]
  },
  {
   "cell_type": "code",
   "execution_count": null,
   "metadata": {
    "collapsed": false
   },
   "outputs": [],
   "source": [
    "df.groupby(\"ref_summary\").count()"
   ]
  },
  {
   "cell_type": "markdown",
   "metadata": {},
   "source": [
    "What classtypes are there? And how many of each?"
   ]
  },
  {
   "cell_type": "code",
   "execution_count": null,
   "metadata": {
    "collapsed": false
   },
   "outputs": [],
   "source": [
    "df.groupby(\"classtype\").count()"
   ]
  },
  {
   "cell_type": "code",
   "execution_count": null,
   "metadata": {
    "collapsed": false
   },
   "outputs": [],
   "source": [
    "df.groupby(\"oracle\").count()"
   ]
  },
  {
   "cell_type": "code",
   "execution_count": null,
   "metadata": {
    "collapsed": false
   },
   "outputs": [],
   "source": [
    "len(df.groupby(\"cfg\").count())"
   ]
  },
  {
   "cell_type": "code",
   "execution_count": null,
   "metadata": {
    "collapsed": false
   },
   "outputs": [],
   "source": [
    "len(df.groupby([\"parent\", \"cfg\"]).count())"
   ]
  },
  {
   "cell_type": "markdown",
   "metadata": {},
   "source": [
    "Methods\n",
    "==="
   ]
  },
  {
   "cell_type": "code",
   "execution_count": null,
   "metadata": {
    "collapsed": false
   },
   "outputs": [],
   "source": [
    "def scatterplot(data, locs, x='ratio_r2_vs_r2bl',y='total_feedback'):\n",
    "    ax = None\n",
    "    l = locs[0]\n",
    "    c = plt.get_cmap(\"Vega10\").colors[0];\n",
    "    ax = data.loc[l].plot.scatter(x=x, y=y, color=c);\n",
    "\n",
    "    for i in range(1, len(locs)):\n",
    "        l = locs[i]\n",
    "        c = plt.get_cmap(\"Vega10\").colors[i];\n",
    "        ax = data.loc[l].plot.scatter(x=x, y=y, color=c, ax=ax);\n",
    "    plt.show()"
   ]
  },
  {
   "cell_type": "code",
   "execution_count": null,
   "metadata": {
    "collapsed": false
   },
   "outputs": [],
   "source": [
    "def myplot(df, indep_var, dep_var, style = None, groupby = None, classtype = None, save=False, prefix=None, **kwargs):\n",
    "    style = style or \"whisker\"\n",
    "    classtype = classtype or \"all\"\n",
    "    \n",
    "    if groupby is None:\n",
    "        data = df.loc[:,[dep, indep]]\n",
    "    else:\n",
    "        data = df.loc[:,[dep, indep, grouping_var]].groupby(groupby)\n",
    "        \n",
    "#    try:\n",
    "    if style is \"groupby\":\n",
    "        #groupby = groupby or indep_var\n",
    "        data.boxplot(by=indep_var, showmeans=True, rot=90, fontsize=\"8\", meanline=True, sym=\"+\", vert=True, **kwargs)\n",
    "    if style is \"whisker\":\n",
    "        #groupby = groupby or indep_var\n",
    "        data.boxplot(by=indep_var, showmeans=True, meanline=True, rot=90, fontsize=\"8\", sym=\"+\", vert=True, **kwargs)\n",
    "    if style is \"line\":\n",
    "        #groupby = groupby or indep_var\n",
    "        data.agg([np.min, np.mean, np.median, np.max])\\\n",
    "            .plot(marker=\"o\", **kwargs)\n",
    "\n",
    "\n",
    "    #delta2.boxplot(by=col, figsize=(10,4), showmeans=True, meanline=True, sym=\"+\", vert=True)\n",
    "    if save:\n",
    "        filename =  \"%s-%s-%s-%s-%s.pdf\" % (classtype, groupby, dep_var, indep_var, style)\n",
    "        if prefix:\n",
    "            filename = prefix +\"--\" + filename\n",
    "        plt.savefig(path.join(basepath, filename))\n",
    "    plt.show()\n",
    "    plt.close()\n",
    "#    except:\n",
    "#        print \"problem while plotting \", indep_var, dep_var\n",
    "#        plt.close()\n",
    "\n",
    "def bp(data, col, dep_var, grouping = None, classtype=\"\"):\n",
    "    try:\n",
    "        if grouping is \"groupby\":\n",
    "            data.loc[:,[col,  dep_var, \"ref_summary\"]].groupby(\"ref_summary\").boxplot(by=col, showmeans=True, meanline=True, sym=\"+\", vert=True)\n",
    "        elif grouping is None:\n",
    "            data.loc[:,[col,  dep_var, \"ref_summary\"]].boxplot(by=col, figsize=(10,4), showmeans=True, meanline=True, sym=\"+\", vert=True)\n",
    "        elif grouping is \"line\":\n",
    "            data.loc[:,[col,  dep_var, \"ref_summary\"]].groupby(col).agg([np.min, np.mean, np.median, np.max]).plot(marker=\"o\")\n",
    "\n",
    "        #delta2.boxplot(by=col, figsize=(10,4), showmeans=True, meanline=True, sym=\"+\", vert=True)\n",
    "        plt.savefig(path.join(basepath, \"%s-%s-%s-per-summary-%s.pdf\" % (grouping, classtype, dep_var,col)))\n",
    "        plt.show()\n",
    "        plt.close()\n",
    "    except:\n",
    "        print \"problem while plotting \", col, dep_var\n",
    "        plt.close()\n"
   ]
  },
  {
   "cell_type": "markdown",
   "metadata": {},
   "source": [
    "User study analysis\n",
    "===\n",
    "\n",
    "Analysing only the configurations that are part of the user study:\n",
    "\n",
    "* concept-type: parse\n",
    "* summarizer-type: propagation\n",
    "* oracle: active_learning2\n",
    "* GB:   `{\"mass_reject\": 0.0, \"iterations_accept\": 128, \"mass_accept\": 4.0, \"cutoff_threshold\": 0.6, \"type\": \"WordEmbeddingGaussianFeedbackGraph\", \"iterations_reject\": 16}`\n",
    "* RW: `{\"mass_reject\": -1.0, \"iterations_accept\": 200, \"propagation_abort_threshold\": 0.25, \"mass_accept\": 1.0, \"cut_off_threshold\": 0.6, \"type\": \"WordEmbeddingRandomWalkDiffusionFeedbackGraph\", \"iterations_reject\": 1024}\n",
    "`\n",
    "  \n",
    "\n",
    "\n",
    "\n"
   ]
  },
  {
   "cell_type": "markdown",
   "metadata": {},
   "source": [
    "Option 1: Random Walk\n",
    "----"
   ]
  },
  {
   "cell_type": "code",
   "execution_count": null,
   "metadata": {
    "collapsed": false
   },
   "outputs": [],
   "source": [
    "rw = D31043.loc[df.classtype.str.contains(\"WordEmbeddingRandomWalkDiffusionFeedbackGraph\")]\\\n",
    "        .loc[df.mass_accept == 1]\\\n",
    "        .loc[df.mass_reject == -1]\\\n",
    "        .loc[df.iterations_accept == 1024]\\\n",
    "        .loc[df.iterations_reject == 200]\\\n",
    "        .loc[df.cutoff_threshold == 0.6]\\\n",
    "        .loc[df.propagation_abort_threshold == 0.25]\\\n",
    "        .loc[df.phrase_type == \"parse\"]\n",
    "\n",
    "# use the highest iteration only\n",
    "rw = rw.sort_values(by=\"num_iterations\", ascending= False).drop_duplicates([\"cfg\", \"classtype\", \"ref_summary\",\"oracle\", \"embeddings\", \"phrase_type\"])\n",
    "\n",
    "print rw.groupby(\"oracle\")[\"r2\"].describe()\n",
    "print rw.groupby(\"oracle\")[\"num_iterations\"].describe()"
   ]
  },
  {
   "cell_type": "code",
   "execution_count": null,
   "metadata": {
    "collapsed": false
   },
   "outputs": [],
   "source": [
    "print rw.to_csv()"
   ]
  },
  {
   "cell_type": "markdown",
   "metadata": {},
   "source": [
    "Option 2: Gaussian Blur Feedback\n",
    "---"
   ]
  },
  {
   "cell_type": "code",
   "execution_count": null,
   "metadata": {
    "collapsed": false,
    "scrolled": false
   },
   "outputs": [],
   "source": [
    "gb = D31043.loc[df.classtype.str.contains(\"WordEmbeddingGaussianFeedbackGraph\")]\\\n",
    "        .loc[df.mass_accept == 4]\\\n",
    "        .loc[df.mass_reject == 0]\\\n",
    "        .loc[df.iterations_accept == 128]\\\n",
    "        .loc[df.iterations_reject == 16]\\\n",
    "        .loc[df.cutoff_threshold == 0.6]\\\n",
    "        .loc[df.phrase_type == \"parse\"]\n",
    "\n",
    "# use the highest iteration only\n",
    "gb = gb.sort_values(by=\"num_iterations\", ascending= False).drop_duplicates([\"cfg\", \"classtype\", \"ref_summary\",\"oracle\", \"embeddings\", \"phrase_type\"])\n",
    "\n",
    "print \"gaussian\"\n",
    "print gb.groupby(\"oracle\")[\"r2\"].describe()\n",
    "print gb.groupby(\"oracle\")[\"num_iterations\"].describe()"
   ]
  },
  {
   "cell_type": "code",
   "execution_count": null,
   "metadata": {
    "collapsed": false,
    "scrolled": true
   },
   "outputs": [],
   "source": [
    "print gb.to_csv()"
   ]
  },
  {
   "cell_type": "markdown",
   "metadata": {},
   "source": [
    "Option 3: baseline\n",
    "---"
   ]
  },
  {
   "cell_type": "code",
   "execution_count": null,
   "metadata": {
    "collapsed": false
   },
   "outputs": [],
   "source": [
    "bl = D31043.loc[df.classtype.str.contains(\"BaselineFeedbackStore\")]\\\n",
    "        .loc[df.phrase_type == \"parse\"]\n",
    "\n",
    "# use the highest iteration only\n",
    "bl = bl.sort_values(by=\"num_iterations\", ascending= False).drop_duplicates([\"cfg\", \"classtype\", \"ref_summary\",\"oracle\", \"embeddings\", \"phrase_type\"])\n",
    "\n",
    "print bl.groupby(\"oracle\")[\"r2\"].describe()\n",
    "print bl.groupby(\"oracle\")[\"num_iterations\"].describe()"
   ]
  },
  {
   "cell_type": "markdown",
   "metadata": {},
   "source": [
    "Option 1-3 united\n",
    "---"
   ]
  },
  {
   "cell_type": "code",
   "execution_count": null,
   "metadata": {
    "collapsed": false
   },
   "outputs": [],
   "source": [
    "joined = rw.append(gb).append(bl)\n"
   ]
  },
  {
   "cell_type": "code",
   "execution_count": null,
   "metadata": {
    "collapsed": false
   },
   "outputs": [],
   "source": [
    "print joined.to_csv()"
   ]
  },
  {
   "cell_type": "code",
   "execution_count": null,
   "metadata": {
    "collapsed": false
   },
   "outputs": [],
   "source": [
    "print joined.groupby(\"oracle\")[\"r2\"].describe()\n",
    "print joined.groupby(\"oracle\")[\"num_iterations\"].describe()"
   ]
  },
  {
   "cell_type": "markdown",
   "metadata": {},
   "source": [
    "Defining the dependent variables of interest\n",
    "===\n",
    "\n",
    "The dependent variables are the variables that measure the impact. \n",
    "\n",
    "* `ratio_r2ub` is the relative comparison to the Upper Bound\n",
    "* `ratio_r2_vs_r2bl` is the relative comparison against the baseline. If r2 > r2bl, then we are better than the baseline!\n"
   ]
  },
  {
   "cell_type": "code",
   "execution_count": null,
   "metadata": {
    "collapsed": true
   },
   "outputs": [],
   "source": [
    "dep_vars = [\"ratio_r2ub\", \"r2\", \"ratio_r2_vs_r2bl\"]"
   ]
  },
  {
   "cell_type": "code",
   "execution_count": null,
   "metadata": {
    "collapsed": true
   },
   "outputs": [],
   "source": [
    "# the variable we want to analyse\n",
    "dep_var = \"ratio_r2ub\""
   ]
  },
  {
   "cell_type": "code",
   "execution_count": null,
   "metadata": {
    "collapsed": true
   },
   "outputs": [],
   "source": [
    "# the variable we want to analyse\n",
    "dep_var = \"ratio_r2ub\""
   ]
  },
  {
   "cell_type": "code",
   "execution_count": null,
   "metadata": {
    "collapsed": true
   },
   "outputs": [],
   "source": [
    "# the variable we want to analyse\n",
    "dep_var = \"ratio_r2ub_vs_feedback\""
   ]
  },
  {
   "cell_type": "markdown",
   "metadata": {},
   "source": [
    "Is phrase better than ngram?\n",
    "---"
   ]
  },
  {
   "cell_type": "code",
   "execution_count": null,
   "metadata": {
    "collapsed": false
   },
   "outputs": [],
   "source": [
    "indep_vars = [\"phrase_type\"] \n",
    "grouping_var = None\n",
    "\n",
    "dep_vars = [\"r2\", 'ratio_r2ub',  'ratio_r2_vs_r2bl']\n",
    "\n",
    "cols = [\"\"]\n",
    "cols.extend(indep_vars)\n",
    "#cols.append(grouping_var)\n",
    "cols.extend(dep_vars)\n",
    "\n",
    "if \"ref_summary\" not in cols:\n",
    "    cols.append(\"ref_summary\")\n",
    "\n",
    "\n",
    "topic1 = df.loc[:,cols]\n",
    "\n",
    "for dep in dep_vars:\n",
    "    for indep in indep_vars:\n",
    "        print dep\n",
    "        print indep\n",
    "        myplot(topic1, indep, dep, save=True, prefix=\"phrase-vs-ngram\")"
   ]
  },
  {
   "cell_type": "markdown",
   "metadata": {
    "collapsed": true
   },
   "source": [
    "Is this difference due related to the type of propagation?\n",
    "---"
   ]
  },
  {
   "cell_type": "code",
   "execution_count": null,
   "metadata": {
    "collapsed": false
   },
   "outputs": [],
   "source": [
    "indep_vars = [\"phrase_type\"] \n",
    "grouping_var = \"classtype\"\n",
    "\n",
    "dep_vars = [\"r2\", 'ratio_r2ub',  'ratio_r2_vs_r2bl']\n",
    "\n",
    "cols = []\n",
    "cols.extend(indep_vars)\n",
    "cols.append(grouping_var)\n",
    "cols.extend(dep_vars)\n",
    "\n",
    "if \"ref_summary\" not in cols:\n",
    "    cols.append(\"ref_summary\")\n",
    "\n",
    "\n",
    "topic1 = df.loc[:,cols]\n",
    "\n",
    "for dep in dep_vars:\n",
    "    for indep in indep_vars:\n",
    "        print dep\n",
    "        print indep\n",
    "        myplot(topic1, indep, dep, groupby=grouping_var, save=True, layout=(1,4), figsize=(16,4), prefix=\"concept-type-vs-classtype\")"
   ]
  },
  {
   "cell_type": "markdown",
   "metadata": {},
   "source": [
    "How do configurations develop over time?\n",
    "===\n",
    "\n",
    "* grouping by cfg and runid\n",
    "* num_iterations on x, \n",
    "* r2, accept_count, reject_count on y. "
   ]
  },
  {
   "cell_type": "code",
   "execution_count": null,
   "metadata": {
    "collapsed": true
   },
   "outputs": [],
   "source": [
    "#data = df.sample(20000)"
   ]
  },
  {
   "cell_type": "code",
   "execution_count": null,
   "metadata": {
    "collapsed": true
   },
   "outputs": [],
   "source": [
    "data = df"
   ]
  },
  {
   "cell_type": "code",
   "execution_count": null,
   "metadata": {
    "collapsed": false
   },
   "outputs": [],
   "source": [
    "indep_vars = [\"num_iterations\"] \n",
    "grouping_var = \"classtype\"\n",
    "\n",
    "dep_vars = [ 'accept_new', \"reject_new\", \"accept\", \"reject\"]\n",
    "\n",
    "cols = [\"parent\"]\n",
    "cols.extend(indep_vars)\n",
    "cols.append(grouping_var)\n",
    "cols.extend(dep_vars)\n",
    "\n",
    "if \"ref_summary\" not in cols:\n",
    "    cols.append(\"ref_summary\")\n",
    "\n",
    "\n",
    "topic1 = data.loc[:,cols]\n",
    "\n",
    "for dep in dep_vars:\n",
    "    for indep in indep_vars:\n",
    "        print dep\n",
    "        print indep\n",
    "        myplot(topic1, indep, dep, groupby=grouping_var, save=True, layout=(1,4), figsize=(16,4), prefix=\"feeback-over-time\")"
   ]
  },
  {
   "cell_type": "code",
   "execution_count": null,
   "metadata": {
    "collapsed": true
   },
   "outputs": [],
   "source": [
    "data = df"
   ]
  },
  {
   "cell_type": "code",
   "execution_count": null,
   "metadata": {
    "collapsed": false,
    "scrolled": true
   },
   "outputs": [],
   "source": [
    "indep_vars = [\"num_iterations\"] \n",
    "grouping_var = \"phrase_type\"\n",
    "\n",
    "dep_vars = [ 'accept_new', \"reject_new\", \"accept\", \"reject\"]\n",
    "\n",
    "cols = []\n",
    "cols.extend(indep_vars)\n",
    "cols.append(grouping_var)\n",
    "cols.extend(dep_vars)\n",
    "\n",
    "if \"ref_summary\" not in cols:\n",
    "    cols.append(\"ref_summary\")\n",
    "\n",
    "\n",
    "topic1 = data.loc[:,cols]\n",
    "\n",
    "for dep in dep_vars:\n",
    "    for indep in indep_vars:\n",
    "        print dep\n",
    "        print indep\n",
    "        myplot(topic1, indep, dep, groupby=grouping_var, save=True, layout=(1,4), figsize=(16,4), prefix=\"feeback-over-time-by-concept-type\")"
   ]
  },
  {
   "cell_type": "code",
   "execution_count": null,
   "metadata": {
    "collapsed": false
   },
   "outputs": [],
   "source": [
    "topic1.columns"
   ]
  },
  {
   "cell_type": "code",
   "execution_count": null,
   "metadata": {
    "collapsed": false
   },
   "outputs": [],
   "source": [
    "[1,2,3] + [4] + [2,3,4]"
   ]
  },
  {
   "cell_type": "code",
   "execution_count": null,
   "metadata": {
    "collapsed": false,
    "scrolled": true
   },
   "outputs": [],
   "source": [
    "indep_vars = [\"num_iterations\"] \n",
    "grouping_var = \"phrase_type\"\n",
    "\n",
    "dep_vars = [ 'accept_new', \"reject_new\", \"accept\", \"reject\"]\n",
    "\n",
    "cols = list(set(indep_vars +  [grouping_var] + dep_vars + [\"ref_summary\"]))\n",
    "\n",
    "topic1 = data.loc[:,cols]\n",
    "\n",
    "for dep in dep_vars:\n",
    "    for indep in indep_vars:\n",
    "        print dep\n",
    "        print indep\n",
    "        myplot(topic1, indep, dep, groupby=grouping_var, save=True, layout=(1,4), figsize=(16,4), prefix=\"feeback-over-time-by-concept-type\")"
   ]
  },
  {
   "cell_type": "code",
   "execution_count": null,
   "metadata": {
    "collapsed": true
   },
   "outputs": [],
   "source": [
    "data=df"
   ]
  },
  {
   "cell_type": "code",
   "execution_count": null,
   "metadata": {
    "collapsed": true
   },
   "outputs": [],
   "source": [
    "#data = df.sample(20000)"
   ]
  },
  {
   "cell_type": "code",
   "execution_count": null,
   "metadata": {
    "collapsed": false
   },
   "outputs": [],
   "source": [
    "data.groupby(\"cfg\").count()"
   ]
  },
  {
   "cell_type": "code",
   "execution_count": null,
   "metadata": {
    "collapsed": false
   },
   "outputs": [],
   "source": [
    "data.groupby(\"run_id\").count()"
   ]
  },
  {
   "cell_type": "code",
   "execution_count": null,
   "metadata": {
    "collapsed": true
   },
   "outputs": [],
   "source": [
    "key = lambda x: x.num_iterations"
   ]
  },
  {
   "cell_type": "code",
   "execution_count": null,
   "metadata": {
    "collapsed": false
   },
   "outputs": [],
   "source": [
    "d = data.loc[:,[\"run_id\",\"accept\",\"num_iterations\"]].groupby(\"num_iterations\")\n",
    "d = d.head(20)"
   ]
  },
  {
   "cell_type": "code",
   "execution_count": null,
   "metadata": {
    "collapsed": false
   },
   "outputs": [],
   "source": [
    "plt.close()\n",
    "d.plot()\n",
    "plt.show()"
   ]
  },
  {
   "cell_type": "code",
   "execution_count": null,
   "metadata": {
    "collapsed": false,
    "scrolled": false
   },
   "outputs": [],
   "source": [
    "ax = None\n",
    "cm = plt.get_cmap(\"Vega10\")\n",
    "for idx, (name, group) in enumerate(data.groupby(\"num_iterations\")):\n",
    "    print idx, name\n",
    "    if idx > 20:\n",
    "        break;\n",
    "    ax = group.plot.scatter(x=\"num_iterations\", y=\"ratio_r2_vs_r2bl\", color=cm.colors[idx % 10], ax=ax);\n",
    "\n",
    "\n",
    "plt.show()\n",
    "#for i in range(1, len(locs)):\n",
    "#    l = locs[i]\n",
    "#    c = plt.get_cmap(\"Vega10\").colors[i];\n",
    "#    ax = data.loc[l].plot.scatter(x=x, y=y, color=c, ax=ax);\n",
    "#plt.show()"
   ]
  },
  {
   "cell_type": "code",
   "execution_count": null,
   "metadata": {
    "collapsed": false
   },
   "outputs": [],
   "source": [
    "42 %3"
   ]
  },
  {
   "cell_type": "markdown",
   "metadata": {},
   "source": [
    "Comparing the different classtypes against each other\n",
    "==="
   ]
  },
  {
   "cell_type": "code",
   "execution_count": null,
   "metadata": {
    "collapsed": false
   },
   "outputs": [],
   "source": [
    "description = df.groupby([\"ref_summary\", \"classtype\"]).agg([len, np.min, np.mean, np.max]).loc[:,[\"r2\", \"ub_r2\", \"accept\",\"ratio_r2_vs_r2bl\"]]"
   ]
  },
  {
   "cell_type": "code",
   "execution_count": null,
   "metadata": {
    "collapsed": false,
    "scrolled": true
   },
   "outputs": [],
   "source": [
    "print description.to_latex(float_format='{0:.3f}'.format)"
   ]
  },
  {
   "cell_type": "code",
   "execution_count": null,
   "metadata": {
    "collapsed": false
   },
   "outputs": [],
   "source": [
    "description = df.groupby([\"ref_summary\", \"classtype\"]).agg([len, np.min, np.mean, np.max]).loc[:,[\"num_iterations\",\"accept\",\"reject\",\"ub_r2\",\"ratio_r2ub\",\"r2\",\"ratio_r2_vs_bl\"]]"
   ]
  },
  {
   "cell_type": "code",
   "execution_count": null,
   "metadata": {
    "collapsed": false
   },
   "outputs": [],
   "source": [
    "print description.to_csv()"
   ]
  },
  {
   "cell_type": "markdown",
   "metadata": {},
   "source": [
    "Best config, first try\n",
    "====\n",
    "\n",
    "best configuration as per agreement between all summaries of same config\n",
    "\n",
    "we group by configuration, and then use the average ratio_ub2 score as performance measure."
   ]
  },
  {
   "cell_type": "code",
   "execution_count": null,
   "metadata": {
    "collapsed": true
   },
   "outputs": [],
   "source": [
    "myf = df"
   ]
  },
  {
   "cell_type": "code",
   "execution_count": null,
   "metadata": {
    "collapsed": false
   },
   "outputs": [],
   "source": [
    "myf.info()"
   ]
  },
  {
   "cell_type": "code",
   "execution_count": null,
   "metadata": {
    "collapsed": true
   },
   "outputs": [],
   "source": [
    "# use the highest iteration only\n",
    "myf = myf.sort_values(by=\"num_iterations\", ascending= False).drop_duplicates([\"cfg\", \"classtype\", \"ref_summary\",\"oracle\",\"embeddings\", \"phrase_type\"])"
   ]
  },
  {
   "cell_type": "code",
   "execution_count": null,
   "metadata": {
    "collapsed": false
   },
   "outputs": [],
   "source": [
    "len(myf)"
   ]
  },
  {
   "cell_type": "code",
   "execution_count": null,
   "metadata": {
    "collapsed": false
   },
   "outputs": [],
   "source": [
    " myf.loc[myf.classtype.str.contains(\"WordEmbeddingGaussianFeedbackGraph\")].groupby([\"phrase_type\", \"oracle\",\"cfg\"]).mean().loc[:,[\"r2\", \"ratio_r2ub\", \"r2bl\",\" ub_r2\",\"ratio_r2_vs_r2bl\", \"num_iterations\"]].sort_values(by=\"ratio_r2ub\", ascending=False)"
   ]
  },
  {
   "cell_type": "code",
   "execution_count": null,
   "metadata": {
    "collapsed": false
   },
   "outputs": [],
   "source": [
    "myf.loc[myf.cfg.str.contains('\"mass_reject\": -1.0, \"iterations_accept\": 1024, \"propagation_abort_threshold\": 0.25, \"mass_accept\": 1.0, \"cut_off_threshold\": 0.6, \"type\": \"WordEmbeddingRandomWalkDiffusionFeedbackGraph\", \"iterations_reject\": 200')].groupby(\"ref_summary\").mean().sort_values(\"ratio_r2_vs_r2bl\", ascending=False)"
   ]
  },
  {
   "cell_type": "code",
   "execution_count": null,
   "metadata": {
    "collapsed": false
   },
   "outputs": [],
   "source": [
    "myf.loc[myf.cfg.str.contains('\"mass_reject\": 0.0, \"iterations_accept\": 128, \"mass_accept\": 4.0, \"cutoff_threshold\": 0.6, \"type\": \"WordEmbeddingGaussianFeedbackGraph\", \"iterations_reject\": 16')].groupby(\"ref_summary\").mean().sort_values(\"ratio_r2_vs_r2bl\", ascending=False)"
   ]
  },
  {
   "cell_type": "code",
   "execution_count": null,
   "metadata": {
    "collapsed": false
   },
   "outputs": [],
   "source": [
    "df.iloc[170774]"
   ]
  },
  {
   "cell_type": "code",
   "execution_count": null,
   "metadata": {
    "collapsed": false
   },
   "outputs": [],
   "source": [
    "myf = df.loc[:,[\"cfg\", \"ref_summary\",\"num_iterations\"]].drop_duplicates([\"cfg\", \"ref_summary\",\"num_iterations\"])\n"
   ]
  },
  {
   "cell_type": "code",
   "execution_count": null,
   "metadata": {
    "collapsed": true
   },
   "outputs": [],
   "source": [
    "myf=df.loc[df.classtype.str.contains(\"WordEmbeddingGaussianFeedbackGraph\")].loc[df.cutoff_threshold >= 0.998].loc[df.ref_summary.str.contains(\"u'D31043.M.100.T\")].loc[df.oracle.str.contains(\"active_learning\")]"
   ]
  },
  {
   "cell_type": "code",
   "execution_count": null,
   "metadata": {
    "collapsed": false
   },
   "outputs": [],
   "source": [
    "len(myf)"
   ]
  },
  {
   "cell_type": "code",
   "execution_count": null,
   "metadata": {
    "collapsed": true
   },
   "outputs": [],
   "source": []
  },
  {
   "cell_type": "code",
   "execution_count": null,
   "metadata": {
    "collapsed": false
   },
   "outputs": [],
   "source": [
    "group_merge = myf.groupby([\"cfg\", \"ref_summary\"]).num_iterations.apply(np.max).reset_index().merge(myf, on=[\"cfg\",\"ref_summary\", \"num_iterations\"])\n",
    "%timeit myf.groupby([\"cfg\", \"ref_summary\"]).num_iterations.apply(np.max).reset_index().merge(myf, on=[\"cfg\",\"ref_summary\", \"num_iterations\"])"
   ]
  },
  {
   "cell_type": "code",
   "execution_count": null,
   "metadata": {
    "collapsed": false
   },
   "outputs": [],
   "source": [
    "sort_drop=myf.sort_values(by=[\"cfg\", \"ref_summary\",\"num_iterations\"], ascending= [True, True, False]).drop_duplicates([\"cfg\", \"ref_summary\"])\n",
    "%timeit myf.sort_values(by=[\"cfg\", \"ref_summary\",\"num_iterations\"], ascending= [True, True, False]).drop_duplicates([\"cfg\", \"ref_summary\"])"
   ]
  },
  {
   "cell_type": "code",
   "execution_count": null,
   "metadata": {
    "collapsed": false
   },
   "outputs": [],
   "source": [
    "sort_drop2=myf.sort_values(by=[\"num_iterations\"], ascending= [ False]).drop_duplicates([\"cfg\", \"ref_summary\"])\n",
    "%timeit myf.sort_values(by=[\"num_iterations\"], ascending= [False]).drop_duplicates([\"cfg\", \"ref_summary\"])"
   ]
  },
  {
   "cell_type": "code",
   "execution_count": null,
   "metadata": {
    "collapsed": false
   },
   "outputs": [],
   "source": [
    "group_merge.info()"
   ]
  },
  {
   "cell_type": "code",
   "execution_count": null,
   "metadata": {
    "collapsed": false
   },
   "outputs": [],
   "source": [
    "sort_drop2.info()"
   ]
  },
  {
   "cell_type": "code",
   "execution_count": null,
   "metadata": {
    "collapsed": false
   },
   "outputs": [],
   "source": [
    "x = pd.merge(sort_drop2,sort_drop, how=\"inner\", on=[\"cfg\", \"ref_summary\",\"num_iterations\"])"
   ]
  },
  {
   "cell_type": "code",
   "execution_count": null,
   "metadata": {
    "collapsed": false
   },
   "outputs": [],
   "source": [
    "x.info()"
   ]
  },
  {
   "cell_type": "code",
   "execution_count": null,
   "metadata": {
    "collapsed": true
   },
   "outputs": [],
   "source": [
    "x.dropna(inplace=True)"
   ]
  },
  {
   "cell_type": "code",
   "execution_count": null,
   "metadata": {
    "collapsed": false
   },
   "outputs": [],
   "source": [
    "x.info()"
   ]
  },
  {
   "cell_type": "code",
   "execution_count": null,
   "metadata": {
    "collapsed": false
   },
   "outputs": [],
   "source": [
    "x.drop_duplicates([\"cfg\", \"ref_summary\"])"
   ]
  },
  {
   "cell_type": "code",
   "execution_count": null,
   "metadata": {
    "collapsed": false
   },
   "outputs": [],
   "source": [
    "f2 = iteration_indexes.sample(2000)"
   ]
  },
  {
   "cell_type": "code",
   "execution_count": null,
   "metadata": {
    "collapsed": false
   },
   "outputs": [],
   "source": [
    "iteration_indexes"
   ]
  },
  {
   "cell_type": "code",
   "execution_count": null,
   "metadata": {
    "collapsed": false
   },
   "outputs": [],
   "source": [
    "f2.info()"
   ]
  },
  {
   "cell_type": "code",
   "execution_count": null,
   "metadata": {
    "collapsed": false
   },
   "outputs": [],
   "source": [
    "myf.iloc[6845]"
   ]
  },
  {
   "cell_type": "code",
   "execution_count": null,
   "metadata": {
    "collapsed": true
   },
   "outputs": [],
   "source": [
    "myf.loc[myf.cfg ]"
   ]
  },
  {
   "cell_type": "code",
   "execution_count": null,
   "metadata": {
    "collapsed": false
   },
   "outputs": [],
   "source": []
  },
  {
   "cell_type": "code",
   "execution_count": null,
   "metadata": {
    "collapsed": true
   },
   "outputs": [],
   "source": [
    "myf = df.sample(2000)\n",
    "\n",
    "\n",
    "# throw away uninteresting columns\n",
    "baseline_scores = myf.loc[baselines].loc[:,[\"ref_summary\",\"num_iterations\",\"accept\", \"reject\",\"r2\"]]\n",
    "\n",
    "# rename important columns\n",
    "baseline_scores.rename(columns={\"r2\":\"r2bl\", \"accept\": \"acceptbl\", \"reject\":\"rejectbl\"}, inplace=True)\n",
    "# make sure, we have everything in there only once.\n",
    "baseline_scores= baseline_scores.drop_duplicates([\"ref_summary\",\"num_iterations\"])\n",
    "baseline_scores= baseline_scores.loc[baseline_scores.acceptbl > 0].loc[baseline_scores.rejectbl > 0]"
   ]
  },
  {
   "cell_type": "code",
   "execution_count": null,
   "metadata": {
    "collapsed": true
   },
   "outputs": [],
   "source": [
    "dep_var = \"ratio_r2ub\""
   ]
  },
  {
   "cell_type": "code",
   "execution_count": null,
   "metadata": {
    "collapsed": true
   },
   "outputs": [],
   "source": []
  },
  {
   "cell_type": "code",
   "execution_count": null,
   "metadata": {
    "collapsed": false,
    "scrolled": false
   },
   "outputs": [],
   "source": [
    "df.groupby([\"ref_summary\", \"classtype\"]).max().loc[:,[\"r2\", \"ratio_r2ub\",\"ratio_r2_vs_r2bl\", \"accept\"]]"
   ]
  },
  {
   "cell_type": "code",
   "execution_count": null,
   "metadata": {
    "collapsed": false
   },
   "outputs": [],
   "source": [
    "top = df.loc[df[\"ratio_r2_vs_r2bl\"]>1.0].groupby([\"cfg\",\"ref_summary\"]).max().sort_values(\"ratio_r2_vs_r2bl\", ascending=False).loc[:,[\"r2\", \"ratio_r2ub\",\"ratio_r2_vs_r2bl\", \"accept\"]]"
   ]
  },
  {
   "cell_type": "code",
   "execution_count": null,
   "metadata": {
    "collapsed": false
   },
   "outputs": [],
   "source": [
    "top"
   ]
  },
  {
   "cell_type": "code",
   "execution_count": null,
   "metadata": {
    "collapsed": false
   },
   "outputs": [],
   "source": [
    "dep_vars.append(\"cfg\")"
   ]
  },
  {
   "cell_type": "code",
   "execution_count": null,
   "metadata": {
    "collapsed": false
   },
   "outputs": [],
   "source": [
    "dep_vars = dep_vars[:-1]"
   ]
  },
  {
   "cell_type": "code",
   "execution_count": null,
   "metadata": {
    "collapsed": false
   },
   "outputs": [],
   "source": [
    "dep_var"
   ]
  },
  {
   "cell_type": "code",
   "execution_count": null,
   "metadata": {
    "collapsed": true
   },
   "outputs": [],
   "source": [
    "top.head(20)"
   ]
  },
  {
   "cell_type": "code",
   "execution_count": null,
   "metadata": {
    "collapsed": false
   },
   "outputs": [],
   "source": []
  },
  {
   "cell_type": "code",
   "execution_count": null,
   "metadata": {
    "collapsed": false
   },
   "outputs": [],
   "source": [
    "cfg_of_winner = top.reset_index().iloc[0].cfg\n",
    "print cfg_of_winner\n",
    "data = df.loc[df.cfg.str.contains(cfg_of_winner)]\n",
    "\n",
    "indep_vars = [\"num_iterations\",\"iterations_accept\", \"propagation_abort_threshold\"] \n",
    "grouping_vars = [\"num_iterations\"]\n",
    "dep_vars = [ 'accept_new', \"reject_new\", \"accept\", \"reject\",\"ratio_r2ub\", \"ratio_r2_vs_r2bl\",\"r2\"]\n",
    "default = [\"classtype\",\"ratio_r2ub\", \"ratio_r2_vs_r2bl\", \"r2\", \"ref_summary\", \"accept\", \"reject\", \"total_feedback\",\"num_iterations\",\"run_id\"]\n",
    "cols = list(set(indep_vars +  grouping_vars + dep_vars + default))\n",
    "print cols\n",
    "\n",
    "topic1 = data.loc[:,cols]"
   ]
  },
  {
   "cell_type": "code",
   "execution_count": null,
   "metadata": {
    "collapsed": false
   },
   "outputs": [],
   "source": [
    "topic1"
   ]
  },
  {
   "cell_type": "code",
   "execution_count": null,
   "metadata": {
    "collapsed": false,
    "scrolled": false
   },
   "outputs": [],
   "source": [
    "for dep in dep_vars:\n",
    "    for indep in indep_vars:\n",
    "        for group in grouping_vars:\n",
    "            if dep == indep or dep == group or indep == dep or indep == group:\n",
    "                continue\n",
    "            print dep, indep, group\n",
    "            myplot(topic1, indep, dep, groupby=group, save=False, figsize=(16,4), prefix=\"feeback-over-time-by-concept-type\")"
   ]
  },
  {
   "cell_type": "code",
   "execution_count": null,
   "metadata": {
    "collapsed": false
   },
   "outputs": [],
   "source": [
    "cfg_of_winner = top.reset_index().iloc[1].cfg\n",
    "print cfg_of_winner\n",
    "df.loc[df.cfg.str.contains(cfg_of_winner), cols]"
   ]
  },
  {
   "cell_type": "code",
   "execution_count": null,
   "metadata": {
    "collapsed": false
   },
   "outputs": [],
   "source": [
    "cfg_of_winner = top.reset_index().iloc[2].cfg\n",
    "print cfg_of_winner\n",
    "df.loc[df.cfg.str.contains(cfg_of_winner), cols]"
   ]
  },
  {
   "cell_type": "code",
   "execution_count": null,
   "metadata": {
    "collapsed": false,
    "scrolled": false
   },
   "outputs": [],
   "source": [
    "cfg_of_winner = top.reset_index().iloc[3].cfg\n",
    "print cfg_of_winner\n",
    "df.loc[df.cfg.str.contains(cfg_of_winner), cols]"
   ]
  },
  {
   "cell_type": "code",
   "execution_count": null,
   "metadata": {
    "collapsed": false
   },
   "outputs": [],
   "source": [
    "cfg_of_winner = top.reset_index().iloc[4].cfg\n",
    "print cfg_of_winner\n",
    "df.loc[df.cfg.str.contains(cfg_of_winner), cols]"
   ]
  },
  {
   "cell_type": "markdown",
   "metadata": {},
   "source": [
    "Configs with 8 results\n",
    "====\n",
    "\n",
    "best configuration as per agreement between all summaries of same config\n",
    "\n",
    "we group by configuration, and then use the average ratio_ub2 score as performance measure."
   ]
  },
  {
   "cell_type": "code",
   "execution_count": null,
   "metadata": {
    "collapsed": false
   },
   "outputs": [],
   "source": [
    "top = df.groupby(\"cfg\").count().sort_values(dep_var, ascending=False).reset_index().loc[:,[\"cfg\", \"accept\"]]"
   ]
  },
  {
   "cell_type": "code",
   "execution_count": null,
   "metadata": {
    "collapsed": true
   },
   "outputs": [],
   "source": [
    "top=top.rename(columns={\"accept\": \"num_results\"})"
   ]
  },
  {
   "cell_type": "code",
   "execution_count": null,
   "metadata": {
    "collapsed": true
   },
   "outputs": [],
   "source": [
    "pd.merge(df, top, on=\"cfg\")[\"num_results\"]"
   ]
  },
  {
   "cell_type": "markdown",
   "metadata": {},
   "source": [
    "Block 1: BaselineFeedbackStore\n",
    "---\n",
    "\n",
    "Hyperparameter search has no parameters, => 4 - 8 results are all to get (depending whether one or two topics are used)"
   ]
  },
  {
   "cell_type": "code",
   "execution_count": null,
   "metadata": {
    "collapsed": true
   },
   "outputs": [],
   "source": [
    "selected_classtype = \"BaselineFeedbackStore\""
   ]
  },
  {
   "cell_type": "code",
   "execution_count": null,
   "metadata": {
    "collapsed": false
   },
   "outputs": [],
   "source": [
    "data = df.loc[df.classtype.str.contains(selected_classtype)]"
   ]
  },
  {
   "cell_type": "code",
   "execution_count": null,
   "metadata": {
    "collapsed": true
   },
   "outputs": [],
   "source": [
    "#indep_var = [ \"multiplier_accept\",\"multiplier_reject\", \"window_size\"]"
   ]
  },
  {
   "cell_type": "markdown",
   "metadata": {},
   "source": [
    "No independent variables, therefore no configurations to compare against each other.\n",
    "There should be `4` resp. `8` rows in the dataset"
   ]
  },
  {
   "cell_type": "code",
   "execution_count": null,
   "metadata": {
    "collapsed": true
   },
   "outputs": [],
   "source": [
    "data = df.loc[df.classtype.str.contains(selected_classtype)]"
   ]
  },
  {
   "cell_type": "code",
   "execution_count": null,
   "metadata": {
    "collapsed": false
   },
   "outputs": [],
   "source": [
    "len(data)"
   ]
  },
  {
   "cell_type": "code",
   "execution_count": null,
   "metadata": {
    "collapsed": false
   },
   "outputs": [],
   "source": [
    "data.columns"
   ]
  },
  {
   "cell_type": "code",
   "execution_count": null,
   "metadata": {
    "collapsed": false,
    "scrolled": true
   },
   "outputs": [],
   "source": [
    "print(data.loc[:, [u'ref_summary',\"classtype\",\"phrase_type\",\"r1\",\"r2\",\"r4\",]].to_latex(index=False,float_format='{0:.3f}'.format))"
   ]
  },
  {
   "cell_type": "code",
   "execution_count": null,
   "metadata": {
    "collapsed": false
   },
   "outputs": [],
   "source": [
    "print(data.loc[:, [u'ref_summary',\"classtype\",\"phrase_type\",\"ub_r1\", 'ub_r2', 'ub_r4',]].to_latex(index=False,float_format='{0:.3f}'.format))"
   ]
  },
  {
   "cell_type": "code",
   "execution_count": null,
   "metadata": {
    "collapsed": true
   },
   "outputs": [],
   "source": [
    "# BaselineFeedbackStore is something special, as it doesnt have parameters:"
   ]
  },
  {
   "cell_type": "code",
   "execution_count": null,
   "metadata": {
    "collapsed": false,
    "scrolled": false
   },
   "outputs": [],
   "source": [
    "delta2 = data.loc[:,[ dep_var, \"ref_summary\"]]\n",
    "\n",
    "delta2.boxplot(figsize=(10,4), showmeans=True, meanline=True, sym=\"+\", vert=True)\n",
    "\n",
    "delta2.groupby(\"ref_summary\").boxplot(figsize=(16,4), layout=(2,4), fontsize=\"8\", showmeans=True, meanline=True, sym=\"+\", vert=True)\n",
    "plt.savefig(path.join(basepath, \"%s-%s-%s-per-summary-%s.pdf\" % (\"boxplot\", selected_classtype, dep_var, \"ref_summary\")))\n",
    "\n",
    "plt.show()\n",
    "plt.close()\n",
    "#indep_var = [\"ref_summary\"]"
   ]
  },
  {
   "cell_type": "markdown",
   "metadata": {},
   "source": [
    "Block 2: SimpleNgramFeedbackGraph\n",
    "---"
   ]
  },
  {
   "cell_type": "code",
   "execution_count": null,
   "metadata": {
    "collapsed": true
   },
   "outputs": [],
   "source": [
    "selected_classtype = \"SimpleNgramFeedbackGraph\""
   ]
  },
  {
   "cell_type": "markdown",
   "metadata": {},
   "source": [
    "This feedback store has three parameters.\n",
    "The following combinations are tested:"
   ]
  },
  {
   "cell_type": "code",
   "execution_count": null,
   "metadata": {
    "collapsed": true
   },
   "outputs": [],
   "source": [
    "indep_var = [ \"multiplier_accept\",\"multiplier_reject\", \"window_size\"]"
   ]
  },
  {
   "cell_type": "markdown",
   "metadata": {},
   "source": [
    "                window_size = [2, 3, 4, 5]\n",
    "                factor_rejects = [1, 0, 0.05, 0.25, 0.5, 2, 4,8]\n",
    "                factor_accepts = [1, 0, 0.05, 0.25, 0.5, 2, 4,8]\n",
    "\n",
    "As a result, there are `4*7*7 = 196` combinations per topic. In total, there should be `196 * 4` resp. `196 * 8` rows in the dataset"
   ]
  },
  {
   "cell_type": "code",
   "execution_count": null,
   "metadata": {
    "collapsed": true
   },
   "outputs": [],
   "source": [
    "data = df.loc[df.classtype.str.contains(selected_classtype)]"
   ]
  },
  {
   "cell_type": "code",
   "execution_count": null,
   "metadata": {
    "collapsed": false
   },
   "outputs": [],
   "source": [
    "len(data)"
   ]
  },
  {
   "cell_type": "code",
   "execution_count": null,
   "metadata": {
    "collapsed": false
   },
   "outputs": [],
   "source": [
    "selected_classtype"
   ]
  },
  {
   "cell_type": "code",
   "execution_count": null,
   "metadata": {
    "collapsed": false,
    "scrolled": true
   },
   "outputs": [],
   "source": [
    "for col in indep_var:\n",
    "    bp(data, col, dep_var,classtype=selected_classtype)\n",
    "\n",
    "    \n",
    "for col in indep_var:\n",
    "    bp(data, col, dep_var, grouping=\"groupby\", classtype=selected_classtype)\n",
    "\n",
    "    \n",
    "for col in indep_var:\n",
    "    bp(data, col, dep_var, grouping=\"line\", classtype=selected_classtype)\n"
   ]
  },
  {
   "cell_type": "markdown",
   "metadata": {},
   "source": [
    "Block 3: WordEmbeddingGaussianFeedbackGraph\n",
    "---"
   ]
  },
  {
   "cell_type": "code",
   "execution_count": null,
   "metadata": {
    "collapsed": true
   },
   "outputs": [],
   "source": [
    "selected_classtype = \"WordEmbeddingGaussianFeedbackGraph\""
   ]
  },
  {
   "cell_type": "code",
   "execution_count": null,
   "metadata": {
    "collapsed": true
   },
   "outputs": [],
   "source": [
    "# indep_var = [ \"mass_accept\",\"mass_reject\",\"type\",\"iterations_accept\",\"iterations_reject\", \"cutoff_threshold\"]\n",
    "# due to a bug, the cutoff_threshold is NOT stored in the result file, we therefore have to exclude it.\n",
    "indep_var = [ \"mass_accept\",\"mass_reject\",\"type\",\"iterations_accept\",\"iterations_reject\"]"
   ]
  },
  {
   "cell_type": "markdown",
   "metadata": {},
   "source": [
    "                mass_reject = [4.0, 1.0, 0.0, -1.0, -4.0]\n",
    "                mass_accept = [4.0, 1.0, 0.0, -1.0, -4.0]\n",
    "                iterations_accept = [16, 128, 1024]\n",
    "                iterations_reject = [2, 4, 8, 16, 64]\n",
    "                cut_off_threshold = [0.998, 0.98, 0.9, 0.6, 0.4]\n",
    "\n",
    "Results in 1875 combinations per topic."
   ]
  },
  {
   "cell_type": "code",
   "execution_count": null,
   "metadata": {
    "collapsed": true
   },
   "outputs": [],
   "source": [
    "data = df.loc[df.classtype.str.contains(selected_classtype)]"
   ]
  },
  {
   "cell_type": "code",
   "execution_count": null,
   "metadata": {
    "collapsed": false
   },
   "outputs": [],
   "source": [
    "len(data)"
   ]
  },
  {
   "cell_type": "code",
   "execution_count": null,
   "metadata": {
    "collapsed": false,
    "scrolled": true
   },
   "outputs": [],
   "source": [
    "for col in indep_var:\n",
    "    bp(data, col, dep_var,classtype=selected_classtype)\n",
    "\n",
    "    \n",
    "for col in indep_var:\n",
    "    bp(data, col, dep_var, grouping=\"groupby\", classtype=selected_classtype)\n",
    "\n",
    "    \n",
    "for col in indep_var:\n",
    "    bp(data, col, dep_var, grouping=\"line\", classtype=selected_classtype)\n"
   ]
  },
  {
   "cell_type": "markdown",
   "metadata": {},
   "source": [
    "Block 4: WordEmbeddingRandomWalkDiffusionFeedbackGraph\n",
    "---"
   ]
  },
  {
   "cell_type": "code",
   "execution_count": null,
   "metadata": {
    "collapsed": true
   },
   "outputs": [],
   "source": [
    "selected_classtype = \"WordEmbeddingRandomWalkDiffusionFeedbackGraph\""
   ]
  },
  {
   "cell_type": "markdown",
   "metadata": {},
   "source": [
    "This feedback store has 6 parameters.\n",
    "The following combinations are tested:"
   ]
  },
  {
   "cell_type": "code",
   "execution_count": null,
   "metadata": {
    "collapsed": true
   },
   "outputs": [],
   "source": [
    "indep_var = [ \"mass_reject\", \"mass_accept\", \\\n",
    "             \"iterations_accept\", \"iterations_reject\",\\\n",
    "             \"propagation_abort_threshold\", \\\n",
    "             \"cutoff_threshold\"]"
   ]
  },
  {
   "cell_type": "markdown",
   "metadata": {},
   "source": [
    "mass_reject = [4.0, 1.0, 0.0, -1.0, -4.0]\n",
    "                mass_accept = [4.0, 1.0, 0.0, -1.0, -4.0]\n",
    "                iterations_accept = [128, 1024, 10000]\n",
    "                iterations_reject = [64, 200, 5000]\n",
    "                cut_off_threshold = [0.998, 0.98, 0.9, 0.6, 0.4]\n",
    "                propagation_abort_threshold = [0.01, 0.1, 0.25, 0.5, 0.75, 0.9]\n",
    "\n",
    "\n",
    "As a result, there are `5*5*3*3*5*6 = 6750` combinations per topic. In total, there should be `6750 * 4` resp. `6750 * 8` rows in the dataset"
   ]
  },
  {
   "cell_type": "code",
   "execution_count": null,
   "metadata": {
    "collapsed": true
   },
   "outputs": [],
   "source": [
    "data = df.loc[df.classtype.str.contains(selected_classtype)]"
   ]
  },
  {
   "cell_type": "code",
   "execution_count": null,
   "metadata": {
    "collapsed": false
   },
   "outputs": [],
   "source": [
    "len(data)"
   ]
  },
  {
   "cell_type": "code",
   "execution_count": null,
   "metadata": {
    "collapsed": false,
    "scrolled": true
   },
   "outputs": [],
   "source": [
    "for col in indep_var:\n",
    "    bp(data, col, dep_var,classtype=selected_classtype)\n",
    "\n",
    "    \n",
    "for col in indep_var:\n",
    "    bp(data, col, dep_var, grouping=\"groupby\", classtype=selected_classtype)\n",
    "\n",
    "    \n",
    "for col in indep_var:\n",
    "    bp(data, col, dep_var, grouping=\"line\", classtype=selected_classtype)\n"
   ]
  },
  {
   "cell_type": "markdown",
   "metadata": {},
   "source": [
    "Some overall basic correlation tests\n",
    "==="
   ]
  },
  {
   "cell_type": "code",
   "execution_count": null,
   "metadata": {
    "collapsed": true
   },
   "outputs": [],
   "source": [
    "df.corr(method=\"spearman\")\n"
   ]
  },
  {
   "cell_type": "code",
   "execution_count": null,
   "metadata": {
    "collapsed": false
   },
   "outputs": [],
   "source": [
    "df.corr(method=\"pearson\").to_csv(path.join(basepath, \"correlation-analysis-pearson-overall.csv\"))\n"
   ]
  },
  {
   "cell_type": "code",
   "execution_count": null,
   "metadata": {
    "collapsed": false
   },
   "outputs": [],
   "source": [
    "df.groupby(\"classtype\").corr(method=\"pearson\").to_csv(path.join(basepath, \"correlation-analysis-pearson-per-classtype.csv\"))\n"
   ]
  },
  {
   "cell_type": "code",
   "execution_count": null,
   "metadata": {
    "collapsed": false
   },
   "outputs": [],
   "source": [
    "cols = list(df.columns)"
   ]
  },
  {
   "cell_type": "code",
   "execution_count": null,
   "metadata": {
    "collapsed": false
   },
   "outputs": [],
   "source": [
    "cols = list(set(cols) - set(['accept', 'num_iterations', 'r1', 'r2', 'r4', 'reject', 'total_feedback', 'ub_r1', 'ub_r2', 'ub_r4', 'acceptbl', 'rejectbl', 'r2bl', 'delta_r2bl_r2', 'ratio_r2bl_r2', 'delta_r2ub']))"
   ]
  },
  {
   "cell_type": "code",
   "execution_count": null,
   "metadata": {
    "collapsed": false,
    "scrolled": true
   },
   "outputs": [],
   "source": [
    "r= df.loc[:,cols].groupby([\"classtype\", \"mass_accept\"]).corr(method=\"pearson\")\n",
    "\n",
    "r.to_csv(path.join(basepath, \"correlation-analysis-pearson-per-classtype-and-mass_accept.csv\"))\n",
    "r"
   ]
  },
  {
   "cell_type": "markdown",
   "metadata": {},
   "source": [
    "Top result analysis\n",
    "===\n",
    "\n",
    "From the best performing summaries, are there certain configurations that appear more often than others?\n",
    "\n",
    "in the first run, we use the `WordEmbeddingRandomWalkDiffusionFeedbackGraph`"
   ]
  },
  {
   "cell_type": "code",
   "execution_count": null,
   "metadata": {
    "collapsed": true
   },
   "outputs": [],
   "source": [
    "selected_classtype = \"WordEmbeddingRandomWalkDiffusionFeedbackGraph\""
   ]
  },
  {
   "cell_type": "code",
   "execution_count": null,
   "metadata": {
    "collapsed": true
   },
   "outputs": [],
   "source": [
    "data = df.loc[df.classtype.str.contains(\"WordEmbeddingRandomWalkDiffusionFeedbackGraph\")]"
   ]
  },
  {
   "cell_type": "code",
   "execution_count": null,
   "metadata": {
    "collapsed": false
   },
   "outputs": [],
   "source": [
    "d = data.loc[df.ratio_r2ub > 1.0, [\"classtype\",\"cutoff_threshold\",\"iterations_accept\",\"iterations_reject\",\"mass_accept\",\"mass_reject\",\"propagation_abort_threshold\", \"ref_summary\",\"ratio_r2ub\"]]"
   ]
  },
  {
   "cell_type": "code",
   "execution_count": null,
   "metadata": {
    "collapsed": false,
    "scrolled": true
   },
   "outputs": [],
   "source": [
    "g = d.groupby(\"ref_summary\")\n",
    "for grp in g.groups:\n",
    "    print grp, g.get_group(grp).count()\n",
    "    \n",
    "    g.get_group(grp)[\"propagation_abort_threshold\"].hist()\n",
    "    plt.show()\n"
   ]
  },
  {
   "cell_type": "code",
   "execution_count": null,
   "metadata": {
    "collapsed": false
   },
   "outputs": [],
   "source": [
    "for col in d.columns:\n",
    "    if col is not dep_var:\n",
    "        bp(d, col, dep_var, grouping=\"line\")"
   ]
  },
  {
   "cell_type": "code",
   "execution_count": null,
   "metadata": {
    "collapsed": false,
    "scrolled": true
   },
   "outputs": [],
   "source": [
    "for col in indep_var:\n",
    "    bp(data, col, dep_var, grouping=\"line\")\n",
    "    "
   ]
  },
  {
   "cell_type": "code",
   "execution_count": null,
   "metadata": {
    "collapsed": false
   },
   "outputs": [],
   "source": [
    "len(data)"
   ]
  },
  {
   "cell_type": "code",
   "execution_count": null,
   "metadata": {
    "collapsed": false,
    "scrolled": true
   },
   "outputs": [],
   "source": [
    "scatterplot(data,x=\"r2\",y=\"accept\", locs= [data.ref_summary.str.contains(\"D30044.M.100.T.B\"), data.ref_summary.str.contains(\"D30044.M.100.T.C\"), data.ref_summary.str.contains(\"D30044.M.100.T.D\"), data.ref_summary.str.contains(\"D30044.M.100.T.G\")])"
   ]
  },
  {
   "cell_type": "code",
   "execution_count": null,
   "metadata": {
    "collapsed": false
   },
   "outputs": [],
   "source": [
    "scatterplot(data,x=\"total_feedback\",y=\"ratio_r2ub\", locs= [data.classtype.str.contains(\"SimpleNgramFeedbackGraph\"),data.classtype.str.contains(\"WordEmbeddingRandomWalkDiffusionFeedbackGraph\"),data.classtype.str.contains(\"WordEmbeddingRandomWalkDiffusionFeedbackGraph\")])"
   ]
  },
  {
   "cell_type": "code",
   "execution_count": null,
   "metadata": {
    "collapsed": false
   },
   "outputs": [],
   "source": [
    "df.ref_summary.str.contains(\"D30044.M.100.T.B\")"
   ]
  },
  {
   "cell_type": "code",
   "execution_count": null,
   "metadata": {
    "collapsed": false
   },
   "outputs": [],
   "source": [
    "type(df.ref_summary.str.contains(\"D30044.M.100.T.D\"))\n"
   ]
  },
  {
   "cell_type": "code",
   "execution_count": null,
   "metadata": {
    "collapsed": false
   },
   "outputs": [],
   "source": [
    "len(df)"
   ]
  },
  {
   "cell_type": "code",
   "execution_count": null,
   "metadata": {
    "collapsed": false
   },
   "outputs": [],
   "source": [
    "data.classtype.str.contains(\"BaselineFeedbackStore\")"
   ]
  },
  {
   "cell_type": "code",
   "execution_count": null,
   "metadata": {
    "collapsed": false
   },
   "outputs": [],
   "source": [
    "data.loc[data.classtype.str.contains(\"SimpleNgramFeedbackGraph\")].describe()"
   ]
  },
  {
   "cell_type": "code",
   "execution_count": null,
   "metadata": {
    "collapsed": true
   },
   "outputs": [],
   "source": []
  },
  {
   "cell_type": "markdown",
   "metadata": {},
   "source": [
    "Upper Bound and Baseline\n",
    "==="
   ]
  },
  {
   "cell_type": "code",
   "execution_count": null,
   "metadata": {
    "collapsed": true
   },
   "outputs": [],
   "source": [
    "last_baseline_iteration_score=baseline_scores.drop_duplicates([\"ref_summary\",\"num_iterations\", \"phrase_type\"])"
   ]
  },
  {
   "cell_type": "code",
   "execution_count": null,
   "metadata": {
    "collapsed": false
   },
   "outputs": [],
   "source": [
    "last_baseline_iteration_score.sort_values(\"num_iterations\", ascending=False).drop_duplicates([\"ref_summary\",\"phrase_type\"]).sort_values(\"ref_summary\")"
   ]
  },
  {
   "cell_type": "code",
   "execution_count": null,
   "metadata": {
    "collapsed": false
   },
   "outputs": [],
   "source": [
    "print last_baseline_iteration_score.sort_values(\"num_iterations\", ascending=False).drop_duplicates([\"ref_summary\",\"phrase_type\"]).sort_values(\"ref_summary\").to_csv()"
   ]
  },
  {
   "cell_type": "code",
   "execution_count": null,
   "metadata": {
    "collapsed": false
   },
   "outputs": [],
   "source": [
    "ub = df.drop_duplicates([\"ref_summary\", \"phrase_type\", \"num_iterations\"])"
   ]
  },
  {
   "cell_type": "code",
   "execution_count": null,
   "metadata": {
    "collapsed": false
   },
   "outputs": [],
   "source": [
    "ub = ub.sort_values(\"num_iterations\", ascending=False).drop_duplicates([\"ref_summary\", \"phrase_type\"])"
   ]
  },
  {
   "cell_type": "code",
   "execution_count": null,
   "metadata": {
    "collapsed": false
   },
   "outputs": [],
   "source": [
    "ub.loc[:, [\"ref_summary\", \"phrase_type\",u'ub_r1',\"ub_r2\",\"ub_r4\",]].sort_values([\"ref_summary\", \"phrase_type\"])"
   ]
  },
  {
   "cell_type": "code",
   "execution_count": null,
   "metadata": {
    "collapsed": false
   },
   "outputs": [],
   "source": [
    "ub.loc[:,[\"ref_summary\",\"r2bl\", \"r1bl\", \"r4bl\", u'ub_r1',\"ub_r2\",\"ub_r4\",\"phrase_type\"]].sort_values(\"ref_summary\")"
   ]
  },
  {
   "cell_type": "code",
   "execution_count": null,
   "metadata": {
    "collapsed": false
   },
   "outputs": [],
   "source": [
    "print ub.loc[:,[\"r2bl\", u'ub_r1',\"ub_r2\",\"ub_r4\",\"phrase_type\",\"ref_summary\"]].sort_values(\"ref_summary\").to_latex()"
   ]
  },
  {
   "cell_type": "markdown",
   "metadata": {},
   "source": [
    "Independence tests between the different classtypes (i.e. finding p-values)\n",
    "==="
   ]
  },
  {
   "cell_type": "code",
   "execution_count": null,
   "metadata": {
    "collapsed": true
   },
   "outputs": [],
   "source": [
    "iid = df.sort_values(by=\"num_iterations\", ascending= False).drop_duplicates([\"cfg\", \"classtype\", \"ref_summary\", \"oracle\", \"embeddings\", \"phrase_type\"])\n"
   ]
  },
  {
   "cell_type": "code",
   "execution_count": null,
   "metadata": {
    "collapsed": false
   },
   "outputs": [],
   "source": [
    "iid.classtype.unique()"
   ]
  },
  {
   "cell_type": "code",
   "execution_count": null,
   "metadata": {
    "collapsed": true
   },
   "outputs": [],
   "source": [
    "column = \"r2\""
   ]
  },
  {
   "cell_type": "code",
   "execution_count": null,
   "metadata": {
    "collapsed": true
   },
   "outputs": [],
   "source": [
    "# create our samples\n",
    "bl = iid.loc[iid.classtype.str.contains(u'BaselineFeedbackStore')]\n",
    "snfg= iid.loc[iid.classtype.str.contains(\"SimpleNgramFeedbackGraph\")]\n",
    "gf= iid.loc[iid.classtype.str.contains(\"WordEmbeddingGaussianFeedbackGraph\")]\n",
    "rw= iid.loc[iid.classtype.str.contains(\"WordEmbeddingRandomWalkDiffusionFeedbackGraph\")]\n"
   ]
  },
  {
   "cell_type": "code",
   "execution_count": null,
   "metadata": {
    "collapsed": false
   },
   "outputs": [],
   "source": [
    "bl.loc[:,column].count()"
   ]
  },
  {
   "cell_type": "code",
   "execution_count": null,
   "metadata": {
    "collapsed": false
   },
   "outputs": [],
   "source": [
    "iid.loc[:, [\"classtype\", \"scaled_r2\",\"r2\"]].groupby(\"classtype\")[column].agg([stats.normaltest, stats.skewtest, stats.kurtosistest])"
   ]
  },
  {
   "cell_type": "code",
   "execution_count": null,
   "metadata": {
    "collapsed": false
   },
   "outputs": [],
   "source": [
    "print \"bl mean:  \", bl.mean()\n",
    "print \"snfg mean:\", snfg.mean()\n",
    "print \"gf mean:  \", gf.mean()\n",
    "print \"rw mean:  \", rw.mean()\n"
   ]
  },
  {
   "cell_type": "code",
   "execution_count": null,
   "metadata": {
    "collapsed": false
   },
   "outputs": [],
   "source": [
    "# fitting the distributions into normals\n",
    "\n",
    "print stats.normaltest(bl)\n",
    "print stats.normaltest(snfg)\n",
    "print stats.normaltest(gf)\n",
    "print stats.normaltest(rw)\n"
   ]
  },
  {
   "cell_type": "markdown",
   "metadata": {},
   "source": [
    "BL vs SNFG\n",
    "---"
   ]
  },
  {
   "cell_type": "code",
   "execution_count": null,
   "metadata": {
    "collapsed": false
   },
   "outputs": [],
   "source": [
    "print \"bl mean:\", bl.mean()\n",
    "print \"vs mean:\", snfg.mean()\n",
    "\n",
    "print \"diff snfg mean:\", snfg.mean() - bl.mean()\n",
    "print \"welch\", ttest_ind(bl, snfg , equal_var=False)\n",
    "print \"df\", (bl.count() + snfg.count()) -1\n"
   ]
  },
  {
   "cell_type": "markdown",
   "metadata": {},
   "source": [
    "BL vs WEGFG \n",
    "---"
   ]
  },
  {
   "cell_type": "code",
   "execution_count": null,
   "metadata": {
    "collapsed": false
   },
   "outputs": [],
   "source": [
    "print \"bl mean:\", bl.mean()\n",
    "print \"vs mean:\", gf.mean()\n",
    "print \"diff gf mean:\", bl.mean() - gf.mean()\n",
    "print \"welch\", ttest_ind(bl, gf , equal_var=False)\n",
    "print \"df\", (bl.count() + gf.count()) -1\n"
   ]
  },
  {
   "cell_type": "markdown",
   "metadata": {},
   "source": [
    "BL vs WERWFG \n",
    "---"
   ]
  },
  {
   "cell_type": "code",
   "execution_count": null,
   "metadata": {
    "collapsed": false
   },
   "outputs": [],
   "source": [
    "print \"bl mean:\", bl.mean()\n",
    "print \"vs mean:\", rw.mean()\n",
    "\n",
    "print \"diff snfg mean:\", bl.mean() - rw.mean()\n",
    "print \"welch\", ttest_ind(bl, rw , equal_var=False)\n",
    "print \"df\", (bl.count() + rw.count()) -1\n"
   ]
  },
  {
   "cell_type": "markdown",
   "metadata": {},
   "source": [
    "Different RW cutoff-thresholds vs BL\n",
    "---"
   ]
  },
  {
   "cell_type": "code",
   "execution_count": null,
   "metadata": {
    "collapsed": true
   },
   "outputs": [],
   "source": [
    "def inditest(a,b):\n",
    "    print \"mean a\", a.mean()\n",
    "    print \"mean b\", b.mean()\n",
    "    print \"a - b\",  a.mean() - b.mean()\n",
    "    print \"df \", (a.count() + b.count()) -1\n",
    "    print \"welch\", ttest_ind(a, b , equal_var=False)"
   ]
  },
  {
   "cell_type": "code",
   "execution_count": null,
   "metadata": {
    "collapsed": false
   },
   "outputs": [],
   "source": [
    "rw.cutoff_threshold.unique()"
   ]
  },
  {
   "cell_type": "code",
   "execution_count": null,
   "metadata": {
    "collapsed": false
   },
   "outputs": [],
   "source": [
    "rw.phrase_type.unique()"
   ]
  },
  {
   "cell_type": "code",
   "execution_count": null,
   "metadata": {
    "collapsed": false
   },
   "outputs": [],
   "source": [
    "rw.query('cutoff_threshold == 0.4 & phrase_type == \"None\"').groupby(\"cfg\").mean()\n",
    "#rw.loc[rw.cutoff_threshold ==0.4  & rw.phrase_type == u'None', column]\n"
   ]
  },
  {
   "cell_type": "code",
   "execution_count": null,
   "metadata": {
    "collapsed": false
   },
   "outputs": [],
   "source": [
    "co04 = rw.query('cutoff_threshold == 0.4 & phrase_type == \"parse\"').groupby(\"cfg\").mean().loc[:,column]\n",
    "co0998 = rw.query('cutoff_threshold == 0.998 & phrase_type == \"parse\"').groupby(\"cfg\").mean().loc[:,column]\n",
    "co09 = rw.query('cutoff_threshold == 0.9 & phrase_type == \"parse\"').groupby(\"cfg\").mean().loc[:,column]\n",
    "co06 = rw.query('cutoff_threshold == 0.6 & phrase_type == \"parse\"').groupby(\"cfg\").mean().loc[:,column]\n",
    "\n"
   ]
  },
  {
   "cell_type": "code",
   "execution_count": null,
   "metadata": {
    "collapsed": false
   },
   "outputs": [],
   "source": [
    "inditest(bl.loc[:,column], co04)"
   ]
  },
  {
   "cell_type": "code",
   "execution_count": null,
   "metadata": {
    "collapsed": false
   },
   "outputs": [],
   "source": [
    "inditest(bl.loc[:,column], co06)"
   ]
  },
  {
   "cell_type": "code",
   "execution_count": null,
   "metadata": {
    "collapsed": false
   },
   "outputs": [],
   "source": [
    "inditest(bl.loc[:,column], co09)"
   ]
  },
  {
   "cell_type": "code",
   "execution_count": null,
   "metadata": {
    "collapsed": false
   },
   "outputs": [],
   "source": [
    "inditest(bl.loc[:,column], co0998)"
   ]
  },
  {
   "cell_type": "markdown",
   "metadata": {},
   "source": []
  },
  {
   "cell_type": "markdown",
   "metadata": {},
   "source": [
    "WERWFG vs WERWFG\n",
    "==="
   ]
  },
  {
   "cell_type": "code",
   "execution_count": null,
   "metadata": {
    "collapsed": true
   },
   "outputs": [],
   "source": [
    "a = df.loc[df.classtype.str.contains(\"Baseline\")].loc[df.phrase_type.str.contains(\"None\")].loc[:,column]\n",
    "b = df.loc[df.classtype.str.contains(\"RandomWalk\")].loc[df.phrase_type.str.contains(\"None\")].loc[:,column]"
   ]
  },
  {
   "cell_type": "code",
   "execution_count": null,
   "metadata": {
    "collapsed": true
   },
   "outputs": [],
   "source": [
    "print \"a mean:\", a.mean()\n",
    "print \"b mean:\", b.mean()"
   ]
  },
  {
   "cell_type": "code",
   "execution_count": null,
   "metadata": {
    "collapsed": false
   },
   "outputs": [],
   "source": [
    "print \"diff snfg mean:\", a.mean() - b.mean()\n",
    "print \"df\", (a.count() + b.count()) -1\n",
    "print \"welch\", ttest_ind(a, b , equal_var=False)"
   ]
  },
  {
   "cell_type": "code",
   "execution_count": null,
   "metadata": {
    "collapsed": false
   },
   "outputs": [],
   "source": [
    "print \"diff bl mean:  \", bl.mean()\n",
    "print \"diff snfg mean:\", snfg.mean() - bl.mean()\n",
    "print \"diff gf mean:  \", gf.mean() - bl.mean()\n",
    "print \"diff rw mean:  \", rw.mean() - bl.mean()"
   ]
  },
  {
   "cell_type": "code",
   "execution_count": null,
   "metadata": {
    "collapsed": false
   },
   "outputs": [],
   "source": [
    "print \"bl var:  \", bl.var()\n",
    "print \"snfg var:\", snfg.var()\n",
    "print \"gf var:  \", gf.var()\n",
    "print \"rw var:  \", rw.var()\n"
   ]
  },
  {
   "cell_type": "code",
   "execution_count": null,
   "metadata": {
    "collapsed": false
   },
   "outputs": [],
   "source": [
    "print \"bl std:  \", bl.std()\n",
    "print \"snfg std:\", snfg.std()\n",
    "print \"gf std:  \", gf.std()\n",
    "print \"rw std:  \", rw.std()\n"
   ]
  },
  {
   "cell_type": "code",
   "execution_count": null,
   "metadata": {
    "collapsed": false
   },
   "outputs": [],
   "source": [
    "# testing skewness\n",
    "print stats.skewtest(bl)\n",
    "print stats.skewtest(snfg)\n",
    "print stats.skewtest(gf)\n",
    "print stats.skewtest(rw)\n"
   ]
  },
  {
   "cell_type": "code",
   "execution_count": null,
   "metadata": {
    "collapsed": false
   },
   "outputs": [],
   "source": [
    "# testing kurtosistest\n",
    "print stats.kurtosistest(bl)\n",
    "print stats.kurtosistest(snfg)\n",
    "print stats.kurtosistest(gf)\n",
    "print stats.kurtosistest(rw)\n"
   ]
  },
  {
   "cell_type": "code",
   "execution_count": null,
   "metadata": {
    "collapsed": false
   },
   "outputs": [],
   "source": [
    "target_class = \"BaselineFeedbackStore\"\n",
    "print ttest_ind(bl, bl , equal_var=False)\n",
    "print stats.f_oneway(bl, bl)\n",
    "print stats.kruskal(bl, bl)"
   ]
  },
  {
   "cell_type": "code",
   "execution_count": null,
   "metadata": {
    "collapsed": false,
    "scrolled": true
   },
   "outputs": [],
   "source": [
    "target_class = \"SimpleNgramFeedbackGraph\"\n",
    "print ttest_ind(bl, snfg , equal_var=False)\n",
    "print stats.f_oneway(bl, snfg)\n",
    "print stats.kruskal(bl, snfg)"
   ]
  },
  {
   "cell_type": "code",
   "execution_count": null,
   "metadata": {
    "collapsed": false
   },
   "outputs": [],
   "source": [
    "target_class = \"WordEmbeddingRandomWalkDiffusionFeedbackGraph\"\n",
    "print ttest_ind(bl, rw , equal_var=False)\n",
    "print stats.f_oneway(bl,rw)\n",
    "print stats.kruskal(bl, rw)"
   ]
  },
  {
   "cell_type": "code",
   "execution_count": null,
   "metadata": {
    "collapsed": false
   },
   "outputs": [],
   "source": [
    "target_class = \"WordEmbeddingGaussianFeedbackGraph\"\n",
    "print ttest_ind(bl, gf , equal_var=False)\n",
    "print stats.f_oneway(bl, gf)\n",
    "print stats.kruskal(bl, gf)"
   ]
  },
  {
   "cell_type": "code",
   "execution_count": null,
   "metadata": {
    "collapsed": false
   },
   "outputs": [],
   "source": [
    "stats.f_oneway(iid.loc[iid.classtype.str.contains(u'BaselineFeedbackStore')].loc[:,column], iid.loc[iid.classtype.str.contains(target_class)].loc[:,column])"
   ]
  },
  {
   "cell_type": "code",
   "execution_count": null,
   "metadata": {
    "collapsed": false
   },
   "outputs": [],
   "source": [
    "iid.loc[:,[\"classtype\", \"ref_summary\", \"r2\"]].groupby(\"ref_summary\").hist(by=[\"classtype\"], figsize=(10,2))"
   ]
  },
  {
   "cell_type": "code",
   "execution_count": null,
   "metadata": {
    "collapsed": false,
    "scrolled": false
   },
   "outputs": [],
   "source": [
    "iid.loc[:,[\"classtype\", \"ref_summary\", \"r2\"]].groupby([\"classtype\"])[\"r2\"].plot.kde(legend =True)\n",
    "\n",
    "plt.show()"
   ]
  },
  {
   "cell_type": "code",
   "execution_count": null,
   "metadata": {
    "collapsed": false,
    "scrolled": false
   },
   "outputs": [],
   "source": [
    "for store in [\"WordEmbeddingGaussianFeedbackGraph\",\"BaselineFeedbackStore\",\"SimpleNgramFeedbackGraph\",\"WordEmbeddingRandomWalkDiffusionFeedbackGraph\"]:\n",
    "    print store\n",
    "    iid.loc[iid.classtype.str.contains(store),[\"classtype\", \"ref_summary\", \"r2\"]].groupby([\"ref_summary\"])[\"r2\"].plot.kde(legend =True)\n",
    "    plt.show()"
   ]
  },
  {
   "cell_type": "code",
   "execution_count": null,
   "metadata": {
    "collapsed": false,
    "scrolled": false
   },
   "outputs": [],
   "source": [
    "for store in [\"D31043.M.100.T.D\",\"D31043.M.100.T.F\",\"D31043.M.100.T.G\",\"D31043.M.100.T.H\"]:\n",
    "    print store\n",
    "    iid.loc[iid.ref_summary.str.contains(store),[\"classtype\", \"ref_summary\", \"r2\"]].groupby([\"classtype\"])[\"r2\"].plot.kde(legend =True, alpha=0.5)\n",
    "    plt.show()"
   ]
  },
  {
   "cell_type": "markdown",
   "metadata": {
    "collapsed": true
   },
   "source": [
    "Baseline summary score:\n",
    "==="
   ]
  },
  {
   "cell_type": "code",
   "execution_count": null,
   "metadata": {
    "collapsed": false
   },
   "outputs": [],
   "source": [
    "df.loc[df.groupby(\"ref_summary\")[\"r2bl\"].count()"
   ]
  },
  {
   "cell_type": "code",
   "execution_count": null,
   "metadata": {
    "collapsed": false
   },
   "outputs": [],
   "source": [
    "xy = df.query('phrase_type == \"parse\"').groupby([\"ref_summary\", \"oracle\", \"phrase_type\"])"
   ]
  },
  {
   "cell_type": "code",
   "execution_count": null,
   "metadata": {
    "collapsed": false
   },
   "outputs": [],
   "source": [
    "xy.mean().loc[:,[\"r2bl\"]]"
   ]
  },
  {
   "cell_type": "code",
   "execution_count": null,
   "metadata": {
    "collapsed": true
   },
   "outputs": [],
   "source": [
    "df.query('phrase_type == \"parse\"').loc[:,[\"r2bl\"]]"
   ]
  },
  {
   "cell_type": "code",
   "execution_count": null,
   "metadata": {
    "collapsed": true
   },
   "outputs": [],
   "source": [
    "xy.count()"
   ]
  },
  {
   "cell_type": "code",
   "execution_count": null,
   "metadata": {
    "collapsed": true
   },
   "outputs": [],
   "source": [
    "xy = df.query('phrase_type == \"parse\"')"
   ]
  },
  {
   "cell_type": "code",
   "execution_count": null,
   "metadata": {
    "collapsed": false
   },
   "outputs": [],
   "source": [
    "len(xy)"
   ]
  },
  {
   "cell_type": "code",
   "execution_count": null,
   "metadata": {
    "collapsed": false
   },
   "outputs": [],
   "source": [
    "xy.r2bl.unique()\n"
   ]
  },
  {
   "cell_type": "code",
   "execution_count": null,
   "metadata": {
    "collapsed": false
   },
   "outputs": [],
   "source": [
    "xy.groupby(\"r2bl\").count()"
   ]
  },
  {
   "cell_type": "code",
   "execution_count": null,
   "metadata": {
    "collapsed": false
   },
   "outputs": [],
   "source": [
    "baselines"
   ]
  },
  {
   "cell_type": "code",
   "execution_count": null,
   "metadata": {
    "collapsed": false
   },
   "outputs": [],
   "source": [
    "baseline_scores.loc[baseline_scores.phrase_type.str.contains(\"None\")]"
   ]
  },
  {
   "cell_type": "code",
   "execution_count": null,
   "metadata": {
    "collapsed": true
   },
   "outputs": [],
   "source": []
  }
 ],
 "metadata": {
  "celltoolbar": "Raw Cell Format",
  "kernelspec": {
   "display_name": "Python 2",
   "language": "python",
   "name": "python2"
  },
  "language_info": {
   "codemirror_mode": {
    "name": "ipython",
    "version": 2
   },
   "file_extension": ".py",
   "mimetype": "text/x-python",
   "name": "python",
   "nbconvert_exporter": "python",
   "pygments_lexer": "ipython2",
   "version": "2.7.13"
  }
 },
 "nbformat": 4,
 "nbformat_minor": 2
}
