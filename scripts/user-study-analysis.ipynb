{
 "cells": [
  {
   "cell_type": "code",
   "execution_count": null,
   "metadata": {
    "collapsed": true,
    "scrolled": true
   },
   "outputs": [],
   "source": [
    "import numpy as np\n",
    "import pandas as pd\n",
    "import matplotlib\n",
    "import matplotlib.pyplot as plt\n",
    "matplotlib.style.use('ggplot')\n",
    "from matplotlib import cm\n",
    "from scipy import stats\n",
    "\n",
    "\n",
    "import json\n",
    "import codecs\n",
    "import os\n",
    "from os import path"
   ]
  },
  {
   "cell_type": "code",
   "execution_count": null,
   "metadata": {
    "collapsed": false,
    "scrolled": true
   },
   "outputs": [],
   "source": [
    "result=pd.DataFrame(json.loads('[{\"iteration\": 13,\"r2\": 0.08029,\"user\": \"8253a7e8-5e0f-1a54-815e-0f97ada40000\"},{\"iteration\": 20,\"r2\": 0.05109,\"user\": \"8253a7e8-5e0e-11a0-815e-0f1d3fa20003\"},{\"iteration\": 6,\"r2\": 0.05109,\"user\": \"8253a7e8-5e0e-11a0-815e-0f6e473a0004\"},{\"iteration\": 20,\"r2\": 0.07786,\"user\": \"8253a7e8-5e0f-194e-815e-147551a30005\"},{\"iteration\": 16,\"r2\": 0.08273,\"user\": \"8253a7e8-5e0f-194e-815e-18b07d45000b\"},{\"iteration\": 4,\"r2\": 0.07786,\"user\": \"8253a7e8-5e0f-194e-815e-18c255bd000c\"},{\"iteration\": 3,\"r2\": 0.06813,\"user\": \"8253a7e8-5e0f-194e-815e-1a224038000f\"},{\"iteration\": 12,\"r2\": 0.07543,\"user\": \"8253a7e8-5e0f-194e-815e-2844b0170015\"},{\"iteration\": 6,\"r2\": 0.05596,\"user\": \"8253a7e8-5e0f-194e-815e-29bc1c59001d\"},{\"iteration\": 7,\"r2\": 0.03163,\"user\": \"8253a7e8-5e0f-194e-815e-29cecb1a001e\"},{\"iteration\": 12,\"r2\": 0.05109,\"user\": \"8253a7e8-5e0f-194e-815e-28e419840017\"},{\"iteration\": 9,\"r2\": 0.06813,\"user\": \"8253a7e8-5e0f-194e-815e-2d5564b00020\"},{\"iteration\": 4,\"r2\": 0.05109,\"user\": \"8253a7e8-5e0f-194e-815e-2d6145f00021\"},{\"iteration\": 6,\"r2\": 0.06569,\"user\": \"8253a7e8-5e2f-1a9a-815e-2fb071c60000\"}]'))"
   ]
  },
  {
   "cell_type": "code",
   "execution_count": null,
   "metadata": {
    "collapsed": false,
    "scrolled": true
   },
   "outputs": [],
   "source": [
    "df = result.sort_values(by=\"user\").reset_index()\n",
    "df.drop(df.columns[0], axis=1, inplace=True)"
   ]
  },
  {
   "cell_type": "code",
   "execution_count": null,
   "metadata": {
    "collapsed": false,
    "scrolled": true
   },
   "outputs": [],
   "source": [
    "df"
   ]
  },
  {
   "cell_type": "code",
   "execution_count": null,
   "metadata": {
    "collapsed": false,
    "scrolled": true
   },
   "outputs": [],
   "source": [
    "# copied from excel after sorting by userid\n",
    "df[\"manual_r2\"] = pd.Series([\n",
    "0.054,\n",
    "0.032,\n",
    "0.112,\n",
    "0.075,\n",
    "0.061,\n",
    "0.056,\n",
    "0.000,\n",
    "0.041,\n",
    "0.046,\n",
    "0.032,\n",
    "0.063,\n",
    "0.066,\n",
    "0.075,\n",
    "0.061])\n"
   ]
  },
  {
   "cell_type": "code",
   "execution_count": null,
   "metadata": {
    "collapsed": true,
    "scrolled": true
   },
   "outputs": [],
   "source": [
    "df[\"sus\"] = pd.Series([67.500,\n",
    "75.000,\n",
    "75.000,\n",
    "87.500,\n",
    "80.000,\n",
    "97.500,\n",
    "80.000,\n",
    "52.500,\n",
    "70.000,\n",
    "85.000,\n",
    "67.500,\n",
    "35.000,\n",
    "55.000,\n",
    "67.500])"
   ]
  },
  {
   "cell_type": "code",
   "execution_count": null,
   "metadata": {
    "collapsed": true,
    "scrolled": true
   },
   "outputs": [],
   "source": [
    "df[\"classtype\"] = pd.Series([\"werwfg\",\n",
    "\"wegfg\",\n",
    "\"wegfg\",\n",
    "\"wegfg\",\n",
    "\"baseline\",\n",
    "\"baseline\",\n",
    "\"baseline\",\n",
    "\"wegfg\",\n",
    "\"werwfg\",\n",
    "\"werwfg\",\n",
    "\"werwfg\",\n",
    "\"baseline\",\n",
    "\"baseline\",\n",
    "\"wegfg\"])"
   ]
  },
  {
   "cell_type": "code",
   "execution_count": null,
   "metadata": {
    "collapsed": false,
    "scrolled": true
   },
   "outputs": [],
   "source": [
    "df.sort_values([\"classtype\", \"r2\"])"
   ]
  },
  {
   "cell_type": "code",
   "execution_count": null,
   "metadata": {
    "collapsed": false,
    "scrolled": true
   },
   "outputs": [],
   "source": [
    "df.corr()"
   ]
  },
  {
   "cell_type": "markdown",
   "metadata": {},
   "source": [
    "Min, Mean, Max calulations for the table\n",
    "==="
   ]
  },
  {
   "cell_type": "code",
   "execution_count": null,
   "metadata": {
    "collapsed": false,
    "scrolled": true
   },
   "outputs": [],
   "source": [
    "# First table part: overview\n",
    "df.min()"
   ]
  },
  {
   "cell_type": "code",
   "execution_count": null,
   "metadata": {
    "collapsed": false,
    "scrolled": true
   },
   "outputs": [],
   "source": [
    "df.mean()"
   ]
  },
  {
   "cell_type": "code",
   "execution_count": null,
   "metadata": {
    "collapsed": false,
    "scrolled": true
   },
   "outputs": [],
   "source": [
    "df.max()"
   ]
  },
  {
   "cell_type": "code",
   "execution_count": null,
   "metadata": {
    "collapsed": false,
    "scrolled": true
   },
   "outputs": [],
   "source": [
    "# Second part: study, abstractive\n",
    "df.groupby(\"classtype\").describe()[\"manual_r2\"]"
   ]
  },
  {
   "cell_type": "code",
   "execution_count": null,
   "metadata": {
    "collapsed": false,
    "scrolled": true
   },
   "outputs": [],
   "source": [
    "# Second part: study, abstractive\n",
    "df.groupby(\"classtype\").describe()[\"r2\"]"
   ]
  },
  {
   "cell_type": "code",
   "execution_count": null,
   "metadata": {
    "collapsed": false,
    "scrolled": true
   },
   "outputs": [],
   "source": [
    "df.loc[:,[\"r2\",\"classtype\"]].groupby(\"classtype\").hist()\n",
    "plt.show()"
   ]
  },
  {
   "cell_type": "code",
   "execution_count": null,
   "metadata": {
    "collapsed": false,
    "scrolled": false
   },
   "outputs": [],
   "source": [
    "l = list(df.columns)\n",
    "for x in l:\n",
    "    for y in l:\n",
    "        if l.index(x) >= l.index(y): \n",
    "            continue    \n",
    "        try:\n",
    "            df.plot.scatter(x=x, y=y)\n",
    "            plt.show()\n",
    "        except:\n",
    "            plt.close()\n",
    "            print \"error on %s with %s\" % (x,y)"
   ]
  },
  {
   "cell_type": "code",
   "execution_count": null,
   "metadata": {
    "collapsed": true
   },
   "outputs": [],
   "source": [
    "import seaborn as sns\n",
    "%matplotlib inline\n"
   ]
  },
  {
   "cell_type": "code",
   "execution_count": null,
   "metadata": {
    "collapsed": false
   },
   "outputs": [],
   "source": [
    "sns.set()\n",
    "\n",
    "# Plot tip as a function of toal bill across days\n",
    "g = sns.lmplot(x=\"r2\", y=\"manual_r2\", hue = \"classtype\", truncate=False,  data=df, fit_reg=False)\n",
    "\n",
    "# Use more informative axis labels than are provided by default\n",
    "g.set_axis_labels(\"extractive r2\", \"abstractive r2\")\n"
   ]
  },
  {
   "cell_type": "code",
   "execution_count": null,
   "metadata": {
    "collapsed": false
   },
   "outputs": [],
   "source": [
    "sns.set()\n",
    "\n",
    "g = sns.FacetGrid(tips, row=\"classtype\", margin_titles=True)\n",
    "bins = np.linspace(0, 60, 13)\n",
    "g.map(plt.hist, \"total_bill\", color=\"steelblue\", bins=bins, lw=0)\n",
    "\n",
    "sns.kdeplot(data=df.loc[df.classtype.str.contains(\"r2)"
   ]
  },
  {
   "cell_type": "code",
   "execution_count": null,
   "metadata": {
    "collapsed": true
   },
   "outputs": [],
   "source": [
    "plt.show()"
   ]
  },
  {
   "cell_type": "code",
   "execution_count": null,
   "metadata": {
    "collapsed": false,
    "scrolled": true
   },
   "outputs": [],
   "source": [
    "df.loc[:,[\"manual_r2\", \"classtype\"]].groupby(\"classtype\").describe()"
   ]
  },
  {
   "cell_type": "code",
   "execution_count": null,
   "metadata": {
    "collapsed": false,
    "scrolled": true
   },
   "outputs": [],
   "source": [
    "df.describe()"
   ]
  },
  {
   "cell_type": "markdown",
   "metadata": {},
   "source": [
    "Calculating t-test significance\n",
    "===="
   ]
  },
  {
   "cell_type": "markdown",
   "metadata": {},
   "source": [
    "Extractive summary comparison\n",
    "---"
   ]
  },
  {
   "cell_type": "code",
   "execution_count": null,
   "metadata": {
    "collapsed": true,
    "scrolled": true
   },
   "outputs": [],
   "source": [
    "from scipy.stats import ttest_ind\n"
   ]
  },
  {
   "cell_type": "code",
   "execution_count": null,
   "metadata": {
    "collapsed": true,
    "scrolled": true
   },
   "outputs": [],
   "source": [
    "column = \"r2\""
   ]
  },
  {
   "cell_type": "code",
   "execution_count": null,
   "metadata": {
    "collapsed": false,
    "scrolled": true
   },
   "outputs": [],
   "source": [
    "ttest_ind(df.loc[df.classtype.str.contains(\"baseline\")].loc[:,column], df.loc[df.classtype.str.contains(\"wegfg\")].loc[:,column])"
   ]
  },
  {
   "cell_type": "code",
   "execution_count": null,
   "metadata": {
    "collapsed": false,
    "scrolled": true
   },
   "outputs": [],
   "source": [
    "ttest_ind(df.loc[df.classtype.str.contains(\"baseline\")].loc[:,column], df.loc[df.classtype.str.contains(\"werwfg\")].loc[:,column])"
   ]
  },
  {
   "cell_type": "code",
   "execution_count": null,
   "metadata": {
    "collapsed": false,
    "scrolled": true
   },
   "outputs": [],
   "source": [
    "ttest_ind(df.loc[df.classtype.str.contains(\"wegfg\")].loc[:,column], df.loc[df.classtype.str.contains(\"werwfg\")].loc[:,column])"
   ]
  },
  {
   "cell_type": "code",
   "execution_count": null,
   "metadata": {
    "collapsed": false,
    "scrolled": false
   },
   "outputs": [],
   "source": [
    "df.groupby(\"classtype\")[column].plot.hist(legend =True, alpha=0.6 )\n",
    "plt.show()"
   ]
  },
  {
   "cell_type": "code",
   "execution_count": null,
   "metadata": {
    "collapsed": false,
    "scrolled": false
   },
   "outputs": [],
   "source": [
    "df.groupby(\"classtype\")[column].plot.kde(legend =True)\n",
    "plt.show()"
   ]
  },
  {
   "cell_type": "markdown",
   "metadata": {},
   "source": [
    "Abstractive summaries\n",
    "---\n",
    "kjhadkjadkjahdkasj d\n",
    "\n",
    "\n",
    "* askdjh kj\n",
    "* v\n"
   ]
  },
  {
   "cell_type": "code",
   "execution_count": null,
   "metadata": {
    "collapsed": true,
    "scrolled": true
   },
   "outputs": [],
   "source": [
    "column = \"r2\""
   ]
  },
  {
   "cell_type": "code",
   "execution_count": null,
   "metadata": {
    "collapsed": false,
    "scrolled": true
   },
   "outputs": [],
   "source": [
    "ttest_ind(df.loc[df.classtype.str.contains(\"baseline\")].loc[:,column], df.loc[df.classtype.str.contains(\"wegfg\")].loc[:,column], equal_var=False)"
   ]
  },
  {
   "cell_type": "code",
   "execution_count": null,
   "metadata": {
    "collapsed": false,
    "scrolled": true
   },
   "outputs": [],
   "source": [
    "ttest_ind(df.loc[df.classtype.str.contains(\"baseline\")].loc[:,column], df.loc[df.classtype.str.contains(\"werwfg\")].loc[:,column], equal_var=False)"
   ]
  },
  {
   "cell_type": "code",
   "execution_count": null,
   "metadata": {
    "collapsed": false,
    "scrolled": true
   },
   "outputs": [],
   "source": [
    "ttest_ind(df.loc[df.classtype.str.contains(\"wegfg\")].loc[:,column], \n",
    "          df.loc[df.classtype.str.contains(\"werwfg\")].loc[:,column], equal_var=False)"
   ]
  },
  {
   "cell_type": "code",
   "execution_count": null,
   "metadata": {
    "collapsed": false,
    "scrolled": false
   },
   "outputs": [],
   "source": [
    "df.groupby(\"classtype\")[column].plot.hist(legend =True, alpha=0.7 )\n",
    "plt.show()"
   ]
  },
  {
   "cell_type": "code",
   "execution_count": null,
   "metadata": {
    "collapsed": false,
    "scrolled": false
   },
   "outputs": [],
   "source": [
    "df.groupby(\"classtype\")[column].plot.kde(legend =True)\n",
    "plt.show()"
   ]
  },
  {
   "cell_type": "code",
   "execution_count": null,
   "metadata": {
    "collapsed": true
   },
   "outputs": [],
   "source": []
  },
  {
   "cell_type": "code",
   "execution_count": null,
   "metadata": {
    "collapsed": true
   },
   "outputs": [],
   "source": []
  },
  {
   "cell_type": "code",
   "execution_count": null,
   "metadata": {
    "collapsed": false
   },
   "outputs": [],
   "source": [
    "df.corr()"
   ]
  },
  {
   "cell_type": "markdown",
   "metadata": {},
   "source": [
    "ANOVA-Tests"
   ]
  },
  {
   "cell_type": "code",
   "execution_count": null,
   "metadata": {
    "collapsed": true
   },
   "outputs": [],
   "source": [
    "initial_summaries = pd.Series([])"
   ]
  }
 ],
 "metadata": {
  "kernelspec": {
   "display_name": "Python 2",
   "language": "python",
   "name": "python2"
  },
  "language_info": {
   "codemirror_mode": {
    "name": "ipython",
    "version": 2
   },
   "file_extension": ".py",
   "mimetype": "text/x-python",
   "name": "python",
   "nbconvert_exporter": "python",
   "pygments_lexer": "ipython2",
   "version": "2.7.13"
  }
 },
 "nbformat": 4,
 "nbformat_minor": 2
}
