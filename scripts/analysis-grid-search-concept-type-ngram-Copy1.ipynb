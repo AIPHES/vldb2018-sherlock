{
 "cells": [
  {
   "cell_type": "markdown",
   "metadata": {},
   "source": [
    "Grid Search Analysis\n",
    "===\n",
    "\n",
    "This integrated notebook analysis all grid search results in one shot.\n",
    "\n",
    "Compares the results of the grid search per dataset. And spits out the best one...\n"
   ]
  },
  {
   "cell_type": "code",
   "execution_count": 6,
   "metadata": {
    "collapsed": true
   },
   "outputs": [],
   "source": [
    "import numpy as np\n",
    "import pandas as pd\n",
    "import matplotlib\n",
    "import matplotlib.pyplot as plt\n",
    "matplotlib.style.use('ggplot')\n",
    "from matplotlib import cm\n",
    "\n",
    "\n",
    "import json\n",
    "import codecs\n",
    "import os\n",
    "from os import path"
   ]
  },
  {
   "cell_type": "code",
   "execution_count": 7,
   "metadata": {
    "collapsed": true
   },
   "outputs": [],
   "source": [
    "# set to false if the full csv already exists\n",
    "CONVERT_FROM_RAW=True"
   ]
  },
  {
   "cell_type": "code",
   "execution_count": 8,
   "metadata": {
    "collapsed": false
   },
   "outputs": [],
   "source": [
    "basepath = os.path.normpath(\"C:\\\\Users\\\\hatieke\\\\temp\")"
   ]
  },
  {
   "cell_type": "code",
   "execution_count": 9,
   "metadata": {
    "collapsed": true
   },
   "outputs": [],
   "source": [
    "basepath = os.path.normpath(\"C:\\\\Users\\\\hatieke\\\\.ukpsummarizer\\\\results\\\\grid_search\")"
   ]
  },
  {
   "cell_type": "code",
   "execution_count": 10,
   "metadata": {
    "collapsed": true
   },
   "outputs": [],
   "source": [
    "basepath = os.path.normpath(\"C:\\\\Users\\\\hatieke\\\\Desktop\\\\scores_grid_2017-09-15\")"
   ]
  },
  {
   "cell_type": "code",
   "execution_count": 11,
   "metadata": {
    "collapsed": true
   },
   "outputs": [],
   "source": [
    "def new_parser(dir):\n",
    "    for root, dirs, files in os.walk(dir):\n",
    "        for f in files:\n",
    "            if f.startswith(\"result-\") and f.endswith(\".json\"):\n",
    "                fn = os.path.join(root, f)\n",
    "                fsize = os.path.getsize(fn)\n",
    "                if fsize > 0:\n",
    "                    with open(fn) as fp:\n",
    "                        data = json.load(fp)\n",
    "                        data[\"parent_directory\"] = root\n",
    "                        yield data\n",
    "                        "
   ]
  },
  {
   "cell_type": "code",
   "execution_count": 12,
   "metadata": {
    "collapsed": true
   },
   "outputs": [],
   "source": [
    "def parse_single_result_per_iteration_into_rows(obj):\n",
    "    config = obj[u'config_feedbackstore']\n",
    "\n",
    "    results = [i for i in obj[\"result_rougescores\"]]\n",
    "    for res in results:\n",
    "        #print \"before: it:\" , res[\"iteration\"] , \"acc:\" , len(res[u'accepted']) ,\"rej:\" , len(res[\"rejected\"])\n",
    "        if res[\"iteration\"] == 0 and len(res[u'accepted']) == 0 and len(res[\"rejected\"]) == 0:\n",
    "            # do nothing\n",
    "            minusone=-1\n",
    "        else: \n",
    "            minusone=0\n",
    "        iteration = res[\"iteration\"] + minusone\n",
    "        \n",
    "        # this reduces the iteration-counter for the inital summary, i.e. the one, where we left of.\n",
    "        #        res[\"iteration\"] = res[\"iteration\"]+minusone\n",
    "        #print \"after : it:\" , iteration , \"acc:\" , len(res[u'accepted']) ,\"rej:\" , len(res[\"rejected\"])\n",
    "\n",
    "        accept_count = res[\"accept_count\"]\n",
    "        reject_count = res[\"reject_count\"]\n",
    "\n",
    "        total_accept = sum([1 for i in obj[u'log_feedbacks'] if i[\"value\"] == 'accept' and i[\"iteration\"] < iteration])\n",
    "        total_reject = sum([1 for i in obj[u'log_feedbacks'] if i[\"value\"] != 'accept' and i[\"iteration\"] < iteration])\n",
    "        total_feedback = total_accept + total_reject\n",
    "\n",
    "        #iteration = res[\"iteration\"]\n",
    "        r1 =  res[u'ROUGE-1 R score']\n",
    "        r2 =  res[u'ROUGE-2 R score']\n",
    "        r4 =  res[u'ROUGE-SU* R score']\n",
    "\n",
    "        classtype = config.get(u'type')\n",
    "        cut_off_threshold = config.get(u'cut_off_threshold')\n",
    "        iterations_accept = config.get(u'iterations_accept')\n",
    "        iterations_reject = config.get(u'iterations_reject')\n",
    "        propagation_abort_threshold = config.get(u'propagation_abort_threshold')\n",
    "        mass_accept = config.get(u'mass_accept')\n",
    "        mass_reject = config.get(u'mass_reject')\n",
    "        window_size = config.get(u'N')\n",
    "        factor_reject = config.get(u\"multiplier_reject\")\n",
    "        factor_accept = config.get(u\"multiplier_accept\")\n",
    "        cutoff = config.get(u\"cut_off_threshold\", config.get(\"cutoff_threshold\"))\n",
    "\n",
    "        runid = obj.get(\"config_run_id\")\n",
    "        word2vec = obj.get(\"config_wordembeddings\")\n",
    "\n",
    "        parse_type = obj.get(\"config_parse_type\")\n",
    "        if parse_type is None or parse_type.lower() is \"None\".lower():\n",
    "            parse_type = \"ngrams\"\n",
    "\n",
    "        oracle_type = obj.get(\"config_oracle_type\", \"accept\")\n",
    "\n",
    "        ub = obj.get(\"model_rougescores\", {})\n",
    "        ub_r1 = ub.get(\"ROUGE-1 R score\", -1)\n",
    "        ub_r2 = ub.get(\"ROUGE-2 R score\", -1)\n",
    "        ub_r4 = ub.get(\"ROUGE-SU* R score\", -1)\n",
    "\n",
    "        yield {\n",
    "            \"accept\" : total_accept,\n",
    "            \"reject\": total_reject,\n",
    "            \"accept_new\": accept_count,\n",
    "            \"reject_new\": reject_count,\n",
    "            \"feedback_new\": accept_count+reject_count,\n",
    "            \"total_feedback\": total_feedback,\n",
    "            \"ref_summary\": str([item[\"name\"] for item in obj[u'models']]),\n",
    "            \"cfg\": json.dumps(config),\n",
    "            \"num_iterations\": iteration,\n",
    "            \"r1\": r1,\n",
    "            \"r2\": r2,\n",
    "            \"r4\": r4,\n",
    "            \"oracle\": oracle_type,\n",
    "            \"classtype\": classtype,\n",
    "            \"iterations_accept\":iterations_accept,\n",
    "            \"iterations_reject\": iterations_reject,\n",
    "            \"propagation_abort_threshold\": propagation_abort_threshold,\n",
    "            \"mass_accept\" : mass_accept,\n",
    "            \"mass_reject\" : mass_reject,\n",
    "            \"window_size\": window_size,\n",
    "            \"multiplier_reject\": factor_reject,\n",
    "            \"multiplier_accept\": factor_accept,\n",
    "            \"cutoff_threshold\": cutoff,\n",
    "            \"run_id\": runid,\n",
    "            \"ub_r1\": ub_r1,\n",
    "            \"ub_r2\": ub_r2,\n",
    "            \"ub_r4\": ub_r4,\n",
    "            \"phrase_type\": parse_type,\n",
    "            \"embeddings\": word2vec,\n",
    "            \"size\": 100,\n",
    "            \"max_iteration_count\": len(results) - 1,\n",
    "            \"parent\": obj.get(\"parent_directory\", \"unknown/parent/directory\")\n",
    "        }\n"
   ]
  },
  {
   "cell_type": "code",
   "execution_count": 13,
   "metadata": {
    "collapsed": false
   },
   "outputs": [],
   "source": [
    "odf = pd.DataFrame((r for i in new_parser(basepath) for r in parse_single_result_per_iteration_into_rows(i)))"
   ]
  },
  {
   "cell_type": "code",
   "execution_count": 14,
   "metadata": {
    "collapsed": false
   },
   "outputs": [
    {
     "data": {
      "text/plain": [
       "['accept',\n",
       " 'accept_new',\n",
       " 'cfg',\n",
       " 'classtype',\n",
       " 'cutoff_threshold',\n",
       " 'embeddings',\n",
       " 'feedback_new',\n",
       " 'iterations_accept',\n",
       " 'iterations_reject',\n",
       " 'mass_accept',\n",
       " 'mass_reject',\n",
       " 'max_iteration_count',\n",
       " 'multiplier_accept',\n",
       " 'multiplier_reject',\n",
       " 'num_iterations',\n",
       " 'oracle',\n",
       " 'parent',\n",
       " 'phrase_type',\n",
       " 'propagation_abort_threshold',\n",
       " 'r1',\n",
       " 'r2',\n",
       " 'r4',\n",
       " 'ref_summary',\n",
       " 'reject',\n",
       " 'reject_new',\n",
       " 'run_id',\n",
       " 'size',\n",
       " 'total_feedback',\n",
       " 'ub_r1',\n",
       " 'ub_r2',\n",
       " 'ub_r4',\n",
       " 'window_size']"
      ]
     },
     "execution_count": 14,
     "metadata": {},
     "output_type": "execute_result"
    }
   ],
   "source": [
    "list(odf.columns)"
   ]
  },
  {
   "cell_type": "code",
   "execution_count": 15,
   "metadata": {
    "collapsed": false
   },
   "outputs": [],
   "source": [
    "# remove real duplicates:\n",
    "unidf = odf.drop_duplicates([\"accept\", \"reject\", \"accept_new\", \"reject_new\", \"feedback_new\", \"total_feedback\", \"ref_summary\", \"cfg\", \"num_iterations\", \"r1\", \"r2\", \"r4\", \"oracle\", \"classtype\", \"iterations_accept\", \"iterations_reject\", \"propagation_abort_threshold\", \"mass_accept\", \"mass_reject\", \"window_size\", \"multiplier_reject\", \"multiplier_accept\", \"cutoff_threshold\", \"run_id\", \"ub_r1\", \"ub_r2\", \"ub_r4\", \"phrase_type\", \"embeddings\", \"size\", \"max_iteration_count\"])"
   ]
  },
  {
   "cell_type": "code",
   "execution_count": 16,
   "metadata": {
    "collapsed": true
   },
   "outputs": [],
   "source": [
    "unidf.to_csv(path.join(basepath, \"grid_search_dataframe_unique_rows.csv\"))"
   ]
  },
  {
   "cell_type": "code",
   "execution_count": 17,
   "metadata": {
    "collapsed": false
   },
   "outputs": [],
   "source": [
    "# convert pojo into string\n",
    "#df[\"cfg\"] = df.apply(lambda x: json.dumps(x[\"cfg\"]), axis=1)"
   ]
  },
  {
   "cell_type": "code",
   "execution_count": 18,
   "metadata": {
    "collapsed": false
   },
   "outputs": [
    {
     "name": "stdout",
     "output_type": "stream",
     "text": [
      "<class 'pandas.core.frame.DataFrame'>\n",
      "Int64Index: 435863 entries, 0 to 435862\n",
      "Data columns (total 32 columns):\n",
      "accept                         435863 non-null int64\n",
      "accept_new                     435863 non-null int64\n",
      "cfg                            435863 non-null object\n",
      "classtype                      435863 non-null object\n",
      "cutoff_threshold               419126 non-null float64\n",
      "embeddings                     435863 non-null object\n",
      "feedback_new                   435863 non-null int64\n",
      "iterations_accept              419126 non-null float64\n",
      "iterations_reject              419126 non-null float64\n",
      "mass_accept                    419126 non-null float64\n",
      "mass_reject                    419126 non-null float64\n",
      "max_iteration_count            435863 non-null int64\n",
      "multiplier_accept              16568 non-null float64\n",
      "multiplier_reject              16568 non-null float64\n",
      "num_iterations                 435863 non-null int64\n",
      "oracle                         435863 non-null object\n",
      "parent                         435863 non-null object\n",
      "phrase_type                    435863 non-null object\n",
      "propagation_abort_threshold    390257 non-null float64\n",
      "r1                             435863 non-null float64\n",
      "r2                             435863 non-null float64\n",
      "r4                             435863 non-null float64\n",
      "ref_summary                    435863 non-null object\n",
      "reject                         435863 non-null int64\n",
      "reject_new                     435863 non-null int64\n",
      "run_id                         435863 non-null object\n",
      "size                           435863 non-null int64\n",
      "total_feedback                 435863 non-null int64\n",
      "ub_r1                          435863 non-null float64\n",
      "ub_r2                          435863 non-null float64\n",
      "ub_r4                          435863 non-null float64\n",
      "window_size                    16568 non-null float64\n",
      "dtypes: float64(15), int64(9), object(8)\n",
      "memory usage: 109.7+ MB\n"
     ]
    }
   ],
   "source": [
    "unidf.info()"
   ]
  },
  {
   "cell_type": "code",
   "execution_count": 19,
   "metadata": {
    "collapsed": true
   },
   "outputs": [],
   "source": [
    "cdf = pd.DataFrame(unidf)\n",
    "# Make categorical data although having numerical values, behave as categories\n",
    "cdf[\"classtype\"] = cdf[\"classtype\"].astype(\"category\")\n",
    "cdf[\"cfg\"] = cdf[\"cfg\"].astype(\"category\")\n",
    "cdf[\"cutoff_threshold\"] = cdf[\"cutoff_threshold\"].astype(\"category\")\n",
    "cdf[\"embeddings\"] = cdf[\"embeddings\"].astype(\"category\")\n",
    "cdf[\"mass_accept\"] = cdf[\"mass_accept\"].astype(\"category\")\n",
    "cdf[\"mass_reject\"] = cdf[\"mass_reject\"].astype(\"category\")\n",
    "cdf[\"max_iteration_count\"] = cdf[\"max_iteration_count\"].astype(\"category\")\n",
    "cdf[\"multiplier_accept\"] = cdf[\"multiplier_accept\"].astype(\"category\")\n",
    "cdf[\"multiplier_reject\"] = cdf[\"multiplier_reject\"].astype(\"category\")\n",
    "cdf[\"oracle\"] = cdf[\"oracle\"].astype(\"category\")\n",
    "cdf[\"parent\"] = cdf[\"parent\"].astype(\"category\")\n",
    "cdf[\"phrase_type\"] = cdf[\"phrase_type\"].astype(\"category\")\n",
    "cdf[\"propagation_abort_threshold\"] = cdf[\"propagation_abort_threshold\"].astype(\"category\")\n",
    "cdf[\"size\"] = cdf[\"size\"].astype(\"category\")\n",
    "cdf[\"window_size\"] = cdf[\"window_size\"].astype(\"category\")\n"
   ]
  },
  {
   "cell_type": "code",
   "execution_count": 20,
   "metadata": {
    "collapsed": true
   },
   "outputs": [],
   "source": [
    "odf = cdf"
   ]
  },
  {
   "cell_type": "code",
   "execution_count": 21,
   "metadata": {
    "collapsed": true
   },
   "outputs": [],
   "source": [
    "# throw away implausible results\n",
    "ddf = odf.loc[odf.r2 >0].loc[odf.r1 > 0].loc[odf.r4 >0]"
   ]
  },
  {
   "cell_type": "code",
   "execution_count": 22,
   "metadata": {
    "collapsed": true
   },
   "outputs": [],
   "source": [
    "# only do this to exclude the initial value (-1)\n",
    "ddf = ddf.loc[odf.num_iterations >= 0]"
   ]
  },
  {
   "cell_type": "code",
   "execution_count": 23,
   "metadata": {
    "collapsed": false
   },
   "outputs": [
    {
     "name": "stdout",
     "output_type": "stream",
     "text": [
      "<class 'pandas.core.frame.DataFrame'>\n",
      "Int64Index: 390835 entries, 1 to 435862\n",
      "Data columns (total 32 columns):\n",
      "accept                         390835 non-null int64\n",
      "accept_new                     390835 non-null int64\n",
      "cfg                            390835 non-null category\n",
      "classtype                      390835 non-null category\n",
      "cutoff_threshold               376162 non-null category\n",
      "embeddings                     390835 non-null category\n",
      "feedback_new                   390835 non-null int64\n",
      "iterations_accept              376162 non-null float64\n",
      "iterations_reject              376162 non-null float64\n",
      "mass_accept                    376162 non-null category\n",
      "mass_reject                    376162 non-null category\n",
      "max_iteration_count            390835 non-null category\n",
      "multiplier_accept              14520 non-null category\n",
      "multiplier_reject              14520 non-null category\n",
      "num_iterations                 390835 non-null int64\n",
      "oracle                         390835 non-null category\n",
      "parent                         390835 non-null category\n",
      "phrase_type                    390835 non-null category\n",
      "propagation_abort_threshold    353391 non-null category\n",
      "r1                             390835 non-null float64\n",
      "r2                             390835 non-null float64\n",
      "r4                             390835 non-null float64\n",
      "ref_summary                    390835 non-null object\n",
      "reject                         390835 non-null int64\n",
      "reject_new                     390835 non-null int64\n",
      "run_id                         390835 non-null object\n",
      "size                           390835 non-null category\n",
      "total_feedback                 390835 non-null int64\n",
      "ub_r1                          390835 non-null float64\n",
      "ub_r2                          390835 non-null float64\n",
      "ub_r4                          390835 non-null float64\n",
      "window_size                    14520 non-null category\n",
      "dtypes: category(15), float64(8), int64(7), object(2)\n",
      "memory usage: 59.7+ MB\n"
     ]
    }
   ],
   "source": [
    "ddf.info()"
   ]
  },
  {
   "cell_type": "code",
   "execution_count": 24,
   "metadata": {
    "collapsed": false,
    "scrolled": false
   },
   "outputs": [
    {
     "name": "stdout",
     "output_type": "stream",
     "text": [
      "multiplier_accept\n",
      "0.00    1977\n",
      "0.05    2098\n",
      "0.25    2054\n",
      "0.50    2089\n",
      "1.00    2090\n",
      "2.00    2052\n",
      "4.00    2073\n",
      "8.00    2135\n",
      "Name: run_id, dtype: int64\n",
      "window_size\n",
      "2.0    4034\n",
      "3.0    4155\n",
      "4.0    4191\n",
      "5.0    4188\n",
      "Name: run_id, dtype: int64\n",
      "embeddings\n",
      "glove.6B.300d    435863\n",
      "Name: run_id, dtype: int64\n",
      "iterations_accept\n",
      "128.0      144487\n",
      "1024.0     144575\n",
      "10000.0    130064\n",
      "Name: run_id, dtype: int64\n",
      "mass_reject\n",
      "-4.0      8733\n",
      "-1.0     95978\n",
      " 0.0    107248\n",
      " 1.0    102222\n",
      " 4.0    104945\n",
      "Name: run_id, dtype: int64\n",
      "classtype\n",
      "BaselineFeedbackStore                               169\n",
      "SimpleNgramFeedbackGraph                          16568\n",
      "WordEmbeddingGaussianFeedbackGraph                28869\n",
      "WordEmbeddingRandomWalkDiffusionFeedbackGraph    390257\n",
      "Name: run_id, dtype: int64\n",
      "propagation_abort_threshold\n",
      "0.10    97483\n",
      "0.25    97521\n",
      "0.50    97753\n",
      "0.90    97500\n",
      "Name: run_id, dtype: int64\n",
      "mass_accept\n",
      "-4.0      6663\n",
      "-1.0     97436\n",
      " 0.0    104759\n",
      " 1.0    105052\n",
      " 4.0    105216\n",
      "Name: run_id, dtype: int64\n",
      "oracle\n",
      "accept_reject      219492\n",
      "active_learning    216371\n",
      "Name: run_id, dtype: int64\n",
      "cutoff_threshold\n",
      "0.400    103961\n",
      "0.600    105022\n",
      "0.900    105561\n",
      "0.998    104582\n",
      "Name: run_id, dtype: int64\n",
      "num_iterations\n",
      "-1    43040\n",
      " 0    43040\n",
      " 1    43040\n",
      " 2    42334\n",
      " 3    41164\n",
      " 4    40782\n",
      " 5    40160\n",
      " 6    39503\n",
      " 7    37827\n",
      " 8    34590\n",
      " 9    30383\n",
      "Name: run_id, dtype: int64\n",
      "multiplier_reject\n",
      "0.00    1674\n",
      "0.05    1680\n",
      "0.25    1674\n",
      "0.50    1655\n",
      "1.00    1776\n",
      "2.00    2642\n",
      "4.00    2736\n",
      "8.00    2731\n",
      "Name: run_id, dtype: int64\n",
      "phrase_type\n",
      "None     220597\n",
      "parse    215266\n",
      "Name: run_id, dtype: int64\n",
      "iterations_reject\n",
      "16.0        9671\n",
      "64.0      139904\n",
      "200.0     130062\n",
      "256.0       9387\n",
      "5000.0    130102\n",
      "Name: run_id, dtype: int64\n",
      "ref_summary\n",
      "[u'D31043.M.100.T.D']    111274\n",
      "[u'D31043.M.100.T.F']    111647\n",
      "[u'D31043.M.100.T.G']    104356\n",
      "[u'D31043.M.100.T.H']    108586\n",
      "Name: run_id, dtype: int64\n",
      "size\n",
      "100    435863\n",
      "Name: run_id, dtype: int64\n"
     ]
    }
   ],
   "source": [
    "histogram_cols = list(set(list(cdf.columns)) - set(['run_id', \"cfg\", \"parent\", \"max_iteration_count\" , u'r1', \"total_feedback\", \"feedback_new\", u'r2', u'r4', u'ub_r1', u'ub_r2', u'ub_r4', u'accept', u'accept_new', u'cfg',u'reject', u'reject_new', ]))\n",
    "for col in histogram_cols:\n",
    "    if col == \"run_id\":\n",
    "        continue\n",
    "    print cdf.loc[:,[col, \"run_id\"]].groupby([col]).count()[\"run_id\"]\n",
    "    "
   ]
  },
  {
   "cell_type": "code",
   "execution_count": 25,
   "metadata": {
    "collapsed": false
   },
   "outputs": [
    {
     "data": {
      "image/png": "[encoded data removed]",
      "text/plain": [
       "<matplotlib.figure.Figure at 0xbefa390>"
      ]
     },
     "metadata": {},
     "output_type": "display_data"
    }
   ],
   "source": [
    "cdf.hist(figsize=(16,9))\n",
    "plt.show()"
   ]
  },
  {
   "cell_type": "markdown",
   "metadata": {},
   "source": [
    "Construction of a dataframe that fits the analysis needs\n",
    "===\n",
    "\n",
    "unabhängige Variablen, also Steuervariablen kann ich festlegen, die den Ausgang der Messung beeinflussen (in unbekannter Art). Im Dataframe sind das folgende Spalten:\n",
    "\n",
    "* classtype\n",
    "* cutoff_threshold\n",
    "* iterations_accept\n",
    "* iterations_reject\n",
    "* mass_accept\n",
    "* mass_reject\n",
    "* multiplier_accept\n",
    "* multiplier_reject\n",
    "* propagation_abort_threshold\n",
    "* ref_summary\n",
    "* window_size\n",
    "* num_iterations                 \n",
    "\n",
    "Und folgende sind die abhängigen Variablen, also die Messvariablen, die quasi die Manifestation der Effekte. \n",
    "\n",
    "* accept\n",
    "* num_iterations\n",
    "* r1\n",
    "* r2\n",
    "* r4\n",
    "* reject\n",
    "* total_feedback\n",
    "\n",
    "Es soll untersucht werden, welche Kombinationen unabhängiger Variablen die besten sind, also die baseline am weitesten übertreffen.\n",
    "\n",
    "Dazu muss in jeder ref_summary-gruppe der wert der \"baseline r2\" als extra feld hinzugefügt werden und auch die differenz"
   ]
  },
  {
   "cell_type": "markdown",
   "metadata": {},
   "source": [
    "Aus Rouge-2 baseline neue Spalten ableiten: als Delta und als Ratio \n",
    "---"
   ]
  },
  {
   "cell_type": "code",
   "execution_count": 60,
   "metadata": {
    "collapsed": false
   },
   "outputs": [
    {
     "data": {
      "text/html": [
       "<div>\n",
       "<table border=\"1\" class=\"dataframe\">\n",
       "  <thead>\n",
       "    <tr style=\"text-align: right;\">\n",
       "      <th></th>\n",
       "      <th>1</th>\n",
       "    </tr>\n",
       "  </thead>\n",
       "  <tbody>\n",
       "    <tr>\n",
       "      <th>accept</th>\n",
       "      <td>0</td>\n",
       "    </tr>\n",
       "    <tr>\n",
       "      <th>accept_new</th>\n",
       "      <td>3</td>\n",
       "    </tr>\n",
       "    <tr>\n",
       "      <th>cfg</th>\n",
       "      <td>{\"mass_reject\": -1.0, \"iterations_accept\": 102...</td>\n",
       "    </tr>\n",
       "    <tr>\n",
       "      <th>classtype</th>\n",
       "      <td>WordEmbeddingRandomWalkDiffusionFeedbackGraph</td>\n",
       "    </tr>\n",
       "    <tr>\n",
       "      <th>cutoff_threshold</th>\n",
       "      <td>0.998</td>\n",
       "    </tr>\n",
       "    <tr>\n",
       "      <th>embeddings</th>\n",
       "      <td>glove.6B.300d</td>\n",
       "    </tr>\n",
       "    <tr>\n",
       "      <th>feedback_new</th>\n",
       "      <td>88</td>\n",
       "    </tr>\n",
       "    <tr>\n",
       "      <th>iterations_accept</th>\n",
       "      <td>1024</td>\n",
       "    </tr>\n",
       "    <tr>\n",
       "      <th>iterations_reject</th>\n",
       "      <td>64</td>\n",
       "    </tr>\n",
       "    <tr>\n",
       "      <th>mass_accept</th>\n",
       "      <td>4</td>\n",
       "    </tr>\n",
       "    <tr>\n",
       "      <th>mass_reject</th>\n",
       "      <td>-1</td>\n",
       "    </tr>\n",
       "    <tr>\n",
       "      <th>max_iteration_count</th>\n",
       "      <td>7</td>\n",
       "    </tr>\n",
       "    <tr>\n",
       "      <th>multiplier_accept</th>\n",
       "      <td>NaN</td>\n",
       "    </tr>\n",
       "    <tr>\n",
       "      <th>multiplier_reject</th>\n",
       "      <td>NaN</td>\n",
       "    </tr>\n",
       "    <tr>\n",
       "      <th>num_iterations</th>\n",
       "      <td>0</td>\n",
       "    </tr>\n",
       "    <tr>\n",
       "      <th>oracle</th>\n",
       "      <td>accept_reject</td>\n",
       "    </tr>\n",
       "    <tr>\n",
       "      <th>parent</th>\n",
       "      <td>C:\\Users\\hatieke\\Desktop\\scores_grid_2017-09-1...</td>\n",
       "    </tr>\n",
       "    <tr>\n",
       "      <th>phrase_type</th>\n",
       "      <td>None</td>\n",
       "    </tr>\n",
       "    <tr>\n",
       "      <th>propagation_abort_threshold</th>\n",
       "      <td>0.5</td>\n",
       "    </tr>\n",
       "    <tr>\n",
       "      <th>r1</th>\n",
       "      <td>0.40777</td>\n",
       "    </tr>\n",
       "    <tr>\n",
       "      <th>r2</th>\n",
       "      <td>0.05882</td>\n",
       "    </tr>\n",
       "    <tr>\n",
       "      <th>r4</th>\n",
       "      <td>0.13651</td>\n",
       "    </tr>\n",
       "    <tr>\n",
       "      <th>ref_summary</th>\n",
       "      <td>[u'D31043.M.100.T.G']</td>\n",
       "    </tr>\n",
       "    <tr>\n",
       "      <th>reject</th>\n",
       "      <td>0</td>\n",
       "    </tr>\n",
       "    <tr>\n",
       "      <th>reject_new</th>\n",
       "      <td>85</td>\n",
       "    </tr>\n",
       "    <tr>\n",
       "      <th>run_id</th>\n",
       "      <td>0000908cf6ca6cc53ee4c9494305ac1611ed8764c8a3ac...</td>\n",
       "    </tr>\n",
       "    <tr>\n",
       "      <th>size</th>\n",
       "      <td>100</td>\n",
       "    </tr>\n",
       "    <tr>\n",
       "      <th>total_feedback</th>\n",
       "      <td>0</td>\n",
       "    </tr>\n",
       "    <tr>\n",
       "      <th>ub_r1</th>\n",
       "      <td>0.41748</td>\n",
       "    </tr>\n",
       "    <tr>\n",
       "      <th>ub_r2</th>\n",
       "      <td>0.13725</td>\n",
       "    </tr>\n",
       "    <tr>\n",
       "      <th>ub_r4</th>\n",
       "      <td>0.16265</td>\n",
       "    </tr>\n",
       "    <tr>\n",
       "      <th>window_size</th>\n",
       "      <td>NaN</td>\n",
       "    </tr>\n",
       "  </tbody>\n",
       "</table>\n",
       "</div>"
      ],
      "text/plain": [
       "                                                                             1\n",
       "accept                                                                       0\n",
       "accept_new                                                                   3\n",
       "cfg                          {\"mass_reject\": -1.0, \"iterations_accept\": 102...\n",
       "classtype                        WordEmbeddingRandomWalkDiffusionFeedbackGraph\n",
       "cutoff_threshold                                                         0.998\n",
       "embeddings                                                       glove.6B.300d\n",
       "feedback_new                                                                88\n",
       "iterations_accept                                                         1024\n",
       "iterations_reject                                                           64\n",
       "mass_accept                                                                  4\n",
       "mass_reject                                                                 -1\n",
       "max_iteration_count                                                          7\n",
       "multiplier_accept                                                          NaN\n",
       "multiplier_reject                                                          NaN\n",
       "num_iterations                                                               0\n",
       "oracle                                                           accept_reject\n",
       "parent                       C:\\Users\\hatieke\\Desktop\\scores_grid_2017-09-1...\n",
       "phrase_type                                                               None\n",
       "propagation_abort_threshold                                                0.5\n",
       "r1                                                                     0.40777\n",
       "r2                                                                     0.05882\n",
       "r4                                                                     0.13651\n",
       "ref_summary                                              [u'D31043.M.100.T.G']\n",
       "reject                                                                       0\n",
       "reject_new                                                                  85\n",
       "run_id                       0000908cf6ca6cc53ee4c9494305ac1611ed8764c8a3ac...\n",
       "size                                                                       100\n",
       "total_feedback                                                               0\n",
       "ub_r1                                                                  0.41748\n",
       "ub_r2                                                                  0.13725\n",
       "ub_r4                                                                  0.16265\n",
       "window_size                                                                NaN"
      ]
     },
     "execution_count": 60,
     "metadata": {},
     "output_type": "execute_result"
    }
   ],
   "source": [
    "ddf.head(1).transpose()"
   ]
  },
  {
   "cell_type": "code",
   "execution_count": 26,
   "metadata": {
    "collapsed": true
   },
   "outputs": [],
   "source": [
    "baselines = ddf.classtype.str.contains(\"Baseline\")\n"
   ]
  },
  {
   "cell_type": "code",
   "execution_count": 61,
   "metadata": {
    "collapsed": false
   },
   "outputs": [
    {
     "data": {
      "text/html": [
       "<div>\n",
       "<table border=\"1\" class=\"dataframe\">\n",
       "  <thead>\n",
       "    <tr style=\"text-align: right;\">\n",
       "      <th></th>\n",
       "      <th></th>\n",
       "      <th></th>\n",
       "      <th>accept</th>\n",
       "      <th>accept_new</th>\n",
       "      <th>cfg</th>\n",
       "      <th>classtype</th>\n",
       "      <th>cutoff_threshold</th>\n",
       "      <th>embeddings</th>\n",
       "      <th>feedback_new</th>\n",
       "      <th>iterations_accept</th>\n",
       "      <th>iterations_reject</th>\n",
       "      <th>mass_accept</th>\n",
       "      <th>...</th>\n",
       "      <th>ref_summary</th>\n",
       "      <th>reject</th>\n",
       "      <th>reject_new</th>\n",
       "      <th>run_id</th>\n",
       "      <th>size</th>\n",
       "      <th>total_feedback</th>\n",
       "      <th>ub_r1</th>\n",
       "      <th>ub_r2</th>\n",
       "      <th>ub_r4</th>\n",
       "      <th>window_size</th>\n",
       "    </tr>\n",
       "    <tr>\n",
       "      <th>parent</th>\n",
       "      <th>num_iterations</th>\n",
       "      <th>phrase_type</th>\n",
       "      <th></th>\n",
       "      <th></th>\n",
       "      <th></th>\n",
       "      <th></th>\n",
       "      <th></th>\n",
       "      <th></th>\n",
       "      <th></th>\n",
       "      <th></th>\n",
       "      <th></th>\n",
       "      <th></th>\n",
       "      <th></th>\n",
       "      <th></th>\n",
       "      <th></th>\n",
       "      <th></th>\n",
       "      <th></th>\n",
       "      <th></th>\n",
       "      <th></th>\n",
       "      <th></th>\n",
       "      <th></th>\n",
       "      <th></th>\n",
       "      <th></th>\n",
       "    </tr>\n",
       "  </thead>\n",
       "  <tbody>\n",
       "    <tr>\n",
       "      <th rowspan=\"20\" valign=\"top\">C:\\Users\\hatieke\\Desktop\\scores_grid_2017-09-15\\.ukpsummarizer\\scores_grid\\c9c6a2fcf6977d1e0e888fbea6d352ec8c998736440b75a6bd064534</th>\n",
       "      <th rowspan=\"2\" valign=\"top\">0</th>\n",
       "      <th>None</th>\n",
       "      <td>8</td>\n",
       "      <td>8</td>\n",
       "      <td>8</td>\n",
       "      <td>8</td>\n",
       "      <td>0</td>\n",
       "      <td>8</td>\n",
       "      <td>8</td>\n",
       "      <td>0</td>\n",
       "      <td>0</td>\n",
       "      <td>0</td>\n",
       "      <td>...</td>\n",
       "      <td>8</td>\n",
       "      <td>8</td>\n",
       "      <td>8</td>\n",
       "      <td>8</td>\n",
       "      <td>8</td>\n",
       "      <td>8</td>\n",
       "      <td>8</td>\n",
       "      <td>8</td>\n",
       "      <td>8</td>\n",
       "      <td>0</td>\n",
       "    </tr>\n",
       "    <tr>\n",
       "      <th>parse</th>\n",
       "      <td>8</td>\n",
       "      <td>8</td>\n",
       "      <td>8</td>\n",
       "      <td>8</td>\n",
       "      <td>0</td>\n",
       "      <td>8</td>\n",
       "      <td>8</td>\n",
       "      <td>0</td>\n",
       "      <td>0</td>\n",
       "      <td>0</td>\n",
       "      <td>...</td>\n",
       "      <td>8</td>\n",
       "      <td>8</td>\n",
       "      <td>8</td>\n",
       "      <td>8</td>\n",
       "      <td>8</td>\n",
       "      <td>8</td>\n",
       "      <td>8</td>\n",
       "      <td>8</td>\n",
       "      <td>8</td>\n",
       "      <td>0</td>\n",
       "    </tr>\n",
       "    <tr>\n",
       "      <th rowspan=\"2\" valign=\"top\">1</th>\n",
       "      <th>None</th>\n",
       "      <td>8</td>\n",
       "      <td>8</td>\n",
       "      <td>8</td>\n",
       "      <td>8</td>\n",
       "      <td>0</td>\n",
       "      <td>8</td>\n",
       "      <td>8</td>\n",
       "      <td>0</td>\n",
       "      <td>0</td>\n",
       "      <td>0</td>\n",
       "      <td>...</td>\n",
       "      <td>8</td>\n",
       "      <td>8</td>\n",
       "      <td>8</td>\n",
       "      <td>8</td>\n",
       "      <td>8</td>\n",
       "      <td>8</td>\n",
       "      <td>8</td>\n",
       "      <td>8</td>\n",
       "      <td>8</td>\n",
       "      <td>0</td>\n",
       "    </tr>\n",
       "    <tr>\n",
       "      <th>parse</th>\n",
       "      <td>8</td>\n",
       "      <td>8</td>\n",
       "      <td>8</td>\n",
       "      <td>8</td>\n",
       "      <td>0</td>\n",
       "      <td>8</td>\n",
       "      <td>8</td>\n",
       "      <td>0</td>\n",
       "      <td>0</td>\n",
       "      <td>0</td>\n",
       "      <td>...</td>\n",
       "      <td>8</td>\n",
       "      <td>8</td>\n",
       "      <td>8</td>\n",
       "      <td>8</td>\n",
       "      <td>8</td>\n",
       "      <td>8</td>\n",
       "      <td>8</td>\n",
       "      <td>8</td>\n",
       "      <td>8</td>\n",
       "      <td>0</td>\n",
       "    </tr>\n",
       "    <tr>\n",
       "      <th rowspan=\"2\" valign=\"top\">2</th>\n",
       "      <th>None</th>\n",
       "      <td>8</td>\n",
       "      <td>8</td>\n",
       "      <td>8</td>\n",
       "      <td>8</td>\n",
       "      <td>0</td>\n",
       "      <td>8</td>\n",
       "      <td>8</td>\n",
       "      <td>0</td>\n",
       "      <td>0</td>\n",
       "      <td>0</td>\n",
       "      <td>...</td>\n",
       "      <td>8</td>\n",
       "      <td>8</td>\n",
       "      <td>8</td>\n",
       "      <td>8</td>\n",
       "      <td>8</td>\n",
       "      <td>8</td>\n",
       "      <td>8</td>\n",
       "      <td>8</td>\n",
       "      <td>8</td>\n",
       "      <td>0</td>\n",
       "    </tr>\n",
       "    <tr>\n",
       "      <th>parse</th>\n",
       "      <td>8</td>\n",
       "      <td>8</td>\n",
       "      <td>8</td>\n",
       "      <td>8</td>\n",
       "      <td>0</td>\n",
       "      <td>8</td>\n",
       "      <td>8</td>\n",
       "      <td>0</td>\n",
       "      <td>0</td>\n",
       "      <td>0</td>\n",
       "      <td>...</td>\n",
       "      <td>8</td>\n",
       "      <td>8</td>\n",
       "      <td>8</td>\n",
       "      <td>8</td>\n",
       "      <td>8</td>\n",
       "      <td>8</td>\n",
       "      <td>8</td>\n",
       "      <td>8</td>\n",
       "      <td>8</td>\n",
       "      <td>0</td>\n",
       "    </tr>\n",
       "    <tr>\n",
       "      <th rowspan=\"2\" valign=\"top\">3</th>\n",
       "      <th>None</th>\n",
       "      <td>8</td>\n",
       "      <td>8</td>\n",
       "      <td>8</td>\n",
       "      <td>8</td>\n",
       "      <td>0</td>\n",
       "      <td>8</td>\n",
       "      <td>8</td>\n",
       "      <td>0</td>\n",
       "      <td>0</td>\n",
       "      <td>0</td>\n",
       "      <td>...</td>\n",
       "      <td>8</td>\n",
       "      <td>8</td>\n",
       "      <td>8</td>\n",
       "      <td>8</td>\n",
       "      <td>8</td>\n",
       "      <td>8</td>\n",
       "      <td>8</td>\n",
       "      <td>8</td>\n",
       "      <td>8</td>\n",
       "      <td>0</td>\n",
       "    </tr>\n",
       "    <tr>\n",
       "      <th>parse</th>\n",
       "      <td>8</td>\n",
       "      <td>8</td>\n",
       "      <td>8</td>\n",
       "      <td>8</td>\n",
       "      <td>0</td>\n",
       "      <td>8</td>\n",
       "      <td>8</td>\n",
       "      <td>0</td>\n",
       "      <td>0</td>\n",
       "      <td>0</td>\n",
       "      <td>...</td>\n",
       "      <td>8</td>\n",
       "      <td>8</td>\n",
       "      <td>8</td>\n",
       "      <td>8</td>\n",
       "      <td>8</td>\n",
       "      <td>8</td>\n",
       "      <td>8</td>\n",
       "      <td>8</td>\n",
       "      <td>8</td>\n",
       "      <td>0</td>\n",
       "    </tr>\n",
       "    <tr>\n",
       "      <th rowspan=\"2\" valign=\"top\">4</th>\n",
       "      <th>None</th>\n",
       "      <td>8</td>\n",
       "      <td>8</td>\n",
       "      <td>8</td>\n",
       "      <td>8</td>\n",
       "      <td>0</td>\n",
       "      <td>8</td>\n",
       "      <td>8</td>\n",
       "      <td>0</td>\n",
       "      <td>0</td>\n",
       "      <td>0</td>\n",
       "      <td>...</td>\n",
       "      <td>8</td>\n",
       "      <td>8</td>\n",
       "      <td>8</td>\n",
       "      <td>8</td>\n",
       "      <td>8</td>\n",
       "      <td>8</td>\n",
       "      <td>8</td>\n",
       "      <td>8</td>\n",
       "      <td>8</td>\n",
       "      <td>0</td>\n",
       "    </tr>\n",
       "    <tr>\n",
       "      <th>parse</th>\n",
       "      <td>8</td>\n",
       "      <td>8</td>\n",
       "      <td>8</td>\n",
       "      <td>8</td>\n",
       "      <td>0</td>\n",
       "      <td>8</td>\n",
       "      <td>8</td>\n",
       "      <td>0</td>\n",
       "      <td>0</td>\n",
       "      <td>0</td>\n",
       "      <td>...</td>\n",
       "      <td>8</td>\n",
       "      <td>8</td>\n",
       "      <td>8</td>\n",
       "      <td>8</td>\n",
       "      <td>8</td>\n",
       "      <td>8</td>\n",
       "      <td>8</td>\n",
       "      <td>8</td>\n",
       "      <td>8</td>\n",
       "      <td>0</td>\n",
       "    </tr>\n",
       "    <tr>\n",
       "      <th rowspan=\"2\" valign=\"top\">5</th>\n",
       "      <th>None</th>\n",
       "      <td>8</td>\n",
       "      <td>8</td>\n",
       "      <td>8</td>\n",
       "      <td>8</td>\n",
       "      <td>0</td>\n",
       "      <td>8</td>\n",
       "      <td>8</td>\n",
       "      <td>0</td>\n",
       "      <td>0</td>\n",
       "      <td>0</td>\n",
       "      <td>...</td>\n",
       "      <td>8</td>\n",
       "      <td>8</td>\n",
       "      <td>8</td>\n",
       "      <td>8</td>\n",
       "      <td>8</td>\n",
       "      <td>8</td>\n",
       "      <td>8</td>\n",
       "      <td>8</td>\n",
       "      <td>8</td>\n",
       "      <td>0</td>\n",
       "    </tr>\n",
       "    <tr>\n",
       "      <th>parse</th>\n",
       "      <td>8</td>\n",
       "      <td>8</td>\n",
       "      <td>8</td>\n",
       "      <td>8</td>\n",
       "      <td>0</td>\n",
       "      <td>8</td>\n",
       "      <td>8</td>\n",
       "      <td>0</td>\n",
       "      <td>0</td>\n",
       "      <td>0</td>\n",
       "      <td>...</td>\n",
       "      <td>8</td>\n",
       "      <td>8</td>\n",
       "      <td>8</td>\n",
       "      <td>8</td>\n",
       "      <td>8</td>\n",
       "      <td>8</td>\n",
       "      <td>8</td>\n",
       "      <td>8</td>\n",
       "      <td>8</td>\n",
       "      <td>0</td>\n",
       "    </tr>\n",
       "    <tr>\n",
       "      <th rowspan=\"2\" valign=\"top\">6</th>\n",
       "      <th>None</th>\n",
       "      <td>8</td>\n",
       "      <td>8</td>\n",
       "      <td>8</td>\n",
       "      <td>8</td>\n",
       "      <td>0</td>\n",
       "      <td>8</td>\n",
       "      <td>8</td>\n",
       "      <td>0</td>\n",
       "      <td>0</td>\n",
       "      <td>0</td>\n",
       "      <td>...</td>\n",
       "      <td>8</td>\n",
       "      <td>8</td>\n",
       "      <td>8</td>\n",
       "      <td>8</td>\n",
       "      <td>8</td>\n",
       "      <td>8</td>\n",
       "      <td>8</td>\n",
       "      <td>8</td>\n",
       "      <td>8</td>\n",
       "      <td>0</td>\n",
       "    </tr>\n",
       "    <tr>\n",
       "      <th>parse</th>\n",
       "      <td>8</td>\n",
       "      <td>8</td>\n",
       "      <td>8</td>\n",
       "      <td>8</td>\n",
       "      <td>0</td>\n",
       "      <td>8</td>\n",
       "      <td>8</td>\n",
       "      <td>0</td>\n",
       "      <td>0</td>\n",
       "      <td>0</td>\n",
       "      <td>...</td>\n",
       "      <td>8</td>\n",
       "      <td>8</td>\n",
       "      <td>8</td>\n",
       "      <td>8</td>\n",
       "      <td>8</td>\n",
       "      <td>8</td>\n",
       "      <td>8</td>\n",
       "      <td>8</td>\n",
       "      <td>8</td>\n",
       "      <td>0</td>\n",
       "    </tr>\n",
       "    <tr>\n",
       "      <th rowspan=\"2\" valign=\"top\">7</th>\n",
       "      <th>None</th>\n",
       "      <td>8</td>\n",
       "      <td>8</td>\n",
       "      <td>8</td>\n",
       "      <td>8</td>\n",
       "      <td>0</td>\n",
       "      <td>8</td>\n",
       "      <td>8</td>\n",
       "      <td>0</td>\n",
       "      <td>0</td>\n",
       "      <td>0</td>\n",
       "      <td>...</td>\n",
       "      <td>8</td>\n",
       "      <td>8</td>\n",
       "      <td>8</td>\n",
       "      <td>8</td>\n",
       "      <td>8</td>\n",
       "      <td>8</td>\n",
       "      <td>8</td>\n",
       "      <td>8</td>\n",
       "      <td>8</td>\n",
       "      <td>0</td>\n",
       "    </tr>\n",
       "    <tr>\n",
       "      <th>parse</th>\n",
       "      <td>8</td>\n",
       "      <td>8</td>\n",
       "      <td>8</td>\n",
       "      <td>8</td>\n",
       "      <td>0</td>\n",
       "      <td>8</td>\n",
       "      <td>8</td>\n",
       "      <td>0</td>\n",
       "      <td>0</td>\n",
       "      <td>0</td>\n",
       "      <td>...</td>\n",
       "      <td>8</td>\n",
       "      <td>8</td>\n",
       "      <td>8</td>\n",
       "      <td>8</td>\n",
       "      <td>8</td>\n",
       "      <td>8</td>\n",
       "      <td>8</td>\n",
       "      <td>8</td>\n",
       "      <td>8</td>\n",
       "      <td>0</td>\n",
       "    </tr>\n",
       "    <tr>\n",
       "      <th rowspan=\"2\" valign=\"top\">8</th>\n",
       "      <th>None</th>\n",
       "      <td>6</td>\n",
       "      <td>6</td>\n",
       "      <td>6</td>\n",
       "      <td>6</td>\n",
       "      <td>0</td>\n",
       "      <td>6</td>\n",
       "      <td>6</td>\n",
       "      <td>0</td>\n",
       "      <td>0</td>\n",
       "      <td>0</td>\n",
       "      <td>...</td>\n",
       "      <td>6</td>\n",
       "      <td>6</td>\n",
       "      <td>6</td>\n",
       "      <td>6</td>\n",
       "      <td>6</td>\n",
       "      <td>6</td>\n",
       "      <td>6</td>\n",
       "      <td>6</td>\n",
       "      <td>6</td>\n",
       "      <td>0</td>\n",
       "    </tr>\n",
       "    <tr>\n",
       "      <th>parse</th>\n",
       "      <td>7</td>\n",
       "      <td>7</td>\n",
       "      <td>7</td>\n",
       "      <td>7</td>\n",
       "      <td>0</td>\n",
       "      <td>7</td>\n",
       "      <td>7</td>\n",
       "      <td>0</td>\n",
       "      <td>0</td>\n",
       "      <td>0</td>\n",
       "      <td>...</td>\n",
       "      <td>7</td>\n",
       "      <td>7</td>\n",
       "      <td>7</td>\n",
       "      <td>7</td>\n",
       "      <td>7</td>\n",
       "      <td>7</td>\n",
       "      <td>7</td>\n",
       "      <td>7</td>\n",
       "      <td>7</td>\n",
       "      <td>0</td>\n",
       "    </tr>\n",
       "    <tr>\n",
       "      <th rowspan=\"2\" valign=\"top\">9</th>\n",
       "      <th>None</th>\n",
       "      <td>6</td>\n",
       "      <td>6</td>\n",
       "      <td>6</td>\n",
       "      <td>6</td>\n",
       "      <td>0</td>\n",
       "      <td>6</td>\n",
       "      <td>6</td>\n",
       "      <td>0</td>\n",
       "      <td>0</td>\n",
       "      <td>0</td>\n",
       "      <td>...</td>\n",
       "      <td>6</td>\n",
       "      <td>6</td>\n",
       "      <td>6</td>\n",
       "      <td>6</td>\n",
       "      <td>6</td>\n",
       "      <td>6</td>\n",
       "      <td>6</td>\n",
       "      <td>6</td>\n",
       "      <td>6</td>\n",
       "      <td>0</td>\n",
       "    </tr>\n",
       "    <tr>\n",
       "      <th>parse</th>\n",
       "      <td>6</td>\n",
       "      <td>6</td>\n",
       "      <td>6</td>\n",
       "      <td>6</td>\n",
       "      <td>0</td>\n",
       "      <td>6</td>\n",
       "      <td>6</td>\n",
       "      <td>0</td>\n",
       "      <td>0</td>\n",
       "      <td>0</td>\n",
       "      <td>...</td>\n",
       "      <td>6</td>\n",
       "      <td>6</td>\n",
       "      <td>6</td>\n",
       "      <td>6</td>\n",
       "      <td>6</td>\n",
       "      <td>6</td>\n",
       "      <td>6</td>\n",
       "      <td>6</td>\n",
       "      <td>6</td>\n",
       "      <td>0</td>\n",
       "    </tr>\n",
       "  </tbody>\n",
       "</table>\n",
       "<p>20 rows × 29 columns</p>\n",
       "</div>"
      ],
      "text/plain": [
       "                                                                               accept  \\\n",
       "parent                                             num_iterations phrase_type           \n",
       "C:\\Users\\hatieke\\Desktop\\scores_grid_2017-09-15... 0              None              8   \n",
       "                                                                  parse             8   \n",
       "                                                   1              None              8   \n",
       "                                                                  parse             8   \n",
       "                                                   2              None              8   \n",
       "                                                                  parse             8   \n",
       "                                                   3              None              8   \n",
       "                                                                  parse             8   \n",
       "                                                   4              None              8   \n",
       "                                                                  parse             8   \n",
       "                                                   5              None              8   \n",
       "                                                                  parse             8   \n",
       "                                                   6              None              8   \n",
       "                                                                  parse             8   \n",
       "                                                   7              None              8   \n",
       "                                                                  parse             8   \n",
       "                                                   8              None              6   \n",
       "                                                                  parse             7   \n",
       "                                                   9              None              6   \n",
       "                                                                  parse             6   \n",
       "\n",
       "                                                                               accept_new  \\\n",
       "parent                                             num_iterations phrase_type               \n",
       "C:\\Users\\hatieke\\Desktop\\scores_grid_2017-09-15... 0              None                  8   \n",
       "                                                                  parse                 8   \n",
       "                                                   1              None                  8   \n",
       "                                                                  parse                 8   \n",
       "                                                   2              None                  8   \n",
       "                                                                  parse                 8   \n",
       "                                                   3              None                  8   \n",
       "                                                                  parse                 8   \n",
       "                                                   4              None                  8   \n",
       "                                                                  parse                 8   \n",
       "                                                   5              None                  8   \n",
       "                                                                  parse                 8   \n",
       "                                                   6              None                  8   \n",
       "                                                                  parse                 8   \n",
       "                                                   7              None                  8   \n",
       "                                                                  parse                 8   \n",
       "                                                   8              None                  6   \n",
       "                                                                  parse                 7   \n",
       "                                                   9              None                  6   \n",
       "                                                                  parse                 6   \n",
       "\n",
       "                                                                               cfg  \\\n",
       "parent                                             num_iterations phrase_type        \n",
       "C:\\Users\\hatieke\\Desktop\\scores_grid_2017-09-15... 0              None           8   \n",
       "                                                                  parse          8   \n",
       "                                                   1              None           8   \n",
       "                                                                  parse          8   \n",
       "                                                   2              None           8   \n",
       "                                                                  parse          8   \n",
       "                                                   3              None           8   \n",
       "                                                                  parse          8   \n",
       "                                                   4              None           8   \n",
       "                                                                  parse          8   \n",
       "                                                   5              None           8   \n",
       "                                                                  parse          8   \n",
       "                                                   6              None           8   \n",
       "                                                                  parse          8   \n",
       "                                                   7              None           8   \n",
       "                                                                  parse          8   \n",
       "                                                   8              None           6   \n",
       "                                                                  parse          7   \n",
       "                                                   9              None           6   \n",
       "                                                                  parse          6   \n",
       "\n",
       "                                                                               classtype  \\\n",
       "parent                                             num_iterations phrase_type              \n",
       "C:\\Users\\hatieke\\Desktop\\scores_grid_2017-09-15... 0              None                 8   \n",
       "                                                                  parse                8   \n",
       "                                                   1              None                 8   \n",
       "                                                                  parse                8   \n",
       "                                                   2              None                 8   \n",
       "                                                                  parse                8   \n",
       "                                                   3              None                 8   \n",
       "                                                                  parse                8   \n",
       "                                                   4              None                 8   \n",
       "                                                                  parse                8   \n",
       "                                                   5              None                 8   \n",
       "                                                                  parse                8   \n",
       "                                                   6              None                 8   \n",
       "                                                                  parse                8   \n",
       "                                                   7              None                 8   \n",
       "                                                                  parse                8   \n",
       "                                                   8              None                 6   \n",
       "                                                                  parse                7   \n",
       "                                                   9              None                 6   \n",
       "                                                                  parse                6   \n",
       "\n",
       "                                                                               cutoff_threshold  \\\n",
       "parent                                             num_iterations phrase_type                     \n",
       "C:\\Users\\hatieke\\Desktop\\scores_grid_2017-09-15... 0              None                        0   \n",
       "                                                                  parse                       0   \n",
       "                                                   1              None                        0   \n",
       "                                                                  parse                       0   \n",
       "                                                   2              None                        0   \n",
       "                                                                  parse                       0   \n",
       "                                                   3              None                        0   \n",
       "                                                                  parse                       0   \n",
       "                                                   4              None                        0   \n",
       "                                                                  parse                       0   \n",
       "                                                   5              None                        0   \n",
       "                                                                  parse                       0   \n",
       "                                                   6              None                        0   \n",
       "                                                                  parse                       0   \n",
       "                                                   7              None                        0   \n",
       "                                                                  parse                       0   \n",
       "                                                   8              None                        0   \n",
       "                                                                  parse                       0   \n",
       "                                                   9              None                        0   \n",
       "                                                                  parse                       0   \n",
       "\n",
       "                                                                               embeddings  \\\n",
       "parent                                             num_iterations phrase_type               \n",
       "C:\\Users\\hatieke\\Desktop\\scores_grid_2017-09-15... 0              None                  8   \n",
       "                                                                  parse                 8   \n",
       "                                                   1              None                  8   \n",
       "                                                                  parse                 8   \n",
       "                                                   2              None                  8   \n",
       "                                                                  parse                 8   \n",
       "                                                   3              None                  8   \n",
       "                                                                  parse                 8   \n",
       "                                                   4              None                  8   \n",
       "                                                                  parse                 8   \n",
       "                                                   5              None                  8   \n",
       "                                                                  parse                 8   \n",
       "                                                   6              None                  8   \n",
       "                                                                  parse                 8   \n",
       "                                                   7              None                  8   \n",
       "                                                                  parse                 8   \n",
       "                                                   8              None                  6   \n",
       "                                                                  parse                 7   \n",
       "                                                   9              None                  6   \n",
       "                                                                  parse                 6   \n",
       "\n",
       "                                                                               feedback_new  \\\n",
       "parent                                             num_iterations phrase_type                 \n",
       "C:\\Users\\hatieke\\Desktop\\scores_grid_2017-09-15... 0              None                    8   \n",
       "                                                                  parse                   8   \n",
       "                                                   1              None                    8   \n",
       "                                                                  parse                   8   \n",
       "                                                   2              None                    8   \n",
       "                                                                  parse                   8   \n",
       "                                                   3              None                    8   \n",
       "                                                                  parse                   8   \n",
       "                                                   4              None                    8   \n",
       "                                                                  parse                   8   \n",
       "                                                   5              None                    8   \n",
       "                                                                  parse                   8   \n",
       "                                                   6              None                    8   \n",
       "                                                                  parse                   8   \n",
       "                                                   7              None                    8   \n",
       "                                                                  parse                   8   \n",
       "                                                   8              None                    6   \n",
       "                                                                  parse                   7   \n",
       "                                                   9              None                    6   \n",
       "                                                                  parse                   6   \n",
       "\n",
       "                                                                               iterations_accept  \\\n",
       "parent                                             num_iterations phrase_type                      \n",
       "C:\\Users\\hatieke\\Desktop\\scores_grid_2017-09-15... 0              None                         0   \n",
       "                                                                  parse                        0   \n",
       "                                                   1              None                         0   \n",
       "                                                                  parse                        0   \n",
       "                                                   2              None                         0   \n",
       "                                                                  parse                        0   \n",
       "                                                   3              None                         0   \n",
       "                                                                  parse                        0   \n",
       "                                                   4              None                         0   \n",
       "                                                                  parse                        0   \n",
       "                                                   5              None                         0   \n",
       "                                                                  parse                        0   \n",
       "                                                   6              None                         0   \n",
       "                                                                  parse                        0   \n",
       "                                                   7              None                         0   \n",
       "                                                                  parse                        0   \n",
       "                                                   8              None                         0   \n",
       "                                                                  parse                        0   \n",
       "                                                   9              None                         0   \n",
       "                                                                  parse                        0   \n",
       "\n",
       "                                                                               iterations_reject  \\\n",
       "parent                                             num_iterations phrase_type                      \n",
       "C:\\Users\\hatieke\\Desktop\\scores_grid_2017-09-15... 0              None                         0   \n",
       "                                                                  parse                        0   \n",
       "                                                   1              None                         0   \n",
       "                                                                  parse                        0   \n",
       "                                                   2              None                         0   \n",
       "                                                                  parse                        0   \n",
       "                                                   3              None                         0   \n",
       "                                                                  parse                        0   \n",
       "                                                   4              None                         0   \n",
       "                                                                  parse                        0   \n",
       "                                                   5              None                         0   \n",
       "                                                                  parse                        0   \n",
       "                                                   6              None                         0   \n",
       "                                                                  parse                        0   \n",
       "                                                   7              None                         0   \n",
       "                                                                  parse                        0   \n",
       "                                                   8              None                         0   \n",
       "                                                                  parse                        0   \n",
       "                                                   9              None                         0   \n",
       "                                                                  parse                        0   \n",
       "\n",
       "                                                                               mass_accept  \\\n",
       "parent                                             num_iterations phrase_type                \n",
       "C:\\Users\\hatieke\\Desktop\\scores_grid_2017-09-15... 0              None                   0   \n",
       "                                                                  parse                  0   \n",
       "                                                   1              None                   0   \n",
       "                                                                  parse                  0   \n",
       "                                                   2              None                   0   \n",
       "                                                                  parse                  0   \n",
       "                                                   3              None                   0   \n",
       "                                                                  parse                  0   \n",
       "                                                   4              None                   0   \n",
       "                                                                  parse                  0   \n",
       "                                                   5              None                   0   \n",
       "                                                                  parse                  0   \n",
       "                                                   6              None                   0   \n",
       "                                                                  parse                  0   \n",
       "                                                   7              None                   0   \n",
       "                                                                  parse                  0   \n",
       "                                                   8              None                   0   \n",
       "                                                                  parse                  0   \n",
       "                                                   9              None                   0   \n",
       "                                                                  parse                  0   \n",
       "\n",
       "                                                                                  ...       \\\n",
       "parent                                             num_iterations phrase_type     ...        \n",
       "C:\\Users\\hatieke\\Desktop\\scores_grid_2017-09-15... 0              None            ...        \n",
       "                                                                  parse           ...        \n",
       "                                                   1              None            ...        \n",
       "                                                                  parse           ...        \n",
       "                                                   2              None            ...        \n",
       "                                                                  parse           ...        \n",
       "                                                   3              None            ...        \n",
       "                                                                  parse           ...        \n",
       "                                                   4              None            ...        \n",
       "                                                                  parse           ...        \n",
       "                                                   5              None            ...        \n",
       "                                                                  parse           ...        \n",
       "                                                   6              None            ...        \n",
       "                                                                  parse           ...        \n",
       "                                                   7              None            ...        \n",
       "                                                                  parse           ...        \n",
       "                                                   8              None            ...        \n",
       "                                                                  parse           ...        \n",
       "                                                   9              None            ...        \n",
       "                                                                  parse           ...        \n",
       "\n",
       "                                                                               ref_summary  \\\n",
       "parent                                             num_iterations phrase_type                \n",
       "C:\\Users\\hatieke\\Desktop\\scores_grid_2017-09-15... 0              None                   8   \n",
       "                                                                  parse                  8   \n",
       "                                                   1              None                   8   \n",
       "                                                                  parse                  8   \n",
       "                                                   2              None                   8   \n",
       "                                                                  parse                  8   \n",
       "                                                   3              None                   8   \n",
       "                                                                  parse                  8   \n",
       "                                                   4              None                   8   \n",
       "                                                                  parse                  8   \n",
       "                                                   5              None                   8   \n",
       "                                                                  parse                  8   \n",
       "                                                   6              None                   8   \n",
       "                                                                  parse                  8   \n",
       "                                                   7              None                   8   \n",
       "                                                                  parse                  8   \n",
       "                                                   8              None                   6   \n",
       "                                                                  parse                  7   \n",
       "                                                   9              None                   6   \n",
       "                                                                  parse                  6   \n",
       "\n",
       "                                                                               reject  \\\n",
       "parent                                             num_iterations phrase_type           \n",
       "C:\\Users\\hatieke\\Desktop\\scores_grid_2017-09-15... 0              None              8   \n",
       "                                                                  parse             8   \n",
       "                                                   1              None              8   \n",
       "                                                                  parse             8   \n",
       "                                                   2              None              8   \n",
       "                                                                  parse             8   \n",
       "                                                   3              None              8   \n",
       "                                                                  parse             8   \n",
       "                                                   4              None              8   \n",
       "                                                                  parse             8   \n",
       "                                                   5              None              8   \n",
       "                                                                  parse             8   \n",
       "                                                   6              None              8   \n",
       "                                                                  parse             8   \n",
       "                                                   7              None              8   \n",
       "                                                                  parse             8   \n",
       "                                                   8              None              6   \n",
       "                                                                  parse             7   \n",
       "                                                   9              None              6   \n",
       "                                                                  parse             6   \n",
       "\n",
       "                                                                               reject_new  \\\n",
       "parent                                             num_iterations phrase_type               \n",
       "C:\\Users\\hatieke\\Desktop\\scores_grid_2017-09-15... 0              None                  8   \n",
       "                                                                  parse                 8   \n",
       "                                                   1              None                  8   \n",
       "                                                                  parse                 8   \n",
       "                                                   2              None                  8   \n",
       "                                                                  parse                 8   \n",
       "                                                   3              None                  8   \n",
       "                                                                  parse                 8   \n",
       "                                                   4              None                  8   \n",
       "                                                                  parse                 8   \n",
       "                                                   5              None                  8   \n",
       "                                                                  parse                 8   \n",
       "                                                   6              None                  8   \n",
       "                                                                  parse                 8   \n",
       "                                                   7              None                  8   \n",
       "                                                                  parse                 8   \n",
       "                                                   8              None                  6   \n",
       "                                                                  parse                 7   \n",
       "                                                   9              None                  6   \n",
       "                                                                  parse                 6   \n",
       "\n",
       "                                                                               run_id  \\\n",
       "parent                                             num_iterations phrase_type           \n",
       "C:\\Users\\hatieke\\Desktop\\scores_grid_2017-09-15... 0              None              8   \n",
       "                                                                  parse             8   \n",
       "                                                   1              None              8   \n",
       "                                                                  parse             8   \n",
       "                                                   2              None              8   \n",
       "                                                                  parse             8   \n",
       "                                                   3              None              8   \n",
       "                                                                  parse             8   \n",
       "                                                   4              None              8   \n",
       "                                                                  parse             8   \n",
       "                                                   5              None              8   \n",
       "                                                                  parse             8   \n",
       "                                                   6              None              8   \n",
       "                                                                  parse             8   \n",
       "                                                   7              None              8   \n",
       "                                                                  parse             8   \n",
       "                                                   8              None              6   \n",
       "                                                                  parse             7   \n",
       "                                                   9              None              6   \n",
       "                                                                  parse             6   \n",
       "\n",
       "                                                                               size  \\\n",
       "parent                                             num_iterations phrase_type         \n",
       "C:\\Users\\hatieke\\Desktop\\scores_grid_2017-09-15... 0              None            8   \n",
       "                                                                  parse           8   \n",
       "                                                   1              None            8   \n",
       "                                                                  parse           8   \n",
       "                                                   2              None            8   \n",
       "                                                                  parse           8   \n",
       "                                                   3              None            8   \n",
       "                                                                  parse           8   \n",
       "                                                   4              None            8   \n",
       "                                                                  parse           8   \n",
       "                                                   5              None            8   \n",
       "                                                                  parse           8   \n",
       "                                                   6              None            8   \n",
       "                                                                  parse           8   \n",
       "                                                   7              None            8   \n",
       "                                                                  parse           8   \n",
       "                                                   8              None            6   \n",
       "                                                                  parse           7   \n",
       "                                                   9              None            6   \n",
       "                                                                  parse           6   \n",
       "\n",
       "                                                                               total_feedback  \\\n",
       "parent                                             num_iterations phrase_type                   \n",
       "C:\\Users\\hatieke\\Desktop\\scores_grid_2017-09-15... 0              None                      8   \n",
       "                                                                  parse                     8   \n",
       "                                                   1              None                      8   \n",
       "                                                                  parse                     8   \n",
       "                                                   2              None                      8   \n",
       "                                                                  parse                     8   \n",
       "                                                   3              None                      8   \n",
       "                                                                  parse                     8   \n",
       "                                                   4              None                      8   \n",
       "                                                                  parse                     8   \n",
       "                                                   5              None                      8   \n",
       "                                                                  parse                     8   \n",
       "                                                   6              None                      8   \n",
       "                                                                  parse                     8   \n",
       "                                                   7              None                      8   \n",
       "                                                                  parse                     8   \n",
       "                                                   8              None                      6   \n",
       "                                                                  parse                     7   \n",
       "                                                   9              None                      6   \n",
       "                                                                  parse                     6   \n",
       "\n",
       "                                                                               ub_r1  \\\n",
       "parent                                             num_iterations phrase_type          \n",
       "C:\\Users\\hatieke\\Desktop\\scores_grid_2017-09-15... 0              None             8   \n",
       "                                                                  parse            8   \n",
       "                                                   1              None             8   \n",
       "                                                                  parse            8   \n",
       "                                                   2              None             8   \n",
       "                                                                  parse            8   \n",
       "                                                   3              None             8   \n",
       "                                                                  parse            8   \n",
       "                                                   4              None             8   \n",
       "                                                                  parse            8   \n",
       "                                                   5              None             8   \n",
       "                                                                  parse            8   \n",
       "                                                   6              None             8   \n",
       "                                                                  parse            8   \n",
       "                                                   7              None             8   \n",
       "                                                                  parse            8   \n",
       "                                                   8              None             6   \n",
       "                                                                  parse            7   \n",
       "                                                   9              None             6   \n",
       "                                                                  parse            6   \n",
       "\n",
       "                                                                               ub_r2  \\\n",
       "parent                                             num_iterations phrase_type          \n",
       "C:\\Users\\hatieke\\Desktop\\scores_grid_2017-09-15... 0              None             8   \n",
       "                                                                  parse            8   \n",
       "                                                   1              None             8   \n",
       "                                                                  parse            8   \n",
       "                                                   2              None             8   \n",
       "                                                                  parse            8   \n",
       "                                                   3              None             8   \n",
       "                                                                  parse            8   \n",
       "                                                   4              None             8   \n",
       "                                                                  parse            8   \n",
       "                                                   5              None             8   \n",
       "                                                                  parse            8   \n",
       "                                                   6              None             8   \n",
       "                                                                  parse            8   \n",
       "                                                   7              None             8   \n",
       "                                                                  parse            8   \n",
       "                                                   8              None             6   \n",
       "                                                                  parse            7   \n",
       "                                                   9              None             6   \n",
       "                                                                  parse            6   \n",
       "\n",
       "                                                                               ub_r4  \\\n",
       "parent                                             num_iterations phrase_type          \n",
       "C:\\Users\\hatieke\\Desktop\\scores_grid_2017-09-15... 0              None             8   \n",
       "                                                                  parse            8   \n",
       "                                                   1              None             8   \n",
       "                                                                  parse            8   \n",
       "                                                   2              None             8   \n",
       "                                                                  parse            8   \n",
       "                                                   3              None             8   \n",
       "                                                                  parse            8   \n",
       "                                                   4              None             8   \n",
       "                                                                  parse            8   \n",
       "                                                   5              None             8   \n",
       "                                                                  parse            8   \n",
       "                                                   6              None             8   \n",
       "                                                                  parse            8   \n",
       "                                                   7              None             8   \n",
       "                                                                  parse            8   \n",
       "                                                   8              None             6   \n",
       "                                                                  parse            7   \n",
       "                                                   9              None             6   \n",
       "                                                                  parse            6   \n",
       "\n",
       "                                                                               window_size  \n",
       "parent                                             num_iterations phrase_type               \n",
       "C:\\Users\\hatieke\\Desktop\\scores_grid_2017-09-15... 0              None                   0  \n",
       "                                                                  parse                  0  \n",
       "                                                   1              None                   0  \n",
       "                                                                  parse                  0  \n",
       "                                                   2              None                   0  \n",
       "                                                                  parse                  0  \n",
       "                                                   3              None                   0  \n",
       "                                                                  parse                  0  \n",
       "                                                   4              None                   0  \n",
       "                                                                  parse                  0  \n",
       "                                                   5              None                   0  \n",
       "                                                                  parse                  0  \n",
       "                                                   6              None                   0  \n",
       "                                                                  parse                  0  \n",
       "                                                   7              None                   0  \n",
       "                                                                  parse                  0  \n",
       "                                                   8              None                   0  \n",
       "                                                                  parse                  0  \n",
       "                                                   9              None                   0  \n",
       "                                                                  parse                  0  \n",
       "\n",
       "[20 rows x 29 columns]"
      ]
     },
     "execution_count": 61,
     "metadata": {},
     "output_type": "execute_result"
    }
   ],
   "source": [
    "ddf.loc[baselines].groupby([\"parent\", \"num_iterations\",\"phrase_type\"]).count()"
   ]
  },
  {
   "cell_type": "code",
   "execution_count": 28,
   "metadata": {
    "collapsed": false
   },
   "outputs": [
    {
     "data": {
      "text/html": [
       "<div>\n",
       "<table border=\"1\" class=\"dataframe\">\n",
       "  <thead>\n",
       "    <tr style=\"text-align: right;\">\n",
       "      <th></th>\n",
       "      <th>accept</th>\n",
       "      <th>accept_new</th>\n",
       "      <th>cfg</th>\n",
       "      <th>classtype</th>\n",
       "      <th>cutoff_threshold</th>\n",
       "      <th>embeddings</th>\n",
       "      <th>feedback_new</th>\n",
       "      <th>iterations_accept</th>\n",
       "      <th>iterations_reject</th>\n",
       "      <th>mass_accept</th>\n",
       "      <th>...</th>\n",
       "      <th>r4</th>\n",
       "      <th>reject</th>\n",
       "      <th>reject_new</th>\n",
       "      <th>run_id</th>\n",
       "      <th>size</th>\n",
       "      <th>total_feedback</th>\n",
       "      <th>ub_r1</th>\n",
       "      <th>ub_r2</th>\n",
       "      <th>ub_r4</th>\n",
       "      <th>window_size</th>\n",
       "    </tr>\n",
       "    <tr>\n",
       "      <th>ref_summary</th>\n",
       "      <th></th>\n",
       "      <th></th>\n",
       "      <th></th>\n",
       "      <th></th>\n",
       "      <th></th>\n",
       "      <th></th>\n",
       "      <th></th>\n",
       "      <th></th>\n",
       "      <th></th>\n",
       "      <th></th>\n",
       "      <th></th>\n",
       "      <th></th>\n",
       "      <th></th>\n",
       "      <th></th>\n",
       "      <th></th>\n",
       "      <th></th>\n",
       "      <th></th>\n",
       "      <th></th>\n",
       "      <th></th>\n",
       "      <th></th>\n",
       "      <th></th>\n",
       "    </tr>\n",
       "  </thead>\n",
       "  <tbody>\n",
       "    <tr>\n",
       "      <th>[u'D31043.M.100.T.D']</th>\n",
       "      <td>100099</td>\n",
       "      <td>100099</td>\n",
       "      <td>100099</td>\n",
       "      <td>100099</td>\n",
       "      <td>96153</td>\n",
       "      <td>100099</td>\n",
       "      <td>100099</td>\n",
       "      <td>96153</td>\n",
       "      <td>96153</td>\n",
       "      <td>96153</td>\n",
       "      <td>...</td>\n",
       "      <td>100099</td>\n",
       "      <td>100099</td>\n",
       "      <td>100099</td>\n",
       "      <td>100099</td>\n",
       "      <td>100099</td>\n",
       "      <td>100099</td>\n",
       "      <td>100099</td>\n",
       "      <td>100099</td>\n",
       "      <td>100099</td>\n",
       "      <td>3906</td>\n",
       "    </tr>\n",
       "    <tr>\n",
       "      <th>[u'D31043.M.100.T.F']</th>\n",
       "      <td>100337</td>\n",
       "      <td>100337</td>\n",
       "      <td>100337</td>\n",
       "      <td>100337</td>\n",
       "      <td>96665</td>\n",
       "      <td>100337</td>\n",
       "      <td>100337</td>\n",
       "      <td>96665</td>\n",
       "      <td>96665</td>\n",
       "      <td>96665</td>\n",
       "      <td>...</td>\n",
       "      <td>100337</td>\n",
       "      <td>100337</td>\n",
       "      <td>100337</td>\n",
       "      <td>100337</td>\n",
       "      <td>100337</td>\n",
       "      <td>100337</td>\n",
       "      <td>100337</td>\n",
       "      <td>100337</td>\n",
       "      <td>100337</td>\n",
       "      <td>3634</td>\n",
       "    </tr>\n",
       "    <tr>\n",
       "      <th>[u'D31043.M.100.T.G']</th>\n",
       "      <td>93174</td>\n",
       "      <td>93174</td>\n",
       "      <td>93174</td>\n",
       "      <td>93174</td>\n",
       "      <td>89653</td>\n",
       "      <td>93174</td>\n",
       "      <td>93174</td>\n",
       "      <td>89653</td>\n",
       "      <td>89653</td>\n",
       "      <td>89653</td>\n",
       "      <td>...</td>\n",
       "      <td>93174</td>\n",
       "      <td>93174</td>\n",
       "      <td>93174</td>\n",
       "      <td>93174</td>\n",
       "      <td>93174</td>\n",
       "      <td>93174</td>\n",
       "      <td>93174</td>\n",
       "      <td>93174</td>\n",
       "      <td>93174</td>\n",
       "      <td>3484</td>\n",
       "    </tr>\n",
       "    <tr>\n",
       "      <th>[u'D31043.M.100.T.H']</th>\n",
       "      <td>97225</td>\n",
       "      <td>97225</td>\n",
       "      <td>97225</td>\n",
       "      <td>97225</td>\n",
       "      <td>93691</td>\n",
       "      <td>97225</td>\n",
       "      <td>97225</td>\n",
       "      <td>93691</td>\n",
       "      <td>93691</td>\n",
       "      <td>93691</td>\n",
       "      <td>...</td>\n",
       "      <td>97225</td>\n",
       "      <td>97225</td>\n",
       "      <td>97225</td>\n",
       "      <td>97225</td>\n",
       "      <td>97225</td>\n",
       "      <td>97225</td>\n",
       "      <td>97225</td>\n",
       "      <td>97225</td>\n",
       "      <td>97225</td>\n",
       "      <td>3496</td>\n",
       "    </tr>\n",
       "  </tbody>\n",
       "</table>\n",
       "<p>4 rows × 31 columns</p>\n",
       "</div>"
      ],
      "text/plain": [
       "                       accept  accept_new     cfg  classtype  \\\n",
       "ref_summary                                                    \n",
       "[u'D31043.M.100.T.D']  100099      100099  100099     100099   \n",
       "[u'D31043.M.100.T.F']  100337      100337  100337     100337   \n",
       "[u'D31043.M.100.T.G']   93174       93174   93174      93174   \n",
       "[u'D31043.M.100.T.H']   97225       97225   97225      97225   \n",
       "\n",
       "                       cutoff_threshold  embeddings  feedback_new  \\\n",
       "ref_summary                                                         \n",
       "[u'D31043.M.100.T.D']             96153      100099        100099   \n",
       "[u'D31043.M.100.T.F']             96665      100337        100337   \n",
       "[u'D31043.M.100.T.G']             89653       93174         93174   \n",
       "[u'D31043.M.100.T.H']             93691       97225         97225   \n",
       "\n",
       "                       iterations_accept  iterations_reject  mass_accept  \\\n",
       "ref_summary                                                                \n",
       "[u'D31043.M.100.T.D']              96153              96153        96153   \n",
       "[u'D31043.M.100.T.F']              96665              96665        96665   \n",
       "[u'D31043.M.100.T.G']              89653              89653        89653   \n",
       "[u'D31043.M.100.T.H']              93691              93691        93691   \n",
       "\n",
       "                          ...           r4  reject  reject_new  run_id  \\\n",
       "ref_summary               ...                                            \n",
       "[u'D31043.M.100.T.D']     ...       100099  100099      100099  100099   \n",
       "[u'D31043.M.100.T.F']     ...       100337  100337      100337  100337   \n",
       "[u'D31043.M.100.T.G']     ...        93174   93174       93174   93174   \n",
       "[u'D31043.M.100.T.H']     ...        97225   97225       97225   97225   \n",
       "\n",
       "                         size  total_feedback   ub_r1   ub_r2   ub_r4  \\\n",
       "ref_summary                                                             \n",
       "[u'D31043.M.100.T.D']  100099          100099  100099  100099  100099   \n",
       "[u'D31043.M.100.T.F']  100337          100337  100337  100337  100337   \n",
       "[u'D31043.M.100.T.G']   93174           93174   93174   93174   93174   \n",
       "[u'D31043.M.100.T.H']   97225           97225   97225   97225   97225   \n",
       "\n",
       "                       window_size  \n",
       "ref_summary                         \n",
       "[u'D31043.M.100.T.D']         3906  \n",
       "[u'D31043.M.100.T.F']         3634  \n",
       "[u'D31043.M.100.T.G']         3484  \n",
       "[u'D31043.M.100.T.H']         3496  \n",
       "\n",
       "[4 rows x 31 columns]"
      ]
     },
     "execution_count": 28,
     "metadata": {},
     "output_type": "execute_result"
    }
   ],
   "source": [
    "ddf.groupby(\"ref_summary\").count()"
   ]
  },
  {
   "cell_type": "code",
   "execution_count": 105,
   "metadata": {
    "collapsed": true
   },
   "outputs": [],
   "source": [
    "# find all baselines\n",
    "baselines = ddf.classtype.str.contains(\"Baseline\")\n",
    "\n",
    "# throw away uninteresting columns\n",
    "baseline_scores = ddf.loc[baselines].loc[:,[\"ref_summary\",\"num_iterations\",\"accept\", \"reject\",\"r1\",\"r2\",\"r4\",\"phrase_type\"]]"
   ]
  },
  {
   "cell_type": "code",
   "execution_count": 106,
   "metadata": {
    "collapsed": false
   },
   "outputs": [
    {
     "data": {
      "text/html": [
       "<div>\n",
       "<table border=\"1\" class=\"dataframe\">\n",
       "  <thead>\n",
       "    <tr style=\"text-align: right;\">\n",
       "      <th></th>\n",
       "      <th>535</th>\n",
       "    </tr>\n",
       "  </thead>\n",
       "  <tbody>\n",
       "    <tr>\n",
       "      <th>ref_summary</th>\n",
       "      <td>[u'D31043.M.100.T.H']</td>\n",
       "    </tr>\n",
       "    <tr>\n",
       "      <th>num_iterations</th>\n",
       "      <td>0</td>\n",
       "    </tr>\n",
       "    <tr>\n",
       "      <th>accept</th>\n",
       "      <td>0</td>\n",
       "    </tr>\n",
       "    <tr>\n",
       "      <th>reject</th>\n",
       "      <td>0</td>\n",
       "    </tr>\n",
       "    <tr>\n",
       "      <th>r1</th>\n",
       "      <td>0.37143</td>\n",
       "    </tr>\n",
       "    <tr>\n",
       "      <th>r2</th>\n",
       "      <td>0.06731</td>\n",
       "    </tr>\n",
       "    <tr>\n",
       "      <th>r4</th>\n",
       "      <td>0.10873</td>\n",
       "    </tr>\n",
       "    <tr>\n",
       "      <th>phrase_type</th>\n",
       "      <td>None</td>\n",
       "    </tr>\n",
       "  </tbody>\n",
       "</table>\n",
       "</div>"
      ],
      "text/plain": [
       "                                  535\n",
       "ref_summary     [u'D31043.M.100.T.H']\n",
       "num_iterations                      0\n",
       "accept                              0\n",
       "reject                              0\n",
       "r1                            0.37143\n",
       "r2                            0.06731\n",
       "r4                            0.10873\n",
       "phrase_type                      None"
      ]
     },
     "execution_count": 106,
     "metadata": {},
     "output_type": "execute_result"
    }
   ],
   "source": [
    "baseline_scores.head(1).transpose()"
   ]
  },
  {
   "cell_type": "code",
   "execution_count": 64,
   "metadata": {
    "collapsed": false
   },
   "outputs": [],
   "source": [
    "# rename important columns\n",
    "baseline_scores.rename(columns={\"r2\":\"r2bl\", \"accept\": \"acceptbl\", \"reject\":\"rejectbl\"}, inplace=True)\n",
    "# make sure, we have everything in there only once.\n",
    "baseline_scores= baseline_scores.drop_duplicates([\"ref_summary\",\"num_iterations\", \"phrase_type\"])\n",
    "baseline_scores= baseline_scores.loc[baseline_scores.acceptbl > 0].loc[baseline_scores.rejectbl > 0]"
   ]
  },
  {
   "cell_type": "code",
   "execution_count": 100,
   "metadata": {
    "collapsed": false
   },
   "outputs": [
    {
     "data": {
      "text/html": [
       "<div>\n",
       "<table border=\"1\" class=\"dataframe\">\n",
       "  <thead>\n",
       "    <tr style=\"text-align: right;\">\n",
       "      <th></th>\n",
       "      <th></th>\n",
       "      <th>num_iterations</th>\n",
       "      <th>acceptbl</th>\n",
       "      <th>rejectbl</th>\n",
       "      <th>r2bl</th>\n",
       "    </tr>\n",
       "    <tr>\n",
       "      <th>ref_summary</th>\n",
       "      <th>phrase_type</th>\n",
       "      <th></th>\n",
       "      <th></th>\n",
       "      <th></th>\n",
       "      <th></th>\n",
       "    </tr>\n",
       "  </thead>\n",
       "  <tbody>\n",
       "    <tr>\n",
       "      <th rowspan=\"2\" valign=\"top\">[u'D31043.M.100.T.D']</th>\n",
       "      <th>None</th>\n",
       "      <td>9</td>\n",
       "      <td>42</td>\n",
       "      <td>425</td>\n",
       "      <td>0.37864</td>\n",
       "    </tr>\n",
       "    <tr>\n",
       "      <th>parse</th>\n",
       "      <td>9</td>\n",
       "      <td>15</td>\n",
       "      <td>108</td>\n",
       "      <td>0.31068</td>\n",
       "    </tr>\n",
       "    <tr>\n",
       "      <th rowspan=\"2\" valign=\"top\">[u'D31043.M.100.T.F']</th>\n",
       "      <th>None</th>\n",
       "      <td>9</td>\n",
       "      <td>19</td>\n",
       "      <td>550</td>\n",
       "      <td>0.15686</td>\n",
       "    </tr>\n",
       "    <tr>\n",
       "      <th>parse</th>\n",
       "      <td>9</td>\n",
       "      <td>14</td>\n",
       "      <td>143</td>\n",
       "      <td>0.11765</td>\n",
       "    </tr>\n",
       "    <tr>\n",
       "      <th rowspan=\"2\" valign=\"top\">[u'D31043.M.100.T.G']</th>\n",
       "      <th>None</th>\n",
       "      <td>9</td>\n",
       "      <td>21</td>\n",
       "      <td>658</td>\n",
       "      <td>0.13725</td>\n",
       "    </tr>\n",
       "    <tr>\n",
       "      <th>parse</th>\n",
       "      <td>9</td>\n",
       "      <td>15</td>\n",
       "      <td>132</td>\n",
       "      <td>0.10784</td>\n",
       "    </tr>\n",
       "    <tr>\n",
       "      <th rowspan=\"2\" valign=\"top\">[u'D31043.M.100.T.H']</th>\n",
       "      <th>None</th>\n",
       "      <td>9</td>\n",
       "      <td>23</td>\n",
       "      <td>614</td>\n",
       "      <td>0.13462</td>\n",
       "    </tr>\n",
       "    <tr>\n",
       "      <th>parse</th>\n",
       "      <td>9</td>\n",
       "      <td>13</td>\n",
       "      <td>147</td>\n",
       "      <td>0.07692</td>\n",
       "    </tr>\n",
       "  </tbody>\n",
       "</table>\n",
       "</div>"
      ],
      "text/plain": [
       "                                   num_iterations  acceptbl  rejectbl     r2bl\n",
       "ref_summary           phrase_type                                             \n",
       "[u'D31043.M.100.T.D'] None                      9        42       425  0.37864\n",
       "                      parse                     9        15       108  0.31068\n",
       "[u'D31043.M.100.T.F'] None                      9        19       550  0.15686\n",
       "                      parse                     9        14       143  0.11765\n",
       "[u'D31043.M.100.T.G'] None                      9        21       658  0.13725\n",
       "                      parse                     9        15       132  0.10784\n",
       "[u'D31043.M.100.T.H'] None                      9        23       614  0.13462\n",
       "                      parse                     9        13       147  0.07692"
      ]
     },
     "execution_count": 100,
     "metadata": {},
     "output_type": "execute_result"
    }
   ],
   "source": [
    "baseline_scores.groupby([\"ref_summary\", \"phrase_type\"]).max()"
   ]
  },
  {
   "cell_type": "code",
   "execution_count": 67,
   "metadata": {
    "collapsed": false
   },
   "outputs": [
    {
     "data": {
      "text/html": [
       "<div>\n",
       "<table border=\"1\" class=\"dataframe\">\n",
       "  <thead>\n",
       "    <tr style=\"text-align: right;\">\n",
       "      <th></th>\n",
       "      <th>ref_summary</th>\n",
       "      <th>num_iterations</th>\n",
       "      <th>acceptbl</th>\n",
       "      <th>rejectbl</th>\n",
       "      <th>r2bl</th>\n",
       "      <th>phrase_type</th>\n",
       "    </tr>\n",
       "  </thead>\n",
       "  <tbody>\n",
       "    <tr>\n",
       "      <th>536</th>\n",
       "      <td>[u'D31043.M.100.T.H']</td>\n",
       "      <td>1</td>\n",
       "      <td>6</td>\n",
       "      <td>82</td>\n",
       "      <td>0.07692</td>\n",
       "      <td>None</td>\n",
       "    </tr>\n",
       "    <tr>\n",
       "      <th>537</th>\n",
       "      <td>[u'D31043.M.100.T.H']</td>\n",
       "      <td>2</td>\n",
       "      <td>11</td>\n",
       "      <td>160</td>\n",
       "      <td>0.03846</td>\n",
       "      <td>None</td>\n",
       "    </tr>\n",
       "    <tr>\n",
       "      <th>538</th>\n",
       "      <td>[u'D31043.M.100.T.H']</td>\n",
       "      <td>3</td>\n",
       "      <td>11</td>\n",
       "      <td>244</td>\n",
       "      <td>0.12500</td>\n",
       "      <td>None</td>\n",
       "    </tr>\n",
       "    <tr>\n",
       "      <th>539</th>\n",
       "      <td>[u'D31043.M.100.T.H']</td>\n",
       "      <td>4</td>\n",
       "      <td>18</td>\n",
       "      <td>316</td>\n",
       "      <td>0.13462</td>\n",
       "      <td>None</td>\n",
       "    </tr>\n",
       "    <tr>\n",
       "      <th>540</th>\n",
       "      <td>[u'D31043.M.100.T.H']</td>\n",
       "      <td>5</td>\n",
       "      <td>22</td>\n",
       "      <td>383</td>\n",
       "      <td>0.03846</td>\n",
       "      <td>None</td>\n",
       "    </tr>\n",
       "    <tr>\n",
       "      <th>541</th>\n",
       "      <td>[u'D31043.M.100.T.H']</td>\n",
       "      <td>6</td>\n",
       "      <td>22</td>\n",
       "      <td>460</td>\n",
       "      <td>0.07692</td>\n",
       "      <td>None</td>\n",
       "    </tr>\n",
       "    <tr>\n",
       "      <th>542</th>\n",
       "      <td>[u'D31043.M.100.T.H']</td>\n",
       "      <td>7</td>\n",
       "      <td>23</td>\n",
       "      <td>530</td>\n",
       "      <td>0.10577</td>\n",
       "      <td>None</td>\n",
       "    </tr>\n",
       "    <tr>\n",
       "      <th>543</th>\n",
       "      <td>[u'D31043.M.100.T.H']</td>\n",
       "      <td>8</td>\n",
       "      <td>23</td>\n",
       "      <td>570</td>\n",
       "      <td>0.09615</td>\n",
       "      <td>None</td>\n",
       "    </tr>\n",
       "    <tr>\n",
       "      <th>544</th>\n",
       "      <td>[u'D31043.M.100.T.H']</td>\n",
       "      <td>9</td>\n",
       "      <td>23</td>\n",
       "      <td>614</td>\n",
       "      <td>0.09615</td>\n",
       "      <td>None</td>\n",
       "    </tr>\n",
       "    <tr>\n",
       "      <th>7458</th>\n",
       "      <td>[u'D31043.M.100.T.G']</td>\n",
       "      <td>1</td>\n",
       "      <td>10</td>\n",
       "      <td>21</td>\n",
       "      <td>0.08824</td>\n",
       "      <td>parse</td>\n",
       "    </tr>\n",
       "    <tr>\n",
       "      <th>7459</th>\n",
       "      <td>[u'D31043.M.100.T.G']</td>\n",
       "      <td>2</td>\n",
       "      <td>10</td>\n",
       "      <td>44</td>\n",
       "      <td>0.10784</td>\n",
       "      <td>parse</td>\n",
       "    </tr>\n",
       "    <tr>\n",
       "      <th>7460</th>\n",
       "      <td>[u'D31043.M.100.T.G']</td>\n",
       "      <td>3</td>\n",
       "      <td>11</td>\n",
       "      <td>57</td>\n",
       "      <td>0.10784</td>\n",
       "      <td>parse</td>\n",
       "    </tr>\n",
       "    <tr>\n",
       "      <th>7461</th>\n",
       "      <td>[u'D31043.M.100.T.G']</td>\n",
       "      <td>4</td>\n",
       "      <td>12</td>\n",
       "      <td>81</td>\n",
       "      <td>0.10784</td>\n",
       "      <td>parse</td>\n",
       "    </tr>\n",
       "    <tr>\n",
       "      <th>7462</th>\n",
       "      <td>[u'D31043.M.100.T.G']</td>\n",
       "      <td>5</td>\n",
       "      <td>14</td>\n",
       "      <td>98</td>\n",
       "      <td>0.10784</td>\n",
       "      <td>parse</td>\n",
       "    </tr>\n",
       "    <tr>\n",
       "      <th>7463</th>\n",
       "      <td>[u'D31043.M.100.T.G']</td>\n",
       "      <td>6</td>\n",
       "      <td>15</td>\n",
       "      <td>112</td>\n",
       "      <td>0.09804</td>\n",
       "      <td>parse</td>\n",
       "    </tr>\n",
       "    <tr>\n",
       "      <th>7464</th>\n",
       "      <td>[u'D31043.M.100.T.G']</td>\n",
       "      <td>7</td>\n",
       "      <td>15</td>\n",
       "      <td>124</td>\n",
       "      <td>0.06863</td>\n",
       "      <td>parse</td>\n",
       "    </tr>\n",
       "    <tr>\n",
       "      <th>7465</th>\n",
       "      <td>[u'D31043.M.100.T.G']</td>\n",
       "      <td>8</td>\n",
       "      <td>15</td>\n",
       "      <td>132</td>\n",
       "      <td>0.10784</td>\n",
       "      <td>parse</td>\n",
       "    </tr>\n",
       "    <tr>\n",
       "      <th>46247</th>\n",
       "      <td>[u'D31043.M.100.T.D']</td>\n",
       "      <td>1</td>\n",
       "      <td>4</td>\n",
       "      <td>84</td>\n",
       "      <td>0.18447</td>\n",
       "      <td>None</td>\n",
       "    </tr>\n",
       "    <tr>\n",
       "      <th>46248</th>\n",
       "      <td>[u'D31043.M.100.T.D']</td>\n",
       "      <td>2</td>\n",
       "      <td>16</td>\n",
       "      <td>155</td>\n",
       "      <td>0.16505</td>\n",
       "      <td>None</td>\n",
       "    </tr>\n",
       "    <tr>\n",
       "      <th>46249</th>\n",
       "      <td>[u'D31043.M.100.T.D']</td>\n",
       "      <td>3</td>\n",
       "      <td>27</td>\n",
       "      <td>223</td>\n",
       "      <td>0.32039</td>\n",
       "      <td>None</td>\n",
       "    </tr>\n",
       "    <tr>\n",
       "      <th>46250</th>\n",
       "      <td>[u'D31043.M.100.T.D']</td>\n",
       "      <td>4</td>\n",
       "      <td>39</td>\n",
       "      <td>275</td>\n",
       "      <td>0.33981</td>\n",
       "      <td>None</td>\n",
       "    </tr>\n",
       "    <tr>\n",
       "      <th>46251</th>\n",
       "      <td>[u'D31043.M.100.T.D']</td>\n",
       "      <td>5</td>\n",
       "      <td>41</td>\n",
       "      <td>321</td>\n",
       "      <td>0.35922</td>\n",
       "      <td>None</td>\n",
       "    </tr>\n",
       "    <tr>\n",
       "      <th>46252</th>\n",
       "      <td>[u'D31043.M.100.T.D']</td>\n",
       "      <td>6</td>\n",
       "      <td>41</td>\n",
       "      <td>349</td>\n",
       "      <td>0.35922</td>\n",
       "      <td>None</td>\n",
       "    </tr>\n",
       "    <tr>\n",
       "      <th>46253</th>\n",
       "      <td>[u'D31043.M.100.T.D']</td>\n",
       "      <td>7</td>\n",
       "      <td>41</td>\n",
       "      <td>373</td>\n",
       "      <td>0.37864</td>\n",
       "      <td>None</td>\n",
       "    </tr>\n",
       "    <tr>\n",
       "      <th>46254</th>\n",
       "      <td>[u'D31043.M.100.T.D']</td>\n",
       "      <td>8</td>\n",
       "      <td>42</td>\n",
       "      <td>399</td>\n",
       "      <td>0.36893</td>\n",
       "      <td>None</td>\n",
       "    </tr>\n",
       "    <tr>\n",
       "      <th>46255</th>\n",
       "      <td>[u'D31043.M.100.T.D']</td>\n",
       "      <td>9</td>\n",
       "      <td>42</td>\n",
       "      <td>425</td>\n",
       "      <td>0.28155</td>\n",
       "      <td>None</td>\n",
       "    </tr>\n",
       "    <tr>\n",
       "      <th>74653</th>\n",
       "      <td>[u'D31043.M.100.T.F']</td>\n",
       "      <td>1</td>\n",
       "      <td>8</td>\n",
       "      <td>23</td>\n",
       "      <td>0.11765</td>\n",
       "      <td>parse</td>\n",
       "    </tr>\n",
       "    <tr>\n",
       "      <th>74654</th>\n",
       "      <td>[u'D31043.M.100.T.F']</td>\n",
       "      <td>2</td>\n",
       "      <td>10</td>\n",
       "      <td>46</td>\n",
       "      <td>0.06863</td>\n",
       "      <td>parse</td>\n",
       "    </tr>\n",
       "    <tr>\n",
       "      <th>74655</th>\n",
       "      <td>[u'D31043.M.100.T.F']</td>\n",
       "      <td>3</td>\n",
       "      <td>11</td>\n",
       "      <td>66</td>\n",
       "      <td>0.11765</td>\n",
       "      <td>parse</td>\n",
       "    </tr>\n",
       "    <tr>\n",
       "      <th>74656</th>\n",
       "      <td>[u'D31043.M.100.T.F']</td>\n",
       "      <td>4</td>\n",
       "      <td>12</td>\n",
       "      <td>80</td>\n",
       "      <td>0.08824</td>\n",
       "      <td>parse</td>\n",
       "    </tr>\n",
       "    <tr>\n",
       "      <th>...</th>\n",
       "      <td>...</td>\n",
       "      <td>...</td>\n",
       "      <td>...</td>\n",
       "      <td>...</td>\n",
       "      <td>...</td>\n",
       "      <td>...</td>\n",
       "    </tr>\n",
       "    <tr>\n",
       "      <th>175907</th>\n",
       "      <td>[u'D31043.M.100.T.G']</td>\n",
       "      <td>9</td>\n",
       "      <td>12</td>\n",
       "      <td>99</td>\n",
       "      <td>0.06863</td>\n",
       "      <td>parse</td>\n",
       "    </tr>\n",
       "    <tr>\n",
       "      <th>190200</th>\n",
       "      <td>[u'D31043.M.100.T.F']</td>\n",
       "      <td>1</td>\n",
       "      <td>2</td>\n",
       "      <td>86</td>\n",
       "      <td>0.07843</td>\n",
       "      <td>None</td>\n",
       "    </tr>\n",
       "    <tr>\n",
       "      <th>190201</th>\n",
       "      <td>[u'D31043.M.100.T.F']</td>\n",
       "      <td>2</td>\n",
       "      <td>8</td>\n",
       "      <td>163</td>\n",
       "      <td>0.12745</td>\n",
       "      <td>None</td>\n",
       "    </tr>\n",
       "    <tr>\n",
       "      <th>190202</th>\n",
       "      <td>[u'D31043.M.100.T.F']</td>\n",
       "      <td>3</td>\n",
       "      <td>13</td>\n",
       "      <td>227</td>\n",
       "      <td>0.09804</td>\n",
       "      <td>None</td>\n",
       "    </tr>\n",
       "    <tr>\n",
       "      <th>190203</th>\n",
       "      <td>[u'D31043.M.100.T.F']</td>\n",
       "      <td>4</td>\n",
       "      <td>13</td>\n",
       "      <td>283</td>\n",
       "      <td>0.13725</td>\n",
       "      <td>None</td>\n",
       "    </tr>\n",
       "    <tr>\n",
       "      <th>190204</th>\n",
       "      <td>[u'D31043.M.100.T.F']</td>\n",
       "      <td>5</td>\n",
       "      <td>15</td>\n",
       "      <td>336</td>\n",
       "      <td>0.03922</td>\n",
       "      <td>None</td>\n",
       "    </tr>\n",
       "    <tr>\n",
       "      <th>190205</th>\n",
       "      <td>[u'D31043.M.100.T.F']</td>\n",
       "      <td>6</td>\n",
       "      <td>15</td>\n",
       "      <td>420</td>\n",
       "      <td>0.11765</td>\n",
       "      <td>None</td>\n",
       "    </tr>\n",
       "    <tr>\n",
       "      <th>190206</th>\n",
       "      <td>[u'D31043.M.100.T.F']</td>\n",
       "      <td>7</td>\n",
       "      <td>16</td>\n",
       "      <td>471</td>\n",
       "      <td>0.14706</td>\n",
       "      <td>None</td>\n",
       "    </tr>\n",
       "    <tr>\n",
       "      <th>190207</th>\n",
       "      <td>[u'D31043.M.100.T.F']</td>\n",
       "      <td>8</td>\n",
       "      <td>18</td>\n",
       "      <td>517</td>\n",
       "      <td>0.13725</td>\n",
       "      <td>None</td>\n",
       "    </tr>\n",
       "    <tr>\n",
       "      <th>190208</th>\n",
       "      <td>[u'D31043.M.100.T.F']</td>\n",
       "      <td>9</td>\n",
       "      <td>19</td>\n",
       "      <td>550</td>\n",
       "      <td>0.15686</td>\n",
       "      <td>None</td>\n",
       "    </tr>\n",
       "    <tr>\n",
       "      <th>192499</th>\n",
       "      <td>[u'D31043.M.100.T.D']</td>\n",
       "      <td>1</td>\n",
       "      <td>4</td>\n",
       "      <td>27</td>\n",
       "      <td>0.13592</td>\n",
       "      <td>parse</td>\n",
       "    </tr>\n",
       "    <tr>\n",
       "      <th>192500</th>\n",
       "      <td>[u'D31043.M.100.T.D']</td>\n",
       "      <td>2</td>\n",
       "      <td>5</td>\n",
       "      <td>45</td>\n",
       "      <td>0.14563</td>\n",
       "      <td>parse</td>\n",
       "    </tr>\n",
       "    <tr>\n",
       "      <th>192501</th>\n",
       "      <td>[u'D31043.M.100.T.D']</td>\n",
       "      <td>3</td>\n",
       "      <td>5</td>\n",
       "      <td>60</td>\n",
       "      <td>0.06796</td>\n",
       "      <td>parse</td>\n",
       "    </tr>\n",
       "    <tr>\n",
       "      <th>192502</th>\n",
       "      <td>[u'D31043.M.100.T.D']</td>\n",
       "      <td>4</td>\n",
       "      <td>7</td>\n",
       "      <td>76</td>\n",
       "      <td>0.10680</td>\n",
       "      <td>parse</td>\n",
       "    </tr>\n",
       "    <tr>\n",
       "      <th>192503</th>\n",
       "      <td>[u'D31043.M.100.T.D']</td>\n",
       "      <td>5</td>\n",
       "      <td>8</td>\n",
       "      <td>87</td>\n",
       "      <td>0.28155</td>\n",
       "      <td>parse</td>\n",
       "    </tr>\n",
       "    <tr>\n",
       "      <th>192504</th>\n",
       "      <td>[u'D31043.M.100.T.D']</td>\n",
       "      <td>6</td>\n",
       "      <td>14</td>\n",
       "      <td>93</td>\n",
       "      <td>0.27184</td>\n",
       "      <td>parse</td>\n",
       "    </tr>\n",
       "    <tr>\n",
       "      <th>192505</th>\n",
       "      <td>[u'D31043.M.100.T.D']</td>\n",
       "      <td>7</td>\n",
       "      <td>14</td>\n",
       "      <td>98</td>\n",
       "      <td>0.31068</td>\n",
       "      <td>parse</td>\n",
       "    </tr>\n",
       "    <tr>\n",
       "      <th>192506</th>\n",
       "      <td>[u'D31043.M.100.T.D']</td>\n",
       "      <td>8</td>\n",
       "      <td>15</td>\n",
       "      <td>105</td>\n",
       "      <td>0.28155</td>\n",
       "      <td>parse</td>\n",
       "    </tr>\n",
       "    <tr>\n",
       "      <th>192507</th>\n",
       "      <td>[u'D31043.M.100.T.D']</td>\n",
       "      <td>9</td>\n",
       "      <td>15</td>\n",
       "      <td>108</td>\n",
       "      <td>0.30097</td>\n",
       "      <td>parse</td>\n",
       "    </tr>\n",
       "    <tr>\n",
       "      <th>334574</th>\n",
       "      <td>[u'D31043.M.100.T.H']</td>\n",
       "      <td>1</td>\n",
       "      <td>8</td>\n",
       "      <td>23</td>\n",
       "      <td>0.07692</td>\n",
       "      <td>parse</td>\n",
       "    </tr>\n",
       "    <tr>\n",
       "      <th>334575</th>\n",
       "      <td>[u'D31043.M.100.T.H']</td>\n",
       "      <td>2</td>\n",
       "      <td>10</td>\n",
       "      <td>41</td>\n",
       "      <td>0.04808</td>\n",
       "      <td>parse</td>\n",
       "    </tr>\n",
       "    <tr>\n",
       "      <th>334576</th>\n",
       "      <td>[u'D31043.M.100.T.H']</td>\n",
       "      <td>3</td>\n",
       "      <td>11</td>\n",
       "      <td>60</td>\n",
       "      <td>0.04808</td>\n",
       "      <td>parse</td>\n",
       "    </tr>\n",
       "    <tr>\n",
       "      <th>334577</th>\n",
       "      <td>[u'D31043.M.100.T.H']</td>\n",
       "      <td>4</td>\n",
       "      <td>11</td>\n",
       "      <td>84</td>\n",
       "      <td>0.06731</td>\n",
       "      <td>parse</td>\n",
       "    </tr>\n",
       "    <tr>\n",
       "      <th>334578</th>\n",
       "      <td>[u'D31043.M.100.T.H']</td>\n",
       "      <td>5</td>\n",
       "      <td>11</td>\n",
       "      <td>100</td>\n",
       "      <td>0.04808</td>\n",
       "      <td>parse</td>\n",
       "    </tr>\n",
       "    <tr>\n",
       "      <th>334579</th>\n",
       "      <td>[u'D31043.M.100.T.H']</td>\n",
       "      <td>6</td>\n",
       "      <td>11</td>\n",
       "      <td>111</td>\n",
       "      <td>0.05769</td>\n",
       "      <td>parse</td>\n",
       "    </tr>\n",
       "    <tr>\n",
       "      <th>334580</th>\n",
       "      <td>[u'D31043.M.100.T.H']</td>\n",
       "      <td>7</td>\n",
       "      <td>11</td>\n",
       "      <td>122</td>\n",
       "      <td>0.06731</td>\n",
       "      <td>parse</td>\n",
       "    </tr>\n",
       "    <tr>\n",
       "      <th>334581</th>\n",
       "      <td>[u'D31043.M.100.T.H']</td>\n",
       "      <td>8</td>\n",
       "      <td>12</td>\n",
       "      <td>132</td>\n",
       "      <td>0.07692</td>\n",
       "      <td>parse</td>\n",
       "    </tr>\n",
       "    <tr>\n",
       "      <th>334582</th>\n",
       "      <td>[u'D31043.M.100.T.H']</td>\n",
       "      <td>9</td>\n",
       "      <td>13</td>\n",
       "      <td>147</td>\n",
       "      <td>0.07692</td>\n",
       "      <td>parse</td>\n",
       "    </tr>\n",
       "    <tr>\n",
       "      <th>385340</th>\n",
       "      <td>[u'D31043.M.100.T.G']</td>\n",
       "      <td>8</td>\n",
       "      <td>19</td>\n",
       "      <td>595</td>\n",
       "      <td>0.08824</td>\n",
       "      <td>None</td>\n",
       "    </tr>\n",
       "    <tr>\n",
       "      <th>385341</th>\n",
       "      <td>[u'D31043.M.100.T.G']</td>\n",
       "      <td>9</td>\n",
       "      <td>21</td>\n",
       "      <td>658</td>\n",
       "      <td>0.07843</td>\n",
       "      <td>None</td>\n",
       "    </tr>\n",
       "  </tbody>\n",
       "</table>\n",
       "<p>72 rows × 6 columns</p>\n",
       "</div>"
      ],
      "text/plain": [
       "                  ref_summary  num_iterations  acceptbl  rejectbl     r2bl  \\\n",
       "536     [u'D31043.M.100.T.H']               1         6        82  0.07692   \n",
       "537     [u'D31043.M.100.T.H']               2        11       160  0.03846   \n",
       "538     [u'D31043.M.100.T.H']               3        11       244  0.12500   \n",
       "539     [u'D31043.M.100.T.H']               4        18       316  0.13462   \n",
       "540     [u'D31043.M.100.T.H']               5        22       383  0.03846   \n",
       "541     [u'D31043.M.100.T.H']               6        22       460  0.07692   \n",
       "542     [u'D31043.M.100.T.H']               7        23       530  0.10577   \n",
       "543     [u'D31043.M.100.T.H']               8        23       570  0.09615   \n",
       "544     [u'D31043.M.100.T.H']               9        23       614  0.09615   \n",
       "7458    [u'D31043.M.100.T.G']               1        10        21  0.08824   \n",
       "7459    [u'D31043.M.100.T.G']               2        10        44  0.10784   \n",
       "7460    [u'D31043.M.100.T.G']               3        11        57  0.10784   \n",
       "7461    [u'D31043.M.100.T.G']               4        12        81  0.10784   \n",
       "7462    [u'D31043.M.100.T.G']               5        14        98  0.10784   \n",
       "7463    [u'D31043.M.100.T.G']               6        15       112  0.09804   \n",
       "7464    [u'D31043.M.100.T.G']               7        15       124  0.06863   \n",
       "7465    [u'D31043.M.100.T.G']               8        15       132  0.10784   \n",
       "46247   [u'D31043.M.100.T.D']               1         4        84  0.18447   \n",
       "46248   [u'D31043.M.100.T.D']               2        16       155  0.16505   \n",
       "46249   [u'D31043.M.100.T.D']               3        27       223  0.32039   \n",
       "46250   [u'D31043.M.100.T.D']               4        39       275  0.33981   \n",
       "46251   [u'D31043.M.100.T.D']               5        41       321  0.35922   \n",
       "46252   [u'D31043.M.100.T.D']               6        41       349  0.35922   \n",
       "46253   [u'D31043.M.100.T.D']               7        41       373  0.37864   \n",
       "46254   [u'D31043.M.100.T.D']               8        42       399  0.36893   \n",
       "46255   [u'D31043.M.100.T.D']               9        42       425  0.28155   \n",
       "74653   [u'D31043.M.100.T.F']               1         8        23  0.11765   \n",
       "74654   [u'D31043.M.100.T.F']               2        10        46  0.06863   \n",
       "74655   [u'D31043.M.100.T.F']               3        11        66  0.11765   \n",
       "74656   [u'D31043.M.100.T.F']               4        12        80  0.08824   \n",
       "...                       ...             ...       ...       ...      ...   \n",
       "175907  [u'D31043.M.100.T.G']               9        12        99  0.06863   \n",
       "190200  [u'D31043.M.100.T.F']               1         2        86  0.07843   \n",
       "190201  [u'D31043.M.100.T.F']               2         8       163  0.12745   \n",
       "190202  [u'D31043.M.100.T.F']               3        13       227  0.09804   \n",
       "190203  [u'D31043.M.100.T.F']               4        13       283  0.13725   \n",
       "190204  [u'D31043.M.100.T.F']               5        15       336  0.03922   \n",
       "190205  [u'D31043.M.100.T.F']               6        15       420  0.11765   \n",
       "190206  [u'D31043.M.100.T.F']               7        16       471  0.14706   \n",
       "190207  [u'D31043.M.100.T.F']               8        18       517  0.13725   \n",
       "190208  [u'D31043.M.100.T.F']               9        19       550  0.15686   \n",
       "192499  [u'D31043.M.100.T.D']               1         4        27  0.13592   \n",
       "192500  [u'D31043.M.100.T.D']               2         5        45  0.14563   \n",
       "192501  [u'D31043.M.100.T.D']               3         5        60  0.06796   \n",
       "192502  [u'D31043.M.100.T.D']               4         7        76  0.10680   \n",
       "192503  [u'D31043.M.100.T.D']               5         8        87  0.28155   \n",
       "192504  [u'D31043.M.100.T.D']               6        14        93  0.27184   \n",
       "192505  [u'D31043.M.100.T.D']               7        14        98  0.31068   \n",
       "192506  [u'D31043.M.100.T.D']               8        15       105  0.28155   \n",
       "192507  [u'D31043.M.100.T.D']               9        15       108  0.30097   \n",
       "334574  [u'D31043.M.100.T.H']               1         8        23  0.07692   \n",
       "334575  [u'D31043.M.100.T.H']               2        10        41  0.04808   \n",
       "334576  [u'D31043.M.100.T.H']               3        11        60  0.04808   \n",
       "334577  [u'D31043.M.100.T.H']               4        11        84  0.06731   \n",
       "334578  [u'D31043.M.100.T.H']               5        11       100  0.04808   \n",
       "334579  [u'D31043.M.100.T.H']               6        11       111  0.05769   \n",
       "334580  [u'D31043.M.100.T.H']               7        11       122  0.06731   \n",
       "334581  [u'D31043.M.100.T.H']               8        12       132  0.07692   \n",
       "334582  [u'D31043.M.100.T.H']               9        13       147  0.07692   \n",
       "385340  [u'D31043.M.100.T.G']               8        19       595  0.08824   \n",
       "385341  [u'D31043.M.100.T.G']               9        21       658  0.07843   \n",
       "\n",
       "       phrase_type  \n",
       "536           None  \n",
       "537           None  \n",
       "538           None  \n",
       "539           None  \n",
       "540           None  \n",
       "541           None  \n",
       "542           None  \n",
       "543           None  \n",
       "544           None  \n",
       "7458         parse  \n",
       "7459         parse  \n",
       "7460         parse  \n",
       "7461         parse  \n",
       "7462         parse  \n",
       "7463         parse  \n",
       "7464         parse  \n",
       "7465         parse  \n",
       "46247         None  \n",
       "46248         None  \n",
       "46249         None  \n",
       "46250         None  \n",
       "46251         None  \n",
       "46252         None  \n",
       "46253         None  \n",
       "46254         None  \n",
       "46255         None  \n",
       "74653        parse  \n",
       "74654        parse  \n",
       "74655        parse  \n",
       "74656        parse  \n",
       "...            ...  \n",
       "175907       parse  \n",
       "190200        None  \n",
       "190201        None  \n",
       "190202        None  \n",
       "190203        None  \n",
       "190204        None  \n",
       "190205        None  \n",
       "190206        None  \n",
       "190207        None  \n",
       "190208        None  \n",
       "192499       parse  \n",
       "192500       parse  \n",
       "192501       parse  \n",
       "192502       parse  \n",
       "192503       parse  \n",
       "192504       parse  \n",
       "192505       parse  \n",
       "192506       parse  \n",
       "192507       parse  \n",
       "334574       parse  \n",
       "334575       parse  \n",
       "334576       parse  \n",
       "334577       parse  \n",
       "334578       parse  \n",
       "334579       parse  \n",
       "334580       parse  \n",
       "334581       parse  \n",
       "334582       parse  \n",
       "385340        None  \n",
       "385341        None  \n",
       "\n",
       "[72 rows x 6 columns]"
      ]
     },
     "execution_count": 67,
     "metadata": {},
     "output_type": "execute_result"
    }
   ],
   "source": [
    "baseline_scores"
   ]
  },
  {
   "cell_type": "code",
   "execution_count": 68,
   "metadata": {
    "collapsed": false
   },
   "outputs": [],
   "source": [
    "# merge df and baseline_scores, so that the r2bl score is now available in every run.\n",
    "df= pd.merge(ddf, baseline_scores, on=[\"ref_summary\", \"num_iterations\", \"phrase_type\"])"
   ]
  },
  {
   "cell_type": "code",
   "execution_count": 69,
   "metadata": {
    "collapsed": true
   },
   "outputs": [],
   "source": [
    "#df = df.sample(2000)"
   ]
  },
  {
   "cell_type": "code",
   "execution_count": 70,
   "metadata": {
    "collapsed": false
   },
   "outputs": [],
   "source": [
    "# add the delta of baseline and actual r2 as separate column\n",
    "df[\"delta_r2bl_r2\"] = df[\"r2bl\"] - df[\"r2\"]\n",
    "df[\"ratio_r2_vs_r2bl\"] = df[\"r2\"] / df[\"r2bl\"]"
   ]
  },
  {
   "cell_type": "code",
   "execution_count": 71,
   "metadata": {
    "collapsed": false
   },
   "outputs": [],
   "source": [
    "# add the delta and ratio of the upper bound r2 as separate columns:\n",
    "df[\"delta_r2ub\"] = df[\"ub_r2\"] - df[\"r2\"]\n",
    "df[\"ratio_r2ub\"] = df[\"r2\"] / df[\"ub_r2\"]\n",
    "df[\"ratio_r2ub_vs_feedback\"] = df[\"ratio_r2ub\"] / df[\"total_feedback\"]"
   ]
  },
  {
   "cell_type": "code",
   "execution_count": 72,
   "metadata": {
    "collapsed": false
   },
   "outputs": [
    {
     "name": "stdout",
     "output_type": "stream",
     "text": [
      "<class 'pandas.core.frame.DataFrame'>\n",
      "Int64Index: 347795 entries, 0 to 347794\n",
      "Data columns (total 40 columns):\n",
      "accept                         347795 non-null int64\n",
      "accept_new                     347795 non-null int64\n",
      "cfg                            347795 non-null object\n",
      "classtype                      347795 non-null object\n",
      "cutoff_threshold               335186 non-null float64\n",
      "embeddings                     347795 non-null object\n",
      "feedback_new                   347795 non-null int64\n",
      "iterations_accept              335186 non-null float64\n",
      "iterations_reject              335186 non-null float64\n",
      "mass_accept                    335186 non-null float64\n",
      "mass_reject                    335186 non-null float64\n",
      "max_iteration_count            347795 non-null int64\n",
      "multiplier_accept              12472 non-null float64\n",
      "multiplier_reject              12472 non-null float64\n",
      "num_iterations                 347795 non-null int64\n",
      "oracle                         347795 non-null object\n",
      "parent                         347795 non-null object\n",
      "phrase_type                    347795 non-null object\n",
      "propagation_abort_threshold    316527 non-null float64\n",
      "r1                             347795 non-null float64\n",
      "r2                             347795 non-null float64\n",
      "r4                             347795 non-null float64\n",
      "ref_summary                    347795 non-null object\n",
      "reject                         347795 non-null int64\n",
      "reject_new                     347795 non-null int64\n",
      "run_id                         347795 non-null object\n",
      "size                           347795 non-null int64\n",
      "total_feedback                 347795 non-null int64\n",
      "ub_r1                          347795 non-null float64\n",
      "ub_r2                          347795 non-null float64\n",
      "ub_r4                          347795 non-null float64\n",
      "window_size                    12472 non-null float64\n",
      "acceptbl                       347795 non-null int64\n",
      "rejectbl                       347795 non-null int64\n",
      "r2bl                           347795 non-null float64\n",
      "delta_r2bl_r2                  347795 non-null float64\n",
      "ratio_r2_vs_r2bl               347795 non-null float64\n",
      "delta_r2ub                     347795 non-null float64\n",
      "ratio_r2ub                     347795 non-null float64\n",
      "ratio_r2ub_vs_feedback         347795 non-null float64\n",
      "dtypes: float64(21), int64(11), object(8)\n",
      "memory usage: 108.8+ MB\n"
     ]
    }
   ],
   "source": [
    "df.info()"
   ]
  },
  {
   "cell_type": "code",
   "execution_count": 73,
   "metadata": {
    "collapsed": true
   },
   "outputs": [],
   "source": [
    "df.to_csv(path.join(basepath, \"grid_search_df_with_r2ub_and_r2bl.csv\"))"
   ]
  },
  {
   "cell_type": "code",
   "execution_count": 74,
   "metadata": {
    "collapsed": true
   },
   "outputs": [],
   "source": [
    "# restrict to the main topic\n",
    "D31043 = df.loc[df.ref_summary.str.contains(\"D31043.M.100.T\")]"
   ]
  },
  {
   "cell_type": "code",
   "execution_count": null,
   "metadata": {
    "collapsed": true
   },
   "outputs": [],
   "source": [
    "# restrict to the main topic\n",
    "D30044 = df.loc[df.ref_summary.str.contains(\"D30044.M.100.T\")]"
   ]
  },
  {
   "cell_type": "markdown",
   "metadata": {},
   "source": [
    "Overall information\n",
    "==="
   ]
  },
  {
   "cell_type": "code",
   "execution_count": 75,
   "metadata": {
    "collapsed": false
   },
   "outputs": [
    {
     "data": {
      "text/html": [
       "<div>\n",
       "<table border=\"1\" class=\"dataframe\">\n",
       "  <thead>\n",
       "    <tr style=\"text-align: right;\">\n",
       "      <th></th>\n",
       "      <th></th>\n",
       "      <th>accept</th>\n",
       "      <th>accept_new</th>\n",
       "      <th>cfg</th>\n",
       "      <th>classtype</th>\n",
       "      <th>cutoff_threshold</th>\n",
       "      <th>embeddings</th>\n",
       "      <th>feedback_new</th>\n",
       "      <th>iterations_accept</th>\n",
       "      <th>iterations_reject</th>\n",
       "      <th>mass_accept</th>\n",
       "      <th>...</th>\n",
       "      <th>ub_r4</th>\n",
       "      <th>window_size</th>\n",
       "      <th>acceptbl</th>\n",
       "      <th>rejectbl</th>\n",
       "      <th>r2bl</th>\n",
       "      <th>delta_r2bl_r2</th>\n",
       "      <th>ratio_r2_vs_r2bl</th>\n",
       "      <th>delta_r2ub</th>\n",
       "      <th>ratio_r2ub</th>\n",
       "      <th>ratio_r2ub_vs_feedback</th>\n",
       "    </tr>\n",
       "    <tr>\n",
       "      <th>phrase_type</th>\n",
       "      <th>ref_summary</th>\n",
       "      <th></th>\n",
       "      <th></th>\n",
       "      <th></th>\n",
       "      <th></th>\n",
       "      <th></th>\n",
       "      <th></th>\n",
       "      <th></th>\n",
       "      <th></th>\n",
       "      <th></th>\n",
       "      <th></th>\n",
       "      <th></th>\n",
       "      <th></th>\n",
       "      <th></th>\n",
       "      <th></th>\n",
       "      <th></th>\n",
       "      <th></th>\n",
       "      <th></th>\n",
       "      <th></th>\n",
       "      <th></th>\n",
       "      <th></th>\n",
       "      <th></th>\n",
       "    </tr>\n",
       "  </thead>\n",
       "  <tbody>\n",
       "    <tr>\n",
       "      <th rowspan=\"4\" valign=\"top\">None</th>\n",
       "      <th>[u'D31043.M.100.T.D']</th>\n",
       "      <td>45499</td>\n",
       "      <td>45499</td>\n",
       "      <td>45499</td>\n",
       "      <td>45499</td>\n",
       "      <td>42087</td>\n",
       "      <td>45499</td>\n",
       "      <td>45499</td>\n",
       "      <td>42087</td>\n",
       "      <td>42087</td>\n",
       "      <td>42087</td>\n",
       "      <td>...</td>\n",
       "      <td>45499</td>\n",
       "      <td>3394</td>\n",
       "      <td>45499</td>\n",
       "      <td>45499</td>\n",
       "      <td>45499</td>\n",
       "      <td>45499</td>\n",
       "      <td>45499</td>\n",
       "      <td>45499</td>\n",
       "      <td>45499</td>\n",
       "      <td>45499</td>\n",
       "    </tr>\n",
       "    <tr>\n",
       "      <th>[u'D31043.M.100.T.F']</th>\n",
       "      <td>45543</td>\n",
       "      <td>45543</td>\n",
       "      <td>45543</td>\n",
       "      <td>45543</td>\n",
       "      <td>42403</td>\n",
       "      <td>45543</td>\n",
       "      <td>45543</td>\n",
       "      <td>42403</td>\n",
       "      <td>42403</td>\n",
       "      <td>42403</td>\n",
       "      <td>...</td>\n",
       "      <td>45543</td>\n",
       "      <td>3122</td>\n",
       "      <td>45543</td>\n",
       "      <td>45543</td>\n",
       "      <td>45543</td>\n",
       "      <td>45543</td>\n",
       "      <td>45543</td>\n",
       "      <td>45543</td>\n",
       "      <td>45543</td>\n",
       "      <td>45543</td>\n",
       "    </tr>\n",
       "    <tr>\n",
       "      <th>[u'D31043.M.100.T.G']</th>\n",
       "      <td>40720</td>\n",
       "      <td>40720</td>\n",
       "      <td>40720</td>\n",
       "      <td>40720</td>\n",
       "      <td>37732</td>\n",
       "      <td>40720</td>\n",
       "      <td>40720</td>\n",
       "      <td>37732</td>\n",
       "      <td>37732</td>\n",
       "      <td>37732</td>\n",
       "      <td>...</td>\n",
       "      <td>40720</td>\n",
       "      <td>2972</td>\n",
       "      <td>40720</td>\n",
       "      <td>40720</td>\n",
       "      <td>40720</td>\n",
       "      <td>40720</td>\n",
       "      <td>40720</td>\n",
       "      <td>40720</td>\n",
       "      <td>40720</td>\n",
       "      <td>40720</td>\n",
       "    </tr>\n",
       "    <tr>\n",
       "      <th>[u'D31043.M.100.T.H']</th>\n",
       "      <td>45246</td>\n",
       "      <td>45246</td>\n",
       "      <td>45246</td>\n",
       "      <td>45246</td>\n",
       "      <td>42246</td>\n",
       "      <td>45246</td>\n",
       "      <td>45246</td>\n",
       "      <td>42246</td>\n",
       "      <td>42246</td>\n",
       "      <td>42246</td>\n",
       "      <td>...</td>\n",
       "      <td>45246</td>\n",
       "      <td>2984</td>\n",
       "      <td>45246</td>\n",
       "      <td>45246</td>\n",
       "      <td>45246</td>\n",
       "      <td>45246</td>\n",
       "      <td>45246</td>\n",
       "      <td>45246</td>\n",
       "      <td>45246</td>\n",
       "      <td>45246</td>\n",
       "    </tr>\n",
       "    <tr>\n",
       "      <th rowspan=\"4\" valign=\"top\">parse</th>\n",
       "      <th>[u'D31043.M.100.T.D']</th>\n",
       "      <td>43842</td>\n",
       "      <td>43842</td>\n",
       "      <td>43842</td>\n",
       "      <td>43842</td>\n",
       "      <td>43824</td>\n",
       "      <td>43842</td>\n",
       "      <td>43842</td>\n",
       "      <td>43824</td>\n",
       "      <td>43824</td>\n",
       "      <td>43824</td>\n",
       "      <td>...</td>\n",
       "      <td>43842</td>\n",
       "      <td>0</td>\n",
       "      <td>43842</td>\n",
       "      <td>43842</td>\n",
       "      <td>43842</td>\n",
       "      <td>43842</td>\n",
       "      <td>43842</td>\n",
       "      <td>43842</td>\n",
       "      <td>43842</td>\n",
       "      <td>43842</td>\n",
       "    </tr>\n",
       "    <tr>\n",
       "      <th>[u'D31043.M.100.T.F']</th>\n",
       "      <td>44033</td>\n",
       "      <td>44033</td>\n",
       "      <td>44033</td>\n",
       "      <td>44033</td>\n",
       "      <td>44017</td>\n",
       "      <td>44033</td>\n",
       "      <td>44033</td>\n",
       "      <td>44017</td>\n",
       "      <td>44017</td>\n",
       "      <td>44017</td>\n",
       "      <td>...</td>\n",
       "      <td>44033</td>\n",
       "      <td>0</td>\n",
       "      <td>44033</td>\n",
       "      <td>44033</td>\n",
       "      <td>44033</td>\n",
       "      <td>44033</td>\n",
       "      <td>44033</td>\n",
       "      <td>44033</td>\n",
       "      <td>44033</td>\n",
       "      <td>44033</td>\n",
       "    </tr>\n",
       "    <tr>\n",
       "      <th>[u'D31043.M.100.T.G']</th>\n",
       "      <td>41689</td>\n",
       "      <td>41689</td>\n",
       "      <td>41689</td>\n",
       "      <td>41689</td>\n",
       "      <td>41672</td>\n",
       "      <td>41689</td>\n",
       "      <td>41689</td>\n",
       "      <td>41672</td>\n",
       "      <td>41672</td>\n",
       "      <td>41672</td>\n",
       "      <td>...</td>\n",
       "      <td>41689</td>\n",
       "      <td>0</td>\n",
       "      <td>41689</td>\n",
       "      <td>41689</td>\n",
       "      <td>41689</td>\n",
       "      <td>41689</td>\n",
       "      <td>41689</td>\n",
       "      <td>41689</td>\n",
       "      <td>41689</td>\n",
       "      <td>41689</td>\n",
       "    </tr>\n",
       "    <tr>\n",
       "      <th>[u'D31043.M.100.T.H']</th>\n",
       "      <td>41223</td>\n",
       "      <td>41223</td>\n",
       "      <td>41223</td>\n",
       "      <td>41223</td>\n",
       "      <td>41205</td>\n",
       "      <td>41223</td>\n",
       "      <td>41223</td>\n",
       "      <td>41205</td>\n",
       "      <td>41205</td>\n",
       "      <td>41205</td>\n",
       "      <td>...</td>\n",
       "      <td>41223</td>\n",
       "      <td>0</td>\n",
       "      <td>41223</td>\n",
       "      <td>41223</td>\n",
       "      <td>41223</td>\n",
       "      <td>41223</td>\n",
       "      <td>41223</td>\n",
       "      <td>41223</td>\n",
       "      <td>41223</td>\n",
       "      <td>41223</td>\n",
       "    </tr>\n",
       "  </tbody>\n",
       "</table>\n",
       "<p>8 rows × 38 columns</p>\n",
       "</div>"
      ],
      "text/plain": [
       "                                   accept  accept_new    cfg  classtype  \\\n",
       "phrase_type ref_summary                                                   \n",
       "None        [u'D31043.M.100.T.D']   45499       45499  45499      45499   \n",
       "            [u'D31043.M.100.T.F']   45543       45543  45543      45543   \n",
       "            [u'D31043.M.100.T.G']   40720       40720  40720      40720   \n",
       "            [u'D31043.M.100.T.H']   45246       45246  45246      45246   \n",
       "parse       [u'D31043.M.100.T.D']   43842       43842  43842      43842   \n",
       "            [u'D31043.M.100.T.F']   44033       44033  44033      44033   \n",
       "            [u'D31043.M.100.T.G']   41689       41689  41689      41689   \n",
       "            [u'D31043.M.100.T.H']   41223       41223  41223      41223   \n",
       "\n",
       "                                   cutoff_threshold  embeddings  feedback_new  \\\n",
       "phrase_type ref_summary                                                         \n",
       "None        [u'D31043.M.100.T.D']             42087       45499         45499   \n",
       "            [u'D31043.M.100.T.F']             42403       45543         45543   \n",
       "            [u'D31043.M.100.T.G']             37732       40720         40720   \n",
       "            [u'D31043.M.100.T.H']             42246       45246         45246   \n",
       "parse       [u'D31043.M.100.T.D']             43824       43842         43842   \n",
       "            [u'D31043.M.100.T.F']             44017       44033         44033   \n",
       "            [u'D31043.M.100.T.G']             41672       41689         41689   \n",
       "            [u'D31043.M.100.T.H']             41205       41223         41223   \n",
       "\n",
       "                                   iterations_accept  iterations_reject  \\\n",
       "phrase_type ref_summary                                                   \n",
       "None        [u'D31043.M.100.T.D']              42087              42087   \n",
       "            [u'D31043.M.100.T.F']              42403              42403   \n",
       "            [u'D31043.M.100.T.G']              37732              37732   \n",
       "            [u'D31043.M.100.T.H']              42246              42246   \n",
       "parse       [u'D31043.M.100.T.D']              43824              43824   \n",
       "            [u'D31043.M.100.T.F']              44017              44017   \n",
       "            [u'D31043.M.100.T.G']              41672              41672   \n",
       "            [u'D31043.M.100.T.H']              41205              41205   \n",
       "\n",
       "                                   mass_accept           ...            ub_r4  \\\n",
       "phrase_type ref_summary                                  ...                    \n",
       "None        [u'D31043.M.100.T.D']        42087           ...            45499   \n",
       "            [u'D31043.M.100.T.F']        42403           ...            45543   \n",
       "            [u'D31043.M.100.T.G']        37732           ...            40720   \n",
       "            [u'D31043.M.100.T.H']        42246           ...            45246   \n",
       "parse       [u'D31043.M.100.T.D']        43824           ...            43842   \n",
       "            [u'D31043.M.100.T.F']        44017           ...            44033   \n",
       "            [u'D31043.M.100.T.G']        41672           ...            41689   \n",
       "            [u'D31043.M.100.T.H']        41205           ...            41223   \n",
       "\n",
       "                                   window_size  acceptbl  rejectbl   r2bl  \\\n",
       "phrase_type ref_summary                                                     \n",
       "None        [u'D31043.M.100.T.D']         3394     45499     45499  45499   \n",
       "            [u'D31043.M.100.T.F']         3122     45543     45543  45543   \n",
       "            [u'D31043.M.100.T.G']         2972     40720     40720  40720   \n",
       "            [u'D31043.M.100.T.H']         2984     45246     45246  45246   \n",
       "parse       [u'D31043.M.100.T.D']            0     43842     43842  43842   \n",
       "            [u'D31043.M.100.T.F']            0     44033     44033  44033   \n",
       "            [u'D31043.M.100.T.G']            0     41689     41689  41689   \n",
       "            [u'D31043.M.100.T.H']            0     41223     41223  41223   \n",
       "\n",
       "                                   delta_r2bl_r2  ratio_r2_vs_r2bl  \\\n",
       "phrase_type ref_summary                                              \n",
       "None        [u'D31043.M.100.T.D']          45499             45499   \n",
       "            [u'D31043.M.100.T.F']          45543             45543   \n",
       "            [u'D31043.M.100.T.G']          40720             40720   \n",
       "            [u'D31043.M.100.T.H']          45246             45246   \n",
       "parse       [u'D31043.M.100.T.D']          43842             43842   \n",
       "            [u'D31043.M.100.T.F']          44033             44033   \n",
       "            [u'D31043.M.100.T.G']          41689             41689   \n",
       "            [u'D31043.M.100.T.H']          41223             41223   \n",
       "\n",
       "                                   delta_r2ub  ratio_r2ub  \\\n",
       "phrase_type ref_summary                                     \n",
       "None        [u'D31043.M.100.T.D']       45499       45499   \n",
       "            [u'D31043.M.100.T.F']       45543       45543   \n",
       "            [u'D31043.M.100.T.G']       40720       40720   \n",
       "            [u'D31043.M.100.T.H']       45246       45246   \n",
       "parse       [u'D31043.M.100.T.D']       43842       43842   \n",
       "            [u'D31043.M.100.T.F']       44033       44033   \n",
       "            [u'D31043.M.100.T.G']       41689       41689   \n",
       "            [u'D31043.M.100.T.H']       41223       41223   \n",
       "\n",
       "                                   ratio_r2ub_vs_feedback  \n",
       "phrase_type ref_summary                                    \n",
       "None        [u'D31043.M.100.T.D']                   45499  \n",
       "            [u'D31043.M.100.T.F']                   45543  \n",
       "            [u'D31043.M.100.T.G']                   40720  \n",
       "            [u'D31043.M.100.T.H']                   45246  \n",
       "parse       [u'D31043.M.100.T.D']                   43842  \n",
       "            [u'D31043.M.100.T.F']                   44033  \n",
       "            [u'D31043.M.100.T.G']                   41689  \n",
       "            [u'D31043.M.100.T.H']                   41223  \n",
       "\n",
       "[8 rows x 38 columns]"
      ]
     },
     "execution_count": 75,
     "metadata": {},
     "output_type": "execute_result"
    }
   ],
   "source": [
    "df.groupby([\"phrase_type\", \"ref_summary\"]).count()"
   ]
  },
  {
   "cell_type": "code",
   "execution_count": 76,
   "metadata": {
    "collapsed": false
   },
   "outputs": [
    {
     "data": {
      "text/html": [
       "<div>\n",
       "<table border=\"1\" class=\"dataframe\">\n",
       "  <thead>\n",
       "    <tr style=\"text-align: right;\">\n",
       "      <th></th>\n",
       "      <th>accept</th>\n",
       "      <th>accept_new</th>\n",
       "      <th>cfg</th>\n",
       "      <th>classtype</th>\n",
       "      <th>cutoff_threshold</th>\n",
       "      <th>embeddings</th>\n",
       "      <th>feedback_new</th>\n",
       "      <th>iterations_accept</th>\n",
       "      <th>iterations_reject</th>\n",
       "      <th>mass_accept</th>\n",
       "      <th>...</th>\n",
       "      <th>ub_r4</th>\n",
       "      <th>window_size</th>\n",
       "      <th>acceptbl</th>\n",
       "      <th>rejectbl</th>\n",
       "      <th>r2bl</th>\n",
       "      <th>delta_r2bl_r2</th>\n",
       "      <th>ratio_r2_vs_r2bl</th>\n",
       "      <th>delta_r2ub</th>\n",
       "      <th>ratio_r2ub</th>\n",
       "      <th>ratio_r2ub_vs_feedback</th>\n",
       "    </tr>\n",
       "    <tr>\n",
       "      <th>ref_summary</th>\n",
       "      <th></th>\n",
       "      <th></th>\n",
       "      <th></th>\n",
       "      <th></th>\n",
       "      <th></th>\n",
       "      <th></th>\n",
       "      <th></th>\n",
       "      <th></th>\n",
       "      <th></th>\n",
       "      <th></th>\n",
       "      <th></th>\n",
       "      <th></th>\n",
       "      <th></th>\n",
       "      <th></th>\n",
       "      <th></th>\n",
       "      <th></th>\n",
       "      <th></th>\n",
       "      <th></th>\n",
       "      <th></th>\n",
       "      <th></th>\n",
       "      <th></th>\n",
       "    </tr>\n",
       "  </thead>\n",
       "  <tbody>\n",
       "    <tr>\n",
       "      <th>[u'D31043.M.100.T.D']</th>\n",
       "      <td>89341</td>\n",
       "      <td>89341</td>\n",
       "      <td>89341</td>\n",
       "      <td>89341</td>\n",
       "      <td>85911</td>\n",
       "      <td>89341</td>\n",
       "      <td>89341</td>\n",
       "      <td>85911</td>\n",
       "      <td>85911</td>\n",
       "      <td>85911</td>\n",
       "      <td>...</td>\n",
       "      <td>89341</td>\n",
       "      <td>3394</td>\n",
       "      <td>89341</td>\n",
       "      <td>89341</td>\n",
       "      <td>89341</td>\n",
       "      <td>89341</td>\n",
       "      <td>89341</td>\n",
       "      <td>89341</td>\n",
       "      <td>89341</td>\n",
       "      <td>89341</td>\n",
       "    </tr>\n",
       "    <tr>\n",
       "      <th>[u'D31043.M.100.T.F']</th>\n",
       "      <td>89576</td>\n",
       "      <td>89576</td>\n",
       "      <td>89576</td>\n",
       "      <td>89576</td>\n",
       "      <td>86420</td>\n",
       "      <td>89576</td>\n",
       "      <td>89576</td>\n",
       "      <td>86420</td>\n",
       "      <td>86420</td>\n",
       "      <td>86420</td>\n",
       "      <td>...</td>\n",
       "      <td>89576</td>\n",
       "      <td>3122</td>\n",
       "      <td>89576</td>\n",
       "      <td>89576</td>\n",
       "      <td>89576</td>\n",
       "      <td>89576</td>\n",
       "      <td>89576</td>\n",
       "      <td>89576</td>\n",
       "      <td>89576</td>\n",
       "      <td>89576</td>\n",
       "    </tr>\n",
       "    <tr>\n",
       "      <th>[u'D31043.M.100.T.G']</th>\n",
       "      <td>82409</td>\n",
       "      <td>82409</td>\n",
       "      <td>82409</td>\n",
       "      <td>82409</td>\n",
       "      <td>79404</td>\n",
       "      <td>82409</td>\n",
       "      <td>82409</td>\n",
       "      <td>79404</td>\n",
       "      <td>79404</td>\n",
       "      <td>79404</td>\n",
       "      <td>...</td>\n",
       "      <td>82409</td>\n",
       "      <td>2972</td>\n",
       "      <td>82409</td>\n",
       "      <td>82409</td>\n",
       "      <td>82409</td>\n",
       "      <td>82409</td>\n",
       "      <td>82409</td>\n",
       "      <td>82409</td>\n",
       "      <td>82409</td>\n",
       "      <td>82409</td>\n",
       "    </tr>\n",
       "    <tr>\n",
       "      <th>[u'D31043.M.100.T.H']</th>\n",
       "      <td>86469</td>\n",
       "      <td>86469</td>\n",
       "      <td>86469</td>\n",
       "      <td>86469</td>\n",
       "      <td>83451</td>\n",
       "      <td>86469</td>\n",
       "      <td>86469</td>\n",
       "      <td>83451</td>\n",
       "      <td>83451</td>\n",
       "      <td>83451</td>\n",
       "      <td>...</td>\n",
       "      <td>86469</td>\n",
       "      <td>2984</td>\n",
       "      <td>86469</td>\n",
       "      <td>86469</td>\n",
       "      <td>86469</td>\n",
       "      <td>86469</td>\n",
       "      <td>86469</td>\n",
       "      <td>86469</td>\n",
       "      <td>86469</td>\n",
       "      <td>86469</td>\n",
       "    </tr>\n",
       "  </tbody>\n",
       "</table>\n",
       "<p>4 rows × 39 columns</p>\n",
       "</div>"
      ],
      "text/plain": [
       "                       accept  accept_new    cfg  classtype  cutoff_threshold  \\\n",
       "ref_summary                                                                     \n",
       "[u'D31043.M.100.T.D']   89341       89341  89341      89341             85911   \n",
       "[u'D31043.M.100.T.F']   89576       89576  89576      89576             86420   \n",
       "[u'D31043.M.100.T.G']   82409       82409  82409      82409             79404   \n",
       "[u'D31043.M.100.T.H']   86469       86469  86469      86469             83451   \n",
       "\n",
       "                       embeddings  feedback_new  iterations_accept  \\\n",
       "ref_summary                                                          \n",
       "[u'D31043.M.100.T.D']       89341         89341              85911   \n",
       "[u'D31043.M.100.T.F']       89576         89576              86420   \n",
       "[u'D31043.M.100.T.G']       82409         82409              79404   \n",
       "[u'D31043.M.100.T.H']       86469         86469              83451   \n",
       "\n",
       "                       iterations_reject  mass_accept           ...            \\\n",
       "ref_summary                                                     ...             \n",
       "[u'D31043.M.100.T.D']              85911        85911           ...             \n",
       "[u'D31043.M.100.T.F']              86420        86420           ...             \n",
       "[u'D31043.M.100.T.G']              79404        79404           ...             \n",
       "[u'D31043.M.100.T.H']              83451        83451           ...             \n",
       "\n",
       "                       ub_r4  window_size  acceptbl  rejectbl   r2bl  \\\n",
       "ref_summary                                                            \n",
       "[u'D31043.M.100.T.D']  89341         3394     89341     89341  89341   \n",
       "[u'D31043.M.100.T.F']  89576         3122     89576     89576  89576   \n",
       "[u'D31043.M.100.T.G']  82409         2972     82409     82409  82409   \n",
       "[u'D31043.M.100.T.H']  86469         2984     86469     86469  86469   \n",
       "\n",
       "                       delta_r2bl_r2  ratio_r2_vs_r2bl  delta_r2ub  \\\n",
       "ref_summary                                                          \n",
       "[u'D31043.M.100.T.D']          89341             89341       89341   \n",
       "[u'D31043.M.100.T.F']          89576             89576       89576   \n",
       "[u'D31043.M.100.T.G']          82409             82409       82409   \n",
       "[u'D31043.M.100.T.H']          86469             86469       86469   \n",
       "\n",
       "                       ratio_r2ub  ratio_r2ub_vs_feedback  \n",
       "ref_summary                                                \n",
       "[u'D31043.M.100.T.D']       89341                   89341  \n",
       "[u'D31043.M.100.T.F']       89576                   89576  \n",
       "[u'D31043.M.100.T.G']       82409                   82409  \n",
       "[u'D31043.M.100.T.H']       86469                   86469  \n",
       "\n",
       "[4 rows x 39 columns]"
      ]
     },
     "execution_count": 76,
     "metadata": {},
     "output_type": "execute_result"
    }
   ],
   "source": [
    "df.groupby(\"ref_summary\").count()"
   ]
  },
  {
   "cell_type": "markdown",
   "metadata": {},
   "source": [
    "What classtypes are there? And how many of each?"
   ]
  },
  {
   "cell_type": "code",
   "execution_count": 77,
   "metadata": {
    "collapsed": false
   },
   "outputs": [
    {
     "data": {
      "text/html": [
       "<div>\n",
       "<table border=\"1\" class=\"dataframe\">\n",
       "  <thead>\n",
       "    <tr style=\"text-align: right;\">\n",
       "      <th></th>\n",
       "      <th>accept</th>\n",
       "      <th>accept_new</th>\n",
       "      <th>cfg</th>\n",
       "      <th>cutoff_threshold</th>\n",
       "      <th>embeddings</th>\n",
       "      <th>feedback_new</th>\n",
       "      <th>iterations_accept</th>\n",
       "      <th>iterations_reject</th>\n",
       "      <th>mass_accept</th>\n",
       "      <th>mass_reject</th>\n",
       "      <th>...</th>\n",
       "      <th>ub_r4</th>\n",
       "      <th>window_size</th>\n",
       "      <th>acceptbl</th>\n",
       "      <th>rejectbl</th>\n",
       "      <th>r2bl</th>\n",
       "      <th>delta_r2bl_r2</th>\n",
       "      <th>ratio_r2_vs_r2bl</th>\n",
       "      <th>delta_r2ub</th>\n",
       "      <th>ratio_r2ub</th>\n",
       "      <th>ratio_r2ub_vs_feedback</th>\n",
       "    </tr>\n",
       "    <tr>\n",
       "      <th>classtype</th>\n",
       "      <th></th>\n",
       "      <th></th>\n",
       "      <th></th>\n",
       "      <th></th>\n",
       "      <th></th>\n",
       "      <th></th>\n",
       "      <th></th>\n",
       "      <th></th>\n",
       "      <th></th>\n",
       "      <th></th>\n",
       "      <th></th>\n",
       "      <th></th>\n",
       "      <th></th>\n",
       "      <th></th>\n",
       "      <th></th>\n",
       "      <th></th>\n",
       "      <th></th>\n",
       "      <th></th>\n",
       "      <th></th>\n",
       "      <th></th>\n",
       "      <th></th>\n",
       "    </tr>\n",
       "  </thead>\n",
       "  <tbody>\n",
       "    <tr>\n",
       "      <th>BaselineFeedbackStore</th>\n",
       "      <td>137</td>\n",
       "      <td>137</td>\n",
       "      <td>137</td>\n",
       "      <td>0</td>\n",
       "      <td>137</td>\n",
       "      <td>137</td>\n",
       "      <td>0</td>\n",
       "      <td>0</td>\n",
       "      <td>0</td>\n",
       "      <td>0</td>\n",
       "      <td>...</td>\n",
       "      <td>137</td>\n",
       "      <td>0</td>\n",
       "      <td>137</td>\n",
       "      <td>137</td>\n",
       "      <td>137</td>\n",
       "      <td>137</td>\n",
       "      <td>137</td>\n",
       "      <td>137</td>\n",
       "      <td>137</td>\n",
       "      <td>137</td>\n",
       "    </tr>\n",
       "    <tr>\n",
       "      <th>SimpleNgramFeedbackGraph</th>\n",
       "      <td>12472</td>\n",
       "      <td>12472</td>\n",
       "      <td>12472</td>\n",
       "      <td>0</td>\n",
       "      <td>12472</td>\n",
       "      <td>12472</td>\n",
       "      <td>0</td>\n",
       "      <td>0</td>\n",
       "      <td>0</td>\n",
       "      <td>0</td>\n",
       "      <td>...</td>\n",
       "      <td>12472</td>\n",
       "      <td>12472</td>\n",
       "      <td>12472</td>\n",
       "      <td>12472</td>\n",
       "      <td>12472</td>\n",
       "      <td>12472</td>\n",
       "      <td>12472</td>\n",
       "      <td>12472</td>\n",
       "      <td>12472</td>\n",
       "      <td>12472</td>\n",
       "    </tr>\n",
       "    <tr>\n",
       "      <th>WordEmbeddingGaussianFeedbackGraph</th>\n",
       "      <td>18659</td>\n",
       "      <td>18659</td>\n",
       "      <td>18659</td>\n",
       "      <td>18659</td>\n",
       "      <td>18659</td>\n",
       "      <td>18659</td>\n",
       "      <td>18659</td>\n",
       "      <td>18659</td>\n",
       "      <td>18659</td>\n",
       "      <td>18659</td>\n",
       "      <td>...</td>\n",
       "      <td>18659</td>\n",
       "      <td>0</td>\n",
       "      <td>18659</td>\n",
       "      <td>18659</td>\n",
       "      <td>18659</td>\n",
       "      <td>18659</td>\n",
       "      <td>18659</td>\n",
       "      <td>18659</td>\n",
       "      <td>18659</td>\n",
       "      <td>18659</td>\n",
       "    </tr>\n",
       "    <tr>\n",
       "      <th>WordEmbeddingRandomWalkDiffusionFeedbackGraph</th>\n",
       "      <td>316527</td>\n",
       "      <td>316527</td>\n",
       "      <td>316527</td>\n",
       "      <td>316527</td>\n",
       "      <td>316527</td>\n",
       "      <td>316527</td>\n",
       "      <td>316527</td>\n",
       "      <td>316527</td>\n",
       "      <td>316527</td>\n",
       "      <td>316527</td>\n",
       "      <td>...</td>\n",
       "      <td>316527</td>\n",
       "      <td>0</td>\n",
       "      <td>316527</td>\n",
       "      <td>316527</td>\n",
       "      <td>316527</td>\n",
       "      <td>316527</td>\n",
       "      <td>316527</td>\n",
       "      <td>316527</td>\n",
       "      <td>316527</td>\n",
       "      <td>316527</td>\n",
       "    </tr>\n",
       "  </tbody>\n",
       "</table>\n",
       "<p>4 rows × 39 columns</p>\n",
       "</div>"
      ],
      "text/plain": [
       "                                               accept  accept_new     cfg  \\\n",
       "classtype                                                                   \n",
       "BaselineFeedbackStore                             137         137     137   \n",
       "SimpleNgramFeedbackGraph                        12472       12472   12472   \n",
       "WordEmbeddingGaussianFeedbackGraph              18659       18659   18659   \n",
       "WordEmbeddingRandomWalkDiffusionFeedbackGraph  316527      316527  316527   \n",
       "\n",
       "                                               cutoff_threshold  embeddings  \\\n",
       "classtype                                                                     \n",
       "BaselineFeedbackStore                                         0         137   \n",
       "SimpleNgramFeedbackGraph                                      0       12472   \n",
       "WordEmbeddingGaussianFeedbackGraph                        18659       18659   \n",
       "WordEmbeddingRandomWalkDiffusionFeedbackGraph            316527      316527   \n",
       "\n",
       "                                               feedback_new  \\\n",
       "classtype                                                     \n",
       "BaselineFeedbackStore                                   137   \n",
       "SimpleNgramFeedbackGraph                              12472   \n",
       "WordEmbeddingGaussianFeedbackGraph                    18659   \n",
       "WordEmbeddingRandomWalkDiffusionFeedbackGraph        316527   \n",
       "\n",
       "                                               iterations_accept  \\\n",
       "classtype                                                          \n",
       "BaselineFeedbackStore                                          0   \n",
       "SimpleNgramFeedbackGraph                                       0   \n",
       "WordEmbeddingGaussianFeedbackGraph                         18659   \n",
       "WordEmbeddingRandomWalkDiffusionFeedbackGraph             316527   \n",
       "\n",
       "                                               iterations_reject  mass_accept  \\\n",
       "classtype                                                                       \n",
       "BaselineFeedbackStore                                          0            0   \n",
       "SimpleNgramFeedbackGraph                                       0            0   \n",
       "WordEmbeddingGaussianFeedbackGraph                         18659        18659   \n",
       "WordEmbeddingRandomWalkDiffusionFeedbackGraph             316527       316527   \n",
       "\n",
       "                                               mass_reject  \\\n",
       "classtype                                                    \n",
       "BaselineFeedbackStore                                    0   \n",
       "SimpleNgramFeedbackGraph                                 0   \n",
       "WordEmbeddingGaussianFeedbackGraph                   18659   \n",
       "WordEmbeddingRandomWalkDiffusionFeedbackGraph       316527   \n",
       "\n",
       "                                                        ...             ub_r4  \\\n",
       "classtype                                               ...                     \n",
       "BaselineFeedbackStore                                   ...               137   \n",
       "SimpleNgramFeedbackGraph                                ...             12472   \n",
       "WordEmbeddingGaussianFeedbackGraph                      ...             18659   \n",
       "WordEmbeddingRandomWalkDiffusionFeedbackGraph           ...            316527   \n",
       "\n",
       "                                               window_size  acceptbl  \\\n",
       "classtype                                                              \n",
       "BaselineFeedbackStore                                    0       137   \n",
       "SimpleNgramFeedbackGraph                             12472     12472   \n",
       "WordEmbeddingGaussianFeedbackGraph                       0     18659   \n",
       "WordEmbeddingRandomWalkDiffusionFeedbackGraph            0    316527   \n",
       "\n",
       "                                               rejectbl    r2bl  \\\n",
       "classtype                                                         \n",
       "BaselineFeedbackStore                               137     137   \n",
       "SimpleNgramFeedbackGraph                          12472   12472   \n",
       "WordEmbeddingGaussianFeedbackGraph                18659   18659   \n",
       "WordEmbeddingRandomWalkDiffusionFeedbackGraph    316527  316527   \n",
       "\n",
       "                                               delta_r2bl_r2  \\\n",
       "classtype                                                      \n",
       "BaselineFeedbackStore                                    137   \n",
       "SimpleNgramFeedbackGraph                               12472   \n",
       "WordEmbeddingGaussianFeedbackGraph                     18659   \n",
       "WordEmbeddingRandomWalkDiffusionFeedbackGraph         316527   \n",
       "\n",
       "                                               ratio_r2_vs_r2bl  delta_r2ub  \\\n",
       "classtype                                                                     \n",
       "BaselineFeedbackStore                                       137         137   \n",
       "SimpleNgramFeedbackGraph                                  12472       12472   \n",
       "WordEmbeddingGaussianFeedbackGraph                        18659       18659   \n",
       "WordEmbeddingRandomWalkDiffusionFeedbackGraph            316527      316527   \n",
       "\n",
       "                                               ratio_r2ub  \\\n",
       "classtype                                                   \n",
       "BaselineFeedbackStore                                 137   \n",
       "SimpleNgramFeedbackGraph                            12472   \n",
       "WordEmbeddingGaussianFeedbackGraph                  18659   \n",
       "WordEmbeddingRandomWalkDiffusionFeedbackGraph      316527   \n",
       "\n",
       "                                               ratio_r2ub_vs_feedback  \n",
       "classtype                                                              \n",
       "BaselineFeedbackStore                                             137  \n",
       "SimpleNgramFeedbackGraph                                        12472  \n",
       "WordEmbeddingGaussianFeedbackGraph                              18659  \n",
       "WordEmbeddingRandomWalkDiffusionFeedbackGraph                  316527  \n",
       "\n",
       "[4 rows x 39 columns]"
      ]
     },
     "execution_count": 77,
     "metadata": {},
     "output_type": "execute_result"
    }
   ],
   "source": [
    "df.groupby(\"classtype\").count()"
   ]
  },
  {
   "cell_type": "code",
   "execution_count": 78,
   "metadata": {
    "collapsed": false
   },
   "outputs": [
    {
     "data": {
      "text/html": [
       "<div>\n",
       "<table border=\"1\" class=\"dataframe\">\n",
       "  <thead>\n",
       "    <tr style=\"text-align: right;\">\n",
       "      <th></th>\n",
       "      <th>accept</th>\n",
       "      <th>accept_new</th>\n",
       "      <th>cfg</th>\n",
       "      <th>classtype</th>\n",
       "      <th>cutoff_threshold</th>\n",
       "      <th>embeddings</th>\n",
       "      <th>feedback_new</th>\n",
       "      <th>iterations_accept</th>\n",
       "      <th>iterations_reject</th>\n",
       "      <th>mass_accept</th>\n",
       "      <th>...</th>\n",
       "      <th>ub_r4</th>\n",
       "      <th>window_size</th>\n",
       "      <th>acceptbl</th>\n",
       "      <th>rejectbl</th>\n",
       "      <th>r2bl</th>\n",
       "      <th>delta_r2bl_r2</th>\n",
       "      <th>ratio_r2_vs_r2bl</th>\n",
       "      <th>delta_r2ub</th>\n",
       "      <th>ratio_r2ub</th>\n",
       "      <th>ratio_r2ub_vs_feedback</th>\n",
       "    </tr>\n",
       "    <tr>\n",
       "      <th>oracle</th>\n",
       "      <th></th>\n",
       "      <th></th>\n",
       "      <th></th>\n",
       "      <th></th>\n",
       "      <th></th>\n",
       "      <th></th>\n",
       "      <th></th>\n",
       "      <th></th>\n",
       "      <th></th>\n",
       "      <th></th>\n",
       "      <th></th>\n",
       "      <th></th>\n",
       "      <th></th>\n",
       "      <th></th>\n",
       "      <th></th>\n",
       "      <th></th>\n",
       "      <th></th>\n",
       "      <th></th>\n",
       "      <th></th>\n",
       "      <th></th>\n",
       "      <th></th>\n",
       "    </tr>\n",
       "  </thead>\n",
       "  <tbody>\n",
       "    <tr>\n",
       "      <th>accept_reject</th>\n",
       "      <td>174286</td>\n",
       "      <td>174286</td>\n",
       "      <td>174286</td>\n",
       "      <td>174286</td>\n",
       "      <td>169644</td>\n",
       "      <td>174286</td>\n",
       "      <td>174286</td>\n",
       "      <td>169644</td>\n",
       "      <td>169644</td>\n",
       "      <td>169644</td>\n",
       "      <td>...</td>\n",
       "      <td>174286</td>\n",
       "      <td>4574</td>\n",
       "      <td>174286</td>\n",
       "      <td>174286</td>\n",
       "      <td>174286</td>\n",
       "      <td>174286</td>\n",
       "      <td>174286</td>\n",
       "      <td>174286</td>\n",
       "      <td>174286</td>\n",
       "      <td>174286</td>\n",
       "    </tr>\n",
       "    <tr>\n",
       "      <th>active_learning</th>\n",
       "      <td>173509</td>\n",
       "      <td>173509</td>\n",
       "      <td>173509</td>\n",
       "      <td>173509</td>\n",
       "      <td>165542</td>\n",
       "      <td>173509</td>\n",
       "      <td>173509</td>\n",
       "      <td>165542</td>\n",
       "      <td>165542</td>\n",
       "      <td>165542</td>\n",
       "      <td>...</td>\n",
       "      <td>173509</td>\n",
       "      <td>7898</td>\n",
       "      <td>173509</td>\n",
       "      <td>173509</td>\n",
       "      <td>173509</td>\n",
       "      <td>173509</td>\n",
       "      <td>173509</td>\n",
       "      <td>173509</td>\n",
       "      <td>173509</td>\n",
       "      <td>173509</td>\n",
       "    </tr>\n",
       "  </tbody>\n",
       "</table>\n",
       "<p>2 rows × 39 columns</p>\n",
       "</div>"
      ],
      "text/plain": [
       "                 accept  accept_new     cfg  classtype  cutoff_threshold  \\\n",
       "oracle                                                                     \n",
       "accept_reject    174286      174286  174286     174286            169644   \n",
       "active_learning  173509      173509  173509     173509            165542   \n",
       "\n",
       "                 embeddings  feedback_new  iterations_accept  \\\n",
       "oracle                                                         \n",
       "accept_reject        174286        174286             169644   \n",
       "active_learning      173509        173509             165542   \n",
       "\n",
       "                 iterations_reject  mass_accept           ...            \\\n",
       "oracle                                                    ...             \n",
       "accept_reject               169644       169644           ...             \n",
       "active_learning             165542       165542           ...             \n",
       "\n",
       "                  ub_r4  window_size  acceptbl  rejectbl    r2bl  \\\n",
       "oracle                                                             \n",
       "accept_reject    174286         4574    174286    174286  174286   \n",
       "active_learning  173509         7898    173509    173509  173509   \n",
       "\n",
       "                 delta_r2bl_r2  ratio_r2_vs_r2bl  delta_r2ub  ratio_r2ub  \\\n",
       "oracle                                                                     \n",
       "accept_reject           174286            174286      174286      174286   \n",
       "active_learning         173509            173509      173509      173509   \n",
       "\n",
       "                 ratio_r2ub_vs_feedback  \n",
       "oracle                                   \n",
       "accept_reject                    174286  \n",
       "active_learning                  173509  \n",
       "\n",
       "[2 rows x 39 columns]"
      ]
     },
     "execution_count": 78,
     "metadata": {},
     "output_type": "execute_result"
    }
   ],
   "source": [
    "df.groupby(\"oracle\").count()"
   ]
  },
  {
   "cell_type": "code",
   "execution_count": 79,
   "metadata": {
    "collapsed": false
   },
   "outputs": [
    {
     "data": {
      "text/plain": [
       "2948"
      ]
     },
     "execution_count": 79,
     "metadata": {},
     "output_type": "execute_result"
    }
   ],
   "source": [
    "len(df.groupby(\"cfg\").count())"
   ]
  },
  {
   "cell_type": "code",
   "execution_count": 80,
   "metadata": {
    "collapsed": false
   },
   "outputs": [
    {
     "data": {
      "text/plain": [
       "2948"
      ]
     },
     "execution_count": 80,
     "metadata": {},
     "output_type": "execute_result"
    }
   ],
   "source": [
    "len(df.groupby([\"parent\", \"cfg\"]).count())"
   ]
  },
  {
   "cell_type": "markdown",
   "metadata": {},
   "source": [
    "Methods\n",
    "==="
   ]
  },
  {
   "cell_type": "code",
   "execution_count": 81,
   "metadata": {
    "collapsed": false
   },
   "outputs": [],
   "source": [
    "def scatterplot(data, locs, x='ratio_r2_vs_r2bl',y='total_feedback'):\n",
    "    ax = None\n",
    "    l = locs[0]\n",
    "    c = plt.get_cmap(\"Vega10\").colors[0];\n",
    "    ax = data.loc[l].plot.scatter(x=x, y=y, color=c);\n",
    "\n",
    "    for i in range(1, len(locs)):\n",
    "        l = locs[i]\n",
    "        c = plt.get_cmap(\"Vega10\").colors[i];\n",
    "        ax = data.loc[l].plot.scatter(x=x, y=y, color=c, ax=ax);\n",
    "    plt.show()"
   ]
  },
  {
   "cell_type": "code",
   "execution_count": 82,
   "metadata": {
    "collapsed": false
   },
   "outputs": [],
   "source": [
    "def myplot(df, indep_var, dep_var, style = None, groupby = None, classtype = None, save=False, prefix=None, **kwargs):\n",
    "    style = style or \"whisker\"\n",
    "    classtype = classtype or \"all\"\n",
    "    \n",
    "    if groupby is None:\n",
    "        data = df.loc[:,[dep, indep]]\n",
    "    else:\n",
    "        data = df.loc[:,[dep, indep, grouping_var]].groupby(groupby)\n",
    "        \n",
    "#    try:\n",
    "    if style is \"groupby\":\n",
    "        #groupby = groupby or indep_var\n",
    "        data.boxplot(by=indep_var, showmeans=True, rot=90, fontsize=\"8\", meanline=True, sym=\"+\", vert=True, **kwargs)\n",
    "    if style is \"whisker\":\n",
    "        #groupby = groupby or indep_var\n",
    "        data.boxplot(by=indep_var, showmeans=True, meanline=True, rot=90, fontsize=\"8\", sym=\"+\", vert=True, **kwargs)\n",
    "    if style is \"line\":\n",
    "        #groupby = groupby or indep_var\n",
    "        data.agg([np.min, np.mean, np.median, np.max])\\\n",
    "            .plot(marker=\"o\", **kwargs)\n",
    "\n",
    "\n",
    "    #delta2.boxplot(by=col, figsize=(10,4), showmeans=True, meanline=True, sym=\"+\", vert=True)\n",
    "    if save:\n",
    "        filename =  \"%s-%s-%s-%s-%s.pdf\" % (classtype, groupby, dep_var, indep_var, style)\n",
    "        if prefix:\n",
    "            filename = prefix +\"--\" + filename\n",
    "        plt.savefig(path.join(basepath, filename))\n",
    "    plt.show()\n",
    "    plt.close()\n",
    "#    except:\n",
    "#        print \"problem while plotting \", indep_var, dep_var\n",
    "#        plt.close()\n",
    "\n",
    "def bp(data, col, dep_var, grouping = None, classtype=\"\"):\n",
    "    try:\n",
    "        if grouping is \"groupby\":\n",
    "            data.loc[:,[col,  dep_var, \"ref_summary\"]].groupby(\"ref_summary\").boxplot(by=col, showmeans=True, meanline=True, sym=\"+\", vert=True)\n",
    "        elif grouping is None:\n",
    "            data.loc[:,[col,  dep_var, \"ref_summary\"]].boxplot(by=col, figsize=(10,4), showmeans=True, meanline=True, sym=\"+\", vert=True)\n",
    "        elif grouping is \"line\":\n",
    "            data.loc[:,[col,  dep_var, \"ref_summary\"]].groupby(col).agg([np.min, np.mean, np.median, np.max]).plot(marker=\"o\")\n",
    "\n",
    "        #delta2.boxplot(by=col, figsize=(10,4), showmeans=True, meanline=True, sym=\"+\", vert=True)\n",
    "        plt.savefig(path.join(basepath, \"%s-%s-%s-per-summary-%s.pdf\" % (grouping, classtype, dep_var,col)))\n",
    "        plt.show()\n",
    "        plt.close()\n",
    "    except:\n",
    "        print \"problem while plotting \", col, dep_var\n",
    "        plt.close()\n"
   ]
  },
  {
   "cell_type": "markdown",
   "metadata": {},
   "source": [
    "User study analysis\n",
    "===\n",
    "\n",
    "Analysing only the configurations that are part of the user study:\n",
    "\n",
    "* concept-type: parse\n",
    "* summarizer-type: propagation\n",
    "* oracle: active_learning2\n",
    "* GB:   `{\"mass_reject\": 0.0, \"iterations_accept\": 128, \"mass_accept\": 4.0, \"cutoff_threshold\": 0.6, \"type\": \"WordEmbeddingGaussianFeedbackGraph\", \"iterations_reject\": 16}`\n",
    "* RW: `{\"mass_reject\": -1.0, \"iterations_accept\": 200, \"propagation_abort_threshold\": 0.25, \"mass_accept\": 1.0, \"cut_off_threshold\": 0.6, \"type\": \"WordEmbeddingRandomWalkDiffusionFeedbackGraph\", \"iterations_reject\": 1024}\n",
    "`\n",
    "  \n",
    "\n",
    "\n",
    "\n"
   ]
  },
  {
   "cell_type": "markdown",
   "metadata": {},
   "source": [
    "Option 1: Random Walk\n",
    "----"
   ]
  },
  {
   "cell_type": "code",
   "execution_count": 83,
   "metadata": {
    "collapsed": false
   },
   "outputs": [
    {
     "name": "stdout",
     "output_type": "stream",
     "text": [
      "oracle                \n",
      "accept_reject    count    4.000000\n",
      "                 mean     0.128952\n",
      "                 std      0.075813\n",
      "                 min      0.068630\n",
      "                 25%      0.074848\n",
      "                 50%      0.107085\n",
      "                 75%      0.161190\n",
      "                 max      0.233010\n",
      "active_learning  count    4.000000\n",
      "                 mean     0.126500\n",
      "                 std      0.078525\n",
      "                 min      0.058820\n",
      "                 25%      0.072395\n",
      "                 50%      0.107085\n",
      "                 75%      0.161190\n",
      "                 max      0.233010\n",
      "Name: r2, dtype: float64\n",
      "oracle                \n",
      "accept_reject    count    4.000000\n",
      "                 mean     7.000000\n",
      "                 std      1.825742\n",
      "                 min      5.000000\n",
      "                 25%      5.750000\n",
      "                 50%      7.000000\n",
      "                 75%      8.250000\n",
      "                 max      9.000000\n",
      "active_learning  count    4.000000\n",
      "                 mean     6.750000\n",
      "                 std      2.217356\n",
      "                 min      4.000000\n",
      "                 25%      5.500000\n",
      "                 50%      7.000000\n",
      "                 75%      8.250000\n",
      "                 max      9.000000\n",
      "Name: num_iterations, dtype: float64\n"
     ]
    }
   ],
   "source": [
    "rw = D31043.loc[df.classtype.str.contains(\"WordEmbeddingRandomWalkDiffusionFeedbackGraph\")]\\\n",
    "        .loc[df.mass_accept == 1]\\\n",
    "        .loc[df.mass_reject == -1]\\\n",
    "        .loc[df.iterations_accept == 1024]\\\n",
    "        .loc[df.iterations_reject == 200]\\\n",
    "        .loc[df.cutoff_threshold == 0.6]\\\n",
    "        .loc[df.propagation_abort_threshold == 0.25]\\\n",
    "        .loc[df.phrase_type == \"parse\"]\n",
    "\n",
    "# use the highest iteration only\n",
    "rw = rw.sort_values(by=\"num_iterations\", ascending= False).drop_duplicates([\"cfg\", \"classtype\", \"ref_summary\",\"oracle\", \"embeddings\", \"phrase_type\"])\n",
    "\n",
    "print rw.groupby(\"oracle\")[\"r2\"].describe()\n",
    "print rw.groupby(\"oracle\")[\"num_iterations\"].describe()"
   ]
  },
  {
   "cell_type": "markdown",
   "metadata": {},
   "source": [
    "Option 2: Gaussian Blur Feedback\n",
    "---"
   ]
  },
  {
   "cell_type": "code",
   "execution_count": 84,
   "metadata": {
    "collapsed": false
   },
   "outputs": [
    {
     "name": "stdout",
     "output_type": "stream",
     "text": [
      "oracle                \n",
      "accept_reject    count    4.000000\n",
      "                 mean     0.145920\n",
      "                 std      0.123971\n",
      "                 min      0.067310\n",
      "                 25%      0.075650\n",
      "                 50%      0.093135\n",
      "                 75%      0.163405\n",
      "                 max      0.330100\n",
      "active_learning  count    4.000000\n",
      "                 mean     0.153202\n",
      "                 std      0.125059\n",
      "                 min      0.076920\n",
      "                 25%      0.085410\n",
      "                 50%      0.098040\n",
      "                 75%      0.165832\n",
      "                 max      0.339810\n",
      "Name: r2, dtype: float64\n",
      "oracle                \n",
      "accept_reject    count    4.0\n",
      "                 mean     9.0\n",
      "                 std      0.0\n",
      "                 min      9.0\n",
      "                 25%      9.0\n",
      "                 50%      9.0\n",
      "                 75%      9.0\n",
      "                 max      9.0\n",
      "active_learning  count    4.0\n",
      "                 mean     9.0\n",
      "                 std      0.0\n",
      "                 min      9.0\n",
      "                 25%      9.0\n",
      "                 50%      9.0\n",
      "                 75%      9.0\n",
      "                 max      9.0\n",
      "Name: num_iterations, dtype: float64\n"
     ]
    }
   ],
   "source": [
    "gb = D31043.loc[df.classtype.str.contains(\"WordEmbeddingGaussianFeedbackGraph\")]\\\n",
    "        .loc[df.mass_accept == 4]\\\n",
    "        .loc[df.mass_reject == 0]\\\n",
    "        .loc[df.iterations_accept == 128]\\\n",
    "        .loc[df.iterations_reject == 16]\\\n",
    "        .loc[df.cutoff_threshold == 0.6]\\\n",
    "        .loc[df.phrase_type == \"parse\"]\n",
    "\n",
    "# use the highest iteration only\n",
    "gb = gb.sort_values(by=\"num_iterations\", ascending= False).drop_duplicates([\"cfg\", \"classtype\", \"ref_summary\",\"oracle\", \"embeddings\", \"phrase_type\"])\n",
    "\n",
    "\n",
    "print gb.groupby(\"oracle\")[\"r2\"].describe()\n",
    "print gb.groupby(\"oracle\")[\"num_iterations\"].describe()"
   ]
  },
  {
   "cell_type": "markdown",
   "metadata": {},
   "source": [
    "Option 3: baseline\n",
    "---"
   ]
  },
  {
   "cell_type": "code",
   "execution_count": 86,
   "metadata": {
    "collapsed": false
   },
   "outputs": [
    {
     "name": "stdout",
     "output_type": "stream",
     "text": [
      "oracle                \n",
      "accept_reject    count    4.000000\n",
      "                 mean     0.128740\n",
      "                 std      0.115392\n",
      "                 min      0.058820\n",
      "                 25%      0.066178\n",
      "                 50%      0.077585\n",
      "                 75%      0.140148\n",
      "                 max      0.300970\n",
      "active_learning  count    4.000000\n",
      "                 mean     0.092472\n",
      "                 std      0.023265\n",
      "                 min      0.068630\n",
      "                 25%      0.074848\n",
      "                 50%      0.092380\n",
      "                 75%      0.110005\n",
      "                 max      0.116500\n",
      "Name: r2, dtype: float64\n",
      "oracle                \n",
      "accept_reject    count    4.00\n",
      "                 mean     8.50\n",
      "                 std      1.00\n",
      "                 min      7.00\n",
      "                 25%      8.50\n",
      "                 50%      9.00\n",
      "                 75%      9.00\n",
      "                 max      9.00\n",
      "active_learning  count    4.00\n",
      "                 mean     8.75\n",
      "                 std      0.50\n",
      "                 min      8.00\n",
      "                 25%      8.75\n",
      "                 50%      9.00\n",
      "                 75%      9.00\n",
      "                 max      9.00\n",
      "Name: num_iterations, dtype: float64\n"
     ]
    }
   ],
   "source": [
    "bl = D31043.loc[df.classtype.str.contains(\"BaselineFeedbackStore\")]\\\n",
    "        .loc[df.phrase_type == \"parse\"]\n",
    "\n",
    "# use the highest iteration only\n",
    "bl = bl.sort_values(by=\"num_iterations\", ascending= False).drop_duplicates([\"cfg\", \"classtype\", \"ref_summary\",\"oracle\", \"embeddings\", \"phrase_type\"])\n",
    "\n",
    "print bl.groupby(\"oracle\")[\"r2\"].describe()\n",
    "print bl.groupby(\"oracle\")[\"num_iterations\"].describe()"
   ]
  },
  {
   "cell_type": "markdown",
   "metadata": {},
   "source": [
    "Option 1-3 united\n",
    "---"
   ]
  },
  {
   "cell_type": "code",
   "execution_count": 87,
   "metadata": {
    "collapsed": false
   },
   "outputs": [],
   "source": [
    "joined = rw.append(gb).append(bl)\n"
   ]
  },
  {
   "cell_type": "code",
   "execution_count": 88,
   "metadata": {
    "collapsed": false
   },
   "outputs": [
    {
     "name": "stdout",
     "output_type": "stream",
     "text": [
      "oracle                \n",
      "accept_reject    count    12.000000\n",
      "                 mean      0.134538\n",
      "                 std       0.097269\n",
      "                 min       0.058820\n",
      "                 25%       0.068630\n",
      "                 50%       0.082485\n",
      "                 75%       0.161190\n",
      "                 max       0.330100\n",
      "active_learning  count    12.000000\n",
      "                 mean      0.124058\n",
      "                 std       0.082271\n",
      "                 min       0.058820\n",
      "                 25%       0.076920\n",
      "                 50%       0.098040\n",
      "                 75%       0.121688\n",
      "                 max       0.339810\n",
      "Name: r2, dtype: float64\n",
      "oracle                \n",
      "accept_reject    count    12.000000\n",
      "                 mean      8.166667\n",
      "                 std       1.403459\n",
      "                 min       5.000000\n",
      "                 25%       7.750000\n",
      "                 50%       9.000000\n",
      "                 75%       9.000000\n",
      "                 max       9.000000\n",
      "active_learning  count    12.000000\n",
      "                 mean      8.166667\n",
      "                 std       1.585923\n",
      "                 min       4.000000\n",
      "                 25%       8.000000\n",
      "                 50%       9.000000\n",
      "                 75%       9.000000\n",
      "                 max       9.000000\n",
      "Name: num_iterations, dtype: float64\n"
     ]
    }
   ],
   "source": [
    "print joined.groupby(\"oracle\")[\"r2\"].describe()\n",
    "print joined.groupby(\"oracle\")[\"num_iterations\"].describe()"
   ]
  },
  {
   "cell_type": "markdown",
   "metadata": {},
   "source": [
    "Defining the dependent variables of interest\n",
    "===\n",
    "\n",
    "The dependent variables are the variables that measure the impact. \n",
    "\n",
    "* `ratio_r2ub` is the relative comparison to the Upper Bound\n",
    "* `ratio_r2_vs_r2bl` is the relative comparison against the baseline. If r2 > r2bl, then we are better than the baseline!\n"
   ]
  },
  {
   "cell_type": "code",
   "execution_count": null,
   "metadata": {
    "collapsed": true
   },
   "outputs": [],
   "source": [
    "dep_vars = [\"ratio_r2ub\", \"r2\", \"ratio_r2_vs_r2bl\"]"
   ]
  },
  {
   "cell_type": "code",
   "execution_count": null,
   "metadata": {
    "collapsed": true
   },
   "outputs": [],
   "source": [
    "# the variable we want to analyse\n",
    "dep_var = \"ratio_r2ub\""
   ]
  },
  {
   "cell_type": "code",
   "execution_count": null,
   "metadata": {
    "collapsed": true
   },
   "outputs": [],
   "source": [
    "# the variable we want to analyse\n",
    "dep_var = \"ratio_r2ub\""
   ]
  },
  {
   "cell_type": "code",
   "execution_count": null,
   "metadata": {
    "collapsed": true
   },
   "outputs": [],
   "source": [
    "# the variable we want to analyse\n",
    "dep_var = \"ratio_r2ub_vs_feedback\""
   ]
  },
  {
   "cell_type": "markdown",
   "metadata": {},
   "source": [
    "Is phrase better than ngram?\n",
    "---"
   ]
  },
  {
   "cell_type": "code",
   "execution_count": null,
   "metadata": {
    "collapsed": true
   },
   "outputs": [],
   "source": []
  },
  {
   "cell_type": "code",
   "execution_count": null,
   "metadata": {
    "collapsed": false
   },
   "outputs": [],
   "source": [
    "indep_vars = [\"phrase_type\"] \n",
    "grouping_var = None\n",
    "\n",
    "dep_vars = [\"r2\", 'ratio_r2ub',  'ratio_r2_vs_r2bl']\n",
    "\n",
    "cols = [\"\"]\n",
    "cols.extend(indep_vars)\n",
    "#cols.append(grouping_var)\n",
    "cols.extend(dep_vars)\n",
    "\n",
    "if \"ref_summary\" not in cols:\n",
    "    cols.append(\"ref_summary\")\n",
    "\n",
    "\n",
    "topic1 = df.loc[:,cols]\n",
    "\n",
    "for dep in dep_vars:\n",
    "    for indep in indep_vars:\n",
    "        print dep\n",
    "        print indep\n",
    "        myplot(topic1, indep, dep, save=True, prefix=\"phrase-vs-ngram\")"
   ]
  },
  {
   "cell_type": "markdown",
   "metadata": {
    "collapsed": true
   },
   "source": [
    "Is this difference due related to the type of propagation?\n",
    "---"
   ]
  },
  {
   "cell_type": "code",
   "execution_count": null,
   "metadata": {
    "collapsed": false
   },
   "outputs": [],
   "source": [
    "indep_vars = [\"phrase_type\"] \n",
    "grouping_var = \"classtype\"\n",
    "\n",
    "dep_vars = [\"r2\", 'ratio_r2ub',  'ratio_r2_vs_r2bl']\n",
    "\n",
    "cols = []\n",
    "cols.extend(indep_vars)\n",
    "cols.append(grouping_var)\n",
    "cols.extend(dep_vars)\n",
    "\n",
    "if \"ref_summary\" not in cols:\n",
    "    cols.append(\"ref_summary\")\n",
    "\n",
    "\n",
    "topic1 = df.loc[:,cols]\n",
    "\n",
    "for dep in dep_vars:\n",
    "    for indep in indep_vars:\n",
    "        print dep\n",
    "        print indep\n",
    "        myplot(topic1, indep, dep, groupby=grouping_var, save=True, layout=(1,4), figsize=(16,4), prefix=\"concept-type-vs-classtype\")"
   ]
  },
  {
   "cell_type": "markdown",
   "metadata": {},
   "source": [
    "How do configurations develop over time?\n",
    "===\n",
    "\n",
    "* grouping by cfg and runid\n",
    "* num_iterations on x, \n",
    "* r2, accept_count, reject_count on y. "
   ]
  },
  {
   "cell_type": "code",
   "execution_count": 89,
   "metadata": {
    "collapsed": true
   },
   "outputs": [],
   "source": [
    "#data = df.sample(20000)"
   ]
  },
  {
   "cell_type": "code",
   "execution_count": 90,
   "metadata": {
    "collapsed": true
   },
   "outputs": [],
   "source": [
    "data = df"
   ]
  },
  {
   "cell_type": "code",
   "execution_count": 91,
   "metadata": {
    "collapsed": false
   },
   "outputs": [
    {
     "name": "stdout",
     "output_type": "stream",
     "text": [
      "accept_new\n",
      "num_iterations\n"
     ]
    },
    {
     "data": {
      "image/png": "[encoded data removed]",
      "text/plain": [
       "<matplotlib.figure.Figure at 0x305b0d30>"
      ]
     },
     "metadata": {},
     "output_type": "display_data"
    },
    {
     "name": "stdout",
     "output_type": "stream",
     "text": [
      "reject_new\n",
      "num_iterations\n"
     ]
    },
    {
     "data": {
      "image/png": "[encoded data removed]",
      "text/plain": [
       "<matplotlib.figure.Figure at 0x42ed7da0>"
      ]
     },
     "metadata": {},
     "output_type": "display_data"
    },
    {
     "name": "stdout",
     "output_type": "stream",
     "text": [
      "accept\n",
      "num_iterations\n"
     ]
    },
    {
     "data": {
      "image/png": "[encoded data removed]",
      "text/plain": [
       "<matplotlib.figure.Figure at 0x3b7a1518>"
      ]
     },
     "metadata": {},
     "output_type": "display_data"
    },
    {
     "name": "stdout",
     "output_type": "stream",
     "text": [
      "reject\n",
      "num_iterations\n"
     ]
    },
    {
     "data": {
      "image/png": "[encoded data removed]",
      "text/plain": [
       "<matplotlib.figure.Figure at 0x34e6f4e0>"
      ]
     },
     "metadata": {},
     "output_type": "display_data"
    }
   ],
   "source": [
    "indep_vars = [\"num_iterations\"] \n",
    "grouping_var = \"classtype\"\n",
    "\n",
    "dep_vars = [ 'accept_new', \"reject_new\", \"accept\", \"reject\"]\n",
    "\n",
    "cols = [\"parent\"]\n",
    "cols.extend(indep_vars)\n",
    "cols.append(grouping_var)\n",
    "cols.extend(dep_vars)\n",
    "\n",
    "if \"ref_summary\" not in cols:\n",
    "    cols.append(\"ref_summary\")\n",
    "\n",
    "\n",
    "topic1 = data.loc[:,cols]\n",
    "\n",
    "for dep in dep_vars:\n",
    "    for indep in indep_vars:\n",
    "        print dep\n",
    "        print indep\n",
    "        myplot(topic1, indep, dep, groupby=grouping_var, save=True, layout=(1,4), figsize=(16,4), prefix=\"feeback-over-time\")"
   ]
  },
  {
   "cell_type": "code",
   "execution_count": null,
   "metadata": {
    "collapsed": true
   },
   "outputs": [],
   "source": [
    "data = df"
   ]
  },
  {
   "cell_type": "code",
   "execution_count": null,
   "metadata": {
    "collapsed": false,
    "scrolled": true
   },
   "outputs": [],
   "source": [
    "indep_vars = [\"num_iterations\"] \n",
    "grouping_var = \"phrase_type\"\n",
    "\n",
    "dep_vars = [ 'accept_new', \"reject_new\", \"accept\", \"reject\"]\n",
    "\n",
    "cols = []\n",
    "cols.extend(indep_vars)\n",
    "cols.append(grouping_var)\n",
    "cols.extend(dep_vars)\n",
    "\n",
    "if \"ref_summary\" not in cols:\n",
    "    cols.append(\"ref_summary\")\n",
    "\n",
    "\n",
    "topic1 = data.loc[:,cols]\n",
    "\n",
    "for dep in dep_vars:\n",
    "    for indep in indep_vars:\n",
    "        print dep\n",
    "        print indep\n",
    "        myplot(topic1, indep, dep, groupby=grouping_var, save=True, layout=(1,4), figsize=(16,4), prefix=\"feeback-over-time-by-concept-type\")"
   ]
  },
  {
   "cell_type": "code",
   "execution_count": null,
   "metadata": {
    "collapsed": false
   },
   "outputs": [],
   "source": [
    "topic1.columns"
   ]
  },
  {
   "cell_type": "code",
   "execution_count": null,
   "metadata": {
    "collapsed": false
   },
   "outputs": [],
   "source": [
    "[1,2,3] + [4] + [2,3,4]"
   ]
  },
  {
   "cell_type": "code",
   "execution_count": null,
   "metadata": {
    "collapsed": false,
    "scrolled": true
   },
   "outputs": [],
   "source": [
    "indep_vars = [\"num_iterations\"] \n",
    "grouping_var = \"phrase_type\"\n",
    "\n",
    "dep_vars = [ 'accept_new', \"reject_new\", \"accept\", \"reject\"]\n",
    "\n",
    "cols = list(set(indep_vars +  [grouping_var] + dep_vars + [\"ref_summary\"]))\n",
    "\n",
    "topic1 = data.loc[:,cols]\n",
    "\n",
    "for dep in dep_vars:\n",
    "    for indep in indep_vars:\n",
    "        print dep\n",
    "        print indep\n",
    "        myplot(topic1, indep, dep, groupby=grouping_var, save=True, layout=(1,4), figsize=(16,4), prefix=\"feeback-over-time-by-concept-type\")"
   ]
  },
  {
   "cell_type": "code",
   "execution_count": null,
   "metadata": {
    "collapsed": true
   },
   "outputs": [],
   "source": [
    "data=df"
   ]
  },
  {
   "cell_type": "code",
   "execution_count": null,
   "metadata": {
    "collapsed": true
   },
   "outputs": [],
   "source": [
    "#data = df.sample(20000)"
   ]
  },
  {
   "cell_type": "code",
   "execution_count": null,
   "metadata": {
    "collapsed": false
   },
   "outputs": [],
   "source": [
    "data.groupby(\"cfg\").count()"
   ]
  },
  {
   "cell_type": "code",
   "execution_count": null,
   "metadata": {
    "collapsed": false
   },
   "outputs": [],
   "source": [
    "data.groupby(\"run_id\").count()"
   ]
  },
  {
   "cell_type": "code",
   "execution_count": null,
   "metadata": {
    "collapsed": true
   },
   "outputs": [],
   "source": [
    "key = lambda x: x.num_iterations"
   ]
  },
  {
   "cell_type": "code",
   "execution_count": null,
   "metadata": {
    "collapsed": false
   },
   "outputs": [],
   "source": [
    "d = data.loc[:,[\"run_id\",\"accept\",\"num_iterations\"]].groupby(\"num_iterations\")\n",
    "d = d.head(20)"
   ]
  },
  {
   "cell_type": "code",
   "execution_count": null,
   "metadata": {
    "collapsed": false
   },
   "outputs": [],
   "source": [
    "plt.close()\n",
    "d.plot()\n",
    "plt.show()"
   ]
  },
  {
   "cell_type": "code",
   "execution_count": null,
   "metadata": {
    "collapsed": false,
    "scrolled": false
   },
   "outputs": [],
   "source": [
    "ax = None\n",
    "cm = plt.get_cmap(\"Vega10\")\n",
    "for idx, (name, group) in enumerate(data.groupby(\"num_iterations\")):\n",
    "    print idx, name\n",
    "    if idx > 20:\n",
    "        break;\n",
    "    ax = group.plot.scatter(x=\"num_iterations\", y=\"ratio_r2_vs_r2bl\", color=cm.colors[idx % 10], ax=ax);\n",
    "\n",
    "\n",
    "plt.show()\n",
    "#for i in range(1, len(locs)):\n",
    "#    l = locs[i]\n",
    "#    c = plt.get_cmap(\"Vega10\").colors[i];\n",
    "#    ax = data.loc[l].plot.scatter(x=x, y=y, color=c, ax=ax);\n",
    "#plt.show()"
   ]
  },
  {
   "cell_type": "code",
   "execution_count": null,
   "metadata": {
    "collapsed": false
   },
   "outputs": [],
   "source": [
    "42 %3"
   ]
  },
  {
   "cell_type": "markdown",
   "metadata": {},
   "source": [
    "Comparing the different classtypes against each other\n",
    "==="
   ]
  },
  {
   "cell_type": "code",
   "execution_count": null,
   "metadata": {
    "collapsed": false
   },
   "outputs": [],
   "source": [
    "description = df.groupby([\"ref_summary\", \"classtype\"]).agg([len, np.min, np.mean, np.max]).loc[:,[\"r2\", \"ub_r2\", \"accept\",\"ratio_r2_vs_r2bl\"]]"
   ]
  },
  {
   "cell_type": "code",
   "execution_count": null,
   "metadata": {
    "collapsed": false,
    "scrolled": true
   },
   "outputs": [],
   "source": [
    "print description.to_latex(float_format='{0:.3f}'.format)"
   ]
  },
  {
   "cell_type": "code",
   "execution_count": null,
   "metadata": {
    "collapsed": false
   },
   "outputs": [],
   "source": [
    "description = df.groupby([\"ref_summary\", \"classtype\"]).agg([len, np.min, np.mean, np.max]).loc[:,[\"num_iterations\",\"accept\",\"reject\",\"ub_r2\",\"ratio_r2ub\",\"r2\",\"ratio_r2_vs_bl\"]]"
   ]
  },
  {
   "cell_type": "code",
   "execution_count": null,
   "metadata": {
    "collapsed": false
   },
   "outputs": [],
   "source": [
    "print description.to_csv()"
   ]
  },
  {
   "cell_type": "markdown",
   "metadata": {},
   "source": [
    "Best config, first try\n",
    "====\n",
    "\n",
    "best configuration as per agreement between all summaries of same config\n",
    "\n",
    "we group by configuration, and then use the average ratio_ub2 score as performance measure."
   ]
  },
  {
   "cell_type": "code",
   "execution_count": null,
   "metadata": {
    "collapsed": true
   },
   "outputs": [],
   "source": [
    "myf = df"
   ]
  },
  {
   "cell_type": "code",
   "execution_count": null,
   "metadata": {
    "collapsed": false
   },
   "outputs": [],
   "source": [
    "myf.info()"
   ]
  },
  {
   "cell_type": "code",
   "execution_count": null,
   "metadata": {
    "collapsed": true
   },
   "outputs": [],
   "source": [
    "# use the highest iteration only\n",
    "myf = myf.sort_values(by=\"num_iterations\", ascending= False).drop_duplicates([\"cfg\", \"classtype\", \"ref_summary\",\"oracle\",\"embeddings\", \"phrase_type\"])"
   ]
  },
  {
   "cell_type": "code",
   "execution_count": null,
   "metadata": {
    "collapsed": false
   },
   "outputs": [],
   "source": [
    "len(myf)"
   ]
  },
  {
   "cell_type": "code",
   "execution_count": null,
   "metadata": {
    "collapsed": false
   },
   "outputs": [],
   "source": [
    " myf.loc[myf.classtype.str.contains(\"WordEmbeddingGaussianFeedbackGraph\")].groupby([\"phrase_type\", \"oracle\",\"cfg\"]).mean().loc[:,[\"r2\", \"ratio_r2ub\", \"r2bl\",\" ub_r2\",\"ratio_r2_vs_r2bl\", \"num_iterations\"]].sort_values(by=\"ratio_r2ub\", ascending=False)"
   ]
  },
  {
   "cell_type": "code",
   "execution_count": null,
   "metadata": {
    "collapsed": false
   },
   "outputs": [],
   "source": [
    "myf.loc[myf.cfg.str.contains('\"mass_reject\": -1.0, \"iterations_accept\": 1024, \"propagation_abort_threshold\": 0.25, \"mass_accept\": 1.0, \"cut_off_threshold\": 0.6, \"type\": \"WordEmbeddingRandomWalkDiffusionFeedbackGraph\", \"iterations_reject\": 200')].groupby(\"ref_summary\").mean().sort_values(\"ratio_r2_vs_r2bl\", ascending=False)"
   ]
  },
  {
   "cell_type": "code",
   "execution_count": null,
   "metadata": {
    "collapsed": false
   },
   "outputs": [],
   "source": [
    "myf.loc[myf.cfg.str.contains('\"mass_reject\": 0.0, \"iterations_accept\": 128, \"mass_accept\": 4.0, \"cutoff_threshold\": 0.6, \"type\": \"WordEmbeddingGaussianFeedbackGraph\", \"iterations_reject\": 16')].groupby(\"ref_summary\").mean().sort_values(\"ratio_r2_vs_r2bl\", ascending=False)"
   ]
  },
  {
   "cell_type": "code",
   "execution_count": null,
   "metadata": {
    "collapsed": false
   },
   "outputs": [],
   "source": [
    "df.iloc[170774]"
   ]
  },
  {
   "cell_type": "code",
   "execution_count": null,
   "metadata": {
    "collapsed": false
   },
   "outputs": [],
   "source": [
    "myf = df.loc[:,[\"cfg\", \"ref_summary\",\"num_iterations\"]].drop_duplicates([\"cfg\", \"ref_summary\",\"num_iterations\"])\n"
   ]
  },
  {
   "cell_type": "code",
   "execution_count": null,
   "metadata": {
    "collapsed": true
   },
   "outputs": [],
   "source": [
    "myf=df.loc[df.classtype.str.contains(\"WordEmbeddingGaussianFeedbackGraph\")].loc[df.cutoff_threshold >= 0.998].loc[df.ref_summary.str.contains(\"u'D31043.M.100.T\")].loc[df.oracle.str.contains(\"active_learning\")]"
   ]
  },
  {
   "cell_type": "code",
   "execution_count": null,
   "metadata": {
    "collapsed": false
   },
   "outputs": [],
   "source": [
    "len(myf)"
   ]
  },
  {
   "cell_type": "code",
   "execution_count": null,
   "metadata": {
    "collapsed": true
   },
   "outputs": [],
   "source": []
  },
  {
   "cell_type": "code",
   "execution_count": null,
   "metadata": {
    "collapsed": false
   },
   "outputs": [],
   "source": [
    "group_merge = myf.groupby([\"cfg\", \"ref_summary\"]).num_iterations.apply(np.max).reset_index().merge(myf, on=[\"cfg\",\"ref_summary\", \"num_iterations\"])\n",
    "%timeit myf.groupby([\"cfg\", \"ref_summary\"]).num_iterations.apply(np.max).reset_index().merge(myf, on=[\"cfg\",\"ref_summary\", \"num_iterations\"])"
   ]
  },
  {
   "cell_type": "code",
   "execution_count": null,
   "metadata": {
    "collapsed": false
   },
   "outputs": [],
   "source": [
    "sort_drop=myf.sort_values(by=[\"cfg\", \"ref_summary\",\"num_iterations\"], ascending= [True, True, False]).drop_duplicates([\"cfg\", \"ref_summary\"])\n",
    "%timeit myf.sort_values(by=[\"cfg\", \"ref_summary\",\"num_iterations\"], ascending= [True, True, False]).drop_duplicates([\"cfg\", \"ref_summary\"])"
   ]
  },
  {
   "cell_type": "code",
   "execution_count": null,
   "metadata": {
    "collapsed": false
   },
   "outputs": [],
   "source": [
    "sort_drop2=myf.sort_values(by=[\"num_iterations\"], ascending= [ False]).drop_duplicates([\"cfg\", \"ref_summary\"])\n",
    "%timeit myf.sort_values(by=[\"num_iterations\"], ascending= [False]).drop_duplicates([\"cfg\", \"ref_summary\"])"
   ]
  },
  {
   "cell_type": "code",
   "execution_count": null,
   "metadata": {
    "collapsed": false
   },
   "outputs": [],
   "source": [
    "group_merge.info()"
   ]
  },
  {
   "cell_type": "code",
   "execution_count": null,
   "metadata": {
    "collapsed": false
   },
   "outputs": [],
   "source": [
    "sort_drop2.info()"
   ]
  },
  {
   "cell_type": "code",
   "execution_count": null,
   "metadata": {
    "collapsed": false
   },
   "outputs": [],
   "source": [
    "x = pd.merge(sort_drop2,sort_drop, how=\"inner\", on=[\"cfg\", \"ref_summary\",\"num_iterations\"])"
   ]
  },
  {
   "cell_type": "code",
   "execution_count": null,
   "metadata": {
    "collapsed": false
   },
   "outputs": [],
   "source": [
    "x.info()"
   ]
  },
  {
   "cell_type": "code",
   "execution_count": null,
   "metadata": {
    "collapsed": true
   },
   "outputs": [],
   "source": [
    "x.dropna(inplace=True)"
   ]
  },
  {
   "cell_type": "code",
   "execution_count": null,
   "metadata": {
    "collapsed": false
   },
   "outputs": [],
   "source": [
    "x.info()"
   ]
  },
  {
   "cell_type": "code",
   "execution_count": null,
   "metadata": {
    "collapsed": false
   },
   "outputs": [],
   "source": [
    "x.drop_duplicates([\"cfg\", \"ref_summary\"])"
   ]
  },
  {
   "cell_type": "code",
   "execution_count": null,
   "metadata": {
    "collapsed": false
   },
   "outputs": [],
   "source": [
    "f2 = iteration_indexes.sample(2000)"
   ]
  },
  {
   "cell_type": "code",
   "execution_count": null,
   "metadata": {
    "collapsed": false
   },
   "outputs": [],
   "source": [
    "iteration_indexes"
   ]
  },
  {
   "cell_type": "code",
   "execution_count": null,
   "metadata": {
    "collapsed": false
   },
   "outputs": [],
   "source": [
    "f2.info()"
   ]
  },
  {
   "cell_type": "code",
   "execution_count": null,
   "metadata": {
    "collapsed": false
   },
   "outputs": [],
   "source": [
    "myf.iloc[6845]"
   ]
  },
  {
   "cell_type": "code",
   "execution_count": null,
   "metadata": {
    "collapsed": true
   },
   "outputs": [],
   "source": [
    "myf.loc[myf.cfg ]"
   ]
  },
  {
   "cell_type": "code",
   "execution_count": null,
   "metadata": {
    "collapsed": false
   },
   "outputs": [],
   "source": []
  },
  {
   "cell_type": "code",
   "execution_count": null,
   "metadata": {
    "collapsed": true
   },
   "outputs": [],
   "source": [
    "myf = df.sample(2000)\n",
    "\n",
    "\n",
    "# throw away uninteresting columns\n",
    "baseline_scores = myf.loc[baselines].loc[:,[\"ref_summary\",\"num_iterations\",\"accept\", \"reject\",\"r2\"]]\n",
    "\n",
    "# rename important columns\n",
    "baseline_scores.rename(columns={\"r2\":\"r2bl\", \"accept\": \"acceptbl\", \"reject\":\"rejectbl\"}, inplace=True)\n",
    "# make sure, we have everything in there only once.\n",
    "baseline_scores= baseline_scores.drop_duplicates([\"ref_summary\",\"num_iterations\"])\n",
    "baseline_scores= baseline_scores.loc[baseline_scores.acceptbl > 0].loc[baseline_scores.rejectbl > 0]"
   ]
  },
  {
   "cell_type": "code",
   "execution_count": null,
   "metadata": {
    "collapsed": true
   },
   "outputs": [],
   "source": [
    "dep_var = \"ratio_r2ub\""
   ]
  },
  {
   "cell_type": "code",
   "execution_count": null,
   "metadata": {
    "collapsed": true
   },
   "outputs": [],
   "source": []
  },
  {
   "cell_type": "code",
   "execution_count": null,
   "metadata": {
    "collapsed": false,
    "scrolled": false
   },
   "outputs": [],
   "source": [
    "df.groupby([\"ref_summary\", \"classtype\"]).max().loc[:,[\"r2\", \"ratio_r2ub\",\"ratio_r2_vs_r2bl\", \"accept\"]]"
   ]
  },
  {
   "cell_type": "code",
   "execution_count": null,
   "metadata": {
    "collapsed": false
   },
   "outputs": [],
   "source": [
    "top = df.loc[df[\"ratio_r2_vs_r2bl\"]>1.0].groupby([\"cfg\",\"ref_summary\"]).max().sort_values(\"ratio_r2_vs_r2bl\", ascending=False).loc[:,[\"r2\", \"ratio_r2ub\",\"ratio_r2_vs_r2bl\", \"accept\"]]"
   ]
  },
  {
   "cell_type": "code",
   "execution_count": null,
   "metadata": {
    "collapsed": false
   },
   "outputs": [],
   "source": [
    "top"
   ]
  },
  {
   "cell_type": "code",
   "execution_count": null,
   "metadata": {
    "collapsed": false
   },
   "outputs": [],
   "source": [
    "dep_vars.append(\"cfg\")"
   ]
  },
  {
   "cell_type": "code",
   "execution_count": null,
   "metadata": {
    "collapsed": false
   },
   "outputs": [],
   "source": [
    "dep_vars = dep_vars[:-1]"
   ]
  },
  {
   "cell_type": "code",
   "execution_count": null,
   "metadata": {
    "collapsed": false
   },
   "outputs": [],
   "source": [
    "dep_var"
   ]
  },
  {
   "cell_type": "code",
   "execution_count": null,
   "metadata": {
    "collapsed": true
   },
   "outputs": [],
   "source": [
    "top.head(20)"
   ]
  },
  {
   "cell_type": "code",
   "execution_count": null,
   "metadata": {
    "collapsed": false
   },
   "outputs": [],
   "source": []
  },
  {
   "cell_type": "code",
   "execution_count": null,
   "metadata": {
    "collapsed": false
   },
   "outputs": [],
   "source": [
    "cfg_of_winner = top.reset_index().iloc[0].cfg\n",
    "print cfg_of_winner\n",
    "data = df.loc[df.cfg.str.contains(cfg_of_winner)]\n",
    "\n",
    "indep_vars = [\"num_iterations\",\"iterations_accept\", \"propagation_abort_threshold\"] \n",
    "grouping_vars = [\"num_iterations\"]\n",
    "dep_vars = [ 'accept_new', \"reject_new\", \"accept\", \"reject\",\"ratio_r2ub\", \"ratio_r2_vs_r2bl\",\"r2\"]\n",
    "default = [\"classtype\",\"ratio_r2ub\", \"ratio_r2_vs_r2bl\", \"r2\", \"ref_summary\", \"accept\", \"reject\", \"total_feedback\",\"num_iterations\",\"run_id\"]\n",
    "cols = list(set(indep_vars +  grouping_vars + dep_vars + default))\n",
    "print cols\n",
    "\n",
    "topic1 = data.loc[:,cols]"
   ]
  },
  {
   "cell_type": "code",
   "execution_count": null,
   "metadata": {
    "collapsed": false
   },
   "outputs": [],
   "source": [
    "topic1"
   ]
  },
  {
   "cell_type": "code",
   "execution_count": null,
   "metadata": {
    "collapsed": false,
    "scrolled": false
   },
   "outputs": [],
   "source": [
    "for dep in dep_vars:\n",
    "    for indep in indep_vars:\n",
    "        for group in grouping_vars:\n",
    "            if dep == indep or dep == group or indep == dep or indep == group:\n",
    "                continue\n",
    "            print dep, indep, group\n",
    "            myplot(topic1, indep, dep, groupby=group, save=False, figsize=(16,4), prefix=\"feeback-over-time-by-concept-type\")"
   ]
  },
  {
   "cell_type": "code",
   "execution_count": null,
   "metadata": {
    "collapsed": false
   },
   "outputs": [],
   "source": [
    "cfg_of_winner = top.reset_index().iloc[1].cfg\n",
    "print cfg_of_winner\n",
    "df.loc[df.cfg.str.contains(cfg_of_winner), cols]"
   ]
  },
  {
   "cell_type": "code",
   "execution_count": null,
   "metadata": {
    "collapsed": false
   },
   "outputs": [],
   "source": [
    "cfg_of_winner = top.reset_index().iloc[2].cfg\n",
    "print cfg_of_winner\n",
    "df.loc[df.cfg.str.contains(cfg_of_winner), cols]"
   ]
  },
  {
   "cell_type": "code",
   "execution_count": null,
   "metadata": {
    "collapsed": false,
    "scrolled": false
   },
   "outputs": [],
   "source": [
    "cfg_of_winner = top.reset_index().iloc[3].cfg\n",
    "print cfg_of_winner\n",
    "df.loc[df.cfg.str.contains(cfg_of_winner), cols]"
   ]
  },
  {
   "cell_type": "code",
   "execution_count": null,
   "metadata": {
    "collapsed": false
   },
   "outputs": [],
   "source": [
    "cfg_of_winner = top.reset_index().iloc[4].cfg\n",
    "print cfg_of_winner\n",
    "df.loc[df.cfg.str.contains(cfg_of_winner), cols]"
   ]
  },
  {
   "cell_type": "markdown",
   "metadata": {},
   "source": [
    "Configs with 8 results\n",
    "====\n",
    "\n",
    "best configuration as per agreement between all summaries of same config\n",
    "\n",
    "we group by configuration, and then use the average ratio_ub2 score as performance measure."
   ]
  },
  {
   "cell_type": "code",
   "execution_count": null,
   "metadata": {
    "collapsed": false
   },
   "outputs": [],
   "source": [
    "top = df.groupby(\"cfg\").count().sort_values(dep_var, ascending=False).reset_index().loc[:,[\"cfg\", \"accept\"]]"
   ]
  },
  {
   "cell_type": "code",
   "execution_count": null,
   "metadata": {
    "collapsed": true
   },
   "outputs": [],
   "source": [
    "top=top.rename(columns={\"accept\": \"num_results\"})"
   ]
  },
  {
   "cell_type": "code",
   "execution_count": null,
   "metadata": {
    "collapsed": true
   },
   "outputs": [],
   "source": [
    "pd.merge(df, top, on=\"cfg\")[\"num_results\"]"
   ]
  },
  {
   "cell_type": "markdown",
   "metadata": {},
   "source": [
    "Block 1: BaselineFeedbackStore\n",
    "---\n",
    "\n",
    "Hyperparameter search has no parameters, => 4 - 8 results are all to get (depending whether one or two topics are used)"
   ]
  },
  {
   "cell_type": "code",
   "execution_count": null,
   "metadata": {
    "collapsed": true
   },
   "outputs": [],
   "source": [
    "selected_classtype = \"BaselineFeedbackStore\""
   ]
  },
  {
   "cell_type": "code",
   "execution_count": null,
   "metadata": {
    "collapsed": false
   },
   "outputs": [],
   "source": [
    "data = df.loc[df.classtype.str.contains(selected_classtype)]"
   ]
  },
  {
   "cell_type": "code",
   "execution_count": null,
   "metadata": {
    "collapsed": true
   },
   "outputs": [],
   "source": [
    "#indep_var = [ \"multiplier_accept\",\"multiplier_reject\", \"window_size\"]"
   ]
  },
  {
   "cell_type": "markdown",
   "metadata": {},
   "source": [
    "No independent variables, therefore no configurations to compare against each other.\n",
    "There should be `4` resp. `8` rows in the dataset"
   ]
  },
  {
   "cell_type": "code",
   "execution_count": null,
   "metadata": {
    "collapsed": true
   },
   "outputs": [],
   "source": [
    "data = df.loc[df.classtype.str.contains(selected_classtype)]"
   ]
  },
  {
   "cell_type": "code",
   "execution_count": null,
   "metadata": {
    "collapsed": false
   },
   "outputs": [],
   "source": [
    "len(data)"
   ]
  },
  {
   "cell_type": "code",
   "execution_count": null,
   "metadata": {
    "collapsed": false
   },
   "outputs": [],
   "source": [
    "data.columns"
   ]
  },
  {
   "cell_type": "code",
   "execution_count": null,
   "metadata": {
    "collapsed": false,
    "scrolled": true
   },
   "outputs": [],
   "source": [
    "print(data.loc[:, [u'ref_summary',\"classtype\",\"phrase_type\",\"r1\",\"r2\",\"r4\",]].to_latex(index=False,float_format='{0:.3f}'.format))"
   ]
  },
  {
   "cell_type": "code",
   "execution_count": null,
   "metadata": {
    "collapsed": false
   },
   "outputs": [],
   "source": [
    "print(data.loc[:, [u'ref_summary',\"classtype\",\"phrase_type\",\"ub_r1\", 'ub_r2', 'ub_r4',]].to_latex(index=False,float_format='{0:.3f}'.format))"
   ]
  },
  {
   "cell_type": "code",
   "execution_count": null,
   "metadata": {
    "collapsed": true
   },
   "outputs": [],
   "source": [
    "# BaselineFeedbackStore is something special, as it doesnt have parameters:"
   ]
  },
  {
   "cell_type": "code",
   "execution_count": null,
   "metadata": {
    "collapsed": false,
    "scrolled": false
   },
   "outputs": [],
   "source": [
    "delta2 = data.loc[:,[ dep_var, \"ref_summary\"]]\n",
    "\n",
    "delta2.boxplot(figsize=(10,4), showmeans=True, meanline=True, sym=\"+\", vert=True)\n",
    "\n",
    "delta2.groupby(\"ref_summary\").boxplot(figsize=(16,4), layout=(2,4), fontsize=\"8\", showmeans=True, meanline=True, sym=\"+\", vert=True)\n",
    "plt.savefig(path.join(basepath, \"%s-%s-%s-per-summary-%s.pdf\" % (\"boxplot\", selected_classtype, dep_var, \"ref_summary\")))\n",
    "\n",
    "plt.show()\n",
    "plt.close()\n",
    "#indep_var = [\"ref_summary\"]"
   ]
  },
  {
   "cell_type": "markdown",
   "metadata": {},
   "source": [
    "Block 2: SimpleNgramFeedbackGraph\n",
    "---"
   ]
  },
  {
   "cell_type": "code",
   "execution_count": null,
   "metadata": {
    "collapsed": true
   },
   "outputs": [],
   "source": [
    "selected_classtype = \"SimpleNgramFeedbackGraph\""
   ]
  },
  {
   "cell_type": "markdown",
   "metadata": {},
   "source": [
    "This feedback store has three parameters.\n",
    "The following combinations are tested:"
   ]
  },
  {
   "cell_type": "code",
   "execution_count": null,
   "metadata": {
    "collapsed": true
   },
   "outputs": [],
   "source": [
    "indep_var = [ \"multiplier_accept\",\"multiplier_reject\", \"window_size\"]"
   ]
  },
  {
   "cell_type": "markdown",
   "metadata": {},
   "source": [
    "                window_size = [2, 3, 4, 5]\n",
    "                factor_rejects = [1, 0, 0.05, 0.25, 0.5, 2, 4,8]\n",
    "                factor_accepts = [1, 0, 0.05, 0.25, 0.5, 2, 4,8]\n",
    "\n",
    "As a result, there are `4*7*7 = 196` combinations per topic. In total, there should be `196 * 4` resp. `196 * 8` rows in the dataset"
   ]
  },
  {
   "cell_type": "code",
   "execution_count": null,
   "metadata": {
    "collapsed": true
   },
   "outputs": [],
   "source": [
    "data = df.loc[df.classtype.str.contains(selected_classtype)]"
   ]
  },
  {
   "cell_type": "code",
   "execution_count": null,
   "metadata": {
    "collapsed": false
   },
   "outputs": [],
   "source": [
    "len(data)"
   ]
  },
  {
   "cell_type": "code",
   "execution_count": null,
   "metadata": {
    "collapsed": false
   },
   "outputs": [],
   "source": [
    "selected_classtype"
   ]
  },
  {
   "cell_type": "code",
   "execution_count": null,
   "metadata": {
    "collapsed": false,
    "scrolled": true
   },
   "outputs": [],
   "source": [
    "for col in indep_var:\n",
    "    bp(data, col, dep_var,classtype=selected_classtype)\n",
    "\n",
    "    \n",
    "for col in indep_var:\n",
    "    bp(data, col, dep_var, grouping=\"groupby\", classtype=selected_classtype)\n",
    "\n",
    "    \n",
    "for col in indep_var:\n",
    "    bp(data, col, dep_var, grouping=\"line\", classtype=selected_classtype)\n"
   ]
  },
  {
   "cell_type": "markdown",
   "metadata": {},
   "source": [
    "Block 3: WordEmbeddingGaussianFeedbackGraph\n",
    "---"
   ]
  },
  {
   "cell_type": "code",
   "execution_count": null,
   "metadata": {
    "collapsed": true
   },
   "outputs": [],
   "source": [
    "selected_classtype = \"WordEmbeddingGaussianFeedbackGraph\""
   ]
  },
  {
   "cell_type": "code",
   "execution_count": null,
   "metadata": {
    "collapsed": true
   },
   "outputs": [],
   "source": [
    "# indep_var = [ \"mass_accept\",\"mass_reject\",\"type\",\"iterations_accept\",\"iterations_reject\", \"cutoff_threshold\"]\n",
    "# due to a bug, the cutoff_threshold is NOT stored in the result file, we therefore have to exclude it.\n",
    "indep_var = [ \"mass_accept\",\"mass_reject\",\"type\",\"iterations_accept\",\"iterations_reject\"]"
   ]
  },
  {
   "cell_type": "markdown",
   "metadata": {},
   "source": [
    "                mass_reject = [4.0, 1.0, 0.0, -1.0, -4.0]\n",
    "                mass_accept = [4.0, 1.0, 0.0, -1.0, -4.0]\n",
    "                iterations_accept = [16, 128, 1024]\n",
    "                iterations_reject = [2, 4, 8, 16, 64]\n",
    "                cut_off_threshold = [0.998, 0.98, 0.9, 0.6, 0.4]\n",
    "\n",
    "Results in 1875 combinations per topic."
   ]
  },
  {
   "cell_type": "code",
   "execution_count": null,
   "metadata": {
    "collapsed": true
   },
   "outputs": [],
   "source": [
    "data = df.loc[df.classtype.str.contains(selected_classtype)]"
   ]
  },
  {
   "cell_type": "code",
   "execution_count": null,
   "metadata": {
    "collapsed": false
   },
   "outputs": [],
   "source": [
    "len(data)"
   ]
  },
  {
   "cell_type": "code",
   "execution_count": null,
   "metadata": {
    "collapsed": false,
    "scrolled": true
   },
   "outputs": [],
   "source": [
    "for col in indep_var:\n",
    "    bp(data, col, dep_var,classtype=selected_classtype)\n",
    "\n",
    "    \n",
    "for col in indep_var:\n",
    "    bp(data, col, dep_var, grouping=\"groupby\", classtype=selected_classtype)\n",
    "\n",
    "    \n",
    "for col in indep_var:\n",
    "    bp(data, col, dep_var, grouping=\"line\", classtype=selected_classtype)\n"
   ]
  },
  {
   "cell_type": "markdown",
   "metadata": {},
   "source": [
    "Block 4: WordEmbeddingRandomWalkDiffusionFeedbackGraph\n",
    "---"
   ]
  },
  {
   "cell_type": "code",
   "execution_count": null,
   "metadata": {
    "collapsed": true
   },
   "outputs": [],
   "source": [
    "selected_classtype = \"WordEmbeddingRandomWalkDiffusionFeedbackGraph\""
   ]
  },
  {
   "cell_type": "markdown",
   "metadata": {},
   "source": [
    "This feedback store has 6 parameters.\n",
    "The following combinations are tested:"
   ]
  },
  {
   "cell_type": "code",
   "execution_count": null,
   "metadata": {
    "collapsed": true
   },
   "outputs": [],
   "source": [
    "indep_var = [ \"mass_reject\", \"mass_accept\", \\\n",
    "             \"iterations_accept\", \"iterations_reject\",\\\n",
    "             \"propagation_abort_threshold\", \\\n",
    "             \"cutoff_threshold\"]"
   ]
  },
  {
   "cell_type": "markdown",
   "metadata": {},
   "source": [
    "mass_reject = [4.0, 1.0, 0.0, -1.0, -4.0]\n",
    "                mass_accept = [4.0, 1.0, 0.0, -1.0, -4.0]\n",
    "                iterations_accept = [128, 1024, 10000]\n",
    "                iterations_reject = [64, 200, 5000]\n",
    "                cut_off_threshold = [0.998, 0.98, 0.9, 0.6, 0.4]\n",
    "                propagation_abort_threshold = [0.01, 0.1, 0.25, 0.5, 0.75, 0.9]\n",
    "\n",
    "\n",
    "As a result, there are `5*5*3*3*5*6 = 6750` combinations per topic. In total, there should be `6750 * 4` resp. `6750 * 8` rows in the dataset"
   ]
  },
  {
   "cell_type": "code",
   "execution_count": null,
   "metadata": {
    "collapsed": true
   },
   "outputs": [],
   "source": [
    "data = df.loc[df.classtype.str.contains(selected_classtype)]"
   ]
  },
  {
   "cell_type": "code",
   "execution_count": null,
   "metadata": {
    "collapsed": false
   },
   "outputs": [],
   "source": [
    "len(data)"
   ]
  },
  {
   "cell_type": "code",
   "execution_count": null,
   "metadata": {
    "collapsed": false,
    "scrolled": true
   },
   "outputs": [],
   "source": [
    "for col in indep_var:\n",
    "    bp(data, col, dep_var,classtype=selected_classtype)\n",
    "\n",
    "    \n",
    "for col in indep_var:\n",
    "    bp(data, col, dep_var, grouping=\"groupby\", classtype=selected_classtype)\n",
    "\n",
    "    \n",
    "for col in indep_var:\n",
    "    bp(data, col, dep_var, grouping=\"line\", classtype=selected_classtype)\n"
   ]
  },
  {
   "cell_type": "markdown",
   "metadata": {},
   "source": [
    "Some overall basic correlation tests\n",
    "==="
   ]
  },
  {
   "cell_type": "code",
   "execution_count": null,
   "metadata": {
    "collapsed": true
   },
   "outputs": [],
   "source": [
    "df.corr(method=\"spearman\")\n"
   ]
  },
  {
   "cell_type": "code",
   "execution_count": null,
   "metadata": {
    "collapsed": false
   },
   "outputs": [],
   "source": [
    "df.corr(method=\"pearson\").to_csv(path.join(basepath, \"correlation-analysis-pearson-overall.csv\"))\n"
   ]
  },
  {
   "cell_type": "code",
   "execution_count": null,
   "metadata": {
    "collapsed": false
   },
   "outputs": [],
   "source": [
    "df.groupby(\"classtype\").corr(method=\"pearson\").to_csv(path.join(basepath, \"correlation-analysis-pearson-per-classtype.csv\"))\n"
   ]
  },
  {
   "cell_type": "code",
   "execution_count": null,
   "metadata": {
    "collapsed": false
   },
   "outputs": [],
   "source": [
    "cols = list(df.columns)"
   ]
  },
  {
   "cell_type": "code",
   "execution_count": null,
   "metadata": {
    "collapsed": false
   },
   "outputs": [],
   "source": [
    "cols = list(set(cols) - set(['accept', 'num_iterations', 'r1', 'r2', 'r4', 'reject', 'total_feedback', 'ub_r1', 'ub_r2', 'ub_r4', 'acceptbl', 'rejectbl', 'r2bl', 'delta_r2bl_r2', 'ratio_r2bl_r2', 'delta_r2ub']))"
   ]
  },
  {
   "cell_type": "code",
   "execution_count": null,
   "metadata": {
    "collapsed": false,
    "scrolled": true
   },
   "outputs": [],
   "source": [
    "r= df.loc[:,cols].groupby([\"classtype\", \"mass_accept\"]).corr(method=\"pearson\")\n",
    "\n",
    "r.to_csv(path.join(basepath, \"correlation-analysis-pearson-per-classtype-and-mass_accept.csv\"))\n",
    "r"
   ]
  },
  {
   "cell_type": "markdown",
   "metadata": {},
   "source": [
    "Top result analysis\n",
    "===\n",
    "\n",
    "From the best performing summaries, are there certain configurations that appear more often than others?\n",
    "\n",
    "in the first run, we use the `WordEmbeddingRandomWalkDiffusionFeedbackGraph`"
   ]
  },
  {
   "cell_type": "code",
   "execution_count": null,
   "metadata": {
    "collapsed": true
   },
   "outputs": [],
   "source": [
    "selected_classtype = \"WordEmbeddingRandomWalkDiffusionFeedbackGraph\""
   ]
  },
  {
   "cell_type": "code",
   "execution_count": null,
   "metadata": {
    "collapsed": true
   },
   "outputs": [],
   "source": [
    "data = df.loc[df.classtype.str.contains(\"WordEmbeddingRandomWalkDiffusionFeedbackGraph\")]"
   ]
  },
  {
   "cell_type": "code",
   "execution_count": null,
   "metadata": {
    "collapsed": false
   },
   "outputs": [],
   "source": [
    "d = data.loc[df.ratio_r2ub > 1.0, [\"classtype\",\"cutoff_threshold\",\"iterations_accept\",\"iterations_reject\",\"mass_accept\",\"mass_reject\",\"propagation_abort_threshold\", \"ref_summary\",\"ratio_r2ub\"]]"
   ]
  },
  {
   "cell_type": "code",
   "execution_count": null,
   "metadata": {
    "collapsed": false,
    "scrolled": true
   },
   "outputs": [],
   "source": [
    "g = d.groupby(\"ref_summary\")\n",
    "for grp in g.groups:\n",
    "    print grp, g.get_group(grp).count()\n",
    "    \n",
    "    g.get_group(grp)[\"propagation_abort_threshold\"].hist()\n",
    "    plt.show()\n"
   ]
  },
  {
   "cell_type": "code",
   "execution_count": null,
   "metadata": {
    "collapsed": false
   },
   "outputs": [],
   "source": [
    "for col in d.columns:\n",
    "    if col is not dep_var:\n",
    "        bp(d, col, dep_var, grouping=\"line\")"
   ]
  },
  {
   "cell_type": "code",
   "execution_count": null,
   "metadata": {
    "collapsed": false,
    "scrolled": true
   },
   "outputs": [],
   "source": [
    "for col in indep_var:\n",
    "    bp(data, col, dep_var, grouping=\"line\")\n",
    "    "
   ]
  },
  {
   "cell_type": "code",
   "execution_count": null,
   "metadata": {
    "collapsed": false
   },
   "outputs": [],
   "source": [
    "len(data)"
   ]
  },
  {
   "cell_type": "code",
   "execution_count": null,
   "metadata": {
    "collapsed": false,
    "scrolled": true
   },
   "outputs": [],
   "source": [
    "scatterplot(data,x=\"r2\",y=\"accept\", locs= [data.ref_summary.str.contains(\"D30044.M.100.T.B\"), data.ref_summary.str.contains(\"D30044.M.100.T.C\"), data.ref_summary.str.contains(\"D30044.M.100.T.D\"), data.ref_summary.str.contains(\"D30044.M.100.T.G\")])"
   ]
  },
  {
   "cell_type": "code",
   "execution_count": null,
   "metadata": {
    "collapsed": false
   },
   "outputs": [],
   "source": [
    "scatterplot(data,x=\"total_feedback\",y=\"ratio_r2ub\", locs= [data.classtype.str.contains(\"SimpleNgramFeedbackGraph\"),data.classtype.str.contains(\"WordEmbeddingRandomWalkDiffusionFeedbackGraph\"),data.classtype.str.contains(\"WordEmbeddingRandomWalkDiffusionFeedbackGraph\")])"
   ]
  },
  {
   "cell_type": "code",
   "execution_count": null,
   "metadata": {
    "collapsed": false
   },
   "outputs": [],
   "source": [
    "df.ref_summary.str.contains(\"D30044.M.100.T.B\")"
   ]
  },
  {
   "cell_type": "code",
   "execution_count": null,
   "metadata": {
    "collapsed": false
   },
   "outputs": [],
   "source": [
    "type(df.ref_summary.str.contains(\"D30044.M.100.T.D\"))\n"
   ]
  },
  {
   "cell_type": "code",
   "execution_count": null,
   "metadata": {
    "collapsed": false
   },
   "outputs": [],
   "source": [
    "len(df)"
   ]
  },
  {
   "cell_type": "code",
   "execution_count": null,
   "metadata": {
    "collapsed": false
   },
   "outputs": [],
   "source": [
    "data.classtype.str.contains(\"BaselineFeedbackStore\")"
   ]
  },
  {
   "cell_type": "code",
   "execution_count": null,
   "metadata": {
    "collapsed": false
   },
   "outputs": [],
   "source": [
    "data.loc[data.classtype.str.contains(\"SimpleNgramFeedbackGraph\")].describe()"
   ]
  },
  {
   "cell_type": "code",
   "execution_count": null,
   "metadata": {
    "collapsed": true
   },
   "outputs": [],
   "source": []
  },
  {
   "cell_type": "markdown",
   "metadata": {},
   "source": [
    "Upper Bound and Baseline\n",
    "==="
   ]
  },
  {
   "cell_type": "code",
   "execution_count": 111,
   "metadata": {
    "collapsed": true
   },
   "outputs": [],
   "source": [
    "last_baseline_iteration_score=baseline_scores.drop_duplicates([\"ref_summary\",\"num_iterations\", \"phrase_type\"])"
   ]
  },
  {
   "cell_type": "code",
   "execution_count": 112,
   "metadata": {
    "collapsed": false
   },
   "outputs": [
    {
     "data": {
      "text/html": [
       "<div>\n",
       "<table border=\"1\" class=\"dataframe\">\n",
       "  <thead>\n",
       "    <tr style=\"text-align: right;\">\n",
       "      <th></th>\n",
       "      <th>ref_summary</th>\n",
       "      <th>num_iterations</th>\n",
       "      <th>accept</th>\n",
       "      <th>reject</th>\n",
       "      <th>r1</th>\n",
       "      <th>r2</th>\n",
       "      <th>r4</th>\n",
       "      <th>phrase_type</th>\n",
       "    </tr>\n",
       "  </thead>\n",
       "  <tbody>\n",
       "    <tr>\n",
       "      <th>192507</th>\n",
       "      <td>[u'D31043.M.100.T.D']</td>\n",
       "      <td>9</td>\n",
       "      <td>15</td>\n",
       "      <td>108</td>\n",
       "      <td>0.52885</td>\n",
       "      <td>0.30097</td>\n",
       "      <td>0.27221</td>\n",
       "      <td>parse</td>\n",
       "    </tr>\n",
       "    <tr>\n",
       "      <th>46255</th>\n",
       "      <td>[u'D31043.M.100.T.D']</td>\n",
       "      <td>9</td>\n",
       "      <td>42</td>\n",
       "      <td>425</td>\n",
       "      <td>0.48077</td>\n",
       "      <td>0.28155</td>\n",
       "      <td>0.20132</td>\n",
       "      <td>None</td>\n",
       "    </tr>\n",
       "    <tr>\n",
       "      <th>190208</th>\n",
       "      <td>[u'D31043.M.100.T.F']</td>\n",
       "      <td>9</td>\n",
       "      <td>19</td>\n",
       "      <td>550</td>\n",
       "      <td>0.48544</td>\n",
       "      <td>0.15686</td>\n",
       "      <td>0.19664</td>\n",
       "      <td>None</td>\n",
       "    </tr>\n",
       "    <tr>\n",
       "      <th>74661</th>\n",
       "      <td>[u'D31043.M.100.T.F']</td>\n",
       "      <td>9</td>\n",
       "      <td>14</td>\n",
       "      <td>143</td>\n",
       "      <td>0.38835</td>\n",
       "      <td>0.06863</td>\n",
       "      <td>0.12269</td>\n",
       "      <td>parse</td>\n",
       "    </tr>\n",
       "    <tr>\n",
       "      <th>385341</th>\n",
       "      <td>[u'D31043.M.100.T.G']</td>\n",
       "      <td>9</td>\n",
       "      <td>21</td>\n",
       "      <td>658</td>\n",
       "      <td>0.39806</td>\n",
       "      <td>0.07843</td>\n",
       "      <td>0.12979</td>\n",
       "      <td>None</td>\n",
       "    </tr>\n",
       "    <tr>\n",
       "      <th>175907</th>\n",
       "      <td>[u'D31043.M.100.T.G']</td>\n",
       "      <td>9</td>\n",
       "      <td>12</td>\n",
       "      <td>99</td>\n",
       "      <td>0.51456</td>\n",
       "      <td>0.06863</td>\n",
       "      <td>0.23063</td>\n",
       "      <td>parse</td>\n",
       "    </tr>\n",
       "    <tr>\n",
       "      <th>334582</th>\n",
       "      <td>[u'D31043.M.100.T.H']</td>\n",
       "      <td>9</td>\n",
       "      <td>13</td>\n",
       "      <td>147</td>\n",
       "      <td>0.39048</td>\n",
       "      <td>0.07692</td>\n",
       "      <td>0.11628</td>\n",
       "      <td>parse</td>\n",
       "    </tr>\n",
       "    <tr>\n",
       "      <th>544</th>\n",
       "      <td>[u'D31043.M.100.T.H']</td>\n",
       "      <td>9</td>\n",
       "      <td>23</td>\n",
       "      <td>614</td>\n",
       "      <td>0.37143</td>\n",
       "      <td>0.09615</td>\n",
       "      <td>0.12994</td>\n",
       "      <td>None</td>\n",
       "    </tr>\n",
       "  </tbody>\n",
       "</table>\n",
       "</div>"
      ],
      "text/plain": [
       "                  ref_summary  num_iterations  accept  reject       r1  \\\n",
       "192507  [u'D31043.M.100.T.D']               9      15     108  0.52885   \n",
       "46255   [u'D31043.M.100.T.D']               9      42     425  0.48077   \n",
       "190208  [u'D31043.M.100.T.F']               9      19     550  0.48544   \n",
       "74661   [u'D31043.M.100.T.F']               9      14     143  0.38835   \n",
       "385341  [u'D31043.M.100.T.G']               9      21     658  0.39806   \n",
       "175907  [u'D31043.M.100.T.G']               9      12      99  0.51456   \n",
       "334582  [u'D31043.M.100.T.H']               9      13     147  0.39048   \n",
       "544     [u'D31043.M.100.T.H']               9      23     614  0.37143   \n",
       "\n",
       "             r2       r4 phrase_type  \n",
       "192507  0.30097  0.27221       parse  \n",
       "46255   0.28155  0.20132        None  \n",
       "190208  0.15686  0.19664        None  \n",
       "74661   0.06863  0.12269       parse  \n",
       "385341  0.07843  0.12979        None  \n",
       "175907  0.06863  0.23063       parse  \n",
       "334582  0.07692  0.11628       parse  \n",
       "544     0.09615  0.12994        None  "
      ]
     },
     "execution_count": 112,
     "metadata": {},
     "output_type": "execute_result"
    }
   ],
   "source": [
    "last_baseline_iteration_score.sort_values(\"num_iterations\", ascending=False).drop_duplicates([\"ref_summary\",\"phrase_type\"]).sort_values(\"ref_summary\")"
   ]
  },
  {
   "cell_type": "code",
   "execution_count": 114,
   "metadata": {
    "collapsed": false
   },
   "outputs": [
    {
     "name": "stdout",
     "output_type": "stream",
     "text": [
      ",ref_summary,num_iterations,accept,reject,r1,r2,r4,phrase_type\n",
      "192507,[u'D31043.M.100.T.D'],9,15,108,0.52885,0.30097,0.27221,parse\n",
      "46255,[u'D31043.M.100.T.D'],9,42,425,0.48077,0.28155,0.20132,None\n",
      "190208,[u'D31043.M.100.T.F'],9,19,550,0.48544,0.15686,0.19664,None\n",
      "74661,[u'D31043.M.100.T.F'],9,14,143,0.38835,0.06863,0.12269,parse\n",
      "385341,[u'D31043.M.100.T.G'],9,21,658,0.39806,0.07843,0.12979,None\n",
      "175907,[u'D31043.M.100.T.G'],9,12,99,0.51456,0.06863,0.23063,parse\n",
      "334582,[u'D31043.M.100.T.H'],9,13,147,0.39048,0.07692,0.11628,parse\n",
      "544,[u'D31043.M.100.T.H'],9,23,614,0.37143,0.09615,0.12994,None\n",
      "\n"
     ]
    }
   ],
   "source": [
    "print last_baseline_iteration_score.sort_values(\"num_iterations\", ascending=False).drop_duplicates([\"ref_summary\",\"phrase_type\"]).sort_values(\"ref_summary\").to_csv()"
   ]
  },
  {
   "cell_type": "code",
   "execution_count": 51,
   "metadata": {
    "collapsed": false
   },
   "outputs": [],
   "source": [
    "ub = df.drop_duplicates([\"ref_summary\", \"phrase_type\"])"
   ]
  },
  {
   "cell_type": "code",
   "execution_count": 53,
   "metadata": {
    "collapsed": false
   },
   "outputs": [
    {
     "data": {
      "text/plain": [
       "Index([u'accept', u'accept_new', u'cfg', u'classtype', u'cutoff_threshold',\n",
       "       u'embeddings', u'feedback_new', u'iterations_accept',\n",
       "       u'iterations_reject', u'mass_accept', u'mass_reject',\n",
       "       u'max_iteration_count', u'multiplier_accept', u'multiplier_reject',\n",
       "       u'num_iterations', u'oracle', u'parent', u'phrase_type',\n",
       "       u'propagation_abort_threshold', u'r1', u'r2', u'r4', u'ref_summary',\n",
       "       u'reject', u'reject_new', u'run_id', u'size', u'total_feedback',\n",
       "       u'ub_r1', u'ub_r2', u'ub_r4', u'window_size', u'acceptbl', u'rejectbl',\n",
       "       u'r2bl', u'delta_r2bl_r2', u'ratio_r2_vs_r2bl', u'delta_r2ub',\n",
       "       u'ratio_r2ub', u'ratio_r2ub_vs_feedback'],\n",
       "      dtype='object')"
      ]
     },
     "execution_count": 53,
     "metadata": {},
     "output_type": "execute_result"
    }
   ],
   "source": [
    "ub.columns"
   ]
  },
  {
   "cell_type": "code",
   "execution_count": 95,
   "metadata": {
    "collapsed": false
   },
   "outputs": [
    {
     "data": {
      "text/html": [
       "<div>\n",
       "<table border=\"1\" class=\"dataframe\">\n",
       "  <thead>\n",
       "    <tr style=\"text-align: right;\">\n",
       "      <th></th>\n",
       "      <th>ref_summary</th>\n",
       "      <th>r2bl</th>\n",
       "      <th>r1bl</th>\n",
       "      <th>r4bl</th>\n",
       "      <th>ub_r1</th>\n",
       "      <th>ub_r2</th>\n",
       "      <th>ub_r4</th>\n",
       "      <th>phrase_type</th>\n",
       "    </tr>\n",
       "  </thead>\n",
       "  <tbody>\n",
       "    <tr>\n",
       "      <th>60718</th>\n",
       "      <td>[u'D31043.M.100.T.D']</td>\n",
       "      <td>0.18447</td>\n",
       "      <td>NaN</td>\n",
       "      <td>NaN</td>\n",
       "      <td>0.58654</td>\n",
       "      <td>0.42718</td>\n",
       "      <td>0.32112</td>\n",
       "      <td>None</td>\n",
       "    </tr>\n",
       "    <tr>\n",
       "      <th>60719</th>\n",
       "      <td>[u'D31043.M.100.T.D']</td>\n",
       "      <td>0.18447</td>\n",
       "      <td>NaN</td>\n",
       "      <td>NaN</td>\n",
       "      <td>0.58654</td>\n",
       "      <td>0.42718</td>\n",
       "      <td>0.32112</td>\n",
       "      <td>parse</td>\n",
       "    </tr>\n",
       "    <tr>\n",
       "      <th>150059</th>\n",
       "      <td>[u'D31043.M.100.T.F']</td>\n",
       "      <td>0.11765</td>\n",
       "      <td>NaN</td>\n",
       "      <td>NaN</td>\n",
       "      <td>0.52427</td>\n",
       "      <td>0.19608</td>\n",
       "      <td>0.20187</td>\n",
       "      <td>None</td>\n",
       "    </tr>\n",
       "    <tr>\n",
       "      <th>150061</th>\n",
       "      <td>[u'D31043.M.100.T.F']</td>\n",
       "      <td>0.11765</td>\n",
       "      <td>NaN</td>\n",
       "      <td>NaN</td>\n",
       "      <td>0.52427</td>\n",
       "      <td>0.19608</td>\n",
       "      <td>0.20187</td>\n",
       "      <td>parse</td>\n",
       "    </tr>\n",
       "    <tr>\n",
       "      <th>0</th>\n",
       "      <td>[u'D31043.M.100.T.G']</td>\n",
       "      <td>0.08824</td>\n",
       "      <td>NaN</td>\n",
       "      <td>NaN</td>\n",
       "      <td>0.41748</td>\n",
       "      <td>0.13725</td>\n",
       "      <td>0.16265</td>\n",
       "      <td>None</td>\n",
       "    </tr>\n",
       "    <tr>\n",
       "      <th>2</th>\n",
       "      <td>[u'D31043.M.100.T.G']</td>\n",
       "      <td>0.08824</td>\n",
       "      <td>NaN</td>\n",
       "      <td>NaN</td>\n",
       "      <td>0.41748</td>\n",
       "      <td>0.13725</td>\n",
       "      <td>0.16265</td>\n",
       "      <td>parse</td>\n",
       "    </tr>\n",
       "    <tr>\n",
       "      <th>261326</th>\n",
       "      <td>[u'D31043.M.100.T.H']</td>\n",
       "      <td>0.07692</td>\n",
       "      <td>NaN</td>\n",
       "      <td>NaN</td>\n",
       "      <td>0.45714</td>\n",
       "      <td>0.15385</td>\n",
       "      <td>0.17901</td>\n",
       "      <td>None</td>\n",
       "    </tr>\n",
       "    <tr>\n",
       "      <th>261328</th>\n",
       "      <td>[u'D31043.M.100.T.H']</td>\n",
       "      <td>0.07692</td>\n",
       "      <td>NaN</td>\n",
       "      <td>NaN</td>\n",
       "      <td>0.45714</td>\n",
       "      <td>0.15385</td>\n",
       "      <td>0.17901</td>\n",
       "      <td>parse</td>\n",
       "    </tr>\n",
       "  </tbody>\n",
       "</table>\n",
       "</div>"
      ],
      "text/plain": [
       "                  ref_summary     r2bl  r1bl  r4bl    ub_r1    ub_r2    ub_r4  \\\n",
       "60718   [u'D31043.M.100.T.D']  0.18447   NaN   NaN  0.58654  0.42718  0.32112   \n",
       "60719   [u'D31043.M.100.T.D']  0.18447   NaN   NaN  0.58654  0.42718  0.32112   \n",
       "150059  [u'D31043.M.100.T.F']  0.11765   NaN   NaN  0.52427  0.19608  0.20187   \n",
       "150061  [u'D31043.M.100.T.F']  0.11765   NaN   NaN  0.52427  0.19608  0.20187   \n",
       "0       [u'D31043.M.100.T.G']  0.08824   NaN   NaN  0.41748  0.13725  0.16265   \n",
       "2       [u'D31043.M.100.T.G']  0.08824   NaN   NaN  0.41748  0.13725  0.16265   \n",
       "261326  [u'D31043.M.100.T.H']  0.07692   NaN   NaN  0.45714  0.15385  0.17901   \n",
       "261328  [u'D31043.M.100.T.H']  0.07692   NaN   NaN  0.45714  0.15385  0.17901   \n",
       "\n",
       "       phrase_type  \n",
       "60718         None  \n",
       "60719        parse  \n",
       "150059        None  \n",
       "150061       parse  \n",
       "0             None  \n",
       "2            parse  \n",
       "261326        None  \n",
       "261328       parse  "
      ]
     },
     "execution_count": 95,
     "metadata": {},
     "output_type": "execute_result"
    }
   ],
   "source": [
    "ub.loc[:,[\"ref_summary\",\"r2bl\", \"r1bl\", \"r4bl\", u'ub_r1',\"ub_r2\",\"ub_r4\",\"phrase_type\"]].sort_values(\"ref_summary\")"
   ]
  },
  {
   "cell_type": "code",
   "execution_count": 92,
   "metadata": {
    "collapsed": false
   },
   "outputs": [
    {
     "name": "stdout",
     "output_type": "stream",
     "text": [
      "\\begin{tabular}{lrrrrll}\n",
      "\\toprule\n",
      "{} &     r2bl &    ub\\_r1 &    ub\\_r2 &    ub\\_r4 & phrase\\_type &            ref\\_summary \\\\\n",
      "\\midrule\n",
      "60718  &  0.18447 &  0.58654 &  0.42718 &  0.32112 &        None &  [u'D31043.M.100.T.D'] \\\\\n",
      "60719  &  0.18447 &  0.58654 &  0.42718 &  0.32112 &       parse &  [u'D31043.M.100.T.D'] \\\\\n",
      "150059 &  0.11765 &  0.52427 &  0.19608 &  0.20187 &        None &  [u'D31043.M.100.T.F'] \\\\\n",
      "150061 &  0.11765 &  0.52427 &  0.19608 &  0.20187 &       parse &  [u'D31043.M.100.T.F'] \\\\\n",
      "0      &  0.08824 &  0.41748 &  0.13725 &  0.16265 &        None &  [u'D31043.M.100.T.G'] \\\\\n",
      "2      &  0.08824 &  0.41748 &  0.13725 &  0.16265 &       parse &  [u'D31043.M.100.T.G'] \\\\\n",
      "261326 &  0.07692 &  0.45714 &  0.15385 &  0.17901 &        None &  [u'D31043.M.100.T.H'] \\\\\n",
      "261328 &  0.07692 &  0.45714 &  0.15385 &  0.17901 &       parse &  [u'D31043.M.100.T.H'] \\\\\n",
      "\\bottomrule\n",
      "\\end{tabular}\n",
      "\n"
     ]
    }
   ],
   "source": [
    "print ub.loc[:,[\"r2bl\", u'ub_r1',\"ub_r2\",\"ub_r4\",\"phrase_type\",\"ref_summary\"]].sort_values(\"ref_summary\").to_latex()"
   ]
  },
  {
   "cell_type": "code",
   "execution_count": null,
   "metadata": {
    "collapsed": true
   },
   "outputs": [],
   "source": []
  }
 ],
 "metadata": {
  "celltoolbar": "Raw Cell Format",
  "kernelspec": {
   "display_name": "Python 2",
   "language": "python",
   "name": "python2"
  },
  "language_info": {
   "codemirror_mode": {
    "name": "ipython",
    "version": 2
   },
   "file_extension": ".py",
   "mimetype": "text/x-python",
   "name": "python",
   "nbconvert_exporter": "python",
   "pygments_lexer": "ipython2",
   "version": "2.7.13"
  }
 },
 "nbformat": 4,
 "nbformat_minor": 2
}
