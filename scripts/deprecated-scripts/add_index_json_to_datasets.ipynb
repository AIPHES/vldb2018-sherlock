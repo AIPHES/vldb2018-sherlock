{
 "cells": [
  {
   "cell_type": "markdown",
   "metadata": {},
   "source": [
    "Add topic.json to every topic\n",
    "===\n",
    "\n"
   ]
  },
  {
   "cell_type": "code",
   "execution_count": 9,
   "metadata": {
    "collapsed": true
   },
   "outputs": [],
   "source": [
    "from os import path\n",
    "import json\n",
    "import os\n",
    "import codecs"
   ]
  },
  {
   "cell_type": "code",
   "execution_count": 10,
   "metadata": {
    "collapsed": false
   },
   "outputs": [
    {
     "data": {
      "text/plain": [
       "'C:\\\\Users\\\\hatieke\\\\.ukpsummarizer'"
      ]
     },
     "execution_count": 10,
     "metadata": {},
     "output_type": "execute_result"
    }
   ],
   "source": [
    "base_path = path.normpath(path.expanduser(\"~/.ukpsummarizer\"))\n",
    "base_path"
   ]
  },
  {
   "cell_type": "code",
   "execution_count": 11,
   "metadata": {
    "collapsed": false
   },
   "outputs": [
    {
     "data": {
      "text/plain": [
       "'C:\\\\Users\\\\hatieke\\\\.ukpsummarizer\\\\datasets\\\\processed'"
      ]
     },
     "execution_count": 11,
     "metadata": {},
     "output_type": "execute_result"
    }
   ],
   "source": [
    "ds_path =  path.normpath(path.join(base_path, \"datasets/processed/\"))\n",
    "ds_path"
   ]
  },
  {
   "cell_type": "code",
   "execution_count": 12,
   "metadata": {
    "collapsed": true
   },
   "outputs": [],
   "source": [
    "datasets = [item for item in os.listdir(ds_path)]"
   ]
  },
  {
   "cell_type": "code",
   "execution_count": 13,
   "metadata": {
    "collapsed": false
   },
   "outputs": [
    {
     "data": {
      "text/plain": [
       "['DBS',\n",
       " 'DBSTEST',\n",
       " 'DUC2004',\n",
       " 'DUC2004TASK5',\n",
       " 'DUC2004TEST',\n",
       " 'DUC2006',\n",
       " 'DUC2006TEST',\n",
       " 'DUC2007',\n",
       " 'DUC2007TEST',\n",
       " 'TEST']"
      ]
     },
     "execution_count": 13,
     "metadata": {},
     "output_type": "execute_result"
    }
   ],
   "source": [
    "datasets"
   ]
  },
  {
   "cell_type": "code",
   "execution_count": 19,
   "metadata": {
    "collapsed": false
   },
   "outputs": [
    {
     "data": {
      "text/plain": [
       "{'DBS': {'dataset': 'DBS', 'language': 'german', 'summary_length': None},\n",
       " 'DBSTEST': {'dataset': 'DBSTEST',\n",
       "  'language': 'german',\n",
       "  'summary_length': None},\n",
       " 'DUC2004': {'dataset': 'DUC2004',\n",
       "  'language': 'english',\n",
       "  'summary_length': 100},\n",
       " 'DUC2004TASK5': {'dataset': 'DUC2004TASK5',\n",
       "  'language': 'english',\n",
       "  'summary_length': 100},\n",
       " 'DUC2004TEST': {'dataset': 'DUC2004TEST',\n",
       "  'language': 'english',\n",
       "  'summary_length': 100},\n",
       " 'DUC2006': {'dataset': 'DUC2006',\n",
       "  'language': 'english',\n",
       "  'summary_length': 250},\n",
       " 'DUC2006TEST': {'dataset': 'DUC2006TEST',\n",
       "  'language': 'english',\n",
       "  'summary_length': 250},\n",
       " 'DUC2007': {'dataset': 'DUC2007',\n",
       "  'language': 'english',\n",
       "  'summary_length': 250},\n",
       " 'DUC2007TEST': {'dataset': 'DUC2007TEST',\n",
       "  'language': 'english',\n",
       "  'summary_length': 250},\n",
       " 'TEST': {'dataset': 'TEST', 'language': 'unknown', 'summary_length': None}}"
      ]
     },
     "execution_count": 19,
     "metadata": {},
     "output_type": "execute_result"
    }
   ],
   "source": [
    "mydict ={}\n",
    "for d in datasets:\n",
    "    mydict[d] = {}\n",
    "\n",
    "for d in datasets:\n",
    "    mydict[d][\"dataset\"] = d\n",
    "    if d.startswith(\"DBS\"):\n",
    "        mydict[d][\"language\"] = \"german\"\n",
    "    elif d.startswith(\"DUC\"):\n",
    "        mydict[d][\"language\"] = \"english\"\n",
    "    else:\n",
    "        mydict[d][\"language\"] = \"unknown\"\n",
    "        \n",
    "    if d.startswith(\"DUC2004\") or d.startswith(\"DUC2003\"):\n",
    "        mydict[d][\"summary_length\"] = 100\n",
    "    elif d.startswith(\"DUC2006\") or d.startswith(\"DUC2007\"):\n",
    "        mydict[d][\"summary_length\"] = 250\n",
    "    else:\n",
    "        mydict[d][\"summary_length\"] = None\n",
    "        \n",
    "mydict"
   ]
  },
  {
   "cell_type": "code",
   "execution_count": 20,
   "metadata": {
    "collapsed": true
   },
   "outputs": [],
   "source": [
    "def write_to_file(text, filename):\n",
    "    with codecs.open(filename, 'w', 'utf-8', errors='ignore') as fp:\n",
    "        fp.write(unicode(text))"
   ]
  },
  {
   "cell_type": "code",
   "execution_count": 21,
   "metadata": {
    "collapsed": false
   },
   "outputs": [],
   "source": [
    "for (k,v) in mydict.items():\n",
    "    filename = path.normpath(path.join(ds_path, k, \"index.json\"))\n",
    "    text =json.dumps(v)\n",
    "    write_to_file(text, filename)\n",
    "    "
   ]
  },
  {
   "cell_type": "markdown",
   "metadata": {},
   "source": [
    "load the json\n",
    "===\n"
   ]
  },
  {
   "cell_type": "code",
   "execution_count": 25,
   "metadata": {
    "collapsed": true
   },
   "outputs": [],
   "source": [
    "filename = 'C:\\\\Users\\\\hatieke\\\\.ukpsummarizer\\\\datasets\\\\processed\\\\DBS\\\\index.json'"
   ]
  },
  {
   "cell_type": "code",
   "execution_count": 28,
   "metadata": {
    "collapsed": false
   },
   "outputs": [],
   "source": [
    "with open(filename) as fn:\n",
    "    js = json.load(fn)"
   ]
  },
  {
   "cell_type": "code",
   "execution_count": 29,
   "metadata": {
    "collapsed": false
   },
   "outputs": [
    {
     "data": {
      "text/plain": [
       "{u'dataset': u'DBS', u'language': u'german', u'summary_length': None}"
      ]
     },
     "execution_count": 29,
     "metadata": {},
     "output_type": "execute_result"
    }
   ],
   "source": [
    "js"
   ]
  },
  {
   "cell_type": "markdown",
   "metadata": {},
   "source": [
    "lookup using hash\n",
    "---"
   ]
  },
  {
   "cell_type": "code",
   "execution_count": 20,
   "metadata": {
    "collapsed": true
   },
   "outputs": [],
   "source": [
    "import hashlib"
   ]
  },
  {
   "cell_type": "code",
   "execution_count": 32,
   "metadata": {
    "collapsed": false
   },
   "outputs": [
    {
     "data": {
      "text/plain": [
       "['DBS',\n",
       " 'DUC2004',\n",
       " 'DUC2004-2',\n",
       " 'DUC2004TASK5',\n",
       " 'DUC2006',\n",
       " 'DUC2006TEST',\n",
       " 'TEST']"
      ]
     },
     "execution_count": 32,
     "metadata": {},
     "output_type": "execute_result"
    }
   ],
   "source": [
    "sorted(datasets)"
   ]
  },
  {
   "cell_type": "code",
   "execution_count": 35,
   "metadata": {
    "collapsed": false
   },
   "outputs": [
    {
     "data": {
      "text/plain": [
       "'453da85b4b97ee79cbaf6900b0b9f896963e821bf790162b670dc7867928713d'"
      ]
     },
     "execution_count": 35,
     "metadata": {},
     "output_type": "execute_result"
    }
   ],
   "source": [
    "m = hashlib.sha256()\n",
    "for ds in sorted(datasets):\n",
    "    m.update(ds)\n",
    "m.update(\"250\")\n",
    "m.hexdigest()"
   ]
  },
  {
   "cell_type": "code",
   "execution_count": null,
   "metadata": {
    "collapsed": false
   },
   "outputs": [],
   "source": []
  },
  {
   "cell_type": "code",
   "execution_count": null,
   "metadata": {
    "collapsed": true
   },
   "outputs": [],
   "source": []
  }
 ],
 "metadata": {
  "kernelspec": {
   "display_name": "Python 2",
   "language": "python",
   "name": "python2"
  },
  "language_info": {
   "codemirror_mode": {
    "name": "ipython",
    "version": 2
   },
   "file_extension": ".py",
   "mimetype": "text/x-python",
   "name": "python",
   "nbconvert_exporter": "python",
   "pygments_lexer": "ipython2",
   "version": "2.7.13"
  }
 },
 "nbformat": 4,
 "nbformat_minor": 1
}
