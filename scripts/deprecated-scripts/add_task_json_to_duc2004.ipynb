{
 "cells": [
  {
   "cell_type": "markdown",
   "metadata": {},
   "source": [
    "Add a task.json file to every topic of DUC2004\n",
    "===\n",
    "\n",
    "DUC2004 and DUC2003 dont have focussed summaries. They want just summaries. We therefore have to add a json to each topic in those datasets in order to enable use in cascade...\n",
    "\n"
   ]
  },
  {
   "cell_type": "code",
   "execution_count": 18,
   "metadata": {
    "collapsed": true
   },
   "outputs": [],
   "source": [
    "import numpy as np\n",
    "import pandas as pd\n",
    "import matplotlib\n",
    "import matplotlib.pyplot as plt\n",
    "matplotlib.style.use('ggplot')\n",
    "from matplotlib import cm\n",
    "\n",
    "\n",
    "import json\n",
    "import codecs\n",
    "import os\n",
    "from os import path"
   ]
  },
  {
   "cell_type": "code",
   "execution_count": 6,
   "metadata": {
    "collapsed": true
   },
   "outputs": [],
   "source": [
    "basepath = os.path.normpath(\"C:\\Users\\hatieke\\.ukpsummarizer\\datasets\\processed\\DUC2004\")"
   ]
  },
  {
   "cell_type": "code",
   "execution_count": 12,
   "metadata": {
    "collapsed": false
   },
   "outputs": [],
   "source": [
    "dirs = [os.path.join(basepath, f) for f in os.listdir(basepath) if os.path.isdir(os.path.join(basepath, f))]"
   ]
  },
  {
   "cell_type": "code",
   "execution_count": 13,
   "metadata": {
    "collapsed": false
   },
   "outputs": [
    {
     "data": {
      "text/plain": [
       "['C:\\\\Users\\\\hatieke\\\\.ukpsummarizer\\\\datasets\\\\processed\\\\DUC2004\\\\d30001t',\n",
       " 'C:\\\\Users\\\\hatieke\\\\.ukpsummarizer\\\\datasets\\\\processed\\\\DUC2004\\\\d30002t',\n",
       " 'C:\\\\Users\\\\hatieke\\\\.ukpsummarizer\\\\datasets\\\\processed\\\\DUC2004\\\\d30003t',\n",
       " 'C:\\\\Users\\\\hatieke\\\\.ukpsummarizer\\\\datasets\\\\processed\\\\DUC2004\\\\d30005t',\n",
       " 'C:\\\\Users\\\\hatieke\\\\.ukpsummarizer\\\\datasets\\\\processed\\\\DUC2004\\\\d30006t',\n",
       " 'C:\\\\Users\\\\hatieke\\\\.ukpsummarizer\\\\datasets\\\\processed\\\\DUC2004\\\\d30007t',\n",
       " 'C:\\\\Users\\\\hatieke\\\\.ukpsummarizer\\\\datasets\\\\processed\\\\DUC2004\\\\d30008t',\n",
       " 'C:\\\\Users\\\\hatieke\\\\.ukpsummarizer\\\\datasets\\\\processed\\\\DUC2004\\\\d30010t',\n",
       " 'C:\\\\Users\\\\hatieke\\\\.ukpsummarizer\\\\datasets\\\\processed\\\\DUC2004\\\\d30011t',\n",
       " 'C:\\\\Users\\\\hatieke\\\\.ukpsummarizer\\\\datasets\\\\processed\\\\DUC2004\\\\d30015t',\n",
       " 'C:\\\\Users\\\\hatieke\\\\.ukpsummarizer\\\\datasets\\\\processed\\\\DUC2004\\\\d30017t',\n",
       " 'C:\\\\Users\\\\hatieke\\\\.ukpsummarizer\\\\datasets\\\\processed\\\\DUC2004\\\\d30020t',\n",
       " 'C:\\\\Users\\\\hatieke\\\\.ukpsummarizer\\\\datasets\\\\processed\\\\DUC2004\\\\d30022t',\n",
       " 'C:\\\\Users\\\\hatieke\\\\.ukpsummarizer\\\\datasets\\\\processed\\\\DUC2004\\\\d30024t',\n",
       " 'C:\\\\Users\\\\hatieke\\\\.ukpsummarizer\\\\datasets\\\\processed\\\\DUC2004\\\\d30026t',\n",
       " 'C:\\\\Users\\\\hatieke\\\\.ukpsummarizer\\\\datasets\\\\processed\\\\DUC2004\\\\d30027t',\n",
       " 'C:\\\\Users\\\\hatieke\\\\.ukpsummarizer\\\\datasets\\\\processed\\\\DUC2004\\\\d30028t',\n",
       " 'C:\\\\Users\\\\hatieke\\\\.ukpsummarizer\\\\datasets\\\\processed\\\\DUC2004\\\\d30029t',\n",
       " 'C:\\\\Users\\\\hatieke\\\\.ukpsummarizer\\\\datasets\\\\processed\\\\DUC2004\\\\d30031t',\n",
       " 'C:\\\\Users\\\\hatieke\\\\.ukpsummarizer\\\\datasets\\\\processed\\\\DUC2004\\\\d30033t',\n",
       " 'C:\\\\Users\\\\hatieke\\\\.ukpsummarizer\\\\datasets\\\\processed\\\\DUC2004\\\\d30034t',\n",
       " 'C:\\\\Users\\\\hatieke\\\\.ukpsummarizer\\\\datasets\\\\processed\\\\DUC2004\\\\d30036t',\n",
       " 'C:\\\\Users\\\\hatieke\\\\.ukpsummarizer\\\\datasets\\\\processed\\\\DUC2004\\\\d30037t',\n",
       " 'C:\\\\Users\\\\hatieke\\\\.ukpsummarizer\\\\datasets\\\\processed\\\\DUC2004\\\\d30038t',\n",
       " 'C:\\\\Users\\\\hatieke\\\\.ukpsummarizer\\\\datasets\\\\processed\\\\DUC2004\\\\d30040t',\n",
       " 'C:\\\\Users\\\\hatieke\\\\.ukpsummarizer\\\\datasets\\\\processed\\\\DUC2004\\\\d30042t',\n",
       " 'C:\\\\Users\\\\hatieke\\\\.ukpsummarizer\\\\datasets\\\\processed\\\\DUC2004\\\\d30044t',\n",
       " 'C:\\\\Users\\\\hatieke\\\\.ukpsummarizer\\\\datasets\\\\processed\\\\DUC2004\\\\d30045t',\n",
       " 'C:\\\\Users\\\\hatieke\\\\.ukpsummarizer\\\\datasets\\\\processed\\\\DUC2004\\\\d30046t',\n",
       " 'C:\\\\Users\\\\hatieke\\\\.ukpsummarizer\\\\datasets\\\\processed\\\\DUC2004\\\\d30047t',\n",
       " 'C:\\\\Users\\\\hatieke\\\\.ukpsummarizer\\\\datasets\\\\processed\\\\DUC2004\\\\d30048t',\n",
       " 'C:\\\\Users\\\\hatieke\\\\.ukpsummarizer\\\\datasets\\\\processed\\\\DUC2004\\\\d30049t',\n",
       " 'C:\\\\Users\\\\hatieke\\\\.ukpsummarizer\\\\datasets\\\\processed\\\\DUC2004\\\\d30050t',\n",
       " 'C:\\\\Users\\\\hatieke\\\\.ukpsummarizer\\\\datasets\\\\processed\\\\DUC2004\\\\d30051t',\n",
       " 'C:\\\\Users\\\\hatieke\\\\.ukpsummarizer\\\\datasets\\\\processed\\\\DUC2004\\\\d30053t',\n",
       " 'C:\\\\Users\\\\hatieke\\\\.ukpsummarizer\\\\datasets\\\\processed\\\\DUC2004\\\\d30055t',\n",
       " 'C:\\\\Users\\\\hatieke\\\\.ukpsummarizer\\\\datasets\\\\processed\\\\DUC2004\\\\d30056t',\n",
       " 'C:\\\\Users\\\\hatieke\\\\.ukpsummarizer\\\\datasets\\\\processed\\\\DUC2004\\\\d30059t',\n",
       " 'C:\\\\Users\\\\hatieke\\\\.ukpsummarizer\\\\datasets\\\\processed\\\\DUC2004\\\\d31001t',\n",
       " 'C:\\\\Users\\\\hatieke\\\\.ukpsummarizer\\\\datasets\\\\processed\\\\DUC2004\\\\d31008t',\n",
       " 'C:\\\\Users\\\\hatieke\\\\.ukpsummarizer\\\\datasets\\\\processed\\\\DUC2004\\\\d31009t',\n",
       " 'C:\\\\Users\\\\hatieke\\\\.ukpsummarizer\\\\datasets\\\\processed\\\\DUC2004\\\\d31013t',\n",
       " 'C:\\\\Users\\\\hatieke\\\\.ukpsummarizer\\\\datasets\\\\processed\\\\DUC2004\\\\d31022t',\n",
       " 'C:\\\\Users\\\\hatieke\\\\.ukpsummarizer\\\\datasets\\\\processed\\\\DUC2004\\\\d31026t',\n",
       " 'C:\\\\Users\\\\hatieke\\\\.ukpsummarizer\\\\datasets\\\\processed\\\\DUC2004\\\\d31031t',\n",
       " 'C:\\\\Users\\\\hatieke\\\\.ukpsummarizer\\\\datasets\\\\processed\\\\DUC2004\\\\d31032t',\n",
       " 'C:\\\\Users\\\\hatieke\\\\.ukpsummarizer\\\\datasets\\\\processed\\\\DUC2004\\\\d31033t',\n",
       " 'C:\\\\Users\\\\hatieke\\\\.ukpsummarizer\\\\datasets\\\\processed\\\\DUC2004\\\\d31038t',\n",
       " 'C:\\\\Users\\\\hatieke\\\\.ukpsummarizer\\\\datasets\\\\processed\\\\DUC2004\\\\d31043t',\n",
       " 'C:\\\\Users\\\\hatieke\\\\.ukpsummarizer\\\\datasets\\\\processed\\\\DUC2004\\\\d31050t']"
      ]
     },
     "execution_count": 13,
     "metadata": {},
     "output_type": "execute_result"
    }
   ],
   "source": [
    "dirs"
   ]
  },
  {
   "cell_type": "code",
   "execution_count": 30,
   "metadata": {
    "collapsed": false
   },
   "outputs": [],
   "source": [
    "def add_taskjson(dir):\n",
    "    if not path.exists(path.join(dir,\"task.json\")):\n",
    "        _, t = path.split(dir)\n",
    "        out = json.dumps({\n",
    "            \"narrative\": \"Whats the gist of the story?\",\n",
    "            \"id\": t,\n",
    "            \"title\": \"An old story\"})\n",
    "        with codecs.open(path.join(dir,\"task.json\"), 'w', 'utf-8', errors='ignore') as fd:\n",
    "             fd.write(unicode(out))\n",
    "    else:\n",
    "        return \"mauahahahaha\""
   ]
  },
  {
   "cell_type": "code",
   "execution_count": 33,
   "metadata": {
    "collapsed": false
   },
   "outputs": [
    {
     "data": {
      "text/plain": [
       "'mauahahahaha'"
      ]
     },
     "execution_count": 33,
     "metadata": {},
     "output_type": "execute_result"
    }
   ],
   "source": [
    "add_taskjson(dirs[1])"
   ]
  },
  {
   "cell_type": "code",
   "execution_count": 34,
   "metadata": {
    "collapsed": true
   },
   "outputs": [],
   "source": [
    "for dir in dirs:\n",
    "    add_taskjson(dir)"
   ]
  },
  {
   "cell_type": "code",
   "execution_count": null,
   "metadata": {
    "collapsed": true
   },
   "outputs": [],
   "source": [
    "add_index_json_to_datasets.ipynb"
   ]
  }
 ],
 "metadata": {
  "kernelspec": {
   "display_name": "Python 2",
   "language": "python",
   "name": "python2"
  },
  "language_info": {
   "codemirror_mode": {
    "name": "ipython",
    "version": 2
   },
   "file_extension": ".py",
   "mimetype": "text/x-python",
   "name": "python",
   "nbconvert_exporter": "python",
   "pygments_lexer": "ipython2",
   "version": "2.7.13"
  }
 },
 "nbformat": 4,
 "nbformat_minor": 2
}
