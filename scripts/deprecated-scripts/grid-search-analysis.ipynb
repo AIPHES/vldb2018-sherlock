{
 "cells": [
  {
   "cell_type": "markdown",
   "metadata": {},
   "source": [
    "Grid Search Analysis\n",
    "===\n",
    "\n",
    "Compares the results of the grid search per dataset. And spits out the best one...\n"
   ]
  },
  {
   "cell_type": "code",
   "execution_count": 1,
   "metadata": {
    "collapsed": true
   },
   "outputs": [],
   "source": [
    "import numpy as np\n",
    "import pandas as pd\n",
    "import matplotlib\n",
    "import matplotlib.pyplot as plt\n",
    "matplotlib.style.use('ggplot')\n",
    "from matplotlib import cm\n",
    "\n",
    "\n",
    "import json\n",
    "import codecs\n",
    "import os"
   ]
  },
  {
   "cell_type": "code",
   "execution_count": 170,
   "metadata": {
    "collapsed": true
   },
   "outputs": [],
   "source": [
    "basepath = os.path.normpath(\"C:\\Users\\hatieke\\.ukpsummarizer\\scores_grid\")"
   ]
  },
  {
   "cell_type": "code",
   "execution_count": 171,
   "metadata": {
    "collapsed": false
   },
   "outputs": [],
   "source": [
    "dirs = [f for f in os.listdir(basepath) if os.path.isdir(os.path.join(basepath, f))]"
   ]
  },
  {
   "cell_type": "code",
   "execution_count": 172,
   "metadata": {
    "collapsed": false
   },
   "outputs": [
    {
     "data": {
      "text/plain": [
       "['9623ef172d38f5006cb0633b0fcbbbdcbc233ec98b38fbad9db02eef',\n",
       " 'c9c6a2fcf6977d1e0e888fbea6d352ec8c998736440b75a6bd064534']"
      ]
     },
     "execution_count": 172,
     "metadata": {},
     "output_type": "execute_result"
    }
   ],
   "source": [
    "dirs"
   ]
  },
  {
   "cell_type": "code",
   "execution_count": 173,
   "metadata": {
    "collapsed": false
   },
   "outputs": [
    {
     "data": {
      "text/plain": [
       "'c9c6a2fcf6977d1e0e888fbea6d352ec8c998736440b75a6bd064534'"
      ]
     },
     "execution_count": 173,
     "metadata": {},
     "output_type": "execute_result"
    }
   ],
   "source": [
    "selected = dirs[1]\n",
    "selected"
   ]
  },
  {
   "cell_type": "code",
   "execution_count": 174,
   "metadata": {
    "collapsed": true
   },
   "outputs": [],
   "source": [
    "def parse_dir(dir):\n",
    "    p = os.path.join(basepath, dir)\n",
    "    result_jsons = []\n",
    "    result_files = [f for f in os.listdir(p) if f.startswith(\"result-\") and f.endswith(\".json\")]\n",
    "    for f in result_files:\n",
    "        fn = os.path.join(p, f)\n",
    "        fsize = os.path.getsize(fn)\n",
    "        if fsize > 0:\n",
    "            with open(fn) as fp:\n",
    "                result_jsons.append(json.load(fp))\n",
    "    return result_jsons"
   ]
  },
  {
   "cell_type": "code",
   "execution_count": 155,
   "metadata": {
    "collapsed": false
   },
   "outputs": [],
   "source": [
    "f = os.path.join(basepath, selected, \"result-af54bffb220ca4e9f459b174b296b3a755f7f1fb1935f3151bc97cd8.json\")"
   ]
  },
  {
   "cell_type": "code",
   "execution_count": 156,
   "metadata": {
    "collapsed": false
   },
   "outputs": [
    {
     "data": {
      "text/plain": [
       "'C:\\\\Users\\\\hatieke\\\\.ukpsummarizer\\\\scores_grid\\\\9623ef172d38f5006cb0633b0fcbbbdcbc233ec98b38fbad9db02eef\\\\result-af54bffb220ca4e9f459b174b296b3a755f7f1fb1935f3151bc97cd8.json'"
      ]
     },
     "execution_count": 156,
     "metadata": {},
     "output_type": "execute_result"
    }
   ],
   "source": [
    "f"
   ]
  },
  {
   "cell_type": "code",
   "execution_count": 130,
   "metadata": {
    "collapsed": false
   },
   "outputs": [],
   "source": [
    "with open(f) as fp:\n",
    "    o = json.load(fp)"
   ]
  },
  {
   "cell_type": "code",
   "execution_count": 131,
   "metadata": {
    "collapsed": true
   },
   "outputs": [
    {
     "data": {
      "text/plain": [
       "{u'config_concept_recommendation': {},\n",
       " u'config_feedback_interpretation': {},\n",
       " u'config_feedbackstore': {u'N': 3,\n",
       "  u'language': u'english',\n",
       "  u'multiplier_accept': 0.25,\n",
       "  u'multiplier_reject': 0.05,\n",
       "  u'type': u'SimpleNgramFeedbackGraph'},\n",
       " u'config_oracle_type': u'accept',\n",
       " u'config_parse_type': u'None',\n",
       " u'config_run_id': u'af54bffb220ca4e9f459b174b296b3a755f7f1fb1935f3151bc97cd8',\n",
       " u'config_summarizer_type': u'PROPAGATION',\n",
       " u'config_wordembeddings': u'glove.6B.300d',\n",
       " u'dataset': u'DUC2004',\n",
       " u'log_feedbacks': [{u'concept': u'the new',\n",
       "   u'iteration': 0,\n",
       "   u'value': u'accept'},\n",
       "  {u'concept': u'expect to', u'iteration': 0, u'value': u'accept'},\n",
       "  {u'concept': u'new presid', u'iteration': 0, u'value': u'accept'},\n",
       "  {u'concept': u'civil war', u'iteration': 0, u'value': u'accept'},\n",
       "  {u'concept': u'elia hrawi', u'iteration': 0, u'value': u'reject'},\n",
       "  {u'concept': u'general enjoy', u'iteration': 0, u'value': u'reject'},\n",
       "  {u'concept': u'in rebuild', u'iteration': 0, u'value': u'reject'},\n",
       "  {u'concept': u'next govern', u'iteration': 0, u'value': u'reject'},\n",
       "  {u'concept': u'former presid', u'iteration': 0, u'value': u'reject'},\n",
       "  {u'concept': u'hariri is', u'iteration': 0, u'value': u'reject'},\n",
       "  {u'concept': u'presid elia', u'iteration': 0, u'value': u'reject'},\n",
       "  {u'concept': u'pledg in', u'iteration': 0, u'value': u'reject'},\n",
       "  {u'concept': u'and stabil', u'iteration': 0, u'value': u'reject'},\n",
       "  {u'concept': u'year in', u'iteration': 0, u'value': u'reject'},\n",
       "  {u'concept': u'the countri', u'iteration': 0, u'value': u'reject'},\n",
       "  {u'concept': u'nation currenc', u'iteration': 0, u'value': u'reject'},\n",
       "  {u'concept': u'offic hariri', u'iteration': 0, u'value': u'reject'},\n",
       "  {u'concept': u'is credit', u'iteration': 0, u'value': u'reject'},\n",
       "  {u'concept': u'hand in', u'iteration': 0, u'value': u'reject'},\n",
       "  {u'concept': u'six-year term', u'iteration': 0, u'value': u'reject'},\n",
       "  {u'concept': u'an armi', u'iteration': 0, u'value': u'reject'},\n",
       "  {u'concept': u'a tough', u'iteration': 0, u'value': u'reject'},\n",
       "  {u'concept': u'stabil the', u'iteration': 0, u'value': u'reject'},\n",
       "  {u'concept': u'clean up', u'iteration': 0, u'value': u'reject'},\n",
       "  {u'concept': u'armi fractur', u'iteration': 0, u'value': u'reject'},\n",
       "  {u'concept': u'offic after', u'iteration': 0, u'value': u'reject'},\n",
       "  {u'concept': u'of former', u'iteration': 0, u'value': u'reject'},\n",
       "  {u'concept': u'a six-year', u'iteration': 0, u'value': u'reject'},\n",
       "  {u'concept': u'free hand', u'iteration': 0, u'value': u'reject'},\n",
       "  {u'concept': u'24 the', u'iteration': 0, u'value': u'reject'},\n",
       "  {u'concept': u'nov. 24', u'iteration': 0, u'value': u'reject'},\n",
       "  {u'concept': u'virtual had', u'iteration': 0, u'value': u'reject'},\n",
       "  {u'concept': u'hrawi leav', u'iteration': 0, u'value': u'reject'},\n",
       "  {u'concept': u'lahoud had', u'iteration': 0, u'value': u'reject'},\n",
       "  {u'concept': u'ask hariri', u'iteration': 0, u'value': u'reject'},\n",
       "  {u'concept': u'the general', u'iteration': 0, u'value': u'reject'},\n",
       "  {u'concept': u'to clean', u'iteration': 0, u'value': u'reject'},\n",
       "  {u'concept': u'tough inaugur', u'iteration': 0, u'value': u'reject'},\n",
       "  {u'concept': u'presidenti decre', u'iteration': 0, u'value': u'reject'},\n",
       "  {u'concept': u'decre last', u'iteration': 0, u'value': u'reject'},\n",
       "  {u'concept': u'fractur by', u'iteration': 0, u'value': u'reject'},\n",
       "  {u'concept': u'sworn in', u'iteration': 0, u'value': u'reject'},\n",
       "  {u'concept': u'in run', u'iteration': 0, u'value': u'reject'},\n",
       "  {u'concept': u'hariri virtual', u'iteration': 0, u'value': u'reject'},\n",
       "  {u'concept': u'form the', u'iteration': 0, u'value': u'reject'},\n",
       "  {u'concept': u'with restor', u'iteration': 0, u'value': u'reject'},\n",
       "  {u'concept': u'the end', u'iteration': 0, u'value': u'reject'},\n",
       "  {u'concept': u'credit with', u'iteration': 0, u'value': u'reject'},\n",
       "  {u'concept': u'the nation', u'iteration': 0, u'value': u'reject'},\n",
       "  {u'concept': u'in offic', u'iteration': 0, u'value': u'reject'},\n",
       "  {u'concept': u'nine year', u'iteration': 0, u'value': u'reject'},\n",
       "  {u'concept': u'restor econom', u'iteration': 0, u'value': u'reject'},\n",
       "  {u'concept': u'lahoud pledg', u'iteration': 0, u'value': u'reject'},\n",
       "  {u'concept': u'leav offic', u'iteration': 0, u'value': u'reject'},\n",
       "  {u'concept': u'end of', u'iteration': 0, u'value': u'reject'},\n",
       "  {u'concept': u'last week', u'iteration': 0, u'value': u'reject'},\n",
       "  {u'concept': u'succeed in', u'iteration': 0, u'value': u'reject'},\n",
       "  {u'concept': u'rebuild an', u'iteration': 0, u'value': u'reject'},\n",
       "  {u'concept': u'confid and', u'iteration': 0, u'value': u'reject'},\n",
       "  {u'concept': u'be sworn', u'iteration': 0, u'value': u'reject'},\n",
       "  {u'concept': u'on nov.', u'iteration': 0, u'value': u'reject'},\n",
       "  {u'concept': u'the next', u'iteration': 0, u'value': u'reject'},\n",
       "  {u'concept': u'widespread popular', u'iteration': 0, u'value': u'reject'},\n",
       "  {u'concept': u'toward the', u'iteration': 0, u'value': u'reject'},\n",
       "  {u'concept': u'enjoy widespread', u'iteration': 0, u'value': u'reject'},\n",
       "  {u'concept': u'speech to', u'iteration': 0, u'value': u'reject'},\n",
       "  {u'concept': u'econom confid', u'iteration': 0, u'value': u'reject'},\n",
       "  {u'concept': u'a presidenti', u'iteration': 0, u'value': u'reject'},\n",
       "  {u'concept': u'presid must', u'iteration': 0, u'value': u'reject'},\n",
       "  {u'concept': u'inaugur speech', u'iteration': 0, u'value': u'reject'},\n",
       "  {u'concept': u'a free', u'iteration': 0, u'value': u'reject'},\n",
       "  {u'concept': u'popular back', u'iteration': 0, u'value': u'reject'},\n",
       "  {u'concept': u'back after', u'iteration': 0, u'value': u'reject'},\n",
       "  {u'concept': u'run the', u'iteration': 0, u'value': u'reject'},\n",
       "  {u'concept': u'must be', u'iteration': 0, u'value': u'reject'},\n",
       "  {u'concept': u'the graft-riddl', u'iteration': 0, u'value': u'reject'},\n",
       "  {u'concept': u'issu a', u'iteration': 0, u'value': u'reject'},\n",
       "  {u'concept': u'the day', u'iteration': 0, u'value': u'reject'},\n",
       "  {u'concept': u'graft-riddl administr', u'iteration': 0, u'value': u'reject'},\n",
       "  {u'concept': u'to issu', u'iteration': 0, u'value': u'reject'},\n",
       "  {u'concept': u'week ask', u'iteration': 0, u'value': u'reject'},\n",
       "  {u'concept': u'after succeed', u'iteration': 0, u'value': u'reject'},\n",
       "  {u'concept': u'to form', u'iteration': 0, u'value': u'reject'},\n",
       "  {u'concept': u'by civil', u'iteration': 0, u'value': u'reject'},\n",
       "  {u'concept': u'day hrawi', u'iteration': 0, u'value': u'reject'},\n",
       "  {u'concept': u'hariri to', u'iteration': 0, u'value': u'reject'},\n",
       "  {u'concept': u'been expect', u'iteration': 0, u'value': u'reject'},\n",
       "  {u'concept': u'hrawi nine', u'iteration': 0, u'value': u'reject'},\n",
       "  {u'concept': u'rafik hariri', u'iteration': 1, u'value': u'accept'},\n",
       "  {u'concept': u'popular armi', u'iteration': 1, u'value': u'accept'},\n",
       "  {u'concept': u'prime minist', u'iteration': 1, u'value': u'accept'},\n",
       "  {u'concept': u'emil lahoud', u'iteration': 1, u'value': u'accept'},\n",
       "  {u'concept': u'minist rafik', u'iteration': 1, u'value': u'accept'},\n",
       "  {u'concept': u'an inform', u'iteration': 1, u'value': u'reject'},\n",
       "  {u'concept': u'invit from', u'iteration': 1, u'value': u'reject'},\n",
       "  {u'concept': u'year ago', u'iteration': 1, u'value': u'reject'},\n",
       "  {u'concept': u'devast civil', u'iteration': 1, u'value': u'reject'},\n",
       "  {u'concept': u'premier six', u'iteration': 1, u'value': u'reject'},\n",
       "  {u'concept': u'next presid', u'iteration': 1, u'value': u'reject'},\n",
       "  {u'concept': u'of power', u'iteration': 1, u'value': u'reject'},\n",
       "  {u'concept': u'inform invit', u'iteration': 1, u'value': u'reject'},\n",
       "  {u'concept': u'and hariri', u'iteration': 1, u'value': u'reject'},\n",
       "  {u'concept': u'sinc he', u'iteration': 1, u'value': u'reject'},\n",
       "  {u'concept': u'declin an', u'iteration': 1, u'value': u'reject'},\n",
       "  {u'concept': u'formal elect', u'iteration': 1, u'value': u'reject'},\n",
       "  {u'concept': u'thursday formal', u'iteration': 1, u'value': u'reject'},\n",
       "  {u'concept': u'presid to', u'iteration': 1, u'value': u'reject'},\n",
       "  {u'concept': u'hariri 53', u'iteration': 1, u'value': u'reject'},\n",
       "  {u'concept': u'on thursday', u'iteration': 1, u'value': u'reject'},\n",
       "  {u'concept': u'this countri', u'iteration': 1, u'value': u'reject'},\n",
       "  {u'concept': u'as lebanon', u'iteration': 1, u'value': u'reject'},\n",
       "  {u'concept': u'a polit', u'iteration': 1, u'value': u'reject'},\n",
       "  {u'concept': u'power neighbor', u'iteration': 1, u'value': u'reject'},\n",
       "  {u'concept': u'elect gen.', u'iteration': 1, u'value': u'reject'},\n",
       "  {u'concept': u'countri sinc', u'iteration': 1, u'value': u'reject'},\n",
       "  {u'concept': u'crisi in', u'iteration': 1, u'value': u'reject'},\n",
       "  {u'concept': u'lahoud the', u'iteration': 1, u'value': u'reject'},\n",
       "  {u'concept': u'parliament on', u'iteration': 1, u'value': u'reject'},\n",
       "  {u'concept': u'support both', u'iteration': 1, u'value': u'reject'},\n",
       "  {u'concept': u'govern spark', u'iteration': 1, u'value': u'reject'},\n",
       "  {u'concept': u'lahoud and', u'iteration': 1, u'value': u'reject'},\n",
       "  {u'concept': u'both lahoud', u'iteration': 1, u'value': u'reject'},\n",
       "  {u'concept': u'the popular', u'iteration': 1, u'value': u'reject'},\n",
       "  {u'concept': u'from lebanon', u'iteration': 1, u'value': u'reject'},\n",
       "  {u'concept': u'neighbor syria', u'iteration': 1, u'value': u'reject'},\n",
       "  {u'concept': u'rebuild from', u'iteration': 1, u'value': u'reject'},\n",
       "  {u'concept': u'ago under', u'iteration': 1, u'value': u'reject'},\n",
       "  {u'concept': u'he becam', u'iteration': 1, u'value': u'reject'},\n",
       "  {u'concept': u'under former', u'iteration': 1, u'value': u'reject'},\n",
       "  {u'concept': u'command who', u'iteration': 1, u'value': u'reject'},\n",
       "  {u'concept': u'spark a', u'iteration': 1, u'value': u'reject'},\n",
       "  {u'concept': u'has declin', u'iteration': 1, u'value': u'reject'},\n",
       "  {u'concept': u'armi command', u'iteration': 1, u'value': u'reject'},\n",
       "  {u'concept': u'damascus support', u'iteration': 1, u'value': u'reject'},\n",
       "  {u'concept': u'it rebuild', u'iteration': 1, u'value': u'reject'},\n",
       "  {u'concept': u'lebanon new', u'iteration': 1, u'value': u'reject'},\n",
       "  {u'concept': u'53 virtual', u'iteration': 1, u'value': u'reject'},\n",
       "  {u'concept': u'lebanon next', u'iteration': 1, u'value': u'reject'},\n",
       "  {u'concept': u'hariri has', u'iteration': 1, u'value': u'reject'},\n",
       "  {u'concept': u'virtual has', u'iteration': 1, u'value': u'reject'},\n",
       "  {u'concept': u'six year', u'iteration': 1, u'value': u'reject'},\n",
       "  {u'concept': u'syria as', u'iteration': 1, u'value': u'reject'},\n",
       "  {u'concept': u'polit crisi', u'iteration': 1, u'value': u'reject'},\n",
       "  {u'concept': u'becam premier', u'iteration': 1, u'value': u'reject'},\n",
       "  {u'concept': u'the back', u'iteration': 1, u'value': u'reject'},\n",
       "  {u'concept': u'countri as', u'iteration': 1, u'value': u'reject'},\n",
       "  {u'concept': u'back of', u'iteration': 1, u'value': u'reject'},\n",
       "  {u'concept': u'gen. emil', u'iteration': 1, u'value': u'reject'},\n",
       "  {u'concept': u'it devast', u'iteration': 1, u'value': u'reject'}],\n",
       " u'model_rougescores': {u'ROUGE-1 R score': 0.58654,\n",
       "  u'ROUGE-2 R score': 0.42718,\n",
       "  u'ROUGE-SU* R score': 0.32112,\n",
       "  u'accept_count': 0,\n",
       "  u'accepted': [],\n",
       "  u'iteration': -1,\n",
       "  u'reject_count': 0,\n",
       "  u'rejected': [],\n",
       "  u'summary': [u'The delay reflects the tug-of-war among the power brokers in the country.',\n",
       "   u'Under a formula aimed at preventing the recurrence of the 1975-90 civil war, power in Lebanon is shared equally by a Maronite Christian president, a Sunni Muslim prime minister and a Shiite Parliament speaker.',\n",
       "   u\"Hariri, 53, the architect of Lebanon's multibillion dollar postwar reconstruction program, has been in power since 1992.\",\n",
       "   u\"Prime Minister Rafik Hariri, the business tycoon who launched Lebanon's multibillion dollar reconstruction from the devastation of civil war, said Monday he was bowing out as premier following a dispute with the new president.\"]},\n",
       " u'models': [{u'name': u'D31043.M.100.T.D',\n",
       "   u'text': [u'Power in Lebanon is shared equally by a Maronite Christian president, a Sunni Muslim prime minister, and a Shiite Parliament speaker, an arrangement made to prevent a recurrence of the 1975-90 civil war.',\n",
       "    u'Syria, with 30,000 troops in Lebanon is the main power broker there.',\n",
       "    u'The Lebanese parliament amended the constitution to permit popular army general Emile Lahoud to become president.',\n",
       "    u\"Prime minister Rafik Hariri, the architect of Lebanon's postwar reconstruction, expected to get a fourth term but a conflict with the new president led him to bow out as premier.\",\n",
       "    u\"Lebanon's economic stability has been threatened by the conflict.\"]}],\n",
       " u'result_rougescores': [{u'ROUGE-1 R score': 0.36538,\n",
       "   u'ROUGE-2 R score': 0.03883,\n",
       "   u'ROUGE-SU* R score': 0.10625,\n",
       "   u'accept_count': 0,\n",
       "   u'accepted': [],\n",
       "   u'iteration': 0,\n",
       "   u'reject_count': 0,\n",
       "   u'rejected': [],\n",
       "   u'summary': [u'Lahoud had been expected to issue a presidential decree last week asking Hariri to form the next government.',\n",
       "    u\"Toward the end of former President Elias Hrawi's nine years in office, Hariri virtually had a free hand in running the country.\",\n",
       "    u'The new president must be sworn in on Nov. 24, the day Hrawi leaves office after a six-year term.',\n",
       "    u'Hariri is credited with restoring economic confidence and stabilizing the national currency.',\n",
       "    u'Lahoud pledged in a tough inauguration speech to clean up the graft-riddled administration.',\n",
       "    u'The general enjoys widespread popular backing after succeeding in rebuilding an army fractured by civil war.']},\n",
       "  {u'ROUGE-1 R score': 0.36538,\n",
       "   u'ROUGE-2 R score': 0.03883,\n",
       "   u'ROUGE-SU* R score': 0.10625,\n",
       "   u'accept_count': 4,\n",
       "   u'accepted': [u'the new', u'expect to', u'new presid', u'civil war'],\n",
       "   u'iteration': 0,\n",
       "   u'reject_count': 84,\n",
       "   u'rejected': [u'elia hrawi',\n",
       "    u'general enjoy',\n",
       "    u'in rebuild',\n",
       "    u'next govern',\n",
       "    u'former presid',\n",
       "    u'hariri is',\n",
       "    u'presid elia',\n",
       "    u'pledg in',\n",
       "    u'and stabil',\n",
       "    u'year in',\n",
       "    u'the countri',\n",
       "    u'nation currenc',\n",
       "    u'offic hariri',\n",
       "    u'is credit',\n",
       "    u'hand in',\n",
       "    u'six-year term',\n",
       "    u'an armi',\n",
       "    u'a tough',\n",
       "    u'stabil the',\n",
       "    u'clean up',\n",
       "    u'armi fractur',\n",
       "    u'offic after',\n",
       "    u'of former',\n",
       "    u'a six-year',\n",
       "    u'free hand',\n",
       "    u'24 the',\n",
       "    u'nov. 24',\n",
       "    u'virtual had',\n",
       "    u'hrawi leav',\n",
       "    u'lahoud had',\n",
       "    u'ask hariri',\n",
       "    u'the general',\n",
       "    u'to clean',\n",
       "    u'tough inaugur',\n",
       "    u'presidenti decre',\n",
       "    u'decre last',\n",
       "    u'fractur by',\n",
       "    u'sworn in',\n",
       "    u'in run',\n",
       "    u'hariri virtual',\n",
       "    u'form the',\n",
       "    u'with restor',\n",
       "    u'the end',\n",
       "    u'credit with',\n",
       "    u'the nation',\n",
       "    u'in offic',\n",
       "    u'nine year',\n",
       "    u'restor econom',\n",
       "    u'lahoud pledg',\n",
       "    u'leav offic',\n",
       "    u'end of',\n",
       "    u'last week',\n",
       "    u'succeed in',\n",
       "    u'rebuild an',\n",
       "    u'confid and',\n",
       "    u'be sworn',\n",
       "    u'on nov.',\n",
       "    u'the next',\n",
       "    u'widespread popular',\n",
       "    u'toward the',\n",
       "    u'enjoy widespread',\n",
       "    u'speech to',\n",
       "    u'econom confid',\n",
       "    u'a presidenti',\n",
       "    u'presid must',\n",
       "    u'inaugur speech',\n",
       "    u'a free',\n",
       "    u'popular back',\n",
       "    u'back after',\n",
       "    u'run the',\n",
       "    u'must be',\n",
       "    u'the graft-riddl',\n",
       "    u'issu a',\n",
       "    u'the day',\n",
       "    u'graft-riddl administr',\n",
       "    u'to issu',\n",
       "    u'week ask',\n",
       "    u'after succeed',\n",
       "    u'to form',\n",
       "    u'by civil',\n",
       "    u'day hrawi',\n",
       "    u'hariri to',\n",
       "    u'been expect',\n",
       "    u'hrawi nine'],\n",
       "   u'summary': [u'Lahoud had been expected to issue a presidential decree last week asking Hariri to form the next government.',\n",
       "    u\"Toward the end of former President Elias Hrawi's nine years in office, Hariri virtually had a free hand in running the country.\",\n",
       "    u'The new president must be sworn in on Nov. 24, the day Hrawi leaves office after a six-year term.',\n",
       "    u'Hariri is credited with restoring economic confidence and stabilizing the national currency.',\n",
       "    u'Lahoud pledged in a tough inauguration speech to clean up the graft-riddled administration.',\n",
       "    u'The general enjoys widespread popular backing after succeeding in rebuilding an army fractured by civil war.']},\n",
       "  {u'ROUGE-1 R score': 0.39423,\n",
       "   u'ROUGE-2 R score': 0.08738,\n",
       "   u'ROUGE-SU* R score': 0.13171,\n",
       "   u'accept_count': 5,\n",
       "   u'accepted': [u'rafik hariri',\n",
       "    u'popular armi',\n",
       "    u'prime minist',\n",
       "    u'emil lahoud',\n",
       "    u'minist rafik'],\n",
       "   u'iteration': 1,\n",
       "   u'reject_count': 56,\n",
       "   u'rejected': [u'an inform',\n",
       "    u'invit from',\n",
       "    u'year ago',\n",
       "    u'devast civil',\n",
       "    u'premier six',\n",
       "    u'next presid',\n",
       "    u'of power',\n",
       "    u'inform invit',\n",
       "    u'and hariri',\n",
       "    u'sinc he',\n",
       "    u'declin an',\n",
       "    u'formal elect',\n",
       "    u'thursday formal',\n",
       "    u'presid to',\n",
       "    u'hariri 53',\n",
       "    u'on thursday',\n",
       "    u'this countri',\n",
       "    u'as lebanon',\n",
       "    u'a polit',\n",
       "    u'power neighbor',\n",
       "    u'elect gen.',\n",
       "    u'countri sinc',\n",
       "    u'crisi in',\n",
       "    u'lahoud the',\n",
       "    u'parliament on',\n",
       "    u'support both',\n",
       "    u'govern spark',\n",
       "    u'lahoud and',\n",
       "    u'both lahoud',\n",
       "    u'the popular',\n",
       "    u'from lebanon',\n",
       "    u'neighbor syria',\n",
       "    u'rebuild from',\n",
       "    u'ago under',\n",
       "    u'he becam',\n",
       "    u'under former',\n",
       "    u'command who',\n",
       "    u'spark a',\n",
       "    u'has declin',\n",
       "    u'armi command',\n",
       "    u'damascus support',\n",
       "    u'it rebuild',\n",
       "    u'lebanon new',\n",
       "    u'53 virtual',\n",
       "    u'lebanon next',\n",
       "    u'hariri has',\n",
       "    u'virtual has',\n",
       "    u'six year',\n",
       "    u'syria as',\n",
       "    u'polit crisi',\n",
       "    u'becam premier',\n",
       "    u'the back',\n",
       "    u'countri as',\n",
       "    u'back of',\n",
       "    u'gen. emil',\n",
       "    u'it devast'],\n",
       "   u'summary': [u'Hariri is credited with restoring economic confidence and stabilizing the national currency.',\n",
       "    u\"Parliament on Thursday formally elected Gen. Emile Lahoud, the popular army commander who has the backing of powerful neighbor Syria, as Lebanon's next president.\",\n",
       "    u'Hariri, 53, virtually has had a free hand in running the country since he became premier six years ago under former President Elias Hrawi.',\n",
       "    u\"Prime Minister Rafik Hariri has declined an informal invitation from Lebanon's new president to form the next government, sparking a political crisis in this country as it rebuilds from its devastating civil war.\",\n",
       "    u'Damascus supports both Lahoud and Hariri.']},\n",
       "  {u'ROUGE-1 R score': 0.39423,\n",
       "   u'ROUGE-2 R score': 0.08738,\n",
       "   u'ROUGE-SU* R score': 0.13171,\n",
       "   u'accept_count': 0,\n",
       "   u'accepted': [],\n",
       "   u'iteration': 2,\n",
       "   u'reject_count': 0,\n",
       "   u'rejected': [],\n",
       "   u'summary': [u'Hariri is credited with restoring economic confidence and stabilizing the national currency.',\n",
       "    u\"Parliament on Thursday formally elected Gen. Emile Lahoud, the popular army commander who has the backing of powerful neighbor Syria, as Lebanon's next president.\",\n",
       "    u'Hariri, 53, virtually has had a free hand in running the country since he became premier six years ago under former President Elias Hrawi.',\n",
       "    u\"Prime Minister Rafik Hariri has declined an informal invitation from Lebanon's new president to form the next government, sparking a political crisis in this country as it rebuilds from its devastating civil war.\",\n",
       "    u'Damascus supports both Lahoud and Hariri.']}],\n",
       " u'result_summary': [u'Hariri is credited with restoring economic confidence and stabilizing the national currency.',\n",
       "  u\"Parliament on Thursday formally elected Gen. Emile Lahoud, the popular army commander who has the backing of powerful neighbor Syria, as Lebanon's next president.\",\n",
       "  u'Hariri, 53, virtually has had a free hand in running the country since he became premier six years ago under former President Elias Hrawi.',\n",
       "  u\"Prime Minister Rafik Hariri has declined an informal invitation from Lebanon's new president to form the next government, sparking a political crisis in this country as it rebuilds from its devastating civil war.\",\n",
       "  u'Damascus supports both Lahoud and Hariri.'],\n",
       " u'topic': u'd31043t'}"
      ]
     },
     "execution_count": 131,
     "metadata": {},
     "output_type": "execute_result"
    }
   ],
   "source": [
    "o"
   ]
  },
  {
   "cell_type": "code",
   "execution_count": 157,
   "metadata": {
    "collapsed": false
   },
   "outputs": [],
   "source": [
    "res = [i for i in o[\"result_rougescores\"] if i[\"iteration\"] <= 11]"
   ]
  },
  {
   "cell_type": "code",
   "execution_count": 158,
   "metadata": {
    "collapsed": false
   },
   "outputs": [
    {
     "data": {
      "text/plain": [
       "[0.03883, 0.03883, 0.08738, 0.08738]"
      ]
     },
     "execution_count": 158,
     "metadata": {},
     "output_type": "execute_result"
    }
   ],
   "source": [
    "[i[\"ROUGE-2 R score\"] for i in res]"
   ]
  },
  {
   "cell_type": "code",
   "execution_count": 159,
   "metadata": {
    "collapsed": false
   },
   "outputs": [
    {
     "data": {
      "text/plain": [
       "0.08738"
      ]
     },
     "execution_count": 159,
     "metadata": {},
     "output_type": "execute_result"
    }
   ],
   "source": [
    "[i[\"ROUGE-2 R score\"] for i in o[\"result_rougescores\"] if i[\"iteration\"] <= 11][-1]"
   ]
  },
  {
   "cell_type": "code",
   "execution_count": null,
   "metadata": {
    "collapsed": true
   },
   "outputs": [],
   "source": []
  },
  {
   "cell_type": "code",
   "execution_count": 175,
   "metadata": {
    "collapsed": false
   },
   "outputs": [],
   "source": [
    "def parse_single_result_into_dataframe(obj, iteration=11):\n",
    "    config = obj[u'config_feedbackstore']\n",
    "    try:\n",
    "        res = [i for i in obj[\"result_rougescores\"] if i[\"iteration\"] <= iteration][-1]\n",
    "    except:\n",
    "        raise BaseException(\"unknown iteration %s\" % (obj[\"config_run_id\"]))\n",
    "    \n",
    "    total_accept = sum([1 for i in obj[u'log_feedbacks'] if i[\"value\"] == 'accept' and i[\"iteration\"] < iteration])\n",
    "    total_reject = sum([1 for i in obj[u'log_feedbacks'] if i[\"value\"] != 'accept' and i[\"iteration\"] < iteration])\n",
    "    total_feedback = total_accept + total_reject\n",
    "    \n",
    "    num_iterations = res[\"iteration\"]\n",
    "    r1 =  res[u'ROUGE-1 R score']\n",
    "    r2 =  res[u'ROUGE-2 R score']\n",
    "    r4 =  res[u'ROUGE-SU* R score']\n",
    "   \n",
    "    classtype = config.get(u'type')\n",
    "    cut_off_threshold = config.get(u'cut_off_threshold')\n",
    "    iterations_accept = config.get(u'iterations_accept')\n",
    "    iterations_reject = config.get(u'iterations_reject')\n",
    "    propagation_abort_threshold = config.get(u'propagation_abort_threshold')\n",
    "    mass_accept = config.get(u'mass_accept')\n",
    "    mass_reject = config.get(u'mass_reject')\n",
    "    window_size = config.get(u'N')\n",
    "    factor_reject = config.get(u\"multiplier_reject\")\n",
    "    factor_accept = config.get(u\"multiplier_accept\")\n",
    "    cutoff = config.get(u\"cut_off_threshold\")\n",
    "    runid = obj.get(\"config_run_id\")\n",
    "    \n",
    "    return {\n",
    "        \"accept\" : total_accept,\n",
    "        \"reject\": total_reject,\n",
    "        \"total_feedback\": total_feedback,\n",
    "        \"ref_summary\": str([item[\"name\"] for item in obj[u'models']]),\n",
    "        \"cfg\": config,\n",
    "        \"num_iterations\": num_iterations,\n",
    "        \"r1\": r1,\n",
    "        \"r2\": r2,\n",
    "        \"r4\": r4,\n",
    "        \"classtype\": classtype,\n",
    "        \"iterations_accept\":iterations_accept,\n",
    "        \"iterations_reject\": iterations_reject,\n",
    "        \"propagation_abort_threshold\": propagation_abort_threshold,\n",
    "        \"mass_accept\" : mass_accept,\n",
    "        \"mass_reject\" : mass_reject,\n",
    "        \"window_size\": window_size,\n",
    "        \"multiplier_reject\": factor_reject,\n",
    "        \"multiplier_accept\": factor_accept,\n",
    "        \"cutoff_threshold\": cutoff,\n",
    "        \"id\": runid\n",
    "    }\n"
   ]
  },
  {
   "cell_type": "code",
   "execution_count": 110,
   "metadata": {
    "collapsed": false
   },
   "outputs": [],
   "source": [
    "#parse_single_result_into_dataframe(first, iteration=10)"
   ]
  },
  {
   "cell_type": "code",
   "execution_count": 176,
   "metadata": {
    "collapsed": false
   },
   "outputs": [],
   "source": [
    "items = [parse_single_result_into_dataframe(f, iteration=11) for d in dirs for f in parse_dir(d)]\n",
    "#items = [parse_single_result_into_dataframe(f, iteration=11) for f in parse_dir(selected)]"
   ]
  },
  {
   "cell_type": "code",
   "execution_count": 177,
   "metadata": {
    "collapsed": false
   },
   "outputs": [
    {
     "data": {
      "text/plain": [
       "11995"
      ]
     },
     "execution_count": 177,
     "metadata": {},
     "output_type": "execute_result"
    }
   ],
   "source": [
    "len(items)"
   ]
  },
  {
   "cell_type": "code",
   "execution_count": 178,
   "metadata": {
    "collapsed": false
   },
   "outputs": [],
   "source": [
    "#items[0]"
   ]
  },
  {
   "cell_type": "code",
   "execution_count": 179,
   "metadata": {
    "collapsed": true
   },
   "outputs": [],
   "source": [
    "df = pd.DataFrame(items)"
   ]
  },
  {
   "cell_type": "code",
   "execution_count": 180,
   "metadata": {
    "collapsed": false
   },
   "outputs": [],
   "source": [
    "df.to_csv(\"C:\\\\Users\\\\hatieke\\\\.ukpsummarizer\\\\tmp\\\\grid.csv\")"
   ]
  },
  {
   "cell_type": "code",
   "execution_count": 150,
   "metadata": {
    "collapsed": false,
    "scrolled": false
   },
   "outputs": [
    {
     "data": {
      "text/plain": [
       "accept                                                                        22\n",
       "cfg                            {u'mass_reject': -1.0, u'iterations_accept': 1...\n",
       "classtype                          WordEmbeddingRandomWalkDiffusionFeedbackGraph\n",
       "cutoff_threshold                                                             0.6\n",
       "id                             001ed642fe5d247404e45acb9bdc92717d0d7872ed6a49...\n",
       "iterations_accept                                                             16\n",
       "iterations_reject                                                              8\n",
       "mass_accept                                                                   -1\n",
       "mass_reject                                                                   -1\n",
       "multiplier_accept                                                            NaN\n",
       "multiplier_reject                                                            NaN\n",
       "num_iterations                                                                 4\n",
       "propagation_abort_threshold                                                  0.5\n",
       "r1                                                                       0.43137\n",
       "r2                                                                       0.14851\n",
       "r4                                                                        0.1428\n",
       "ref_summary                                                [u'D30044.M.100.T.B']\n",
       "reject                                                                       312\n",
       "total_feedback                                                               334\n",
       "window_size                                                                  NaN\n",
       "Name: 0, dtype: object"
      ]
     },
     "execution_count": 150,
     "metadata": {},
     "output_type": "execute_result"
    }
   ],
   "source": [
    "df.iloc[0]"
   ]
  },
  {
   "cell_type": "code",
   "execution_count": null,
   "metadata": {
    "collapsed": false
   },
   "outputs": [],
   "source": [
    "top_score"
   ]
  },
  {
   "cell_type": "code",
   "execution_count": null,
   "metadata": {
    "collapsed": false
   },
   "outputs": [],
   "source": [
    "v = top_score[\"cfg\"]\n",
    "v"
   ]
  },
  {
   "cell_type": "code",
   "execution_count": null,
   "metadata": {
    "collapsed": false
   },
   "outputs": [],
   "source": [
    "v.apply(lambda x: x.mass_reject)"
   ]
  },
  {
   "cell_type": "code",
   "execution_count": null,
   "metadata": {
    "collapsed": false
   },
   "outputs": [],
   "source": [
    "df.iloc[64]"
   ]
  },
  {
   "cell_type": "code",
   "execution_count": null,
   "metadata": {
    "collapsed": false
   },
   "outputs": [],
   "source": [
    "df.groupby(\"ref_summary\").max()"
   ]
  },
  {
   "cell_type": "code",
   "execution_count": null,
   "metadata": {
    "collapsed": true
   },
   "outputs": [],
   "source": []
  },
  {
   "cell_type": "code",
   "execution_count": 184,
   "metadata": {
    "collapsed": false,
    "scrolled": false
   },
   "outputs": [],
   "source": [
    "df.groupby([\"ref_summary\",\"classtype\"])[\"r2\"].describe().to_csv(\"C:\\\\Users\\\\hatieke\\\\.ukpsummarizer\\\\tmp\\\\grid_groups.csv\")"
   ]
  },
  {
   "cell_type": "code",
   "execution_count": null,
   "metadata": {
    "collapsed": true
   },
   "outputs": [],
   "source": []
  }
 ],
 "metadata": {
  "kernelspec": {
   "display_name": "Python 2",
   "language": "python",
   "name": "python2"
  },
  "language_info": {
   "codemirror_mode": {
    "name": "ipython",
    "version": 2
   },
   "file_extension": ".py",
   "mimetype": "text/x-python",
   "name": "python",
   "nbconvert_exporter": "python",
   "pygments_lexer": "ipython2",
   "version": "2.7.13"
  }
 },
 "nbformat": 4,
 "nbformat_minor": 2
}
