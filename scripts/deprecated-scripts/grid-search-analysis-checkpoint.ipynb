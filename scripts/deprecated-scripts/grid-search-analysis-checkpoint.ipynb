{
 "cells": [
  {
   "cell_type": "markdown",
   "metadata": {},
   "source": [
    "Grid Search Analysis\n",
    "===\n",
    "\n",
    "Compares the results of the grid search per dataset. And spits out the best one...\n"
   ]
  },
  {
   "cell_type": "code",
   "execution_count": 20,
   "metadata": {
    "collapsed": true
   },
   "outputs": [],
   "source": [
    "import numpy as np\n",
    "import pandas as pd\n",
    "import matplotlib\n",
    "import matplotlib.pyplot as plt\n",
    "matplotlib.style.use('ggplot')\n",
    "from matplotlib import cm\n",
    "\n",
    "\n",
    "import json\n",
    "import codecs\n",
    "import os"
   ]
  },
  {
   "cell_type": "code",
   "execution_count": 21,
   "metadata": {
    "collapsed": true
   },
   "outputs": [],
   "source": [
    "basepath = os.path.normpath(\"C:\\Users\\hatieke\\.ukpsummarizer\\scores_grid\")"
   ]
  },
  {
   "cell_type": "code",
   "execution_count": 22,
   "metadata": {
    "collapsed": false
   },
   "outputs": [],
   "source": [
    "dirs = [f for f in os.listdir(basepath) if os.path.isdir(os.path.join(basepath, f))]"
   ]
  },
  {
   "cell_type": "code",
   "execution_count": 23,
   "metadata": {
    "collapsed": false
   },
   "outputs": [
    {
     "data": {
      "text/plain": [
       "['5701303a1d18a8bc2b9fa4abe9bb2c6f5a65105053e1febf6e759e6c',\n",
       " '9623ef172d38f5006cb0633b0fcbbbdcbc233ec98b38fbad9db02eef',\n",
       " 'c09db1f934b431bde5e263688426ae2e8ff075319cb228fd7dab0c4f']"
      ]
     },
     "execution_count": 23,
     "metadata": {},
     "output_type": "execute_result"
    }
   ],
   "source": [
    "dirs"
   ]
  },
  {
   "cell_type": "code",
   "execution_count": 24,
   "metadata": {
    "collapsed": true
   },
   "outputs": [],
   "source": [
    "selected = dirs[1]"
   ]
  },
  {
   "cell_type": "code",
   "execution_count": 25,
   "metadata": {
    "collapsed": true
   },
   "outputs": [],
   "source": [
    "def parse_dir(dir):\n",
    "    p = os.path.join(basepath, dir)\n",
    "    result_jsons = []\n",
    "    result_files = [f for f in os.listdir(p) if f.startswith(\"result-\") and f.endswith(\".json\")]\n",
    "    for f in result_files:\n",
    "        fn = os.path.join(p, f)\n",
    "        fsize = os.path.getsize(fn)\n",
    "        if fsize > 0:\n",
    "            with open(fn) as fp:\n",
    "                result_jsons.append(json.load(fp))\n",
    "    return result_jsons"
   ]
  },
  {
   "cell_type": "code",
   "execution_count": 38,
   "metadata": {
    "collapsed": false
   },
   "outputs": [],
   "source": [
    "def parse_single_result_into_dataframe(obj, iteration=11):\n",
    "    config = obj[u'config_feedbackstore']\n",
    "    try:\n",
    "        res = [i for i in obj[\"result_rougescores\"] if i[\"iteration\"] <= iteration][:-1][0]\n",
    "    except:\n",
    "        raise BaseException(\"unknown iteration %s\" % (obj[\"config_run_id\"]))\n",
    "    \n",
    "    total_accept = sum([1 for i in obj[u'log_feedbacks'] if i[\"value\"] == 'accept' and i[\"iteration\"] < iteration])\n",
    "    total_reject = sum([1 for i in obj[u'log_feedbacks'] if i[\"value\"] != 'accept' and i[\"iteration\"] < iteration])\n",
    "    total_feedback = total_accept + total_reject\n",
    "    \n",
    "    num_iterations = res[\"iteration\"]\n",
    "    r1 =  res[u'ROUGE-1 R score']\n",
    "    r2 =  res[u'ROUGE-2 R score']\n",
    "    r4 =  res[u'ROUGE-SU* R score']\n",
    "   \n",
    "    classtype = config.get(u'type')\n",
    "    cut_off_threshold = config.get(u'cut_off_threshold')\n",
    "    iterations_accept = config.get(u'iterations_accept')\n",
    "    iterations_reject = config.get(u'iterations_reject')\n",
    "    propagation_abort_threshold = config.get(u'propagation_abort_threshold')\n",
    "    mass_accept = config.get(u'mass_accept')\n",
    "    mass_reject = config.get(u'mass_reject')\n",
    "    window_size = config.get(u'N')\n",
    "    factor_reject = config.get(u\"multiplier_reject\")\n",
    "    factor_accept = config.get(u\"multiplier_accept\")\n",
    "    cutoff = config.get(u\"cut_off_threshold\")\n",
    "    \n",
    "    return {\n",
    "        \"accept\" : total_accept,\n",
    "        \"reject\": total_reject,\n",
    "        \"total_feedback\": total_feedback,\n",
    "        \"ref_summary\": str([item[\"name\"] for item in obj[u'models']]),\n",
    "        \"cfg\": config,\n",
    "        \"num_iterations\": num_iterations,\n",
    "        \"r1\": r1,\n",
    "        \"r2\": r2,\n",
    "        \"r4\": r4,\n",
    "        \"classtype\": classtype,\n",
    "        \"iterations_accept\":iterations_accept,\n",
    "        \"iterations_reject\": iterations_reject,\n",
    "        \"propagation_abort_threshold\": propagation_abort_threshold,\n",
    "        \"mass_accept\" : mass_accept,\n",
    "        \"mass_reject\" : mass_reject,\n",
    "        \"window_size\": window_size,\n",
    "        \"multiplier_reject\": factor_reject,\n",
    "        \"multiplier_accept\": factor_accept,\n",
    "        \"cutoff_threshold\": cutoff\n",
    "    }\n"
   ]
  },
  {
   "cell_type": "code",
   "execution_count": 27,
   "metadata": {
    "collapsed": false
   },
   "outputs": [],
   "source": [
    "#parse_single_result_into_dataframe(first, iteration=10)"
   ]
  },
  {
   "cell_type": "code",
   "execution_count": null,
   "metadata": {
    "collapsed": false
   },
   "outputs": [],
   "source": [
    "items = [parse_single_result_into_dataframe(item, iteration=11) for item in parse_dir(selected)]"
   ]
  },
  {
   "cell_type": "code",
   "execution_count": null,
   "metadata": {
    "collapsed": false
   },
   "outputs": [],
   "source": [
    "len(items)"
   ]
  },
  {
   "cell_type": "code",
   "execution_count": null,
   "metadata": {
    "collapsed": false
   },
   "outputs": [],
   "source": [
    "#items[0]"
   ]
  },
  {
   "cell_type": "code",
   "execution_count": null,
   "metadata": {
    "collapsed": true
   },
   "outputs": [],
   "source": [
    "df = pd.DataFrame(items)"
   ]
  },
  {
   "cell_type": "code",
   "execution_count": null,
   "metadata": {
    "collapsed": false
   },
   "outputs": [],
   "source": [
    "df.to_csv(\"C:\\\\Users\\\\hatieke\\\\.ukpsummarizer\\\\tmp\\\\grid.csv\")"
   ]
  },
  {
   "cell_type": "code",
   "execution_count": null,
   "metadata": {
    "collapsed": false
   },
   "outputs": [],
   "source": [
    "df[\"r2\"].min()"
   ]
  },
  {
   "cell_type": "code",
   "execution_count": null,
   "metadata": {
    "collapsed": false,
    "scrolled": true
   },
   "outputs": [],
   "source": [
    "top_score"
   ]
  },
  {
   "cell_type": "code",
   "execution_count": null,
   "metadata": {
    "collapsed": false
   },
   "outputs": [],
   "source": [
    "top_score"
   ]
  },
  {
   "cell_type": "code",
   "execution_count": null,
   "metadata": {
    "collapsed": false
   },
   "outputs": [],
   "source": [
    "v = top_score[\"cfg\"]\n",
    "v"
   ]
  },
  {
   "cell_type": "code",
   "execution_count": null,
   "metadata": {
    "collapsed": false
   },
   "outputs": [],
   "source": [
    "v.apply(lambda x: x.mass_reject)"
   ]
  },
  {
   "cell_type": "code",
   "execution_count": null,
   "metadata": {
    "collapsed": false
   },
   "outputs": [],
   "source": [
    "df.iloc[64]"
   ]
  },
  {
   "cell_type": "code",
   "execution_count": null,
   "metadata": {
    "collapsed": false
   },
   "outputs": [],
   "source": [
    "df.groupby(\"ref_summary\").max()"
   ]
  },
  {
   "cell_type": "code",
   "execution_count": null,
   "metadata": {
    "collapsed": true
   },
   "outputs": [],
   "source": []
  },
  {
   "cell_type": "code",
   "execution_count": null,
   "metadata": {
    "collapsed": false
   },
   "outputs": [],
   "source": [
    "df.groupby([\"ref_summary\",\"classtype\"])[\"r2\"].describe()"
   ]
  },
  {
   "cell_type": "code",
   "execution_count": null,
   "metadata": {
    "collapsed": true
   },
   "outputs": [],
   "source": []
  }
 ],
 "metadata": {
  "kernelspec": {
   "display_name": "Python 2",
   "language": "python",
   "name": "python2"
  },
  "language_info": {
   "codemirror_mode": {
    "name": "ipython",
    "version": 2
   },
   "file_extension": ".py",
   "mimetype": "text/x-python",
   "name": "python",
   "nbconvert_exporter": "python",
   "pygments_lexer": "ipython2",
   "version": "2.7.13"
  }
 },
 "nbformat": 4,
 "nbformat_minor": 2
}
