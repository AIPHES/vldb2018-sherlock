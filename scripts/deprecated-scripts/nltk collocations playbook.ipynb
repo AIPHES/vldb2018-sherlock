{
 "cells": [
  {
   "cell_type": "code",
   "execution_count": 61,
   "metadata": {
    "collapsed": true
   },
   "outputs": [],
   "source": [
    "import nltk.collocations"
   ]
  },
  {
   "cell_type": "code",
   "execution_count": 62,
   "metadata": {
    "collapsed": false
   },
   "outputs": [
    {
     "name": "stdout",
     "output_type": "stream",
     "text": [
      "[nltk_data] Downloading package genesis to\n",
      "[nltk_data]     C:\\Users\\hatieke\\AppData\\Roaming\\nltk_data...\n",
      "[nltk_data]   Package genesis is already up-to-date!\n"
     ]
    },
    {
     "data": {
      "text/plain": [
       "True"
      ]
     },
     "execution_count": 62,
     "metadata": {},
     "output_type": "execute_result"
    }
   ],
   "source": [
    "from nltk.collocations import *\n",
    "nltk.download(\"genesis\")"
   ]
  },
  {
   "cell_type": "code",
   "execution_count": 63,
   "metadata": {
    "collapsed": true
   },
   "outputs": [],
   "source": [
    "bigram_measures = nltk.collocations.BigramAssocMeasures()"
   ]
  },
  {
   "cell_type": "code",
   "execution_count": 64,
   "metadata": {
    "collapsed": false
   },
   "outputs": [],
   "source": [
    "text = \"BANGKOK, Thailand (AP) Police in Thailand have announced they will start enforcing a law banning smoking in public places, Thai newspapers reported Wednesday. Assistant city police commissioner Maj. Jongrak Juthanon announced the policy after meeting the head of the government's anti-smoking body, Dr. Waraporn Pumisawat, who complained that the ban was not being enforced, the newspaper The Nation reported. The Non-smokers' Health Protection Act and the Tobacco Products Control Act came into effect earlier this year. They impose fines of 2,000-20,000 baht (dlrs 50-dlrs 500) for smoking in such places as government offices, buses, malls, supermarkets, barbershops, tailor shops, beauty salons and drug stores. Restaurateurs who do not arrange non-smoking areas in their restaurants will also be fined. said the Bangkok Post. Police Maj. Jongrak was quoted as saying that police initially would apply light penalties against offenders in an effort to raise public awareness. \""
   ]
  },
  {
   "cell_type": "code",
   "execution_count": 67,
   "metadata": {
    "collapsed": false
   },
   "outputs": [
    {
     "data": {
      "text/plain": [
       "[u'In', u'the', u'beginning', u'God', u'created', ...]"
      ]
     },
     "execution_count": 67,
     "metadata": {},
     "output_type": "execute_result"
    }
   ],
   "source": [
    "nltk.corpus.genesis.words('english-web.txt')"
   ]
  },
  {
   "cell_type": "code",
   "execution_count": 83,
   "metadata": {
    "collapsed": false
   },
   "outputs": [
    {
     "data": {
      "text/plain": [
       "['BANGKOK', ',', 'Thailand', '(']"
      ]
     },
     "execution_count": 83,
     "metadata": {},
     "output_type": "execute_result"
    }
   ],
   "source": [
    "tokens = nltk.word_tokenize(text)\n",
    "len(tokens)\n",
    "tokens[0:4]"
   ]
  },
  {
   "cell_type": "code",
   "execution_count": 74,
   "metadata": {
    "collapsed": false
   },
   "outputs": [],
   "source": [
    "finder = BigramCollocationFinder.from_words(tokens)"
   ]
  },
  {
   "cell_type": "code",
   "execution_count": 84,
   "metadata": {
    "collapsed": false
   },
   "outputs": [
    {
     "data": {
      "text/plain": [
       "[(\"'\", 'Health'),\n",
       " (\"'s\", 'anti-smoking'),\n",
       " ('2,000-20,000', 'baht'),\n",
       " ('50-dlrs', '500'),\n",
       " ('Assistant', 'city'),\n",
       " ('Bangkok', 'Post'),\n",
       " ('Dr.', 'Waraporn'),\n",
       " ('Health', 'Protection'),\n",
       " ('Non-smokers', \"'\"),\n",
       " ('Products', 'Control')]"
      ]
     },
     "execution_count": 84,
     "metadata": {},
     "output_type": "execute_result"
    }
   ],
   "source": [
    "finder.nbest(bigram_measures.pmi, 10)"
   ]
  },
  {
   "cell_type": "code",
   "execution_count": 95,
   "metadata": {
    "collapsed": false,
    "scrolled": true
   },
   "outputs": [
    {
     "name": "stdout",
     "output_type": "stream",
     "text": [
      "left: ', right Health\n",
      "left: 's, right anti-smoking\n",
      "left: 2,000-20,000, right baht\n",
      "left: 50-dlrs, right 500\n",
      "left: Assistant, right city\n",
      "left: Bangkok, right Post\n",
      "left: Dr., right Waraporn\n",
      "left: Health, right Protection\n",
      "left: Non-smokers, right '\n",
      "left: Products, right Control\n"
     ]
    }
   ],
   "source": [
    "best = finder.nbest(bigram_measures.pmi, 10)\n",
    "for item in best:\n",
    "    print \"left: %s, right %s\" % (item[0], item[1])\n",
    "# [key for key in self.summarizer.weights if key in self.ref_phrases]"
   ]
  },
  {
   "cell_type": "code",
   "execution_count": 106,
   "metadata": {
    "collapsed": false
   },
   "outputs": [
    {
     "name": "stdout",
     "output_type": "stream",
     "text": [
      "<type 'list'> 166\n"
     ]
    }
   ],
   "source": [
    "scored = finder.score_ngrams(bigram_measures.raw_freq)\n",
    "print type(scored), len(scored)"
   ]
  },
  {
   "cell_type": "code",
   "execution_count": 135,
   "metadata": {
    "collapsed": false
   },
   "outputs": [],
   "source": [
    "sorted_scores = sorted(finder.ngram_fd.items(), key=lambda t: (-t[1], t[0]), reverse=True)"
   ]
  },
  {
   "cell_type": "code",
   "execution_count": 108,
   "metadata": {
    "collapsed": false
   },
   "outputs": [
    {
     "name": "stdout",
     "output_type": "stream",
     "text": [
      "'' Health'\n",
      "''s anti-smoking'\n",
      "'2,000-20,000 baht'\n",
      "'50-dlrs 500'\n",
      "'Assistant city'\n",
      "'Bangkok Post'\n",
      "'Dr. Waraporn'\n",
      "'Health Protection'\n",
      "'Non-smokers ''\n",
      "'Products Control'\n"
     ]
    }
   ],
   "source": [
    "myweights={}\n",
    "for item in best:\n",
    "    key= item[0] + \" \" + item[1]\n",
    "    print \"'\"+ key+ \"'\"\n",
    "    myweights[key] = 235\n"
   ]
  },
  {
   "cell_type": "code",
   "execution_count": 141,
   "metadata": {
    "collapsed": false
   },
   "outputs": [
    {
     "name": "stdout",
     "output_type": "stream",
     "text": [
      "a 1\n",
      "b 2\n"
     ]
    }
   ],
   "source": [
    "d = {\"a\":1,\"b\":2}\n",
    "for k,v in  d.iteritems():\n",
    "    print k,v \n"
   ]
  },
  {
   "cell_type": "code",
   "execution_count": 146,
   "metadata": {
    "collapsed": false
   },
   "outputs": [
    {
     "data": {
      "text/plain": [
       "[1, 2, 3, 4, 5, 6, 7, 8, 9]"
      ]
     },
     "execution_count": 146,
     "metadata": {},
     "output_type": "execute_result"
    }
   ],
   "source": [
    "class O:\n",
    "    def __init__(self):\n",
    "        pass\n",
    "\n",
    "Obj1,Obj2,Obj3 = [O() for _ in range(3)]\n",
    "\n",
    "List1 = [Obj1, Obj2, Obj3]\n",
    "\n",
    "Obj1.myList = [1, 2, 3]\n",
    "Obj2.myList = [4, 5, 6]\n",
    "Obj3.myList = [7, 8, 9]\n",
    "\n",
    "[i for obj in List1 for i in obj.myList]"
   ]
  },
  {
   "cell_type": "code",
   "execution_count": 147,
   "metadata": {
    "collapsed": false
   },
   "outputs": [
    {
     "ename": "NameError",
     "evalue": "name 'mop' is not defined",
     "output_type": "error",
     "traceback": [
      "\u001b[0;31m---------------------------------------------------------------------------\u001b[0m",
      "\u001b[0;31mNameError\u001b[0m                                 Traceback (most recent call last)",
      "\u001b[0;32m<ipython-input-147-7c0ebc126f6b>\u001b[0m in \u001b[0;36m<module>\u001b[0;34m()\u001b[0m\n\u001b[0;32m----> 1\u001b[0;31m \u001b[0mmop\u001b[0m\u001b[1;33m\u001b[0m\u001b[0m\n\u001b[0m",
      "\u001b[0;31mNameError\u001b[0m: name 'mop' is not defined"
     ]
    }
   ],
   "source": [
    "mop"
   ]
  }
 ],
 "metadata": {
  "anaconda-cloud": {},
  "kernelspec": {
   "display_name": "Python [default]",
   "language": "python",
   "name": "python2"
  },
  "language_info": {
   "codemirror_mode": {
    "name": "ipython",
    "version": 2
   },
   "file_extension": ".py",
   "mimetype": "text/x-python",
   "name": "python",
   "nbconvert_exporter": "python",
   "pygments_lexer": "ipython2",
   "version": "2.7.12"
  }
 },
 "nbformat": 4,
 "nbformat_minor": 1
}
