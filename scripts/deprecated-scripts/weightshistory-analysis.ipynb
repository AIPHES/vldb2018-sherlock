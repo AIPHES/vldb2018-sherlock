{
 "cells": [
  {
   "cell_type": "code",
   "execution_count": 11,
   "metadata": {
    "collapsed": false
   },
   "outputs": [],
   "source": [
    "import pandas as pd\n",
    "import numpy as np\n",
    "import matplotlib.pyplot as plt\n",
    "import matplotlib\n",
    "matplotlib.style.use('ggplot')\n"
   ]
  },
  {
   "cell_type": "code",
   "execution_count": 5,
   "metadata": {
    "collapsed": true
   },
   "outputs": [],
   "source": [
    "csv = pd.read_csv(\"~/.ukpsummarizer/scores_new/weightshistory-DUC2004-4doc1sum-PROPAGATION.csv\", low_memory=False)"
   ]
  },
  {
   "cell_type": "code",
   "execution_count": 7,
   "metadata": {
    "collapsed": false
   },
   "outputs": [
    {
     "data": {
      "text/html": [
       "<div>\n",
       "<table border=\"1\" class=\"dataframe\">\n",
       "  <thead>\n",
       "    <tr style=\"text-align: right;\">\n",
       "      <th></th>\n",
       "      <th>Unnamed: 0</th>\n",
       "      <th>10,000 troop</th>\n",
       "      <th>1984 for</th>\n",
       "      <th>375-mile border</th>\n",
       "      <th>4th graf</th>\n",
       "      <th>60 million</th>\n",
       "      <th>600-kilomet 375-mile</th>\n",
       "      <th>a messag</th>\n",
       "      <th>a pretext</th>\n",
       "      <th>a seri</th>\n",
       "      <th>...</th>\n",
       "      <th>with assad</th>\n",
       "      <th>with israel</th>\n",
       "      <th>with syria</th>\n",
       "      <th>with syrian</th>\n",
       "      <th>without speak</th>\n",
       "      <th>world call</th>\n",
       "      <th>world largest</th>\n",
       "      <th>would achiev</th>\n",
       "      <th>yasser yaki</th>\n",
       "      <th>yitzhak mordechai</th>\n",
       "    </tr>\n",
       "  </thead>\n",
       "  <tbody>\n",
       "    <tr>\n",
       "      <th>0</th>\n",
       "      <td>0</td>\n",
       "      <td>3.0</td>\n",
       "      <td>2.000000</td>\n",
       "      <td>1.000000</td>\n",
       "      <td>1.0</td>\n",
       "      <td>2.000000</td>\n",
       "      <td>1.0</td>\n",
       "      <td>2.0</td>\n",
       "      <td>2.000000</td>\n",
       "      <td>2.000000</td>\n",
       "      <td>...</td>\n",
       "      <td>2.0</td>\n",
       "      <td>2.000000</td>\n",
       "      <td>4.0</td>\n",
       "      <td>2.00000</td>\n",
       "      <td>2.000000</td>\n",
       "      <td>2.000000</td>\n",
       "      <td>2.000000</td>\n",
       "      <td>2.000000</td>\n",
       "      <td>2.0</td>\n",
       "      <td>1.000000</td>\n",
       "    </tr>\n",
       "    <tr>\n",
       "      <th>1</th>\n",
       "      <td>1</td>\n",
       "      <td>4.0</td>\n",
       "      <td>2.079431</td>\n",
       "      <td>1.000000</td>\n",
       "      <td>1.0</td>\n",
       "      <td>2.007661</td>\n",
       "      <td>1.0</td>\n",
       "      <td>0.0</td>\n",
       "      <td>2.044859</td>\n",
       "      <td>2.086354</td>\n",
       "      <td>...</td>\n",
       "      <td>0.0</td>\n",
       "      <td>2.157005</td>\n",
       "      <td>0.0</td>\n",
       "      <td>2.13284</td>\n",
       "      <td>2.102576</td>\n",
       "      <td>2.075213</td>\n",
       "      <td>2.037188</td>\n",
       "      <td>2.111059</td>\n",
       "      <td>0.0</td>\n",
       "      <td>1.033428</td>\n",
       "    </tr>\n",
       "    <tr>\n",
       "      <th>2</th>\n",
       "      <td>2</td>\n",
       "      <td>4.0</td>\n",
       "      <td>2.113123</td>\n",
       "      <td>1.000000</td>\n",
       "      <td>1.0</td>\n",
       "      <td>2.015884</td>\n",
       "      <td>1.0</td>\n",
       "      <td>0.0</td>\n",
       "      <td>2.062904</td>\n",
       "      <td>2.130639</td>\n",
       "      <td>...</td>\n",
       "      <td>0.0</td>\n",
       "      <td>2.280751</td>\n",
       "      <td>0.0</td>\n",
       "      <td>0.00000</td>\n",
       "      <td>2.194828</td>\n",
       "      <td>0.000000</td>\n",
       "      <td>2.095233</td>\n",
       "      <td>2.193297</td>\n",
       "      <td>0.0</td>\n",
       "      <td>1.037456</td>\n",
       "    </tr>\n",
       "    <tr>\n",
       "      <th>3</th>\n",
       "      <td>3</td>\n",
       "      <td>4.0</td>\n",
       "      <td>2.184734</td>\n",
       "      <td>1.004186</td>\n",
       "      <td>1.0</td>\n",
       "      <td>0.000000</td>\n",
       "      <td>1.0</td>\n",
       "      <td>0.0</td>\n",
       "      <td>0.000000</td>\n",
       "      <td>2.260670</td>\n",
       "      <td>...</td>\n",
       "      <td>0.0</td>\n",
       "      <td>2.505556</td>\n",
       "      <td>0.0</td>\n",
       "      <td>0.00000</td>\n",
       "      <td>0.000000</td>\n",
       "      <td>0.000000</td>\n",
       "      <td>0.000000</td>\n",
       "      <td>2.256345</td>\n",
       "      <td>0.0</td>\n",
       "      <td>1.081897</td>\n",
       "    </tr>\n",
       "    <tr>\n",
       "      <th>4</th>\n",
       "      <td>4</td>\n",
       "      <td>4.0</td>\n",
       "      <td>0.000000</td>\n",
       "      <td>1.004186</td>\n",
       "      <td>1.0</td>\n",
       "      <td>0.000000</td>\n",
       "      <td>1.0</td>\n",
       "      <td>0.0</td>\n",
       "      <td>0.000000</td>\n",
       "      <td>0.000000</td>\n",
       "      <td>...</td>\n",
       "      <td>0.0</td>\n",
       "      <td>4.000000</td>\n",
       "      <td>0.0</td>\n",
       "      <td>0.00000</td>\n",
       "      <td>0.000000</td>\n",
       "      <td>0.000000</td>\n",
       "      <td>0.000000</td>\n",
       "      <td>0.000000</td>\n",
       "      <td>0.0</td>\n",
       "      <td>1.081897</td>\n",
       "    </tr>\n",
       "    <tr>\n",
       "      <th>5</th>\n",
       "      <td>5</td>\n",
       "      <td>4.0</td>\n",
       "      <td>0.000000</td>\n",
       "      <td>0.000000</td>\n",
       "      <td>1.0</td>\n",
       "      <td>0.000000</td>\n",
       "      <td>0.0</td>\n",
       "      <td>0.0</td>\n",
       "      <td>0.000000</td>\n",
       "      <td>0.000000</td>\n",
       "      <td>...</td>\n",
       "      <td>0.0</td>\n",
       "      <td>4.000000</td>\n",
       "      <td>0.0</td>\n",
       "      <td>0.00000</td>\n",
       "      <td>0.000000</td>\n",
       "      <td>0.000000</td>\n",
       "      <td>0.000000</td>\n",
       "      <td>0.000000</td>\n",
       "      <td>0.0</td>\n",
       "      <td>0.000000</td>\n",
       "    </tr>\n",
       "    <tr>\n",
       "      <th>6</th>\n",
       "      <td>6</td>\n",
       "      <td>4.0</td>\n",
       "      <td>0.000000</td>\n",
       "      <td>0.000000</td>\n",
       "      <td>0.0</td>\n",
       "      <td>0.000000</td>\n",
       "      <td>0.0</td>\n",
       "      <td>0.0</td>\n",
       "      <td>0.000000</td>\n",
       "      <td>0.000000</td>\n",
       "      <td>...</td>\n",
       "      <td>0.0</td>\n",
       "      <td>4.000000</td>\n",
       "      <td>0.0</td>\n",
       "      <td>0.00000</td>\n",
       "      <td>0.000000</td>\n",
       "      <td>0.000000</td>\n",
       "      <td>0.000000</td>\n",
       "      <td>0.000000</td>\n",
       "      <td>0.0</td>\n",
       "      <td>0.000000</td>\n",
       "    </tr>\n",
       "  </tbody>\n",
       "</table>\n",
       "<p>7 rows × 464 columns</p>\n",
       "</div>"
      ],
      "text/plain": [
       "   Unnamed: 0  10,000 troop  1984 for  375-mile border  4th graf  60 million  \\\n",
       "0           0           3.0  2.000000         1.000000       1.0    2.000000   \n",
       "1           1           4.0  2.079431         1.000000       1.0    2.007661   \n",
       "2           2           4.0  2.113123         1.000000       1.0    2.015884   \n",
       "3           3           4.0  2.184734         1.004186       1.0    0.000000   \n",
       "4           4           4.0  0.000000         1.004186       1.0    0.000000   \n",
       "5           5           4.0  0.000000         0.000000       1.0    0.000000   \n",
       "6           6           4.0  0.000000         0.000000       0.0    0.000000   \n",
       "\n",
       "   600-kilomet 375-mile  a messag  a pretext    a seri        ...          \\\n",
       "0                   1.0       2.0   2.000000  2.000000        ...           \n",
       "1                   1.0       0.0   2.044859  2.086354        ...           \n",
       "2                   1.0       0.0   2.062904  2.130639        ...           \n",
       "3                   1.0       0.0   0.000000  2.260670        ...           \n",
       "4                   1.0       0.0   0.000000  0.000000        ...           \n",
       "5                   0.0       0.0   0.000000  0.000000        ...           \n",
       "6                   0.0       0.0   0.000000  0.000000        ...           \n",
       "\n",
       "   with assad  with israel  with syria  with syrian  without speak  \\\n",
       "0         2.0     2.000000         4.0      2.00000       2.000000   \n",
       "1         0.0     2.157005         0.0      2.13284       2.102576   \n",
       "2         0.0     2.280751         0.0      0.00000       2.194828   \n",
       "3         0.0     2.505556         0.0      0.00000       0.000000   \n",
       "4         0.0     4.000000         0.0      0.00000       0.000000   \n",
       "5         0.0     4.000000         0.0      0.00000       0.000000   \n",
       "6         0.0     4.000000         0.0      0.00000       0.000000   \n",
       "\n",
       "   world call  world largest  would achiev  yasser yaki  yitzhak mordechai  \n",
       "0    2.000000       2.000000      2.000000          2.0           1.000000  \n",
       "1    2.075213       2.037188      2.111059          0.0           1.033428  \n",
       "2    0.000000       2.095233      2.193297          0.0           1.037456  \n",
       "3    0.000000       0.000000      2.256345          0.0           1.081897  \n",
       "4    0.000000       0.000000      0.000000          0.0           1.081897  \n",
       "5    0.000000       0.000000      0.000000          0.0           0.000000  \n",
       "6    0.000000       0.000000      0.000000          0.0           0.000000  \n",
       "\n",
       "[7 rows x 464 columns]"
      ]
     },
     "execution_count": 7,
     "metadata": {},
     "output_type": "execute_result"
    }
   ],
   "source": [
    "csv"
   ]
  },
  {
   "cell_type": "code",
   "execution_count": 8,
   "metadata": {
    "collapsed": true
   },
   "outputs": [],
   "source": [
    "df = csv"
   ]
  },
  {
   "cell_type": "code",
   "execution_count": 13,
   "metadata": {
    "collapsed": false
   },
   "outputs": [],
   "source": [
    "plt.figure();"
   ]
  },
  {
   "cell_type": "code",
   "execution_count": 14,
   "metadata": {
    "collapsed": false
   },
   "outputs": [
    {
     "data": {
      "text/plain": [
       "<matplotlib.axes._subplots.AxesSubplot at 0xa8afb00>"
      ]
     },
     "execution_count": 14,
     "metadata": {},
     "output_type": "execute_result"
    }
   ],
   "source": [
    "df.plot()"
   ]
  },
  {
   "cell_type": "code",
   "execution_count": 16,
   "metadata": {
    "collapsed": false
   },
   "outputs": [],
   "source": [
    "plt.show()"
   ]
  },
  {
   "cell_type": "code",
   "execution_count": 26,
   "metadata": {
    "collapsed": false
   },
   "outputs": [],
   "source": [
    "import hashlib\n",
    "import random\n",
    "s = hashlib.sha224(str(random.random())).hexdigest()[0:12]\n"
   ]
  },
  {
   "cell_type": "code",
   "execution_count": 27,
   "metadata": {
    "collapsed": false
   },
   "outputs": [
    {
     "data": {
      "text/plain": [
       "'651a4a5c3e15'"
      ]
     },
     "execution_count": 27,
     "metadata": {},
     "output_type": "execute_result"
    }
   ],
   "source": [
    "s"
   ]
  },
  {
   "cell_type": "code",
   "execution_count": 25,
   "metadata": {
    "collapsed": false
   },
   "outputs": [
    {
     "data": {
      "text/plain": [
       "'fb5469eae8af'"
      ]
     },
     "execution_count": 25,
     "metadata": {},
     "output_type": "execute_result"
    }
   ],
   "source": [
    "s[0:12]"
   ]
  },
  {
   "cell_type": "code",
   "execution_count": null,
   "metadata": {
    "collapsed": true
   },
   "outputs": [],
   "source": []
  }
 ],
 "metadata": {
  "kernelspec": {
   "display_name": "Python 2",
   "language": "python",
   "name": "python2"
  },
  "language_info": {
   "codemirror_mode": {
    "name": "ipython",
    "version": 2
   },
   "file_extension": ".py",
   "mimetype": "text/x-python",
   "name": "python",
   "nbconvert_exporter": "python",
   "pygments_lexer": "ipython2",
   "version": "2.7.13"
  }
 },
 "nbformat": 4,
 "nbformat_minor": 2
}
