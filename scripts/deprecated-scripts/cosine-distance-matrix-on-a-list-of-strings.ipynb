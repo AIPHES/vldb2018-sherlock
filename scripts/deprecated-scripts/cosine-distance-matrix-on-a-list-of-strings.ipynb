{
 "cells": [
  {
   "cell_type": "markdown",
   "metadata": {},
   "source": [
    "Most similar topics for all DUC2006 + DUC2007 topics\n",
    "==="
   ]
  },
  {
   "cell_type": "markdown",
   "metadata": {},
   "source": [
    "Disclaimer. I use python 2.7, so take care if you use something else..."
   ]
  },
  {
   "cell_type": "code",
   "execution_count": 1,
   "metadata": {
    "collapsed": false
   },
   "outputs": [
    {
     "name": "stderr",
     "output_type": "stream",
     "text": [
      "C:\\bin\\anaconda\\lib\\site-packages\\gensim\\utils.py:855: UserWarning: detected Windows; aliasing chunkize to chunkize_serial\n",
      "  warnings.warn(\"detected Windows; aliasing chunkize to chunkize_serial\")\n"
     ]
    }
   ],
   "source": [
    "import numpy as np\n",
    "import os\n",
    "from os import path\n",
    "from gensim.models import KeyedVectors\n",
    "import codecs\n",
    "from scipy.spatial.distance import cosine\n",
    "import scipy\n",
    "import json\n",
    "import pandas as pd\n",
    "import matplotlib\n",
    "import matplotlib.pyplot as plt\n",
    "matplotlib.style.use('ggplot')\n",
    "\n",
    "\n",
    "from sklearn import decomposition\n",
    "from sklearn import datasets"
   ]
  },
  {
   "cell_type": "code",
   "execution_count": 2,
   "metadata": {
    "collapsed": true
   },
   "outputs": [],
   "source": [
    "def load_w2v_by_name(embeddings_path = path.abspath(path.normpath(path.join(path.expanduser(\"~\"), \".ukpsummarizer\",\"embeddings\"))), variant=\"google.neg.300d\"):\n",
    "    binary = True\n",
    "    embeddings={}\n",
    "    if variant == \"google.neg.300d\":\n",
    "        embeddPath = path.normpath(path.join(embeddings_path, \"english/GoogleNews-vectors-negative300.bin.gz\"))\n",
    "        embeddData = path.normpath(path.join(embeddings_path, \"english/data/\"))\n",
    "        vocab_size = 3000000\n",
    "        embedding_size = 300\n",
    "    elif variant == \"glove.6B.300d\":\n",
    "        embeddPath = path.normpath(path.join(embeddings_path, \"english/glove/glove.6B.300d.txt.w2v\"))\n",
    "        embeddData = path.normpath(path.join(embeddings_path, \"english/glove/glove.6B.300d/\"))\n",
    "        vocab_size = 400000\n",
    "        embedding_size = 300\n",
    "        binary=False\n",
    "    elif variant == \"tudarmstadt_german\":\n",
    "        embeddPath = path.normpath(path.join(embeddings_path, \"german/2014_tudarmstadt_german_50mincount.vec\"))\n",
    "        embeddData = path.normpath(path.join(embeddings_path, \"german/data/\"))\n",
    "        vocab_size = 648460\n",
    "        embedding_size = 100\n",
    "    else:\n",
    "        raise ValueError(\"Embeddings variant unknown. was %s\" % (variant))\n",
    "\n",
    "    if not path.exists(embeddData):\n",
    "        os.makedirs(embeddData)\n",
    "    embeddings = LoadEmbeddings(filepath=embeddPath, data_path=embeddData, vocab_size=vocab_size,\n",
    "                                    embedding_size=embedding_size, binary_val=binary)\n",
    "    return embeddings\n"
   ]
  },
  {
   "cell_type": "code",
   "execution_count": 3,
   "metadata": {
    "collapsed": true
   },
   "outputs": [],
   "source": [
    "class LoadEmbeddings():\n",
    "    def __init__(self, filepath, data_path, vocab_size, embedding_size=300, binary_val=True):\n",
    "        self.vocab_dict = {}\n",
    "        self.embedding_size = embedding_size\n",
    "        _, self.embedding_variant = os.path.split(data_path)\n",
    "        self.loadEmbeddings(filepath, data_path, vocab_size, binary_val)\n",
    "       \n",
    "    def convertToNumpy(self, vector):\n",
    "        return np.array([float(x) for x in vector])\n",
    "\n",
    "    def loadEmbeddings(self, filepath, data_path, vocab_size, binary_val):\n",
    "        embed_short = os.path.normpath(\"%s/embed.dat\" % data_path)\n",
    "        if not path.exists(embed_short):\n",
    "            print(\"Caching word embeddings in memmapped format...\")\n",
    "            print(binary_val, filepath)\n",
    "            wv = KeyedVectors.load_word2vec_format(\"%s\" % (filepath), binary=binary_val)\n",
    "            fp = np.memmap(embed_short, dtype=np.double, mode='w+', shape=wv.syn0.shape)\n",
    "            fp[:] = wv.syn0[:]\n",
    "            with open(os.path.normpath(\"%s/embed.vocab\" % data_path), \"w\") as fp:\n",
    "                for _, w in sorted((voc.index, word) for word, voc in wv.vocab.items()):\n",
    "                    fp.write(\"%s\\n\"%(w.encode(\"utf8\")))\n",
    "            del fp, wv\n",
    "            \n",
    "        self.W = np.memmap(os.path.normpath(\"%s/embed.dat\" % data_path), dtype=np.double, mode=\"r\", shape=(vocab_size, self.embedding_size))\n",
    "        with codecs.open(os.path.normpath(\"%s/embed.vocab\" % data_path), 'r', 'utf-8') as f:\n",
    "            vocab_list = [x.strip() for x in f.readlines()]\n",
    "        self.vocab_dict = {w: k for k, w in enumerate(vocab_list)}\n",
    "\n",
    "    def word2embedd(self, word):\n",
    "        word = word.lower()\n",
    "        if word in self.vocab_dict:\n",
    "            return self.W[self.vocab_dict[word]]\n",
    "        else:\n",
    "            return self.W[self.vocab_dict[\"unknown\"]]\n",
    "    \n",
    "    def isKnown(self, word):\n",
    "        word = word.lower()\n",
    "        return word in self.vocab_dict"
   ]
  },
  {
   "cell_type": "code",
   "execution_count": 4,
   "metadata": {
    "collapsed": true
   },
   "outputs": [],
   "source": [
    "\n",
    "class ConceptEmbedder():\n",
    "    def __init__(self, word_embeddings):\n",
    "        self.word_embeddings = word_embeddings\n",
    "        self.cache = {}\n",
    "        self.errorcount = 0\n",
    "\n",
    "    def __call__(self, words):\n",
    "        \"\"\"\n",
    "\n",
    "        :param concept: str representing the concept\n",
    "        :return: vectorial representation of the concept\n",
    "        @type concept: list[str]\n",
    "        \"\"\"\n",
    "        key = \" \".join(sorted(words))\n",
    "\n",
    "        w2v = self.word_embeddings\n",
    "        vector = np.zeros(w2v.embedding_size)\n",
    "        if not self.cache.has_key(key):\n",
    "            for word in words:\n",
    "                if w2v.isKnown(word):\n",
    "                    lookup = w2v.word2embedd(word.lower())\n",
    "                    vector += lookup\n",
    "                else:\n",
    "                    # print(\"unknown word:\", word)\n",
    "                    self.errorcount += 1\n",
    "            vector = vector / len(words)\n",
    "            self.cache[key] = vector\n",
    "        return self.cache[key]"
   ]
  },
  {
   "cell_type": "code",
   "execution_count": 5,
   "metadata": {
    "collapsed": false
   },
   "outputs": [],
   "source": [
    "# if the embeddings are stored somewhere else than in the dedicated directory, \n",
    "# load_w2v does also provide another parameter that can be used to modify the behaviour\n",
    "embeddings = load_w2v_by_name(variant=\"glove.6B.300d\")\n"
   ]
  },
  {
   "cell_type": "code",
   "execution_count": 6,
   "metadata": {
    "collapsed": true
   },
   "outputs": [],
   "source": [
    "ce = ConceptEmbedder(embeddings)"
   ]
  },
  {
   "cell_type": "markdown",
   "metadata": {},
   "source": [
    "Now lets do some basics on texts\n",
    "==="
   ]
  },
  {
   "cell_type": "code",
   "execution_count": 7,
   "metadata": {
    "collapsed": false
   },
   "outputs": [
    {
     "data": {
      "text/plain": [
       "['The', 'quick', 'brown', 'fox', 'jumped', 'over', 'the', 'lazy', 'dog']"
      ]
     },
     "execution_count": 7,
     "metadata": {},
     "output_type": "execute_result"
    }
   ],
   "source": [
    "\"The quick brown fox jumped over the lazy dog\".split(\" \")"
   ]
  },
  {
   "cell_type": "code",
   "execution_count": 8,
   "metadata": {
    "collapsed": false
   },
   "outputs": [
    {
     "data": {
      "text/plain": [
       "['The', 'brown', 'dog', 'fox', 'jumped', 'lazy', 'over', 'quick', 'the']"
      ]
     },
     "execution_count": 8,
     "metadata": {},
     "output_type": "execute_result"
    }
   ],
   "source": [
    "sorted(\"The quick brown fox jumped over the lazy dog\".split(\" \"))"
   ]
  },
  {
   "cell_type": "code",
   "execution_count": 9,
   "metadata": {
    "collapsed": false
   },
   "outputs": [
    {
     "data": {
      "text/plain": [
       "array([  1.21909223e-01,   1.35285671e-01,   1.39752801e-01,\n",
       "        -4.35483288e-02,  -8.60822226e-02,   4.38363116e-02,\n",
       "        -1.21829332e-01,   1.80647128e-01,  -5.93104410e-02,\n",
       "        -9.08563325e-01,  -3.03011106e-02,   4.00875546e-02,\n",
       "        -5.95935520e-02,   9.22417734e-02,   1.97259559e-01,\n",
       "         3.21292220e-01,  -7.10773369e-02,  -2.02426679e-02,\n",
       "         5.92651106e-02,   1.68485338e-01,   5.59723332e-02,\n",
       "         2.22094440e-01,   1.12270001e-01,   5.58242251e-02,\n",
       "        -4.32286660e-02,  -1.19493221e-01,   1.73399555e-01,\n",
       "        -1.39611333e-01,  -3.19932269e-02,  -2.86771131e-02,\n",
       "        -1.70436554e-01,   1.34668442e-01,  -8.54899966e-02,\n",
       "         7.48436720e-02,  -9.98553329e-01,   1.68676214e-01,\n",
       "         6.42001980e-02,  -1.48323367e-02,  -1.44199334e-01,\n",
       "         1.20946331e-01,  -1.87562220e-01,   6.11601091e-02,\n",
       "        -1.59342190e-02,   1.44913332e-01,   1.76958581e-01,\n",
       "        -5.15774457e-02,   1.82168576e-01,  -3.27867789e-02,\n",
       "        -8.13449981e-02,  -7.79171112e-02,  -5.32348918e-02,\n",
       "        -1.94942445e-01,   2.46051136e-02,  -9.10773302e-02,\n",
       "         1.08261888e-01,   1.64060333e-01,  -4.46208960e-02,\n",
       "        -4.35486655e-02,  -7.02365243e-02,  -1.74248884e-01,\n",
       "         9.31154471e-02,  -5.77778245e-04,   3.54351118e-01,\n",
       "        -1.17771511e-01,  -5.45520008e-02,  -4.03466772e-01,\n",
       "         1.03629557e-01,   1.04272779e-01,   5.30791109e-02,\n",
       "        -2.29531216e-01,   1.18601663e-01,   3.29869454e-01,\n",
       "        -3.36466672e-02,  -9.58102230e-02,  -1.24716887e-01,\n",
       "         1.89224441e-02,   4.86830020e-02,   1.18230003e-01,\n",
       "        -2.75180188e-02,  -1.02570782e-01,  -1.47267774e-01,\n",
       "        -1.52909988e-02,   1.34741223e-01,  -4.80879992e-02,\n",
       "         1.74516107e-01,   4.69787744e-02,  -2.25923339e-02,\n",
       "         1.95266669e-01,  -7.99707770e-02,  -8.10186615e-02,\n",
       "        -6.20936973e-02,   1.30054446e-01,  -2.93133227e-01,\n",
       "        -8.50475538e-02,  -1.79380442e-01,  -3.36789994e-02,\n",
       "        -2.60108553e-01,   1.84615333e-01,   1.38205570e-02,\n",
       "        -1.88564777e-01,   9.33420004e-02,  -1.25051530e-01,\n",
       "        -1.25938307e-01,   9.00625495e-02,   8.53821946e-04,\n",
       "         3.00888883e-03,  -3.60300607e-02,   1.88623556e-01,\n",
       "         6.25731080e-02,   3.38790002e-01,   5.42247751e-02,\n",
       "         2.59497811e-02,  -3.01692113e-01,  -3.28050003e-02,\n",
       "         1.22835334e-01,   1.30194222e-01,  -2.22977779e-01,\n",
       "        -1.04423554e-01,  -2.92450003e-02,  -2.59590001e-01,\n",
       "         6.62537633e-03,  -7.87095543e-02,   6.33588893e-02,\n",
       "         8.43711611e-03,  -5.84586685e-02,  -6.85999501e-03,\n",
       "        -7.28379989e-02,   4.46676668e-01,   1.00244664e-01,\n",
       "        -2.29378127e-03,  -1.17069993e-01,   1.00969554e-01,\n",
       "        -1.48150002e-01,   3.35484445e-01,  -1.40447780e-01,\n",
       "        -2.31735587e-02,   1.39931224e-01,  -6.94899923e-03,\n",
       "         1.51833002e-03,  -1.87875575e-02,   3.62697802e-02,\n",
       "         1.09400336e-01,  -4.60233328e-02,  -6.89852538e-02,\n",
       "        -4.13695551e-01,   1.62381334e-01,  -4.42095563e-02,\n",
       "         5.36144425e-02,   1.00303670e-01,   9.02211103e-02,\n",
       "         2.58311117e-01,   2.71046561e-01,  -6.11958887e-02,\n",
       "         4.75665598e-02,   2.58667494e-01,  -5.29699994e-02,\n",
       "        -2.63660020e-02,  -1.04590554e-01,   7.66227792e-02,\n",
       "         1.94864049e-02,   2.18606665e-01,  -2.19646594e-01,\n",
       "         2.96296668e-01,  -1.47700886e-01,  -1.29302210e-02,\n",
       "         1.51365666e-01,  -2.14355580e-02,   1.81815666e-01,\n",
       "        -1.27202890e-01,  -6.40738896e-02,  -4.56162248e-02,\n",
       "         7.19375571e-02,  -4.36527777e-01,  -6.96801380e-02,\n",
       "        -1.03806013e-01,  -1.51203332e-01,  -1.59970488e-01,\n",
       "         3.78353294e-02,   4.29611115e-02,   1.09352500e-01,\n",
       "         2.38970334e-01,   1.17090116e-01,   1.03896446e-01,\n",
       "        -5.91259980e-02,  -1.34574892e-01,  -5.58153323e-02,\n",
       "         1.04387338e-01,  -2.14633782e-01,  -4.92442196e-02,\n",
       "         1.04896777e-01,  -1.78606275e-01,   2.33636669e-01,\n",
       "        -1.82299330e-01,  -2.58203888e-01,  -3.54330897e-02,\n",
       "        -7.19133475e-03,  -3.49181108e-02,  -1.05721217e-01,\n",
       "         1.13563779e-01,  -3.33448473e-02,   1.07406889e+00,\n",
       "         1.37839998e-02,   2.12449887e-01,   1.67321879e-03,\n",
       "         6.97600014e-03,   1.36955891e-01,  -2.50521882e-03,\n",
       "         1.62520028e-02,  -8.64516336e-02,   1.54343112e-01,\n",
       "         3.38648881e-02,  -4.46788884e-02,  -3.92715517e-02,\n",
       "         5.35226684e-02,   4.47297812e-02,   1.23120558e-01,\n",
       "        -4.71849105e-02,  -4.98988860e-02,   1.23161336e-01,\n",
       "        -1.45809598e-01,   2.17626666e-01,   1.86370007e-02,\n",
       "        -7.33616677e-02,  -4.24354438e-02,  -1.08220241e-01,\n",
       "        -7.67422333e-02,   1.89188886e-01,  -9.24145441e-03,\n",
       "         2.28662884e-02,   1.20737889e-01,  -6.26000100e-03,\n",
       "        -2.85946627e-02,  -1.86589161e-01,   6.81543261e-02,\n",
       "         1.67262552e-01,   8.79051102e-02,   7.86485610e-02,\n",
       "         1.34987776e-01,  -6.87443357e-02,   8.16860005e-02,\n",
       "         1.25242222e-01,   1.05151846e-01,  -5.24779161e-04,\n",
       "        -1.04428001e-01,  -5.60160611e-01,  -2.92797821e-01,\n",
       "         9.37599012e-02,  -1.77895335e-01,   5.12092242e-02,\n",
       "         3.69388663e-02,  -7.73345559e-02,  -1.39137007e-01,\n",
       "         2.22192778e-01,   5.09371066e-02,   4.26778216e-01,\n",
       "         1.75161667e-01,   6.95301108e-02,   3.30827803e-02,\n",
       "         1.69040014e-02,   2.44840240e-01,  -1.61049667e-01,\n",
       "        -5.27512228e-02,  -1.51426707e-02,   2.09806023e-01,\n",
       "        -1.72100566e-01,   1.07680114e-01,   1.30482477e-01,\n",
       "        -1.67533000e-01,  -1.73044220e-01,   1.88219512e-01,\n",
       "        -1.24842556e-01,  -3.90752451e-01,  -6.83357115e-02,\n",
       "        -4.73089226e-03,   6.22559980e-02,   8.90383008e-02,\n",
       "        -1.51017335e+00,   1.05317337e-01,   6.99373297e-02,\n",
       "         1.88752888e-01,  -2.68550781e-01,   6.86657801e-02,\n",
       "         3.13317448e-01,  -3.36730228e-02,  -2.93516661e-01,\n",
       "         9.48859991e-02,   1.05191895e-01,   2.58392207e-02,\n",
       "         1.03424871e-01,   1.36568443e-01,   1.00780553e-01,\n",
       "        -2.78328901e-02,  -1.47593893e-01,   1.15939780e-01,\n",
       "         2.44668892e-02,   1.49245554e-01,   1.75331086e-02,\n",
       "        -8.43706448e-02,  -1.84907771e-01,   1.46710556e-01])"
      ]
     },
     "execution_count": 9,
     "metadata": {},
     "output_type": "execute_result"
    }
   ],
   "source": [
    "# linear algebra on \"concepts\"\n",
    "ce(\"The quick brown fox jumped over the lazy dog\".split(\" \")) - ce([\"The fox jumped over the dog\"])"
   ]
  },
  {
   "cell_type": "code",
   "execution_count": 10,
   "metadata": {
    "collapsed": false
   },
   "outputs": [
    {
     "data": {
      "text/plain": [
       "0.015085811937704863"
      ]
     },
     "execution_count": 10,
     "metadata": {},
     "output_type": "execute_result"
    }
   ],
   "source": [
    "cosine(ce(\"The quick brown fox jumped over the lazy dog\".split(\" \")), ce(\"The brown fox jumped over the lazy dog\".split(\" \")))"
   ]
  },
  {
   "cell_type": "code",
   "execution_count": 11,
   "metadata": {
    "collapsed": false
   },
   "outputs": [
    {
     "data": {
      "text/plain": [
       "0.046772919681685732"
      ]
     },
     "execution_count": 11,
     "metadata": {},
     "output_type": "execute_result"
    }
   ],
   "source": [
    "cosine(ce(\"The quick brown fox jumped over the lazy dog\".split(\" \")), ce(\"The brown fox jumped over the dog\".split(\" \")))"
   ]
  },
  {
   "cell_type": "code",
   "execution_count": 12,
   "metadata": {
    "collapsed": false
   },
   "outputs": [
    {
     "data": {
      "text/plain": [
       "0.074656596332149272"
      ]
     },
     "execution_count": 12,
     "metadata": {},
     "output_type": "execute_result"
    }
   ],
   "source": [
    "cosine(ce(\"The quick brown fox jumped over the lazy dog\".split(\" \")), ce(\"The fox jumped over the dog\".split(\" \")))"
   ]
  },
  {
   "cell_type": "code",
   "execution_count": 13,
   "metadata": {
    "collapsed": false
   },
   "outputs": [
    {
     "data": {
      "text/plain": [
       "0.2627298484901659"
      ]
     },
     "execution_count": 13,
     "metadata": {},
     "output_type": "execute_result"
    }
   ],
   "source": [
    "cosine(ce(\"The quick brown fox jumped\".split(\" \")), ce(\"jumped over the lazy dog\".split(\" \")))"
   ]
  },
  {
   "cell_type": "markdown",
   "metadata": {
    "collapsed": true
   },
   "source": [
    "Example creation of distance matrix from strings\n",
    "==="
   ]
  },
  {
   "cell_type": "code",
   "execution_count": 14,
   "metadata": {
    "collapsed": true
   },
   "outputs": [],
   "source": [
    "titles = [\"incremental self improvement for life time multi agent reinforcement learning\",\n",
    "          \"incremental self improvement for life time multi agent active learning\",\n",
    "          \"incremental self improvement\",\n",
    "          \"an intrinsic neuromodulation model for realizing anticipatory behavior in reaching movement under unexperienced force fields\"]"
   ]
  },
  {
   "cell_type": "code",
   "execution_count": 15,
   "metadata": {
    "collapsed": true
   },
   "outputs": [],
   "source": [
    "vectors = [ce(title) for title in titles]"
   ]
  },
  {
   "cell_type": "code",
   "execution_count": 16,
   "metadata": {
    "collapsed": false
   },
   "outputs": [],
   "source": [
    "# calculate the condensed distance matrix. Beware, it really is the DISTANCE, not the similarity.\n",
    "cdm = scipy.spatial.distance.pdist(vectors, \"cosine\")"
   ]
  },
  {
   "cell_type": "code",
   "execution_count": 17,
   "metadata": {
    "collapsed": false
   },
   "outputs": [],
   "source": [
    "# to have a \"nice\" distance matrix, we need to convert the condensed DM into squarified form\n",
    "sdm = scipy.spatial.distance.squareform(cdm)"
   ]
  },
  {
   "cell_type": "code",
   "execution_count": 18,
   "metadata": {
    "collapsed": false
   },
   "outputs": [
    {
     "data": {
      "text/plain": [
       "array([[ 0.        ,  0.00260969,  0.00426843,  0.01266565],\n",
       "       [ 0.00260969,  0.        ,  0.00686652,  0.01652671],\n",
       "       [ 0.00426843,  0.00686652,  0.        ,  0.02066607],\n",
       "       [ 0.01266565,  0.01652671,  0.02066607,  0.        ]])"
      ]
     },
     "execution_count": 18,
     "metadata": {},
     "output_type": "execute_result"
    }
   ],
   "source": [
    "sdm"
   ]
  },
  {
   "cell_type": "code",
   "execution_count": 19,
   "metadata": {
    "collapsed": false
   },
   "outputs": [],
   "source": [
    "m = round(np.min(cdm), 3)+0.001\n",
    "res = np.where(sdm<=m)"
   ]
  },
  {
   "cell_type": "code",
   "execution_count": 20,
   "metadata": {
    "collapsed": false
   },
   "outputs": [
    {
     "data": {
      "text/plain": [
       "(array([0, 0, 1, 1, 2, 3], dtype=int64),\n",
       " array([0, 1, 0, 1, 2, 3], dtype=int64))"
      ]
     },
     "execution_count": 20,
     "metadata": {},
     "output_type": "execute_result"
    }
   ],
   "source": [
    "res"
   ]
  },
  {
   "cell_type": "markdown",
   "metadata": {},
   "source": [
    "Because of the fact that the diagonal is zero, those are also included in the result. So the only values of interest in the `res` object are those where the value at the same index in both array differ."
   ]
  },
  {
   "cell_type": "code",
   "execution_count": 21,
   "metadata": {
    "collapsed": false
   },
   "outputs": [
    {
     "data": {
      "text/plain": [
       "'incremental self improvement for life time multi agent reinforcement learning'"
      ]
     },
     "execution_count": 21,
     "metadata": {},
     "output_type": "execute_result"
    }
   ],
   "source": [
    "titles[0]"
   ]
  },
  {
   "cell_type": "code",
   "execution_count": 22,
   "metadata": {
    "collapsed": false
   },
   "outputs": [
    {
     "data": {
      "text/plain": [
       "'incremental self improvement for life time multi agent active learning'"
      ]
     },
     "execution_count": 22,
     "metadata": {},
     "output_type": "execute_result"
    }
   ],
   "source": [
    "titles[1]"
   ]
  },
  {
   "cell_type": "markdown",
   "metadata": {
    "collapsed": true
   },
   "source": [
    "Distance matrix for all DUC2006 + DUC2007 topics\n",
    "===\n"
   ]
  },
  {
   "cell_type": "code",
   "execution_count": 77,
   "metadata": {
    "collapsed": false
   },
   "outputs": [],
   "source": [
    "p = path.abspath(path.normpath(path.join(\".\",\"cosine-on-titles\", \"duc2006+2007-titles.json\")))"
   ]
  },
  {
   "cell_type": "code",
   "execution_count": 80,
   "metadata": {
    "collapsed": false
   },
   "outputs": [],
   "source": [
    "df = pd.read_json(p)"
   ]
  },
  {
   "cell_type": "code",
   "execution_count": 134,
   "metadata": {
    "collapsed": false
   },
   "outputs": [
    {
     "data": {
      "text/html": [
       "<div>\n",
       "<table border=\"1\" class=\"dataframe\">\n",
       "  <thead>\n",
       "    <tr style=\"text-align: right;\">\n",
       "      <th></th>\n",
       "      <th>narrative</th>\n",
       "      <th>title</th>\n",
       "      <th>topic</th>\n",
       "    </tr>\n",
       "  </thead>\n",
       "  <tbody>\n",
       "    <tr>\n",
       "      <th>0</th>\n",
       "      <td>Describe the activities of Morris Dees and the...</td>\n",
       "      <td>Southern Poverty Law Center</td>\n",
       "      <td>D0701A</td>\n",
       "    </tr>\n",
       "    <tr>\n",
       "      <th>1</th>\n",
       "      <td>Describe the state of teaching art and music i...</td>\n",
       "      <td>art and music in public schools</td>\n",
       "      <td>D0702A</td>\n",
       "    </tr>\n",
       "    <tr>\n",
       "      <th>2</th>\n",
       "      <td>Describe steps taken and worldwide reaction pr...</td>\n",
       "      <td>steps toward introduction of the Euro</td>\n",
       "      <td>D0703A</td>\n",
       "    </tr>\n",
       "    <tr>\n",
       "      <th>3</th>\n",
       "      <td>What is the scope of operations of Amnesty Int...</td>\n",
       "      <td>Amnesty International</td>\n",
       "      <td>D0704A</td>\n",
       "    </tr>\n",
       "    <tr>\n",
       "      <th>4</th>\n",
       "      <td>Describe developments in the Basque separatist...</td>\n",
       "      <td>Basque separatism</td>\n",
       "      <td>D0705A</td>\n",
       "    </tr>\n",
       "  </tbody>\n",
       "</table>\n",
       "</div>"
      ],
      "text/plain": [
       "                                           narrative  \\\n",
       "0  Describe the activities of Morris Dees and the...   \n",
       "1  Describe the state of teaching art and music i...   \n",
       "2  Describe steps taken and worldwide reaction pr...   \n",
       "3  What is the scope of operations of Amnesty Int...   \n",
       "4  Describe developments in the Basque separatist...   \n",
       "\n",
       "                                   title   topic  \n",
       "0            Southern Poverty Law Center  D0701A  \n",
       "1        art and music in public schools  D0702A  \n",
       "2  steps toward introduction of the Euro  D0703A  \n",
       "3                  Amnesty International  D0704A  \n",
       "4                      Basque separatism  D0705A  "
      ]
     },
     "execution_count": 134,
     "metadata": {},
     "output_type": "execute_result"
    }
   ],
   "source": [
    "df.head()"
   ]
  },
  {
   "cell_type": "code",
   "execution_count": null,
   "metadata": {
    "collapsed": true
   },
   "outputs": [],
   "source": []
  },
  {
   "cell_type": "code",
   "execution_count": 97,
   "metadata": {
    "collapsed": false
   },
   "outputs": [],
   "source": [
    "titles = df[\"narrative\"]"
   ]
  },
  {
   "cell_type": "code",
   "execution_count": 98,
   "metadata": {
    "collapsed": false
   },
   "outputs": [],
   "source": [
    "vectors = [ce(title) for title in titles]"
   ]
  },
  {
   "cell_type": "code",
   "execution_count": 99,
   "metadata": {
    "collapsed": false,
    "scrolled": true
   },
   "outputs": [
    {
     "data": {
      "text/plain": [
       "95"
      ]
     },
     "execution_count": 99,
     "metadata": {},
     "output_type": "execute_result"
    }
   ],
   "source": [
    "len(vectors)"
   ]
  },
  {
   "cell_type": "code",
   "execution_count": 100,
   "metadata": {
    "collapsed": false
   },
   "outputs": [],
   "source": [
    "cdm = scipy.spatial.distance.pdist(vectors, \"cosine\")"
   ]
  },
  {
   "cell_type": "code",
   "execution_count": 101,
   "metadata": {
    "collapsed": false
   },
   "outputs": [
    {
     "data": {
      "text/plain": [
       "array([ 0.01107617,  0.00889932,  0.01901875, ...,  0.01350454,\n",
       "        0.00913677,  0.01224441])"
      ]
     },
     "execution_count": 101,
     "metadata": {},
     "output_type": "execute_result"
    }
   ],
   "source": [
    "cdm"
   ]
  },
  {
   "cell_type": "code",
   "execution_count": 172,
   "metadata": {
    "collapsed": false
   },
   "outputs": [],
   "source": [
    "sdm = scipy.spatial.distance.squareform(cdm)\n",
    "np.fill_diagonal(sdm, np.inf) # fill diagonal with +inf to prevent those cells as minimae"
   ]
  },
  {
   "cell_type": "code",
   "execution_count": 173,
   "metadata": {
    "collapsed": false
   },
   "outputs": [],
   "source": [
    "m = round(np.min(cdm), 3)+0.003\n",
    "res = np.where(sdm<=m)"
   ]
  },
  {
   "cell_type": "code",
   "execution_count": 174,
   "metadata": {
    "collapsed": false
   },
   "outputs": [
    {
     "data": {
      "text/plain": [
       "0.0022595627059192047"
      ]
     },
     "execution_count": 174,
     "metadata": {},
     "output_type": "execute_result"
    }
   ],
   "source": [
    "np.min(cdm)"
   ]
  },
  {
   "cell_type": "code",
   "execution_count": null,
   "metadata": {
    "collapsed": true
   },
   "outputs": [],
   "source": []
  },
  {
   "cell_type": "code",
   "execution_count": 175,
   "metadata": {
    "collapsed": false
   },
   "outputs": [
    {
     "data": {
      "text/plain": [
       "0.048704971954069087"
      ]
     },
     "execution_count": 175,
     "metadata": {},
     "output_type": "execute_result"
    }
   ],
   "source": [
    "np.max(cdm)"
   ]
  },
  {
   "cell_type": "code",
   "execution_count": 176,
   "metadata": {
    "collapsed": false
   },
   "outputs": [
    {
     "data": {
      "text/plain": [
       "(array([   1,    5,    8, ..., 4453, 4457, 4463], dtype=int64),)"
      ]
     },
     "execution_count": 176,
     "metadata": {},
     "output_type": "execute_result"
    }
   ],
   "source": [
    "np.where(cdm<0.01)"
   ]
  },
  {
   "cell_type": "code",
   "execution_count": 177,
   "metadata": {
    "collapsed": false
   },
   "outputs": [
    {
     "data": {
      "text/plain": [
       "0.0022595627059192047"
      ]
     },
     "execution_count": 177,
     "metadata": {},
     "output_type": "execute_result"
    }
   ],
   "source": [
    "np.min(sdm)"
   ]
  },
  {
   "cell_type": "code",
   "execution_count": 178,
   "metadata": {
    "collapsed": false
   },
   "outputs": [
    {
     "data": {
      "text/plain": [
       "inf"
      ]
     },
     "execution_count": 178,
     "metadata": {},
     "output_type": "execute_result"
    }
   ],
   "source": [
    "np.max(sdm)"
   ]
  },
  {
   "cell_type": "code",
   "execution_count": 179,
   "metadata": {
    "collapsed": false
   },
   "outputs": [
    {
     "data": {
      "text/plain": [
       "array([13, 67, 81, 78, 44, 45, 52, 39, 22, 36, 71, 15,  3, 73, 69, 82,  1,\n",
       "        1, 51, 59,  1, 84,  8, 91, 48, 26, 85, 46, 13, 91, 12, 53, 24, 56,\n",
       "       13, 44, 73, 15, 49,  1, 12, 90, 51, 55, 35, 16, 85, 49, 24, 47, 10,\n",
       "       59,  6, 31, 70,  1, 53, 13, 52, 51, 53, 26, 28, 82, 82, 90, 34,  1,\n",
       "       51, 14, 81, 10, 20, 13, 82,  1,  3,  1,  3, 51, 15, 70, 63, 89, 21,\n",
       "       26,  6, 51, 34, 83, 79, 29,  0, 70, 13], dtype=int64)"
      ]
     },
     "execution_count": 179,
     "metadata": {},
     "output_type": "execute_result"
    }
   ],
   "source": [
    "sdm.argmin(axis=0)"
   ]
  },
  {
   "cell_type": "code",
   "execution_count": 180,
   "metadata": {
    "collapsed": false
   },
   "outputs": [
    {
     "data": {
      "text/plain": [
       "array([[ 0, 13],\n",
       "       [ 1, 67],\n",
       "       [13,  0],\n",
       "       [13, 73],\n",
       "       [14, 69],\n",
       "       [29, 91],\n",
       "       [31, 53],\n",
       "       [51, 59],\n",
       "       [53, 31],\n",
       "       [59, 51],\n",
       "       [63, 82],\n",
       "       [67,  1],\n",
       "       [69, 14],\n",
       "       [73, 13],\n",
       "       [82, 63],\n",
       "       [83, 89],\n",
       "       [89, 83],\n",
       "       [91, 29]], dtype=int64)"
      ]
     },
     "execution_count": 180,
     "metadata": {},
     "output_type": "execute_result"
    }
   ],
   "source": [
    "np.transpose(np.where(sdm<0.003))"
   ]
  },
  {
   "cell_type": "code",
   "execution_count": 161,
   "metadata": {
    "collapsed": true
   },
   "outputs": [
    {
     "name": "stdout",
     "output_type": "stream",
     "text": [
      "0     D0701A\n",
      "13    D0714D\n",
      "Name: topic, dtype: object\n",
      "1     D0702A\n",
      "67    D0623E\n",
      "Name: topic, dtype: object\n",
      "13    D0714D\n",
      "0     D0701A\n",
      "Name: topic, dtype: object\n",
      "13    D0714D\n",
      "73    D0629B\n",
      "Name: topic, dtype: object\n",
      "14    D0715D\n",
      "69    D0625G\n",
      "Name: topic, dtype: object\n",
      "29    D0730G\n",
      "91    D0647B\n",
      "Name: topic, dtype: object\n",
      "31    D0732H\n",
      "53    D0609I\n",
      "Name: topic, dtype: object\n",
      "51    D0607G\n",
      "59    D0615F\n",
      "Name: topic, dtype: object\n",
      "53    D0609I\n",
      "31    D0732H\n",
      "Name: topic, dtype: object\n",
      "59    D0615F\n",
      "51    D0607G\n",
      "Name: topic, dtype: object\n",
      "63    D0619A\n",
      "82    D0638B\n",
      "Name: topic, dtype: object\n",
      "67    D0623E\n",
      "1     D0702A\n",
      "Name: topic, dtype: object\n",
      "69    D0625G\n",
      "14    D0715D\n",
      "Name: topic, dtype: object\n",
      "73    D0629B\n",
      "13    D0714D\n",
      "Name: topic, dtype: object\n",
      "82    D0638B\n",
      "63    D0619A\n",
      "Name: topic, dtype: object\n",
      "83    D0639C\n",
      "89    D0645I\n",
      "Name: topic, dtype: object\n",
      "89    D0645I\n",
      "83    D0639C\n",
      "Name: topic, dtype: object\n",
      "91    D0647B\n",
      "29    D0730G\n",
      "Name: topic, dtype: object\n"
     ]
    }
   ],
   "source": [
    "for u in np.transpose(np.where(sdm<0.003)):\n",
    "    print df.iloc[[ u[0], u[1]]][\"topic\"]"
   ]
  },
  {
   "cell_type": "code",
   "execution_count": 162,
   "metadata": {
    "collapsed": true
   },
   "outputs": [
    {
     "ename": "IndexError",
     "evalue": "positional indexers are out-of-bounds",
     "output_type": "error",
     "traceback": [
      "\u001b[0;31m---------------------------------------------------------------------------\u001b[0m",
      "\u001b[0;31mIndexError\u001b[0m                                Traceback (most recent call last)",
      "\u001b[0;32m<ipython-input-162-afce3444c1a3>\u001b[0m in \u001b[0;36m<module>\u001b[0;34m()\u001b[0m\n\u001b[0;32m----> 1\u001b[0;31m \u001b[0mdf\u001b[0m\u001b[1;33m.\u001b[0m\u001b[0miloc\u001b[0m\u001b[1;33m[\u001b[0m\u001b[0mnp\u001b[0m\u001b[1;33m.\u001b[0m\u001b[0mwhere\u001b[0m\u001b[1;33m(\u001b[0m\u001b[0msdm\u001b[0m\u001b[1;33m<\u001b[0m\u001b[1;36m0.003\u001b[0m\u001b[1;33m)\u001b[0m\u001b[1;33m[\u001b[0m\u001b[1;36m0\u001b[0m\u001b[1;33m]\u001b[0m\u001b[1;33m,\u001b[0m\u001b[0mnp\u001b[0m\u001b[1;33m.\u001b[0m\u001b[0mwhere\u001b[0m\u001b[1;33m(\u001b[0m\u001b[0msdm\u001b[0m\u001b[1;33m<\u001b[0m\u001b[1;36m0.003\u001b[0m\u001b[1;33m)\u001b[0m\u001b[1;33m[\u001b[0m\u001b[1;36m1\u001b[0m\u001b[1;33m]\u001b[0m\u001b[1;33m]\u001b[0m\u001b[1;33m\u001b[0m\u001b[0m\n\u001b[0m",
      "\u001b[0;32mC:\\bin\\anaconda\\lib\\site-packages\\pandas\\core\\indexing.pyc\u001b[0m in \u001b[0;36m__getitem__\u001b[0;34m(self, key)\u001b[0m\n\u001b[1;32m   1308\u001b[0m \u001b[1;33m\u001b[0m\u001b[0m\n\u001b[1;32m   1309\u001b[0m         \u001b[1;32mif\u001b[0m \u001b[0mtype\u001b[0m\u001b[1;33m(\u001b[0m\u001b[0mkey\u001b[0m\u001b[1;33m)\u001b[0m \u001b[1;32mis\u001b[0m \u001b[0mtuple\u001b[0m\u001b[1;33m:\u001b[0m\u001b[1;33m\u001b[0m\u001b[0m\n\u001b[0;32m-> 1310\u001b[0;31m             \u001b[1;32mreturn\u001b[0m \u001b[0mself\u001b[0m\u001b[1;33m.\u001b[0m\u001b[0m_getitem_tuple\u001b[0m\u001b[1;33m(\u001b[0m\u001b[0mkey\u001b[0m\u001b[1;33m)\u001b[0m\u001b[1;33m\u001b[0m\u001b[0m\n\u001b[0m\u001b[1;32m   1311\u001b[0m         \u001b[1;32melse\u001b[0m\u001b[1;33m:\u001b[0m\u001b[1;33m\u001b[0m\u001b[0m\n\u001b[1;32m   1312\u001b[0m             \u001b[1;32mreturn\u001b[0m \u001b[0mself\u001b[0m\u001b[1;33m.\u001b[0m\u001b[0m_getitem_axis\u001b[0m\u001b[1;33m(\u001b[0m\u001b[0mkey\u001b[0m\u001b[1;33m,\u001b[0m \u001b[0maxis\u001b[0m\u001b[1;33m=\u001b[0m\u001b[1;36m0\u001b[0m\u001b[1;33m)\u001b[0m\u001b[1;33m\u001b[0m\u001b[0m\n",
      "\u001b[0;32mC:\\bin\\anaconda\\lib\\site-packages\\pandas\\core\\indexing.pyc\u001b[0m in \u001b[0;36m_getitem_tuple\u001b[0;34m(self, tup)\u001b[0m\n\u001b[1;32m   1558\u001b[0m     \u001b[1;32mdef\u001b[0m \u001b[0m_getitem_tuple\u001b[0m\u001b[1;33m(\u001b[0m\u001b[0mself\u001b[0m\u001b[1;33m,\u001b[0m \u001b[0mtup\u001b[0m\u001b[1;33m)\u001b[0m\u001b[1;33m:\u001b[0m\u001b[1;33m\u001b[0m\u001b[0m\n\u001b[1;32m   1559\u001b[0m \u001b[1;33m\u001b[0m\u001b[0m\n\u001b[0;32m-> 1560\u001b[0;31m         \u001b[0mself\u001b[0m\u001b[1;33m.\u001b[0m\u001b[0m_has_valid_tuple\u001b[0m\u001b[1;33m(\u001b[0m\u001b[0mtup\u001b[0m\u001b[1;33m)\u001b[0m\u001b[1;33m\u001b[0m\u001b[0m\n\u001b[0m\u001b[1;32m   1561\u001b[0m         \u001b[1;32mtry\u001b[0m\u001b[1;33m:\u001b[0m\u001b[1;33m\u001b[0m\u001b[0m\n\u001b[1;32m   1562\u001b[0m             \u001b[1;32mreturn\u001b[0m \u001b[0mself\u001b[0m\u001b[1;33m.\u001b[0m\u001b[0m_getitem_lowerdim\u001b[0m\u001b[1;33m(\u001b[0m\u001b[0mtup\u001b[0m\u001b[1;33m)\u001b[0m\u001b[1;33m\u001b[0m\u001b[0m\n",
      "\u001b[0;32mC:\\bin\\anaconda\\lib\\site-packages\\pandas\\core\\indexing.pyc\u001b[0m in \u001b[0;36m_has_valid_tuple\u001b[0;34m(self, key)\u001b[0m\n\u001b[1;32m    149\u001b[0m             \u001b[1;32mif\u001b[0m \u001b[0mi\u001b[0m \u001b[1;33m>=\u001b[0m \u001b[0mself\u001b[0m\u001b[1;33m.\u001b[0m\u001b[0mobj\u001b[0m\u001b[1;33m.\u001b[0m\u001b[0mndim\u001b[0m\u001b[1;33m:\u001b[0m\u001b[1;33m\u001b[0m\u001b[0m\n\u001b[1;32m    150\u001b[0m                 \u001b[1;32mraise\u001b[0m \u001b[0mIndexingError\u001b[0m\u001b[1;33m(\u001b[0m\u001b[1;34m'Too many indexers'\u001b[0m\u001b[1;33m)\u001b[0m\u001b[1;33m\u001b[0m\u001b[0m\n\u001b[0;32m--> 151\u001b[0;31m             \u001b[1;32mif\u001b[0m \u001b[1;32mnot\u001b[0m \u001b[0mself\u001b[0m\u001b[1;33m.\u001b[0m\u001b[0m_has_valid_type\u001b[0m\u001b[1;33m(\u001b[0m\u001b[0mk\u001b[0m\u001b[1;33m,\u001b[0m \u001b[0mi\u001b[0m\u001b[1;33m)\u001b[0m\u001b[1;33m:\u001b[0m\u001b[1;33m\u001b[0m\u001b[0m\n\u001b[0m\u001b[1;32m    152\u001b[0m                 raise ValueError(\"Location based indexing can only have [%s] \"\n\u001b[1;32m    153\u001b[0m                                  \"types\" % self._valid_types)\n",
      "\u001b[0;32mC:\\bin\\anaconda\\lib\\site-packages\\pandas\\core\\indexing.pyc\u001b[0m in \u001b[0;36m_has_valid_type\u001b[0;34m(self, key, axis)\u001b[0m\n\u001b[1;32m   1528\u001b[0m             \u001b[1;32mreturn\u001b[0m \u001b[0mself\u001b[0m\u001b[1;33m.\u001b[0m\u001b[0m_is_valid_integer\u001b[0m\u001b[1;33m(\u001b[0m\u001b[0mkey\u001b[0m\u001b[1;33m,\u001b[0m \u001b[0maxis\u001b[0m\u001b[1;33m)\u001b[0m\u001b[1;33m\u001b[0m\u001b[0m\n\u001b[1;32m   1529\u001b[0m         \u001b[1;32melif\u001b[0m \u001b[0mis_list_like_indexer\u001b[0m\u001b[1;33m(\u001b[0m\u001b[0mkey\u001b[0m\u001b[1;33m)\u001b[0m\u001b[1;33m:\u001b[0m\u001b[1;33m\u001b[0m\u001b[0m\n\u001b[0;32m-> 1530\u001b[0;31m             \u001b[1;32mreturn\u001b[0m \u001b[0mself\u001b[0m\u001b[1;33m.\u001b[0m\u001b[0m_is_valid_list_like\u001b[0m\u001b[1;33m(\u001b[0m\u001b[0mkey\u001b[0m\u001b[1;33m,\u001b[0m \u001b[0maxis\u001b[0m\u001b[1;33m)\u001b[0m\u001b[1;33m\u001b[0m\u001b[0m\n\u001b[0m\u001b[1;32m   1531\u001b[0m         \u001b[1;32mreturn\u001b[0m \u001b[0mFalse\u001b[0m\u001b[1;33m\u001b[0m\u001b[0m\n\u001b[1;32m   1532\u001b[0m \u001b[1;33m\u001b[0m\u001b[0m\n",
      "\u001b[0;32mC:\\bin\\anaconda\\lib\\site-packages\\pandas\\core\\indexing.pyc\u001b[0m in \u001b[0;36m_is_valid_list_like\u001b[0;34m(self, key, axis)\u001b[0m\n\u001b[1;32m   1552\u001b[0m         \u001b[0ml\u001b[0m \u001b[1;33m=\u001b[0m \u001b[0mlen\u001b[0m\u001b[1;33m(\u001b[0m\u001b[0max\u001b[0m\u001b[1;33m)\u001b[0m\u001b[1;33m\u001b[0m\u001b[0m\n\u001b[1;32m   1553\u001b[0m         \u001b[1;32mif\u001b[0m \u001b[0mlen\u001b[0m\u001b[1;33m(\u001b[0m\u001b[0marr\u001b[0m\u001b[1;33m)\u001b[0m \u001b[1;32mand\u001b[0m \u001b[1;33m(\u001b[0m\u001b[0marr\u001b[0m\u001b[1;33m.\u001b[0m\u001b[0mmax\u001b[0m\u001b[1;33m(\u001b[0m\u001b[1;33m)\u001b[0m \u001b[1;33m>=\u001b[0m \u001b[0ml\u001b[0m \u001b[1;32mor\u001b[0m \u001b[0marr\u001b[0m\u001b[1;33m.\u001b[0m\u001b[0mmin\u001b[0m\u001b[1;33m(\u001b[0m\u001b[1;33m)\u001b[0m \u001b[1;33m<\u001b[0m \u001b[1;33m-\u001b[0m\u001b[0ml\u001b[0m\u001b[1;33m)\u001b[0m\u001b[1;33m:\u001b[0m\u001b[1;33m\u001b[0m\u001b[0m\n\u001b[0;32m-> 1554\u001b[0;31m             \u001b[1;32mraise\u001b[0m \u001b[0mIndexError\u001b[0m\u001b[1;33m(\u001b[0m\u001b[1;34m\"positional indexers are out-of-bounds\"\u001b[0m\u001b[1;33m)\u001b[0m\u001b[1;33m\u001b[0m\u001b[0m\n\u001b[0m\u001b[1;32m   1555\u001b[0m \u001b[1;33m\u001b[0m\u001b[0m\n\u001b[1;32m   1556\u001b[0m         \u001b[1;32mreturn\u001b[0m \u001b[0mTrue\u001b[0m\u001b[1;33m\u001b[0m\u001b[0m\n",
      "\u001b[0;31mIndexError\u001b[0m: positional indexers are out-of-bounds"
     ]
    }
   ],
   "source": [
    "df.iloc[np.where(sdm<0.003)[0],np.where(sdm<0.003)[1]]"
   ]
  },
  {
   "cell_type": "code",
   "execution_count": 130,
   "metadata": {
    "collapsed": false
   },
   "outputs": [
    {
     "data": {
      "text/plain": [
       "array([ 0,  0,  0, ..., 94, 94, 94], dtype=int64)"
      ]
     },
     "execution_count": 130,
     "metadata": {},
     "output_type": "execute_result"
    }
   ],
   "source": [
    "np.where(sdm<0.0)[0]"
   ]
  },
  {
   "cell_type": "code",
   "execution_count": 181,
   "metadata": {
    "collapsed": false
   },
   "outputs": [
    {
     "data": {
      "text/html": [
       "<div>\n",
       "<table border=\"1\" class=\"dataframe\">\n",
       "  <thead>\n",
       "    <tr style=\"text-align: right;\">\n",
       "      <th></th>\n",
       "      <th>narrative</th>\n",
       "      <th>title</th>\n",
       "      <th>topic</th>\n",
       "    </tr>\n",
       "  </thead>\n",
       "  <tbody>\n",
       "    <tr>\n",
       "      <th>0</th>\n",
       "      <td>Describe the activities of Morris Dees and the...</td>\n",
       "      <td>Southern Poverty Law Center</td>\n",
       "      <td>D0701A</td>\n",
       "    </tr>\n",
       "    <tr>\n",
       "      <th>13</th>\n",
       "      <td>Describe the legal battle between various reco...</td>\n",
       "      <td>Napster</td>\n",
       "      <td>D0714D</td>\n",
       "    </tr>\n",
       "    <tr>\n",
       "      <th>73</th>\n",
       "      <td>Identify computer viruses detected worldwide. ...</td>\n",
       "      <td>computer viruses</td>\n",
       "      <td>D0629B</td>\n",
       "    </tr>\n",
       "  </tbody>\n",
       "</table>\n",
       "</div>"
      ],
      "text/plain": [
       "                                            narrative  \\\n",
       "0   Describe the activities of Morris Dees and the...   \n",
       "13  Describe the legal battle between various reco...   \n",
       "73  Identify computer viruses detected worldwide. ...   \n",
       "\n",
       "                          title   topic  \n",
       "0   Southern Poverty Law Center  D0701A  \n",
       "13                      Napster  D0714D  \n",
       "73             computer viruses  D0629B  "
      ]
     },
     "execution_count": 181,
     "metadata": {},
     "output_type": "execute_result"
    }
   ],
   "source": [
    "df.iloc[[0,13,73]]"
   ]
  },
  {
   "cell_type": "code",
   "execution_count": 116,
   "metadata": {
    "collapsed": false
   },
   "outputs": [
    {
     "data": {
      "text/html": [
       "<div>\n",
       "<table border=\"1\" class=\"dataframe\">\n",
       "  <thead>\n",
       "    <tr style=\"text-align: right;\">\n",
       "      <th></th>\n",
       "      <th>narrative</th>\n",
       "      <th>title</th>\n",
       "      <th>topic</th>\n",
       "    </tr>\n",
       "  </thead>\n",
       "  <tbody>\n",
       "    <tr>\n",
       "      <th>53</th>\n",
       "      <td>What impact have Israeli settlements in the We...</td>\n",
       "      <td>Israeli West Bank settlements</td>\n",
       "      <td>D0609I</td>\n",
       "    </tr>\n",
       "    <tr>\n",
       "      <th>64</th>\n",
       "      <td>Discuss measures that schools and school distr...</td>\n",
       "      <td>school violence prevention measures</td>\n",
       "      <td>D0620B</td>\n",
       "    </tr>\n",
       "  </tbody>\n",
       "</table>\n",
       "</div>"
      ],
      "text/plain": [
       "                                            narrative  \\\n",
       "53  What impact have Israeli settlements in the We...   \n",
       "64  Discuss measures that schools and school distr...   \n",
       "\n",
       "                                  title   topic  \n",
       "53        Israeli West Bank settlements  D0609I  \n",
       "64  school violence prevention measures  D0620B  "
      ]
     },
     "execution_count": 116,
     "metadata": {},
     "output_type": "execute_result"
    }
   ],
   "source": [
    "df.iloc[[53,64]]"
   ]
  },
  {
   "cell_type": "code",
   "execution_count": 117,
   "metadata": {
    "collapsed": false
   },
   "outputs": [
    {
     "data": {
      "text/html": [
       "<div>\n",
       "<table border=\"1\" class=\"dataframe\">\n",
       "  <thead>\n",
       "    <tr style=\"text-align: right;\">\n",
       "      <th></th>\n",
       "      <th>narrative</th>\n",
       "      <th>title</th>\n",
       "      <th>topic</th>\n",
       "    </tr>\n",
       "  </thead>\n",
       "  <tbody>\n",
       "    <tr>\n",
       "      <th>62</th>\n",
       "      <td>What efforts are being made to combat the spre...</td>\n",
       "      <td>malaria prevention and treatment</td>\n",
       "      <td>D0618I</td>\n",
       "    </tr>\n",
       "    <tr>\n",
       "      <th>64</th>\n",
       "      <td>Discuss measures that schools and school distr...</td>\n",
       "      <td>school violence prevention measures</td>\n",
       "      <td>D0620B</td>\n",
       "    </tr>\n",
       "  </tbody>\n",
       "</table>\n",
       "</div>"
      ],
      "text/plain": [
       "                                            narrative  \\\n",
       "62  What efforts are being made to combat the spre...   \n",
       "64  Discuss measures that schools and school distr...   \n",
       "\n",
       "                                  title   topic  \n",
       "62     malaria prevention and treatment  D0618I  \n",
       "64  school violence prevention measures  D0620B  "
      ]
     },
     "execution_count": 117,
     "metadata": {},
     "output_type": "execute_result"
    }
   ],
   "source": [
    "df.iloc[[62,64]]"
   ]
  },
  {
   "cell_type": "markdown",
   "metadata": {},
   "source": [
    "Project the distance matrix in lower dimensions\n",
    "==="
   ]
  },
  {
   "cell_type": "code",
   "execution_count": 118,
   "metadata": {
    "collapsed": false
   },
   "outputs": [],
   "source": [
    "dmf = pd.DataFrame(sdm)"
   ]
  },
  {
   "cell_type": "code",
   "execution_count": 120,
   "metadata": {
    "collapsed": false,
    "scrolled": true
   },
   "outputs": [
    {
     "data": {
      "text/plain": [
       "PCA(copy=True, iterated_power='auto', n_components=2, random_state=None,\n",
       "  svd_solver='auto', tol=0.0, whiten=False)"
      ]
     },
     "execution_count": 120,
     "metadata": {},
     "output_type": "execute_result"
    }
   ],
   "source": [
    "pcasdm = np.fill_diagonal(sdm, 0.0)\n",
    "pca = decomposition.PCA(n_components=2)\n",
    "pca.fit(sdm)"
   ]
  },
  {
   "cell_type": "code",
   "execution_count": 121,
   "metadata": {
    "collapsed": true
   },
   "outputs": [],
   "source": [
    "x = pca.transform(sdm)"
   ]
  },
  {
   "cell_type": "code",
   "execution_count": 122,
   "metadata": {
    "collapsed": false
   },
   "outputs": [],
   "source": [
    "pcadf = pd.DataFrame(x, columns=[\"x\",\"y\"])"
   ]
  },
  {
   "cell_type": "code",
   "execution_count": 123,
   "metadata": {
    "collapsed": false
   },
   "outputs": [
    {
     "data": {
      "text/plain": [
       "<matplotlib.axes._subplots.AxesSubplot at 0x107f9898>"
      ]
     },
     "execution_count": 123,
     "metadata": {},
     "output_type": "execute_result"
    }
   ],
   "source": [
    "pcadf.plot.scatter(x=\"x\",y=\"y\")"
   ]
  },
  {
   "cell_type": "code",
   "execution_count": 124,
   "metadata": {
    "collapsed": false
   },
   "outputs": [
    {
     "data": {
      "image/png": "[encoded data removed]",
      "text/plain": [
       "<matplotlib.figure.Figure at 0x10cec588>"
      ]
     },
     "metadata": {},
     "output_type": "display_data"
    }
   ],
   "source": [
    "plt.show()"
   ]
  },
  {
   "cell_type": "markdown",
   "metadata": {
    "collapsed": true
   },
   "source": [
    "Weather and climate cluster\n",
    "==="
   ]
  },
  {
   "cell_type": "code",
   "execution_count": 142,
   "metadata": {
    "collapsed": false
   },
   "outputs": [
    {
     "data": {
      "text/html": [
       "<div>\n",
       "<table border=\"1\" class=\"dataframe\">\n",
       "  <thead>\n",
       "    <tr style=\"text-align: right;\">\n",
       "      <th></th>\n",
       "      <th>narrative</th>\n",
       "      <th>title</th>\n",
       "      <th>topic</th>\n",
       "    </tr>\n",
       "  </thead>\n",
       "  <tbody>\n",
       "    <tr>\n",
       "      <th>85</th>\n",
       "      <td>Describe theories concerning the causes and ef...</td>\n",
       "      <td>global warming</td>\n",
       "      <td>D0641E</td>\n",
       "    </tr>\n",
       "  </tbody>\n",
       "</table>\n",
       "</div>"
      ],
      "text/plain": [
       "                                            narrative           title   topic\n",
       "85  Describe theories concerning the causes and ef...  global warming  D0641E"
      ]
     },
     "execution_count": 142,
     "metadata": {},
     "output_type": "execute_result"
    }
   ],
   "source": [
    "df.loc[df[\"topic\"] == \"D0641E\"]"
   ]
  },
  {
   "cell_type": "code",
   "execution_count": 145,
   "metadata": {
    "collapsed": false
   },
   "outputs": [
    {
     "data": {
      "text/html": [
       "<div>\n",
       "<table border=\"1\" class=\"dataframe\">\n",
       "  <thead>\n",
       "    <tr style=\"text-align: right;\">\n",
       "      <th></th>\n",
       "      <th>narrative</th>\n",
       "      <th>title</th>\n",
       "      <th>topic</th>\n",
       "    </tr>\n",
       "  </thead>\n",
       "  <tbody>\n",
       "    <tr>\n",
       "      <th>87</th>\n",
       "      <td>Describe the causes and effects of the El Nino...</td>\n",
       "      <td>El Nino and La Nina weather condition</td>\n",
       "      <td>D0643G</td>\n",
       "    </tr>\n",
       "  </tbody>\n",
       "</table>\n",
       "</div>"
      ],
      "text/plain": [
       "                                            narrative  \\\n",
       "87  Describe the causes and effects of the El Nino...   \n",
       "\n",
       "                                    title   topic  \n",
       "87  El Nino and La Nina weather condition  D0643G  "
      ]
     },
     "execution_count": 145,
     "metadata": {},
     "output_type": "execute_result"
    }
   ],
   "source": [
    "df.loc[df[\"topic\"] == \"D0643G\"]"
   ]
  },
  {
   "cell_type": "code",
   "execution_count": 146,
   "metadata": {
    "collapsed": false
   },
   "outputs": [
    {
     "data": {
      "text/plain": [
       "0.0054456245126162095"
      ]
     },
     "execution_count": 146,
     "metadata": {},
     "output_type": "execute_result"
    }
   ],
   "source": [
    "sdm[85][87]"
   ]
  },
  {
   "cell_type": "code",
   "execution_count": null,
   "metadata": {
    "collapsed": true
   },
   "outputs": [],
   "source": []
  }
 ],
 "metadata": {
  "kernelspec": {
   "display_name": "Python 2",
   "language": "python",
   "name": "python2"
  },
  "language_info": {
   "codemirror_mode": {
    "name": "ipython",
    "version": 2
   },
   "file_extension": ".py",
   "mimetype": "text/x-python",
   "name": "python",
   "nbconvert_exporter": "python",
   "pygments_lexer": "ipython2",
   "version": "2.7.13"
  }
 },
 "nbformat": 4,
 "nbformat_minor": 2
}
