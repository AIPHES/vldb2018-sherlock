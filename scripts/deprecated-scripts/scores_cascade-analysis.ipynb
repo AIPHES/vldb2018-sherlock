{
 "cells": [
  {
   "cell_type": "markdown",
   "metadata": {},
   "source": [
    "Grid Search Analysis\n",
    "===\n",
    "\n",
    "Compares the results of the grid search per dataset. And spits out the best one...\n"
   ]
  },
  {
   "cell_type": "code",
   "execution_count": null,
   "metadata": {
    "collapsed": true
   },
   "outputs": [],
   "source": []
  },
  {
   "cell_type": "code",
   "execution_count": 165,
   "metadata": {
    "collapsed": true
   },
   "outputs": [],
   "source": [
    "import numpy as np\n",
    "import pandas as pd\n",
    "import matplotlib\n",
    "import matplotlib.pyplot as plt\n",
    "matplotlib.style.use('ggplot')\n",
    "from matplotlib import cm\n",
    "\n",
    "\n",
    "import json\n",
    "import codecs\n",
    "import os\n",
    "from os import path"
   ]
  },
  {
   "cell_type": "code",
   "execution_count": 166,
   "metadata": {
    "collapsed": true
   },
   "outputs": [],
   "source": [
    "basepath = os.path.normpath(\"C:\\Users\\hatieke\\.ukpsummarizer\\scores_cascade\")"
   ]
  },
  {
   "cell_type": "code",
   "execution_count": 167,
   "metadata": {
    "collapsed": true
   },
   "outputs": [],
   "source": [
    "def parse_dir(dir):\n",
    "    p = os.path.join(basepath, dir)\n",
    "    result_jsons = []\n",
    "    result_files = [f for f in os.listdir(p) if f.startswith(\"result-\") and f.endswith(\".json\")]\n",
    "    for f in result_files:\n",
    "        fn = os.path.join(p, f)\n",
    "        fsize = os.path.getsize(fn)\n",
    "        if fsize > 0:\n",
    "            with open(fn) as fp:\n",
    "                result_jsons.append(json.load(fp))\n",
    "    return result_jsons"
   ]
  },
  {
   "cell_type": "code",
   "execution_count": 168,
   "metadata": {
    "collapsed": false
   },
   "outputs": [],
   "source": [
    "def parse_single_result_into_dataframe(obj, iteration=11):\n",
    "    config = obj[u'config_feedbackstore']\n",
    "    try:\n",
    "        res = [i for i in obj[\"result_rougescores\"] if i[\"iteration\"] <= iteration][-1]\n",
    "    except:\n",
    "        raise BaseException(\"unknown iteration %s\" % (obj[\"config_run_id\"]))\n",
    "    \n",
    "    total_accept = sum([1 for i in obj[u'log_feedbacks'] if i[\"value\"] == 'accept' and i[\"iteration\"] < iteration])\n",
    "    total_reject = sum([1 for i in obj[u'log_feedbacks'] if i[\"value\"] != 'accept' and i[\"iteration\"] < iteration])\n",
    "    total_feedback = total_accept + total_reject\n",
    "    \n",
    "    num_iterations = res[\"iteration\"]\n",
    "    r1 =  res[u'ROUGE-1 R score']\n",
    "    r2 =  res[u'ROUGE-2 R score']\n",
    "    r4 =  res[u'ROUGE-SU* R score']\n",
    "   \n",
    "    classtype = config.get(u'type')\n",
    "    cut_off_threshold = config.get(u'cut_off_threshold')\n",
    "    iterations_accept = config.get(u'iterations_accept')\n",
    "    iterations_reject = config.get(u'iterations_reject')\n",
    "    propagation_abort_threshold = config.get(u'propagation_abort_threshold')\n",
    "    mass_accept = config.get(u'mass_accept')\n",
    "    mass_reject = config.get(u'mass_reject')\n",
    "    window_size = config.get(u'N')\n",
    "    factor_reject = config.get(u\"multiplier_reject\")\n",
    "    factor_accept = config.get(u\"multiplier_accept\")\n",
    "    cutoff = config.get(u\"cut_off_threshold\", config.get(\"cutoff_threshold\"))\n",
    "\n",
    "    runid = obj.get(\"config_run_id\")\n",
    "    word2vec = obj.get(\"config_wordembeddings\")\n",
    "    \n",
    "    parse_type = obj.get(\"config_parse_type\")\n",
    "    if parse_type is None or parse_type.lower() is \"None\".lower():\n",
    "        parse_type = \"ngrams\"\n",
    "        \n",
    "    oracle_type = obj.get(\"config_oracle_type\", \"accept\")\n",
    "      \n",
    "    ub = obj.get(\"model_rougescores\", {})\n",
    "    ub_r1 = ub.get(\"ROUGE-1 R score\", -1)\n",
    "    ub_r2 = ub.get(\"ROUGE-2 R score\", -1)\n",
    "    ub_r4 = ub.get(\"ROUGE-SU* R score\", -1)\n",
    "    \n",
    "    return {\n",
    "        \"accept\" : total_accept,\n",
    "        \"reject\": total_reject,\n",
    "        \"total_feedback\": total_feedback,\n",
    "        \"ref_summary\": str([item[\"name\"] for item in obj[u'models']]),\n",
    "        \"cfg\": json.dumps(config),\n",
    "        \"num_iterations\": num_iterations,\n",
    "        \"r1\": r1,\n",
    "        \"r2\": r2,\n",
    "        \"r4\": r4,\n",
    "        \"classtype\": classtype,\n",
    "        \"iterations_accept\":iterations_accept,\n",
    "        \"iterations_reject\": iterations_reject,\n",
    "        \"propagation_abort_threshold\": propagation_abort_threshold,\n",
    "        \"mass_accept\" : mass_accept,\n",
    "        \"mass_reject\" : mass_reject,\n",
    "        \"window_size\": window_size,\n",
    "        \"multiplier_reject\": factor_reject,\n",
    "        \"multiplier_accept\": factor_accept,\n",
    "        \"cutoff_threshold\": cutoff,\n",
    "        \"run_id\": runid,\n",
    "        \"ub_r1\": ub_r1,\n",
    "        \"ub_r2\": ub_r2,\n",
    "        \"ub_r4\": ub_r4,\n",
    "        \"phrase_type\": parse_type,\n",
    "        \"embeddings\": word2vec,\n",
    "        \"size\": 100,\n",
    "        \"max_iteration_count\": 10\n",
    "    }\n"
   ]
  },
  {
   "cell_type": "code",
   "execution_count": 169,
   "metadata": {
    "collapsed": false
   },
   "outputs": [],
   "source": [
    "#parse_single_result_into_dataframe(first, iteration=10)"
   ]
  },
  {
   "cell_type": "code",
   "execution_count": 173,
   "metadata": {
    "collapsed": false
   },
   "outputs": [],
   "source": [
    "#items = [parse_single_result_into_dataframe(f, iteration=11) for d in dirs for f in parse_dir(d)]\n",
    "items = [parse_single_result_into_dataframe(f, iteration=11) for f in parse_dir(basepath)]"
   ]
  },
  {
   "cell_type": "code",
   "execution_count": 174,
   "metadata": {
    "collapsed": false
   },
   "outputs": [
    {
     "data": {
      "text/plain": [
       "659"
      ]
     },
     "execution_count": 174,
     "metadata": {},
     "output_type": "execute_result"
    }
   ],
   "source": [
    "len(items)"
   ]
  },
  {
   "cell_type": "code",
   "execution_count": 175,
   "metadata": {
    "collapsed": false
   },
   "outputs": [],
   "source": [
    "#items[0]"
   ]
  },
  {
   "cell_type": "code",
   "execution_count": 176,
   "metadata": {
    "collapsed": true
   },
   "outputs": [],
   "source": [
    "df = pd.DataFrame(items)"
   ]
  },
  {
   "cell_type": "code",
   "execution_count": 177,
   "metadata": {
    "collapsed": false
   },
   "outputs": [],
   "source": [
    "# convert pojo into string\n",
    "#df[\"cfg\"] = df.apply(lambda x: json.dumps(x[\"cfg\"]), axis=1)"
   ]
  },
  {
   "cell_type": "code",
   "execution_count": 178,
   "metadata": {
    "collapsed": false
   },
   "outputs": [
    {
     "name": "stdout",
     "output_type": "stream",
     "text": [
      "<class 'pandas.core.frame.DataFrame'>\n",
      "RangeIndex: 659 entries, 0 to 658\n",
      "Data columns (total 27 columns):\n",
      "accept                         659 non-null int64\n",
      "cfg                            659 non-null object\n",
      "classtype                      659 non-null object\n",
      "cutoff_threshold               658 non-null float64\n",
      "embeddings                     659 non-null object\n",
      "iterations_accept              658 non-null float64\n",
      "iterations_reject              658 non-null float64\n",
      "mass_accept                    658 non-null float64\n",
      "mass_reject                    658 non-null float64\n",
      "max_iteration_count            659 non-null int64\n",
      "multiplier_accept              0 non-null object\n",
      "multiplier_reject              0 non-null object\n",
      "num_iterations                 659 non-null int64\n",
      "phrase_type                    659 non-null object\n",
      "propagation_abort_threshold    658 non-null float64\n",
      "r1                             659 non-null float64\n",
      "r2                             659 non-null float64\n",
      "r4                             659 non-null float64\n",
      "ref_summary                    659 non-null object\n",
      "reject                         659 non-null int64\n",
      "run_id                         659 non-null object\n",
      "size                           659 non-null int64\n",
      "total_feedback                 659 non-null int64\n",
      "ub_r1                          659 non-null float64\n",
      "ub_r2                          659 non-null float64\n",
      "ub_r4                          659 non-null float64\n",
      "window_size                    0 non-null object\n",
      "dtypes: float64(12), int64(6), object(9)\n",
      "memory usage: 139.1+ KB\n"
     ]
    }
   ],
   "source": [
    "df.info()"
   ]
  },
  {
   "cell_type": "code",
   "execution_count": 179,
   "metadata": {
    "collapsed": true
   },
   "outputs": [],
   "source": [
    "# throw away implausible results\n",
    "df = df.loc[df.r2 >0].loc[df.r1 > 0].loc[df.r4 >0]"
   ]
  },
  {
   "cell_type": "code",
   "execution_count": 180,
   "metadata": {
    "collapsed": false
   },
   "outputs": [
    {
     "name": "stdout",
     "output_type": "stream",
     "text": [
      "<class 'pandas.core.frame.DataFrame'>\n",
      "Int64Index: 659 entries, 0 to 658\n",
      "Data columns (total 27 columns):\n",
      "accept                         659 non-null int64\n",
      "cfg                            659 non-null object\n",
      "classtype                      659 non-null object\n",
      "cutoff_threshold               658 non-null float64\n",
      "embeddings                     659 non-null object\n",
      "iterations_accept              658 non-null float64\n",
      "iterations_reject              658 non-null float64\n",
      "mass_accept                    658 non-null float64\n",
      "mass_reject                    658 non-null float64\n",
      "max_iteration_count            659 non-null int64\n",
      "multiplier_accept              0 non-null object\n",
      "multiplier_reject              0 non-null object\n",
      "num_iterations                 659 non-null int64\n",
      "phrase_type                    659 non-null object\n",
      "propagation_abort_threshold    658 non-null float64\n",
      "r1                             659 non-null float64\n",
      "r2                             659 non-null float64\n",
      "r4                             659 non-null float64\n",
      "ref_summary                    659 non-null object\n",
      "reject                         659 non-null int64\n",
      "run_id                         659 non-null object\n",
      "size                           659 non-null int64\n",
      "total_feedback                 659 non-null int64\n",
      "ub_r1                          659 non-null float64\n",
      "ub_r2                          659 non-null float64\n",
      "ub_r4                          659 non-null float64\n",
      "window_size                    0 non-null object\n",
      "dtypes: float64(12), int64(6), object(9)\n",
      "memory usage: 144.2+ KB\n"
     ]
    }
   ],
   "source": [
    "df.info()"
   ]
  },
  {
   "cell_type": "markdown",
   "metadata": {},
   "source": [
    "Construction of a dataframe that fits the analysis needs\n",
    "===\n",
    "\n",
    "unabhängige Variablen, also Steuervariablen kann ich festlegen, die den Ausgang der Messung beeinflussen (in unbekannter Art). Im Dataframe sind das folgende Spalten:\n",
    "\n",
    "* classtype\n",
    "* cutoff_threshold\n",
    "* iterations_accept\n",
    "* iterations_reject\n",
    "* mass_accept\n",
    "* mass_reject\n",
    "* multiplier_accept\n",
    "* multiplier_reject\n",
    "* propagation_abort_threshold\n",
    "* ref_summary\n",
    "* window_size\n",
    "\n",
    "Und folgende sind die abhängigen Variablen, also die Messvariablen, die quasi die Manifestation der Effekte. \n",
    "\n",
    "* accept\n",
    "* num_iterations\n",
    "* r1\n",
    "* r2\n",
    "* r4\n",
    "* reject\n",
    "* total_feedback\n",
    "\n",
    "Es soll untersucht werden, welche Kombinationen unabhängiger Variablen die besten sind, also die baseline am weitesten übertreffen.\n",
    "\n",
    "Dazu muss in jeder ref_summary-gruppe der wert der \"baseline r2\" als extra feld hinzugefügt werden und auch die differenz"
   ]
  },
  {
   "cell_type": "markdown",
   "metadata": {},
   "source": [
    "Aus Rouge-2 upper bound neue Spalten ableiten: als Delta und als Ratio \n",
    "---"
   ]
  },
  {
   "cell_type": "code",
   "execution_count": 181,
   "metadata": {
    "collapsed": false
   },
   "outputs": [],
   "source": [
    "# add the delta and ratio of the upper bound r2 as separate columns:\n",
    "df[\"delta_r2ub\"] = df[\"ub_r2\"] - df[\"r2\"]\n",
    "df[\"ratio_r2ub\"] = df[\"r2\"] / df[\"ub_r2\"]\n",
    "df[\"ratio_r2ub_vs_feedback\"] = df[\"ratio_r2ub\"] / df[\"total_feedback\"]"
   ]
  },
  {
   "cell_type": "code",
   "execution_count": 182,
   "metadata": {
    "collapsed": false
   },
   "outputs": [
    {
     "name": "stdout",
     "output_type": "stream",
     "text": [
      "<class 'pandas.core.frame.DataFrame'>\n",
      "Int64Index: 659 entries, 0 to 658\n",
      "Data columns (total 30 columns):\n",
      "accept                         659 non-null int64\n",
      "cfg                            659 non-null object\n",
      "classtype                      659 non-null object\n",
      "cutoff_threshold               658 non-null float64\n",
      "embeddings                     659 non-null object\n",
      "iterations_accept              658 non-null float64\n",
      "iterations_reject              658 non-null float64\n",
      "mass_accept                    658 non-null float64\n",
      "mass_reject                    658 non-null float64\n",
      "max_iteration_count            659 non-null int64\n",
      "multiplier_accept              0 non-null object\n",
      "multiplier_reject              0 non-null object\n",
      "num_iterations                 659 non-null int64\n",
      "phrase_type                    659 non-null object\n",
      "propagation_abort_threshold    658 non-null float64\n",
      "r1                             659 non-null float64\n",
      "r2                             659 non-null float64\n",
      "r4                             659 non-null float64\n",
      "ref_summary                    659 non-null object\n",
      "reject                         659 non-null int64\n",
      "run_id                         659 non-null object\n",
      "size                           659 non-null int64\n",
      "total_feedback                 659 non-null int64\n",
      "ub_r1                          659 non-null float64\n",
      "ub_r2                          659 non-null float64\n",
      "ub_r4                          659 non-null float64\n",
      "window_size                    0 non-null object\n",
      "delta_r2ub                     659 non-null float64\n",
      "ratio_r2ub                     659 non-null float64\n",
      "ratio_r2ub_vs_feedback         659 non-null float64\n",
      "dtypes: float64(15), int64(6), object(9)\n",
      "memory usage: 159.6+ KB\n"
     ]
    }
   ],
   "source": [
    "df.info()"
   ]
  },
  {
   "cell_type": "code",
   "execution_count": 188,
   "metadata": {
    "collapsed": false
   },
   "outputs": [
    {
     "data": {
      "image/png": "[encoded data removed]",
      "text/plain": [
       "<matplotlib.figure.Figure at 0xa747c18>"
      ]
     },
     "metadata": {},
     "output_type": "display_data"
    },
    {
     "data": {
      "image/png": "[encoded data removed]",
      "text/plain": [
       "<matplotlib.figure.Figure at 0xa747eb8>"
      ]
     },
     "metadata": {},
     "output_type": "display_data"
    },
    {
     "data": {
      "image/png": "[encoded data removed]",
      "text/plain": [
       "<matplotlib.figure.Figure at 0xd50c4e0>"
      ]
     },
     "metadata": {},
     "output_type": "display_data"
    },
    {
     "data": {
      "image/png": "[encoded data removed]",
      "text/plain": [
       "<matplotlib.figure.Figure at 0xd0d8be0>"
      ]
     },
     "metadata": {},
     "output_type": "display_data"
    }
   ],
   "source": [
    "df.groupby(\"cfg\").hist(\"delta_r2ub\")\n",
    "plt.show()"
   ]
  },
  {
   "cell_type": "code",
   "execution_count": 189,
   "metadata": {
    "collapsed": false
   },
   "outputs": [
    {
     "data": {
      "image/png": "[encoded data removed]",
      "text/plain": [
       "<matplotlib.figure.Figure at 0xa1855f8>"
      ]
     },
     "metadata": {},
     "output_type": "display_data"
    },
    {
     "data": {
      "image/png": "[encoded data removed]",
      "text/plain": [
       "<matplotlib.figure.Figure at 0xd3577b8>"
      ]
     },
     "metadata": {},
     "output_type": "display_data"
    },
    {
     "data": {
      "image/png": "[encoded data removed]",
      "text/plain": [
       "<matplotlib.figure.Figure at 0xcb75390>"
      ]
     },
     "metadata": {},
     "output_type": "display_data"
    },
    {
     "data": {
      "image/png": "[encoded data removed]",
      "text/plain": [
       "<matplotlib.figure.Figure at 0xbd661d0>"
      ]
     },
     "metadata": {},
     "output_type": "display_data"
    }
   ],
   "source": [
    "df.groupby(\"cfg\").hist(\"ratio_r2ub\")\n",
    "plt.show()"
   ]
  },
  {
   "cell_type": "markdown",
   "metadata": {},
   "source": [
    "statistics comparing against the upper bound (!)\n",
    "===\n",
    "\n",
    "The analysis below should give an idea, which independent variables have an influence onto the result. For example, `multiplier_accept` seems to have a positive influence (higher accept multiplier results in higher score). However, A score of 0.6 is not awesome, as it is still below 1.0\n",
    "\n",
    "The analysis is done per method. I.e. In 4 blocks.\n"
   ]
  },
  {
   "cell_type": "code",
   "execution_count": 183,
   "metadata": {
    "collapsed": true
   },
   "outputs": [],
   "source": [
    "# the variable we want to analyse\n",
    "dep_var = \"ratio_r2ub_vs_feedback\""
   ]
  },
  {
   "cell_type": "code",
   "execution_count": 184,
   "metadata": {
    "collapsed": true
   },
   "outputs": [],
   "source": [
    "# the variable we want to analyse\n",
    "dep_var = \"r2\""
   ]
  },
  {
   "cell_type": "code",
   "execution_count": 185,
   "metadata": {
    "collapsed": false
   },
   "outputs": [
    {
     "data": {
      "text/html": [
       "<div>\n",
       "<table border=\"1\" class=\"dataframe\">\n",
       "  <thead>\n",
       "    <tr style=\"text-align: right;\">\n",
       "      <th></th>\n",
       "      <th>r4</th>\n",
       "      <th>r1</th>\n",
       "      <th>r2</th>\n",
       "    </tr>\n",
       "    <tr>\n",
       "      <th>cfg</th>\n",
       "      <th></th>\n",
       "      <th></th>\n",
       "      <th></th>\n",
       "    </tr>\n",
       "  </thead>\n",
       "  <tbody>\n",
       "    <tr>\n",
       "      <th>{\"mass_reject\": -4.0, \"iterations_accept\": 1024, \"propagation_abort_threshold\": 0.98, \"mass_accept\": -4.0, \"cut_off_threshold\": 0.6, \"type\": \"WordEmbeddingRandomWalkDiffusionFeedbackGraph\", \"iterations_reject\": 16}</th>\n",
       "      <td>0.153446</td>\n",
       "      <td>0.428520</td>\n",
       "      <td>0.166191</td>\n",
       "    </tr>\n",
       "    <tr>\n",
       "      <th>{\"mass_reject\": -4.0, \"iterations_accept\": 1024, \"propagation_abort_threshold\": 0.75, \"mass_accept\": -4.0, \"cut_off_threshold\": 0.6, \"type\": \"WordEmbeddingRandomWalkDiffusionFeedbackGraph\", \"iterations_reject\": 16}</th>\n",
       "      <td>0.150414</td>\n",
       "      <td>0.422440</td>\n",
       "      <td>0.162330</td>\n",
       "    </tr>\n",
       "    <tr>\n",
       "      <th>{\"mass_reject\": -4.0, \"iterations_accept\": 1, \"propagation_abort_threshold\": 0.6, \"mass_accept\": -4.0, \"cut_off_threshold\": 0.98, \"type\": \"WordEmbeddingRandomWalkDiffusionFeedbackGraph\", \"iterations_reject\": 1}</th>\n",
       "      <td>0.146857</td>\n",
       "      <td>0.417426</td>\n",
       "      <td>0.161599</td>\n",
       "    </tr>\n",
       "  </tbody>\n",
       "</table>\n",
       "</div>"
      ],
      "text/plain": [
       "                                                          r4        r1  \\\n",
       "cfg                                                                      \n",
       "{\"mass_reject\": -4.0, \"iterations_accept\": 1024...  0.153446  0.428520   \n",
       "{\"mass_reject\": -4.0, \"iterations_accept\": 1024...  0.150414  0.422440   \n",
       "{\"mass_reject\": -4.0, \"iterations_accept\": 1, \"...  0.146857  0.417426   \n",
       "\n",
       "                                                          r2  \n",
       "cfg                                                           \n",
       "{\"mass_reject\": -4.0, \"iterations_accept\": 1024...  0.166191  \n",
       "{\"mass_reject\": -4.0, \"iterations_accept\": 1024...  0.162330  \n",
       "{\"mass_reject\": -4.0, \"iterations_accept\": 1, \"...  0.161599  "
      ]
     },
     "execution_count": 185,
     "metadata": {},
     "output_type": "execute_result"
    }
   ],
   "source": [
    "df.loc[df[\"num_iterations\"]>1]\\\n",
    "    .loc[:, list(set([\"cfg\", dep_var,\"r1\",\"r2\",\"r4\"]))]\\\n",
    "    .groupby(\"cfg\")\\\n",
    "    .mean()\\\n",
    "    .sort_values(dep_var, ascending=False)\n"
   ]
  },
  {
   "cell_type": "markdown",
   "metadata": {},
   "source": [
    "Best config, first try\n",
    "====\n",
    "\n",
    "best configuration as per agreement between all summaries of same config\n",
    "\n",
    "we group by configuration, and then use the average ratio_ub2 score as performance measure."
   ]
  },
  {
   "cell_type": "code",
   "execution_count": 186,
   "metadata": {
    "collapsed": false
   },
   "outputs": [
    {
     "data": {
      "text/html": [
       "<div>\n",
       "<table border=\"1\" class=\"dataframe\">\n",
       "  <thead>\n",
       "    <tr style=\"text-align: right;\">\n",
       "      <th></th>\n",
       "      <th>accept</th>\n",
       "      <th>cfg</th>\n",
       "      <th>classtype</th>\n",
       "      <th>cutoff_threshold</th>\n",
       "      <th>embeddings</th>\n",
       "      <th>iterations_accept</th>\n",
       "      <th>iterations_reject</th>\n",
       "      <th>mass_accept</th>\n",
       "      <th>mass_reject</th>\n",
       "      <th>max_iteration_count</th>\n",
       "      <th>...</th>\n",
       "      <th>run_id</th>\n",
       "      <th>size</th>\n",
       "      <th>total_feedback</th>\n",
       "      <th>ub_r1</th>\n",
       "      <th>ub_r2</th>\n",
       "      <th>ub_r4</th>\n",
       "      <th>window_size</th>\n",
       "      <th>delta_r2ub</th>\n",
       "      <th>ratio_r2ub</th>\n",
       "      <th>ratio_r2ub_vs_feedback</th>\n",
       "    </tr>\n",
       "  </thead>\n",
       "  <tbody>\n",
       "    <tr>\n",
       "      <th>196</th>\n",
       "      <td>34</td>\n",
       "      <td>{\"mass_reject\": -4.0, \"iterations_accept\": 102...</td>\n",
       "      <td>WordEmbeddingRandomWalkDiffusionFeedbackGraph</td>\n",
       "      <td>0.60</td>\n",
       "      <td>glove.6B.300d</td>\n",
       "      <td>1024.0</td>\n",
       "      <td>16.0</td>\n",
       "      <td>-4.0</td>\n",
       "      <td>-4.0</td>\n",
       "      <td>10</td>\n",
       "      <td>...</td>\n",
       "      <td>4a51c1035afc33658e73cb47ef4dc67232555ef7d96bde...</td>\n",
       "      <td>100</td>\n",
       "      <td>511</td>\n",
       "      <td>0.55000</td>\n",
       "      <td>0.30303</td>\n",
       "      <td>0.25985</td>\n",
       "      <td>None</td>\n",
       "      <td>-0.05051</td>\n",
       "      <td>1.166683</td>\n",
       "      <td>0.002283</td>\n",
       "    </tr>\n",
       "    <tr>\n",
       "      <th>433</th>\n",
       "      <td>16</td>\n",
       "      <td>{\"mass_reject\": -4.0, \"iterations_accept\": 102...</td>\n",
       "      <td>WordEmbeddingRandomWalkDiffusionFeedbackGraph</td>\n",
       "      <td>0.60</td>\n",
       "      <td>glove.6B.300d</td>\n",
       "      <td>1024.0</td>\n",
       "      <td>16.0</td>\n",
       "      <td>-4.0</td>\n",
       "      <td>-4.0</td>\n",
       "      <td>10</td>\n",
       "      <td>...</td>\n",
       "      <td>ad9a7076afca05911a25391fc2f1dd35bd46a82edd4c96...</td>\n",
       "      <td>100</td>\n",
       "      <td>532</td>\n",
       "      <td>0.43269</td>\n",
       "      <td>0.15534</td>\n",
       "      <td>0.15387</td>\n",
       "      <td>None</td>\n",
       "      <td>-0.01942</td>\n",
       "      <td>1.125016</td>\n",
       "      <td>0.002115</td>\n",
       "    </tr>\n",
       "    <tr>\n",
       "      <th>96</th>\n",
       "      <td>19</td>\n",
       "      <td>{\"mass_reject\": -4.0, \"iterations_accept\": 1, ...</td>\n",
       "      <td>WordEmbeddingRandomWalkDiffusionFeedbackGraph</td>\n",
       "      <td>0.98</td>\n",
       "      <td>glove.6B.300d</td>\n",
       "      <td>1.0</td>\n",
       "      <td>1.0</td>\n",
       "      <td>-4.0</td>\n",
       "      <td>-4.0</td>\n",
       "      <td>10</td>\n",
       "      <td>...</td>\n",
       "      <td>288697af61f077007ec6a9c7229546894d3b8e003662ac...</td>\n",
       "      <td>100</td>\n",
       "      <td>573</td>\n",
       "      <td>0.46667</td>\n",
       "      <td>0.15385</td>\n",
       "      <td>0.17398</td>\n",
       "      <td>None</td>\n",
       "      <td>-0.01923</td>\n",
       "      <td>1.124992</td>\n",
       "      <td>0.001963</td>\n",
       "    </tr>\n",
       "    <tr>\n",
       "      <th>29</th>\n",
       "      <td>29</td>\n",
       "      <td>{\"mass_reject\": -4.0, \"iterations_accept\": 102...</td>\n",
       "      <td>WordEmbeddingRandomWalkDiffusionFeedbackGraph</td>\n",
       "      <td>0.60</td>\n",
       "      <td>glove.6B.300d</td>\n",
       "      <td>1024.0</td>\n",
       "      <td>16.0</td>\n",
       "      <td>-4.0</td>\n",
       "      <td>-4.0</td>\n",
       "      <td>10</td>\n",
       "      <td>...</td>\n",
       "      <td>086e0430163e7786f155695c63611b013053fbc701a761...</td>\n",
       "      <td>100</td>\n",
       "      <td>469</td>\n",
       "      <td>0.51456</td>\n",
       "      <td>0.28431</td>\n",
       "      <td>0.18431</td>\n",
       "      <td>None</td>\n",
       "      <td>-0.02942</td>\n",
       "      <td>1.103479</td>\n",
       "      <td>0.002353</td>\n",
       "    </tr>\n",
       "    <tr>\n",
       "      <th>83</th>\n",
       "      <td>8</td>\n",
       "      <td>{\"mass_reject\": -4.0, \"iterations_accept\": 102...</td>\n",
       "      <td>WordEmbeddingRandomWalkDiffusionFeedbackGraph</td>\n",
       "      <td>0.60</td>\n",
       "      <td>glove.6B.300d</td>\n",
       "      <td>1024.0</td>\n",
       "      <td>16.0</td>\n",
       "      <td>-4.0</td>\n",
       "      <td>-4.0</td>\n",
       "      <td>10</td>\n",
       "      <td>...</td>\n",
       "      <td>205870f401cbb0bba2237dcc34c3a3a97097fdaebe44c5...</td>\n",
       "      <td>100</td>\n",
       "      <td>613</td>\n",
       "      <td>0.36458</td>\n",
       "      <td>0.10526</td>\n",
       "      <td>0.12782</td>\n",
       "      <td>None</td>\n",
       "      <td>-0.01053</td>\n",
       "      <td>1.100038</td>\n",
       "      <td>0.001795</td>\n",
       "    </tr>\n",
       "  </tbody>\n",
       "</table>\n",
       "<p>5 rows × 30 columns</p>\n",
       "</div>"
      ],
      "text/plain": [
       "     accept                                                cfg  \\\n",
       "196      34  {\"mass_reject\": -4.0, \"iterations_accept\": 102...   \n",
       "433      16  {\"mass_reject\": -4.0, \"iterations_accept\": 102...   \n",
       "96       19  {\"mass_reject\": -4.0, \"iterations_accept\": 1, ...   \n",
       "29       29  {\"mass_reject\": -4.0, \"iterations_accept\": 102...   \n",
       "83        8  {\"mass_reject\": -4.0, \"iterations_accept\": 102...   \n",
       "\n",
       "                                         classtype  cutoff_threshold  \\\n",
       "196  WordEmbeddingRandomWalkDiffusionFeedbackGraph              0.60   \n",
       "433  WordEmbeddingRandomWalkDiffusionFeedbackGraph              0.60   \n",
       "96   WordEmbeddingRandomWalkDiffusionFeedbackGraph              0.98   \n",
       "29   WordEmbeddingRandomWalkDiffusionFeedbackGraph              0.60   \n",
       "83   WordEmbeddingRandomWalkDiffusionFeedbackGraph              0.60   \n",
       "\n",
       "        embeddings  iterations_accept  iterations_reject  mass_accept  \\\n",
       "196  glove.6B.300d             1024.0               16.0         -4.0   \n",
       "433  glove.6B.300d             1024.0               16.0         -4.0   \n",
       "96   glove.6B.300d                1.0                1.0         -4.0   \n",
       "29   glove.6B.300d             1024.0               16.0         -4.0   \n",
       "83   glove.6B.300d             1024.0               16.0         -4.0   \n",
       "\n",
       "     mass_reject  max_iteration_count           ...            \\\n",
       "196         -4.0                   10           ...             \n",
       "433         -4.0                   10           ...             \n",
       "96          -4.0                   10           ...             \n",
       "29          -4.0                   10           ...             \n",
       "83          -4.0                   10           ...             \n",
       "\n",
       "                                                run_id size  total_feedback  \\\n",
       "196  4a51c1035afc33658e73cb47ef4dc67232555ef7d96bde...  100             511   \n",
       "433  ad9a7076afca05911a25391fc2f1dd35bd46a82edd4c96...  100             532   \n",
       "96   288697af61f077007ec6a9c7229546894d3b8e003662ac...  100             573   \n",
       "29   086e0430163e7786f155695c63611b013053fbc701a761...  100             469   \n",
       "83   205870f401cbb0bba2237dcc34c3a3a97097fdaebe44c5...  100             613   \n",
       "\n",
       "       ub_r1    ub_r2    ub_r4  window_size  delta_r2ub ratio_r2ub  \\\n",
       "196  0.55000  0.30303  0.25985         None    -0.05051   1.166683   \n",
       "433  0.43269  0.15534  0.15387         None    -0.01942   1.125016   \n",
       "96   0.46667  0.15385  0.17398         None    -0.01923   1.124992   \n",
       "29   0.51456  0.28431  0.18431         None    -0.02942   1.103479   \n",
       "83   0.36458  0.10526  0.12782         None    -0.01053   1.100038   \n",
       "\n",
       "     ratio_r2ub_vs_feedback  \n",
       "196                0.002283  \n",
       "433                0.002115  \n",
       "96                 0.001963  \n",
       "29                 0.002353  \n",
       "83                 0.001795  \n",
       "\n",
       "[5 rows x 30 columns]"
      ]
     },
     "execution_count": 186,
     "metadata": {},
     "output_type": "execute_result"
    }
   ],
   "source": [
    "df.sort_values(\"ratio_r2ub\", ascending=False).head(5)"
   ]
  },
  {
   "cell_type": "code",
   "execution_count": null,
   "metadata": {
    "collapsed": true
   },
   "outputs": [],
   "source": []
  },
  {
   "cell_type": "code",
   "execution_count": null,
   "metadata": {
    "collapsed": true
   },
   "outputs": [],
   "source": []
  }
 ],
 "metadata": {
  "celltoolbar": "Raw Cell Format",
  "kernelspec": {
   "display_name": "Python 2",
   "language": "python",
   "name": "python2"
  },
  "language_info": {
   "codemirror_mode": {
    "name": "ipython",
    "version": 2
   },
   "file_extension": ".py",
   "mimetype": "text/x-python",
   "name": "python",
   "nbconvert_exporter": "python",
   "pygments_lexer": "ipython2",
   "version": "2.7.13"
  }
 },
 "nbformat": 4,
 "nbformat_minor": 2
}
